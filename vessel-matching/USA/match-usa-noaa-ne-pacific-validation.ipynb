{
 "cells": [
  {
   "cell_type": "code",
   "execution_count": 1,
   "metadata": {
    "collapsed": false
   },
   "outputs": [],
   "source": [
    "import pandas as pd\n",
    "import os"
   ]
  },
  {
   "cell_type": "code",
   "execution_count": 2,
   "metadata": {
    "collapsed": false
   },
   "outputs": [],
   "source": [
    "df = pd.read_csv(\"data/NE_Pacific_Validation_all_vessels.csv\")"
   ]
  },
  {
   "cell_type": "code",
   "execution_count": 5,
   "metadata": {
    "collapsed": false
   },
   "outputs": [
    {
     "data": {
      "text/html": [
       "<div>\n",
       "<table border=\"1\" class=\"dataframe\">\n",
       "  <thead>\n",
       "    <tr style=\"text-align: right;\">\n",
       "      <th></th>\n",
       "      <th>t</th>\n",
       "      <th>Google Search</th>\n",
       "      <th>nn_max_label</th>\n",
       "      <th>nn_max_sublabel_fishing</th>\n",
       "      <th>Label Dropdown</th>\n",
       "      <th>Expert label</th>\n",
       "      <th>Notes</th>\n",
       "      <th>Person</th>\n",
       "      <th>callsign</th>\n",
       "      <th>nn_max_sub_score</th>\n",
       "      <th>...</th>\n",
       "      <th>callsign.1</th>\n",
       "      <th>num_callsign</th>\n",
       "      <th>gap_hours</th>\n",
       "      <th>num_gaps</th>\n",
       "      <th>Unnamed: 63</th>\n",
       "      <th>Unnamed: 64</th>\n",
       "      <th>Unnamed: 65</th>\n",
       "      <th>Unnamed: 66</th>\n",
       "      <th>spoofing_hours</th>\n",
       "      <th>num_overlapping_segs</th>\n",
       "    </tr>\n",
       "  </thead>\n",
       "  <tbody>\n",
       "    <tr>\n",
       "      <th>0</th>\n",
       "      <td>367561870</td>\n",
       "      <td>https://www.google.com/webhp?sourceid=chrome-i...</td>\n",
       "      <td>Tug_Pilot</td>\n",
       "      <td>Trawlers</td>\n",
       "      <td>Tug</td>\n",
       "      <td>Tug</td>\n",
       "      <td>http://www.marinetraffic.com/en/ais/details/sh...</td>\n",
       "      <td>David</td>\n",
       "      <td>WDG6904</td>\n",
       "      <td>1.0</td>\n",
       "      <td>...</td>\n",
       "      <td>WDG6904</td>\n",
       "      <td>4</td>\n",
       "      <td>NaN</td>\n",
       "      <td>NaN</td>\n",
       "      <td>NaN</td>\n",
       "      <td>NaN</td>\n",
       "      <td>NaN</td>\n",
       "      <td>NaN</td>\n",
       "      <td>1220.672500</td>\n",
       "      <td>17.0</td>\n",
       "    </tr>\n",
       "    <tr>\n",
       "      <th>1</th>\n",
       "      <td>367692120</td>\n",
       "      <td>https://www.google.com/webhp?sourceid=chrome-i...</td>\n",
       "      <td>Tug_Pilot</td>\n",
       "      <td>Trawlers</td>\n",
       "      <td>other_not_fishing</td>\n",
       "      <td>NaN</td>\n",
       "      <td>Looks almost like tug, \"local vessel\" https://...</td>\n",
       "      <td>Brady</td>\n",
       "      <td>WDI3806</td>\n",
       "      <td>1.0</td>\n",
       "      <td>...</td>\n",
       "      <td>WDI3806</td>\n",
       "      <td>2</td>\n",
       "      <td>NaN</td>\n",
       "      <td>NaN</td>\n",
       "      <td>NaN</td>\n",
       "      <td>NaN</td>\n",
       "      <td>NaN</td>\n",
       "      <td>NaN</td>\n",
       "      <td>1145.834167</td>\n",
       "      <td>17.0</td>\n",
       "    </tr>\n",
       "    <tr>\n",
       "      <th>2</th>\n",
       "      <td>367637970</td>\n",
       "      <td>https://www.google.com/webhp?sourceid=chrome-i...</td>\n",
       "      <td>Tug_Pilot</td>\n",
       "      <td>Trawlers</td>\n",
       "      <td>Tug</td>\n",
       "      <td>NaN</td>\n",
       "      <td>NaN</td>\n",
       "      <td>Brady</td>\n",
       "      <td>WDH6439</td>\n",
       "      <td>1.0</td>\n",
       "      <td>...</td>\n",
       "      <td>WDH6439</td>\n",
       "      <td>4</td>\n",
       "      <td>NaN</td>\n",
       "      <td>NaN</td>\n",
       "      <td>NaN</td>\n",
       "      <td>NaN</td>\n",
       "      <td>NaN</td>\n",
       "      <td>NaN</td>\n",
       "      <td>964.552778</td>\n",
       "      <td>21.0</td>\n",
       "    </tr>\n",
       "    <tr>\n",
       "      <th>3</th>\n",
       "      <td>366993020</td>\n",
       "      <td>https://www.google.com/webhp?sourceid=chrome-i...</td>\n",
       "      <td>Tug_Pilot</td>\n",
       "      <td>Trawlers</td>\n",
       "      <td>Tug</td>\n",
       "      <td>NaN</td>\n",
       "      <td>NaN</td>\n",
       "      <td>Brady</td>\n",
       "      <td>WDC2428</td>\n",
       "      <td>1.0</td>\n",
       "      <td>...</td>\n",
       "      <td>WDC2428</td>\n",
       "      <td>1</td>\n",
       "      <td>NaN</td>\n",
       "      <td>NaN</td>\n",
       "      <td>NaN</td>\n",
       "      <td>NaN</td>\n",
       "      <td>NaN</td>\n",
       "      <td>NaN</td>\n",
       "      <td>1180.920556</td>\n",
       "      <td>9.0</td>\n",
       "    </tr>\n",
       "    <tr>\n",
       "      <th>4</th>\n",
       "      <td>338164283</td>\n",
       "      <td>https://www.google.com/webhp?sourceid=chrome-i...</td>\n",
       "      <td>Tug_Pilot</td>\n",
       "      <td>Trawlers</td>\n",
       "      <td>no_idea_what_it_is</td>\n",
       "      <td>NaN</td>\n",
       "      <td>no picture</td>\n",
       "      <td>Brady</td>\n",
       "      <td>NaN</td>\n",
       "      <td>1.0</td>\n",
       "      <td>...</td>\n",
       "      <td>NaN</td>\n",
       "      <td>1</td>\n",
       "      <td>350.242778</td>\n",
       "      <td>1.0</td>\n",
       "      <td>NaN</td>\n",
       "      <td>NaN</td>\n",
       "      <td>NaN</td>\n",
       "      <td>NaN</td>\n",
       "      <td>NaN</td>\n",
       "      <td>NaN</td>\n",
       "    </tr>\n",
       "  </tbody>\n",
       "</table>\n",
       "<p>5 rows × 69 columns</p>\n",
       "</div>"
      ],
      "text/plain": [
       "           t                                      Google Search nn_max_label  \\\n",
       "0  367561870  https://www.google.com/webhp?sourceid=chrome-i...    Tug_Pilot   \n",
       "1  367692120  https://www.google.com/webhp?sourceid=chrome-i...    Tug_Pilot   \n",
       "2  367637970  https://www.google.com/webhp?sourceid=chrome-i...    Tug_Pilot   \n",
       "3  366993020  https://www.google.com/webhp?sourceid=chrome-i...    Tug_Pilot   \n",
       "4  338164283  https://www.google.com/webhp?sourceid=chrome-i...    Tug_Pilot   \n",
       "\n",
       "  nn_max_sublabel_fishing      Label Dropdown Expert label  \\\n",
       "0                Trawlers                 Tug          Tug   \n",
       "1                Trawlers   other_not_fishing          NaN   \n",
       "2                Trawlers                 Tug          NaN   \n",
       "3                Trawlers                 Tug          NaN   \n",
       "4                Trawlers  no_idea_what_it_is          NaN   \n",
       "\n",
       "                                               Notes Person callsign  \\\n",
       "0  http://www.marinetraffic.com/en/ais/details/sh...  David  WDG6904   \n",
       "1  Looks almost like tug, \"local vessel\" https://...  Brady  WDI3806   \n",
       "2                                                NaN  Brady  WDH6439   \n",
       "3                                                NaN  Brady  WDC2428   \n",
       "4                                         no picture  Brady      NaN   \n",
       "\n",
       "   nn_max_sub_score          ...           callsign.1  num_callsign  \\\n",
       "0               1.0          ...              WDG6904             4   \n",
       "1               1.0          ...              WDI3806             2   \n",
       "2               1.0          ...              WDH6439             4   \n",
       "3               1.0          ...              WDC2428             1   \n",
       "4               1.0          ...                  NaN             1   \n",
       "\n",
       "    gap_hours num_gaps  Unnamed: 63 Unnamed: 64  Unnamed: 65  Unnamed: 66  \\\n",
       "0         NaN      NaN          NaN         NaN          NaN          NaN   \n",
       "1         NaN      NaN          NaN         NaN          NaN          NaN   \n",
       "2         NaN      NaN          NaN         NaN          NaN          NaN   \n",
       "3         NaN      NaN          NaN         NaN          NaN          NaN   \n",
       "4  350.242778      1.0          NaN         NaN          NaN          NaN   \n",
       "\n",
       "   spoofing_hours  num_overlapping_segs  \n",
       "0     1220.672500                  17.0  \n",
       "1     1145.834167                  17.0  \n",
       "2      964.552778                  21.0  \n",
       "3     1180.920556                   9.0  \n",
       "4             NaN                   NaN  \n",
       "\n",
       "[5 rows x 69 columns]"
      ]
     },
     "execution_count": 5,
     "metadata": {},
     "output_type": "execute_result"
    }
   ],
   "source": [
    "df.head()"
   ]
  },
  {
   "cell_type": "code",
   "execution_count": 6,
   "metadata": {
    "collapsed": false
   },
   "outputs": [],
   "source": [
    "df_all = pd.read_csv('data/permits.csv', na_filter=False,error_bad_lines=False)"
   ]
  },
  {
   "cell_type": "code",
   "execution_count": 31,
   "metadata": {
    "collapsed": false
   },
   "outputs": [],
   "source": [
    "import roman\n",
    "\n",
    "def normalize_shipname(n):\n",
    "    \n",
    "    n = str(n)\n",
    "    if n == None:\n",
    "        return \"\"\n",
    "    \n",
    "    # Get rid of roman numerals\n",
    "    n = n.replace(\"  \",\" \")\n",
    "    n = n.replace(\"  \",\" \")\n",
    "    n = n.replace(\"  \",\" \")\n",
    "    n = n.replace(\"  \",\" \") # get rid of extra spaces\n",
    "    n = n.upper()\n",
    "    # if the vessel starts with \"no. or no53\"\n",
    "    if n[0:3]==\"NO.\":\n",
    "        n = n[3:]\n",
    "        \n",
    "    if n[0:2]==\"NO\" and n[2].isdigit():\n",
    "        n = n[2:]\n",
    "    \n",
    "    vs = n.split(\" \")\n",
    "    \n",
    "    move_to_end = []\n",
    "    for i in range(len(vs)):\n",
    "        try:\n",
    "            try:\n",
    "                vs[i] = roman.fromRoman(vs[i])\n",
    "            except:\n",
    "                pass\n",
    "            vs[i] = str(int(vs[i]))\n",
    "            move_to_end.append(i)       \n",
    "        except:\n",
    "            pass\n",
    "    \n",
    "    if len(move_to_end) == 1:\n",
    "        vs += [vs.pop(move_to_end[0])]\n",
    "    \n",
    "    n = \"\".join(vs)\n",
    "    \n",
    "    n = n.replace(\" \",\"\")\n",
    "\n",
    "    n = n.replace(\".\",\"\"); #get rid of periods\n",
    "    n = n.replace(\"'\",\"\"); # get rid of single quotes\n",
    "    n = n.replace(\"F/B\",''); # get rid of all F/B\n",
    "    n = n.replace(\"F/V\",''); # get rid of all F/V\n",
    "    n = n.replace(\"R/V\",''); # get rid of all F/V\n",
    "    n = n.replace(\"FV\",''); # get rid of all FV\n",
    "    n = n.replace(\"#\",''); # get ride of #\n",
    "    n = n.replace(\"-\",''); # get ride of -\n",
    "    n = n.replace(\"&\",'AND'); # get ride of -\n",
    "    return n\n"
   ]
  },
  {
   "cell_type": "code",
   "execution_count": 8,
   "metadata": {
    "collapsed": false
   },
   "outputs": [],
   "source": [
    "df_all[\"norm_shipname\"] = df_all['VesselName'].apply(normalize_shipname)\n",
    "df[\"norm_shipname\"] = df['shipname'].apply(normalize_shipname)\n"
   ]
  },
  {
   "cell_type": "code",
   "execution_count": 13,
   "metadata": {
    "collapsed": true
   },
   "outputs": [],
   "source": [
    "result = pd.merge(df, df_all, on='norm_shipname', how='left')"
   ]
  },
  {
   "cell_type": "code",
   "execution_count": 14,
   "metadata": {
    "collapsed": false,
    "scrolled": true
   },
   "outputs": [],
   "source": [
    "result.to_csv(\"ne_pac_mached_noaagroundfish.csv\")"
   ]
  },
  {
   "cell_type": "code",
   "execution_count": 16,
   "metadata": {
    "collapsed": false
   },
   "outputs": [],
   "source": [
    "headers = '''Vessel ID\tAN\t          10\t     1   -      10\t\n",
    "Vessel Name\tAN\t50\t11\t-\t60\n",
    "Call Sign\tAN\t8\t61\t-\t68\n",
    "Official Number\tAN\t10\t69\t-\t78\n",
    "IMO Number\tAN\t30\t79\t-\t108\n",
    "Hull Number\tAN\t30\t109\t-\t138\n",
    "Hull Identification Number\tAN\t30\t139\t-\t168\n",
    "Vessel Service\tCH\t30\t169\t-\t198\n",
    "Flag\tCH\t2\t199\t-\t200\n",
    "Self Propelled Indicator\tLogical\t1\t201\t-\t201 \n",
    "Registered Gross Tons\tDS\t7\t202\t-\t208\n",
    "Registered Net Tons\tDS\t7\t209\t-\t215\n",
    "Registered Length\tDS\t7\t216\t-\t222\n",
    "Registered Breadth\tDS\t6\t223\t-\t228\n",
    "Registered Depth\tDS\t6\t229\t-\t234\n",
    "ITC Gross Tons\tDS\t7\t235\t-\t241\n",
    "ITC Net Tons\tDS\t7\t242\t-\t248\n",
    "ITC Length\tDS\t7\t249\t-\t255\n",
    "ITC Breadth\tDS\t6\t256\t-\t261\n",
    "ITC Depth\tDS\t6\t262\t-\t267\n",
    "***Dead Weight Tons\tDS\t7\t268\t-\t274\n",
    "***Dead Weight Tons Measure Unit\tCH\t40\t275   -\t314\n",
    "Measuring Organization Name\tCH\t50\t315\t-\t364\n",
    "Hailing Port\tCH\t50\t365\t-\t414\n",
    "Hailing Port State\tCH\t2\t415\t-\t416\t\n",
    "Hailing Port Country\tCH\t50\t417\t-\t466\n",
    "Coastwise Unrestricted\tCM\t1\t467\t-\t467\n",
    "Limited Coastwise Bowaters Only\tCM\t1\t468\t-\t468\n",
    "Limited Coastwise Restricted MARAD Waiver\tCM\t1\t469\t-\t469\n",
    " Limited Coastwise Oil Spill Response Only\tCM\t1\t470 \t-\t470\n",
    "Limited Coastwise Under Charter to Citizen\tCM\t1\t471\t-\t471\n",
    "Limited Coastwise Trade Fish Products Only\tCM\t1\t472\t-\t472\n",
    "Fishery\tCM\t1\t473\t-\t473\n",
    "Fishery Only\tCM\t1\t474\t-\t474\n",
    "Recreation\tCM\t1\t475\t-\t475\n",
    "Limited Recreation Great Lakes Use Only\tCM\t1\t476\t-\t476\n",
    "Registry\tCM\t1\t477\t-\t477\n",
    "Limited Registry Cross Border Financing\tCM\t1\t478\t-\t478\n",
    "Limited Registry No Foreign Voyage by Sea\tCM\t1\t479\t-\t479\n",
    "Limited Registry Trade with Canada Only\tCM\t1\t480\t-\t   480\n",
    "Great Lakes\tCM\t1\t481\t-\t481\n",
    "Builder\tCH\t80\t 482\t-\t 561\n",
    "Shipyard \tCH\t50           562 \t-    611\n",
    "Build Year\tCH\t4\t612\t-\t615\n",
    "Vessel Complete Build City\tCH\t50\t616\t-\t665\n",
    "Vessel Complete Build State\tCH\t2\t666\t-\t667\n",
    "Vessel Complete Build Province\tCH\t50\t668\t-\t717\n",
    "Vessel Complete Build Country\tCH\t64\t718\t-\t781\n",
    "Vessel Hull Build City\tCH\t50\t782\t-\t831\n",
    "Vessel Hull Build State\tCH\t2\t832\t-\t833\n",
    "Vessel Hull Build Province\tCH\t50\t834\t-\t883\n",
    "Vessel Hull Build Country\tCH\t64\t884\t-\t947\n",
    "Party ID\tAN\t10\t948\t- \t957\n",
    "Organization Name\tCH\t80\t958\t-\t1037\n",
    "Organization Type\tCH\t30\t1038  -\t1067\n",
    "Person First Name\tCH\t30\t1068   -\t1097\n",
    "Person Middle Name\tCH\t50\t1098   -\t1147\n",
    "Person Last Name\tCH\t50\t1148   -\t1197\n",
    "Person Name Suffix\tCH \t10\t1198\t-\t1207\n",
    "Address Line 1\tCH\t255\t1208\t-\t1462\n",
    "Address Line 2\tCH\t255\t1463\t-\t1717\n",
    "Address Line 3\tCH\t255\t1718\t-\t1972\n",
    "Address Line 4\tCH\t255\t1973\t-\t2227\n",
    "City\tCH\t30\t2228\t-\t2257\n",
    "State\tCH\t2\t2258\t- \t2259\n",
    "Province\tCH\t30\t2260\t-\t2289\n",
    "Country\tCH\t64\t2290\t-\t2353\n",
    "Postal Code\tCH\t30\t2354\t-\t2383\n",
    "Main HP Ahead\t IS\t7\t2384\t-\t2390\n",
    "Main HP Astern\t IS\t7\t2391 \t-\t2397\n",
    "Propulsion Type\tCH\t30\t2398\t -\t2427\n",
    "Hull Material\tCH\t30\t2428\t-\t2457\n",
    "Hull Configuration\tCH\t30\t2458\t-\t2487\n",
    "Hull Shape\tCH\t30\t2488\t-\t2517\n",
    "COD Status\tCH\t30\t2518\t-\t2547\n",
    "COD issue date\tCH\t10\t2548\t-\t2557\n",
    "COD expire date\tCH\t10\t2558\t-\t2567\n",
    "Filler\tCH\t1\t2568\t-\t2568'''.split(\"\\n\")\n",
    "\n",
    "for i in range(len(headers)):\n",
    "    headers[i] = headers[i].split(\"\\t\")[0]"
   ]
  },
  {
   "cell_type": "code",
   "execution_count": 17,
   "metadata": {
    "collapsed": false
   },
   "outputs": [
    {
     "name": "stderr",
     "output_type": "stream",
     "text": [
      "Skipping line 45738: expected 78 fields, saw 79\n",
      "\n",
      "Skipping line 144888: expected 78 fields, saw 79\n",
      "\n",
      "Skipping line 190597: expected 78 fields, saw 79\n",
      "\n",
      "Skipping line 208464: expected 78 fields, saw 79\n",
      "\n",
      "Skipping line 252491: expected 78 fields, saw 79\n",
      "\n",
      "Skipping line 342041: expected 78 fields, saw 79\n",
      "\n",
      "/usr/local/lib/python2.7/site-packages/IPython/core/interactiveshell.py:2717: DtypeWarning: Columns (3) have mixed types. Specify dtype option on import or set low_memory=False.\n",
      "  interactivity=interactivity, compiler=compiler, result=result)\n"
     ]
    }
   ],
   "source": [
    "df_all = pd.read_csv('data/VesDocDec16tab.txt',sep='\\t',header=0, names=headers, na_filter=False,error_bad_lines=False)"
   ]
  },
  {
   "cell_type": "code",
   "execution_count": 24,
   "metadata": {
    "collapsed": false
   },
   "outputs": [],
   "source": [
    "df_fishing = df_all.loc[df_all['Vessel Service'].isin(['Commercial Fishing Vessel','Fish Processing Vessel'])]\n"
   ]
  },
  {
   "cell_type": "code",
   "execution_count": 25,
   "metadata": {
    "collapsed": false
   },
   "outputs": [],
   "source": [
    "df_fishing_valid = df_fishing.loc[df_fishing['COD Status'] == \"Valid\"].rename(columns={'Call Sign': 'callsign'})"
   ]
  },
  {
   "cell_type": "code",
   "execution_count": 26,
   "metadata": {
    "collapsed": true
   },
   "outputs": [],
   "source": [
    "df_fishing_valid[\"norm_shipname\"] = df_fishing_valid['Vessel Name'].apply(normalize_shipname)\n"
   ]
  },
  {
   "cell_type": "code",
   "execution_count": null,
   "metadata": {
    "collapsed": true
   },
   "outputs": [],
   "source": []
  },
  {
   "cell_type": "code",
   "execution_count": 27,
   "metadata": {
    "collapsed": false
   },
   "outputs": [],
   "source": [
    "result2 = pd.merge(result, df_fishing_valid.loc[df_fishing_valid['callsign'] != \"\"], \n",
    "                   on=['callsign','norm_shipname'], how='left')"
   ]
  },
  {
   "cell_type": "code",
   "execution_count": 30,
   "metadata": {
    "collapsed": false,
    "scrolled": false
   },
   "outputs": [],
   "source": [
    "result2.to_csv(\"NEPac-noaagroundfish-merchantUS.csv\")"
   ]
  },
  {
   "cell_type": "code",
   "execution_count": null,
   "metadata": {
    "collapsed": true
   },
   "outputs": [],
   "source": []
  },
  {
   "cell_type": "code",
   "execution_count": null,
   "metadata": {
    "collapsed": true
   },
   "outputs": [],
   "source": []
  }
 ],
 "metadata": {
  "kernelspec": {
   "display_name": "Python 2",
   "language": "python",
   "name": "python2"
  },
  "language_info": {
   "codemirror_mode": {
    "name": "ipython",
    "version": 2
   },
   "file_extension": ".py",
   "mimetype": "text/x-python",
   "name": "python",
   "nbconvert_exporter": "python",
   "pygments_lexer": "ipython2",
   "version": "2.7.13"
  }
 },
 "nbformat": 4,
 "nbformat_minor": 2
}
