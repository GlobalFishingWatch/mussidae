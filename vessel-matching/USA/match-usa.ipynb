{
 "cells": [
  {
   "cell_type": "code",
   "execution_count": 1,
   "metadata": {
    "collapsed": true
   },
   "outputs": [],
   "source": [
    "import pandas as pd"
   ]
  },
  {
   "cell_type": "code",
   "execution_count": 4,
   "metadata": {
    "collapsed": false
   },
   "outputs": [
    {
     "name": "stdout",
     "output_type": "stream",
     "text": [
      "Requesting query... ok.\n",
      "Query running...\n",
      "Query done.\n",
      "Cache hit.\n",
      "\n",
      "Retrieving results...\n",
      "Got 2536 rows.\n",
      "\n",
      "Total time taken 1.43 s.\n",
      "Finished at 2017-01-04 11:33:03.\n"
     ]
    }
   ],
   "source": [
    "q = '''\n",
    "SELECT\n",
    "  mmsi,\n",
    "  nn_average_length,\n",
    "  nn_max_label,\n",
    "  nn_max_score,\n",
    "  shipname,\n",
    "  num_shipnames,\n",
    "  imo,\n",
    "  callsign,\n",
    "  num_callsign,\n",
    "  average_length\n",
    "FROM\n",
    "  [scratch_david_mmsi_lists.2016_fishing_vessel_info]\n",
    "WHERE\n",
    "  iso3 = \"USA\"\n",
    "'''\n",
    "df = pd.io.gbq.read_gbq(q, project_id='world-fishing-827')"
   ]
  },
  {
   "cell_type": "code",
   "execution_count": 60,
   "metadata": {
    "collapsed": false
   },
   "outputs": [],
   "source": [
    "headers = '''Vessel ID\tAN\t          10\t     1   -      10\t\n",
    "Vessel Name\tAN\t50\t11\t-\t60\n",
    "Call Sign\tAN\t8\t61\t-\t68\n",
    "Official Number\tAN\t10\t69\t-\t78\n",
    "IMO Number\tAN\t30\t79\t-\t108\n",
    "Hull Number\tAN\t30\t109\t-\t138\n",
    "Hull Identification Number\tAN\t30\t139\t-\t168\n",
    "Vessel Service\tCH\t30\t169\t-\t198\n",
    "Flag\tCH\t2\t199\t-\t200\n",
    "Self Propelled Indicator\tLogical\t1\t201\t-\t201 \n",
    "Registered Gross Tons\tDS\t7\t202\t-\t208\n",
    "Registered Net Tons\tDS\t7\t209\t-\t215\n",
    "Registered Length\tDS\t7\t216\t-\t222\n",
    "Registered Breadth\tDS\t6\t223\t-\t228\n",
    "Registered Depth\tDS\t6\t229\t-\t234\n",
    "ITC Gross Tons\tDS\t7\t235\t-\t241\n",
    "ITC Net Tons\tDS\t7\t242\t-\t248\n",
    "ITC Length\tDS\t7\t249\t-\t255\n",
    "ITC Breadth\tDS\t6\t256\t-\t261\n",
    "ITC Depth\tDS\t6\t262\t-\t267\n",
    "***Dead Weight Tons\tDS\t7\t268\t-\t274\n",
    "***Dead Weight Tons Measure Unit\tCH\t40\t275   -\t314\n",
    "Measuring Organization Name\tCH\t50\t315\t-\t364\n",
    "Hailing Port\tCH\t50\t365\t-\t414\n",
    "Hailing Port State\tCH\t2\t415\t-\t416\t\n",
    "Hailing Port Country\tCH\t50\t417\t-\t466\n",
    "Coastwise Unrestricted\tCM\t1\t467\t-\t467\n",
    "Limited Coastwise Bowaters Only\tCM\t1\t468\t-\t468\n",
    "Limited Coastwise Restricted MARAD Waiver\tCM\t1\t469\t-\t469\n",
    " Limited Coastwise Oil Spill Response Only\tCM\t1\t470 \t-\t470\n",
    "Limited Coastwise Under Charter to Citizen\tCM\t1\t471\t-\t471\n",
    "Limited Coastwise Trade Fish Products Only\tCM\t1\t472\t-\t472\n",
    "Fishery\tCM\t1\t473\t-\t473\n",
    "Fishery Only\tCM\t1\t474\t-\t474\n",
    "Recreation\tCM\t1\t475\t-\t475\n",
    "Limited Recreation Great Lakes Use Only\tCM\t1\t476\t-\t476\n",
    "Registry\tCM\t1\t477\t-\t477\n",
    "Limited Registry Cross Border Financing\tCM\t1\t478\t-\t478\n",
    "Limited Registry No Foreign Voyage by Sea\tCM\t1\t479\t-\t479\n",
    "Limited Registry Trade with Canada Only\tCM\t1\t480\t-\t   480\n",
    "Great Lakes\tCM\t1\t481\t-\t481\n",
    "Builder\tCH\t80\t 482\t-\t 561\n",
    "Shipyard \tCH\t50           562 \t-    611\n",
    "Build Year\tCH\t4\t612\t-\t615\n",
    "Vessel Complete Build City\tCH\t50\t616\t-\t665\n",
    "Vessel Complete Build State\tCH\t2\t666\t-\t667\n",
    "Vessel Complete Build Province\tCH\t50\t668\t-\t717\n",
    "Vessel Complete Build Country\tCH\t64\t718\t-\t781\n",
    "Vessel Hull Build City\tCH\t50\t782\t-\t831\n",
    "Vessel Hull Build State\tCH\t2\t832\t-\t833\n",
    "Vessel Hull Build Province\tCH\t50\t834\t-\t883\n",
    "Vessel Hull Build Country\tCH\t64\t884\t-\t947\n",
    "Party ID\tAN\t10\t948\t- \t957\n",
    "Organization Name\tCH\t80\t958\t-\t1037\n",
    "Organization Type\tCH\t30\t1038  -\t1067\n",
    "Person First Name\tCH\t30\t1068   -\t1097\n",
    "Person Middle Name\tCH\t50\t1098   -\t1147\n",
    "Person Last Name\tCH\t50\t1148   -\t1197\n",
    "Person Name Suffix\tCH \t10\t1198\t-\t1207\n",
    "Address Line 1\tCH\t255\t1208\t-\t1462\n",
    "Address Line 2\tCH\t255\t1463\t-\t1717\n",
    "Address Line 3\tCH\t255\t1718\t-\t1972\n",
    "Address Line 4\tCH\t255\t1973\t-\t2227\n",
    "City\tCH\t30\t2228\t-\t2257\n",
    "State\tCH\t2\t2258\t- \t2259\n",
    "Province\tCH\t30\t2260\t-\t2289\n",
    "Country\tCH\t64\t2290\t-\t2353\n",
    "Postal Code\tCH\t30\t2354\t-\t2383\n",
    "Main HP Ahead\t IS\t7\t2384\t-\t2390\n",
    "Main HP Astern\t IS\t7\t2391 \t-\t2397\n",
    "Propulsion Type\tCH\t30\t2398\t -\t2427\n",
    "Hull Material\tCH\t30\t2428\t-\t2457\n",
    "Hull Configuration\tCH\t30\t2458\t-\t2487\n",
    "Hull Shape\tCH\t30\t2488\t-\t2517\n",
    "COD Status\tCH\t30\t2518\t-\t2547\n",
    "COD issue date\tCH\t10\t2548\t-\t2557\n",
    "COD expire date\tCH\t10\t2558\t-\t2567\n",
    "Filler\tCH\t1\t2568\t-\t2568'''.split(\"\\n\")\n",
    "\n",
    "for i in range(len(headers)):\n",
    "    headers[i] = headers[i].split(\"\\t\")[0]"
   ]
  },
  {
   "cell_type": "code",
   "execution_count": 61,
   "metadata": {
    "collapsed": false
   },
   "outputs": [
    {
     "name": "stderr",
     "output_type": "stream",
     "text": [
      "Skipping line 45738: expected 78 fields, saw 79\n",
      "\n",
      "Skipping line 144888: expected 78 fields, saw 79\n",
      "\n",
      "Skipping line 190597: expected 78 fields, saw 79\n",
      "\n",
      "Skipping line 208464: expected 78 fields, saw 79\n",
      "\n",
      "Skipping line 252491: expected 78 fields, saw 79\n",
      "\n",
      "Skipping line 342041: expected 78 fields, saw 79\n",
      "\n"
     ]
    }
   ],
   "source": [
    "df_all = pd.read_csv('data/VesDocDec16tab.txt',sep='\\t',header=0, names=headers, na_filter=False,error_bad_lines=False)"
   ]
  },
  {
   "cell_type": "code",
   "execution_count": 63,
   "metadata": {
    "collapsed": false
   },
   "outputs": [
    {
     "data": {
      "text/plain": [
       "'COD Status'"
      ]
     },
     "execution_count": 63,
     "metadata": {},
     "output_type": "execute_result"
    }
   ],
   "source": [
    "headers[74]"
   ]
  },
  {
   "cell_type": "code",
   "execution_count": 66,
   "metadata": {
    "collapsed": false
   },
   "outputs": [],
   "source": [
    "\n",
    "df_fishing = df_all.loc[df_all['Vessel Service'].isin(['Commercial Fishing Vessel','Fish Processing Vessel'])]"
   ]
  },
  {
   "cell_type": "code",
   "execution_count": 69,
   "metadata": {
    "collapsed": false
   },
   "outputs": [],
   "source": [
    "df_fishing_valid = df_fishing.loc[df_fishing['COD Status'] == \"Valid\"].rename(columns={'Call Sign': 'callsign'})"
   ]
  },
  {
   "cell_type": "code",
   "execution_count": 73,
   "metadata": {
    "collapsed": false
   },
   "outputs": [
    {
     "data": {
      "text/html": [
       "<div>\n",
       "<table border=\"1\" class=\"dataframe\">\n",
       "  <thead>\n",
       "    <tr style=\"text-align: right;\">\n",
       "      <th></th>\n",
       "      <th>Vessel ID</th>\n",
       "      <th>Vessel Name</th>\n",
       "      <th>callsign</th>\n",
       "      <th>Official Number</th>\n",
       "      <th>IMO Number</th>\n",
       "      <th>Hull Number</th>\n",
       "      <th>Hull Identification Number</th>\n",
       "      <th>Vessel Service</th>\n",
       "      <th>Flag</th>\n",
       "      <th>Self Propelled Indicator</th>\n",
       "      <th>...</th>\n",
       "      <th>Main HP Ahead</th>\n",
       "      <th>Main HP Astern</th>\n",
       "      <th>Propulsion Type</th>\n",
       "      <th>Hull Material</th>\n",
       "      <th>Hull Configuration</th>\n",
       "      <th>Hull Shape</th>\n",
       "      <th>COD Status</th>\n",
       "      <th>COD issue date</th>\n",
       "      <th>COD expire date</th>\n",
       "      <th>Filler</th>\n",
       "    </tr>\n",
       "  </thead>\n",
       "  <tbody>\n",
       "    <tr>\n",
       "      <th>7</th>\n",
       "      <td>1231227</td>\n",
       "      <td>LEHUA</td>\n",
       "      <td></td>\n",
       "      <td>1246324</td>\n",
       "      <td></td>\n",
       "      <td></td>\n",
       "      <td></td>\n",
       "      <td>Commercial Fishing Vessel</td>\n",
       "      <td>US</td>\n",
       "      <td>1</td>\n",
       "      <td>...</td>\n",
       "      <td></td>\n",
       "      <td></td>\n",
       "      <td>UNSPECIFIED</td>\n",
       "      <td>Wood</td>\n",
       "      <td>Monohull</td>\n",
       "      <td>Ship</td>\n",
       "      <td>Valid</td>\n",
       "      <td>02/27/2016</td>\n",
       "      <td>03/31/2017</td>\n",
       "      <td></td>\n",
       "    </tr>\n",
       "    <tr>\n",
       "      <th>45</th>\n",
       "      <td>1231341</td>\n",
       "      <td>RUSH-ON</td>\n",
       "      <td></td>\n",
       "      <td>1246362</td>\n",
       "      <td></td>\n",
       "      <td>1TM320113</td>\n",
       "      <td></td>\n",
       "      <td>Commercial Fishing Vessel</td>\n",
       "      <td>US</td>\n",
       "      <td>1</td>\n",
       "      <td>...</td>\n",
       "      <td></td>\n",
       "      <td></td>\n",
       "      <td>UNSPECIFIED</td>\n",
       "      <td>Aluminum</td>\n",
       "      <td>Monohull</td>\n",
       "      <td>Ship</td>\n",
       "      <td>Valid</td>\n",
       "      <td>04/23/2016</td>\n",
       "      <td>05/31/2017</td>\n",
       "      <td></td>\n",
       "    </tr>\n",
       "    <tr>\n",
       "      <th>60</th>\n",
       "      <td>1231410</td>\n",
       "      <td>LOGOS</td>\n",
       "      <td></td>\n",
       "      <td>1246376</td>\n",
       "      <td></td>\n",
       "      <td>EKJ95034I411</td>\n",
       "      <td></td>\n",
       "      <td>Commercial Fishing Vessel</td>\n",
       "      <td>US</td>\n",
       "      <td>1</td>\n",
       "      <td>...</td>\n",
       "      <td></td>\n",
       "      <td></td>\n",
       "      <td>Jet Drive</td>\n",
       "      <td>Aluminum</td>\n",
       "      <td>Monohull</td>\n",
       "      <td>Ship</td>\n",
       "      <td>Valid</td>\n",
       "      <td>03/07/2016</td>\n",
       "      <td>02/28/2017</td>\n",
       "      <td></td>\n",
       "    </tr>\n",
       "    <tr>\n",
       "      <th>61</th>\n",
       "      <td>1231412</td>\n",
       "      <td>ENDURANCE</td>\n",
       "      <td></td>\n",
       "      <td>1246378</td>\n",
       "      <td></td>\n",
       "      <td></td>\n",
       "      <td></td>\n",
       "      <td>Commercial Fishing Vessel</td>\n",
       "      <td>US</td>\n",
       "      <td>1</td>\n",
       "      <td>...</td>\n",
       "      <td></td>\n",
       "      <td></td>\n",
       "      <td>UNSPECIFIED</td>\n",
       "      <td>FRP (Fiberglass)</td>\n",
       "      <td>Monohull</td>\n",
       "      <td>Ship</td>\n",
       "      <td>Valid</td>\n",
       "      <td>03/24/2016</td>\n",
       "      <td>04/30/2017</td>\n",
       "      <td></td>\n",
       "    </tr>\n",
       "    <tr>\n",
       "      <th>75</th>\n",
       "      <td>1231483</td>\n",
       "      <td>ISLE DOMINATOR</td>\n",
       "      <td></td>\n",
       "      <td>1246391</td>\n",
       "      <td></td>\n",
       "      <td></td>\n",
       "      <td></td>\n",
       "      <td>Commercial Fishing Vessel</td>\n",
       "      <td>US</td>\n",
       "      <td>1</td>\n",
       "      <td>...</td>\n",
       "      <td>479</td>\n",
       "      <td>479</td>\n",
       "      <td>Diesel Reduction</td>\n",
       "      <td>Steel</td>\n",
       "      <td>Monohull</td>\n",
       "      <td>Ship</td>\n",
       "      <td>Valid</td>\n",
       "      <td>01/06/2016</td>\n",
       "      <td>01/31/2017</td>\n",
       "      <td></td>\n",
       "    </tr>\n",
       "  </tbody>\n",
       "</table>\n",
       "<p>5 rows × 78 columns</p>\n",
       "</div>"
      ],
      "text/plain": [
       "    Vessel ID     Vessel Name callsign Official Number IMO Number  \\\n",
       "7     1231227           LEHUA                  1246324              \n",
       "45    1231341         RUSH-ON                  1246362              \n",
       "60    1231410           LOGOS                  1246376              \n",
       "61    1231412       ENDURANCE                  1246378              \n",
       "75    1231483  ISLE DOMINATOR                  1246391              \n",
       "\n",
       "     Hull Number Hull Identification Number             Vessel Service Flag  \\\n",
       "7                                            Commercial Fishing Vessel   US   \n",
       "45     1TM320113                             Commercial Fishing Vessel   US   \n",
       "60  EKJ95034I411                             Commercial Fishing Vessel   US   \n",
       "61                                           Commercial Fishing Vessel   US   \n",
       "75                                           Commercial Fishing Vessel   US   \n",
       "\n",
       "    Self Propelled Indicator  ...   Main HP Ahead Main HP Astern  \\\n",
       "7                          1  ...                                  \n",
       "45                         1  ...                                  \n",
       "60                         1  ...                                  \n",
       "61                         1  ...                                  \n",
       "75                         1  ...             479            479   \n",
       "\n",
       "     Propulsion Type     Hull Material Hull Configuration Hull Shape  \\\n",
       "7        UNSPECIFIED              Wood           Monohull       Ship   \n",
       "45       UNSPECIFIED          Aluminum           Monohull       Ship   \n",
       "60         Jet Drive          Aluminum           Monohull       Ship   \n",
       "61       UNSPECIFIED  FRP (Fiberglass)           Monohull       Ship   \n",
       "75  Diesel Reduction             Steel           Monohull       Ship   \n",
       "\n",
       "   COD Status COD issue date COD expire date Filler  \n",
       "7       Valid     02/27/2016      03/31/2017         \n",
       "45      Valid     04/23/2016      05/31/2017         \n",
       "60      Valid     03/07/2016      02/28/2017         \n",
       "61      Valid     03/24/2016      04/30/2017         \n",
       "75      Valid     01/06/2016      01/31/2017         \n",
       "\n",
       "[5 rows x 78 columns]"
      ]
     },
     "execution_count": 73,
     "metadata": {},
     "output_type": "execute_result"
    }
   ],
   "source": [
    "df_fishing_valid.head()"
   ]
  },
  {
   "cell_type": "code",
   "execution_count": 71,
   "metadata": {
    "collapsed": false
   },
   "outputs": [
    {
     "data": {
      "text/html": [
       "<div>\n",
       "<table border=\"1\" class=\"dataframe\">\n",
       "  <thead>\n",
       "    <tr style=\"text-align: right;\">\n",
       "      <th></th>\n",
       "      <th>mmsi</th>\n",
       "      <th>nn_average_length</th>\n",
       "      <th>nn_max_label</th>\n",
       "      <th>nn_max_score</th>\n",
       "      <th>shipname</th>\n",
       "      <th>num_shipnames</th>\n",
       "      <th>imo</th>\n",
       "      <th>callsign</th>\n",
       "      <th>num_callsign</th>\n",
       "      <th>average_length</th>\n",
       "    </tr>\n",
       "  </thead>\n",
       "  <tbody>\n",
       "    <tr>\n",
       "      <th>0</th>\n",
       "      <td>303114000</td>\n",
       "      <td>NaN</td>\n",
       "      <td>None</td>\n",
       "      <td>NaN</td>\n",
       "      <td>EDWARD G</td>\n",
       "      <td>1.0</td>\n",
       "      <td>NaN</td>\n",
       "      <td>WTC4737</td>\n",
       "      <td>1</td>\n",
       "      <td>NaN</td>\n",
       "    </tr>\n",
       "    <tr>\n",
       "      <th>1</th>\n",
       "      <td>303137000</td>\n",
       "      <td>87.203644</td>\n",
       "      <td>Purse_seines</td>\n",
       "      <td>0.999994</td>\n",
       "      <td>C.VINCENT GANN</td>\n",
       "      <td>1.0</td>\n",
       "      <td>9018880.0</td>\n",
       "      <td>WDG2517</td>\n",
       "      <td>1</td>\n",
       "      <td>80.000000</td>\n",
       "    </tr>\n",
       "    <tr>\n",
       "      <th>2</th>\n",
       "      <td>303159000</td>\n",
       "      <td>40.189823</td>\n",
       "      <td>Trawlers</td>\n",
       "      <td>0.985090</td>\n",
       "      <td>ARCTURUS</td>\n",
       "      <td>2.0</td>\n",
       "      <td>8315724.0</td>\n",
       "      <td>WAP2210</td>\n",
       "      <td>1</td>\n",
       "      <td>39.229344</td>\n",
       "    </tr>\n",
       "    <tr>\n",
       "      <th>3</th>\n",
       "      <td>303174000</td>\n",
       "      <td>NaN</td>\n",
       "      <td>None</td>\n",
       "      <td>NaN</td>\n",
       "      <td>GAIL ANN</td>\n",
       "      <td>1.0</td>\n",
       "      <td>NaN</td>\n",
       "      <td>WAK2110</td>\n",
       "      <td>1</td>\n",
       "      <td>28.000000</td>\n",
       "    </tr>\n",
       "    <tr>\n",
       "      <th>4</th>\n",
       "      <td>303221000</td>\n",
       "      <td>35.573143</td>\n",
       "      <td>Trawlers</td>\n",
       "      <td>0.784916</td>\n",
       "      <td>ARCTIC SEA</td>\n",
       "      <td>2.0</td>\n",
       "      <td>7819216.0</td>\n",
       "      <td>WDG5171</td>\n",
       "      <td>2</td>\n",
       "      <td>45.005096</td>\n",
       "    </tr>\n",
       "  </tbody>\n",
       "</table>\n",
       "</div>"
      ],
      "text/plain": [
       "        mmsi  nn_average_length  nn_max_label  nn_max_score        shipname  \\\n",
       "0  303114000                NaN          None           NaN        EDWARD G   \n",
       "1  303137000          87.203644  Purse_seines      0.999994  C.VINCENT GANN   \n",
       "2  303159000          40.189823      Trawlers      0.985090        ARCTURUS   \n",
       "3  303174000                NaN          None           NaN        GAIL ANN   \n",
       "4  303221000          35.573143      Trawlers      0.784916      ARCTIC SEA   \n",
       "\n",
       "   num_shipnames        imo callsign  num_callsign  average_length  \n",
       "0            1.0        NaN  WTC4737             1             NaN  \n",
       "1            1.0  9018880.0  WDG2517             1       80.000000  \n",
       "2            2.0  8315724.0  WAP2210             1       39.229344  \n",
       "3            1.0        NaN  WAK2110             1       28.000000  \n",
       "4            2.0  7819216.0  WDG5171             2       45.005096  "
      ]
     },
     "execution_count": 71,
     "metadata": {},
     "output_type": "execute_result"
    }
   ],
   "source": [
    "df.head()"
   ]
  },
  {
   "cell_type": "code",
   "execution_count": 93,
   "metadata": {
    "collapsed": false
   },
   "outputs": [],
   "source": [
    "# result = pd.concat([df,df_fishing_valid], axis=1, join='inner', \n",
    "#           copy=True)\n",
    "\n",
    "result = df.join(df_fishing_valid, on=\"callsign\", how='inner', lsuffix='_l', rsuffix='_r')"
   ]
  },
  {
   "cell_type": "code",
   "execution_count": 102,
   "metadata": {
    "collapsed": false,
    "scrolled": true
   },
   "outputs": [
    {
     "data": {
      "text/plain": [
       "1109"
      ]
     },
     "execution_count": 102,
     "metadata": {},
     "output_type": "execute_result"
    }
   ],
   "source": [
    "calls_ais = list(df['callsign'])\n",
    "\n",
    "\n",
    "calls_r = list(df_fishing_valid['callsign'])\n",
    "\n",
    "matches = []\n",
    "for c in calls_ais:\n",
    "    if c != \"\" and c!= \"NONE\" and c!= \"NA\" and c in calls_r:\n",
    "        matches.append(c)\n",
    "len(matches)"
   ]
  },
  {
   "cell_type": "code",
   "execution_count": 111,
   "metadata": {
    "collapsed": false
   },
   "outputs": [],
   "source": [
    "result = pd.merge(df, df_fishing_valid.loc[df_fishing_valid['callsign'] != \"\"], on='callsign', how='left')"
   ]
  },
  {
   "cell_type": "code",
   "execution_count": 121,
   "metadata": {
    "collapsed": false,
    "scrolled": false
   },
   "outputs": [
    {
     "data": {
      "text/html": [
       "<div>\n",
       "<table border=\"1\" class=\"dataframe\">\n",
       "  <thead>\n",
       "    <tr style=\"text-align: right;\">\n",
       "      <th></th>\n",
       "      <th>Vessel ID</th>\n",
       "      <th>mmsi</th>\n",
       "      <th>shipname</th>\n",
       "      <th>Vessel Name</th>\n",
       "      <th>callsign</th>\n",
       "      <th>average_length</th>\n",
       "      <th>Registered Length</th>\n",
       "    </tr>\n",
       "  </thead>\n",
       "  <tbody>\n",
       "    <tr>\n",
       "      <th>0</th>\n",
       "      <td>301012.0</td>\n",
       "      <td>303114000</td>\n",
       "      <td>EDWARD G</td>\n",
       "      <td>EDWARD G</td>\n",
       "      <td>WTC4737</td>\n",
       "      <td>NaN</td>\n",
       "      <td>77.9</td>\n",
       "    </tr>\n",
       "    <tr>\n",
       "      <th>1</th>\n",
       "      <td>336738.0</td>\n",
       "      <td>303137000</td>\n",
       "      <td>C.VINCENT GANN</td>\n",
       "      <td>CAPT. VINCENT GANN</td>\n",
       "      <td>WDG2517</td>\n",
       "      <td>80.000000</td>\n",
       "      <td>225.8</td>\n",
       "    </tr>\n",
       "    <tr>\n",
       "      <th>2</th>\n",
       "      <td>214222.0</td>\n",
       "      <td>303159000</td>\n",
       "      <td>ARCTURUS</td>\n",
       "      <td>ARCTURUS</td>\n",
       "      <td>WAP2210</td>\n",
       "      <td>39.229344</td>\n",
       "      <td>119.0</td>\n",
       "    </tr>\n",
       "    <tr>\n",
       "      <th>3</th>\n",
       "      <td>317670.0</td>\n",
       "      <td>303174000</td>\n",
       "      <td>GAIL ANN</td>\n",
       "      <td>GAIL ANN</td>\n",
       "      <td>WAK2110</td>\n",
       "      <td>28.000000</td>\n",
       "      <td>92.7</td>\n",
       "    </tr>\n",
       "    <tr>\n",
       "      <th>4</th>\n",
       "      <td>NaN</td>\n",
       "      <td>303221000</td>\n",
       "      <td>ARCTIC SEA</td>\n",
       "      <td>NaN</td>\n",
       "      <td>WDG5171</td>\n",
       "      <td>45.005096</td>\n",
       "      <td>NaN</td>\n",
       "    </tr>\n",
       "  </tbody>\n",
       "</table>\n",
       "</div>"
      ],
      "text/plain": [
       "   Vessel ID       mmsi        shipname         Vessel Name callsign  \\\n",
       "0   301012.0  303114000        EDWARD G            EDWARD G  WTC4737   \n",
       "1   336738.0  303137000  C.VINCENT GANN  CAPT. VINCENT GANN  WDG2517   \n",
       "2   214222.0  303159000        ARCTURUS            ARCTURUS  WAP2210   \n",
       "3   317670.0  303174000        GAIL ANN            GAIL ANN  WAK2110   \n",
       "4        NaN  303221000      ARCTIC SEA                 NaN  WDG5171   \n",
       "\n",
       "   average_length Registered Length  \n",
       "0             NaN              77.9  \n",
       "1       80.000000             225.8  \n",
       "2       39.229344             119.0  \n",
       "3       28.000000              92.7  \n",
       "4       45.005096               NaN  "
      ]
     },
     "execution_count": 121,
     "metadata": {},
     "output_type": "execute_result"
    }
   ],
   "source": [
    "result[['Vessel ID','mmsi','shipname','Vessel Name','callsign','average_length','Registered Length']].head()"
   ]
  },
  {
   "cell_type": "code",
   "execution_count": 120,
   "metadata": {
    "collapsed": true
   },
   "outputs": [],
   "source": [
    "result.to_csv(\"matches.csv\")"
   ]
  },
  {
   "cell_type": "code",
   "execution_count": 169,
   "metadata": {
    "collapsed": false
   },
   "outputs": [],
   "source": [
    "import roman\n",
    "\n",
    "def normalize_shipname(n):\n",
    "    \n",
    "    n = str(n)\n",
    "    if n == None:\n",
    "        return \"\"\n",
    "    \n",
    "    # Get rid of roman numerals\n",
    "    n = n.replace(\"  \",\" \")\n",
    "    n = n.replace(\"  \",\" \")\n",
    "    n = n.replace(\"  \",\" \")\n",
    "    n = n.replace(\"  \",\" \") # get rid of extra spaces\n",
    "    n = n.upper()\n",
    "    # if the vessel starts with \"no. or no53\"\n",
    "    if n[0:3]==\"NO.\":\n",
    "        n = n[3:]\n",
    "        \n",
    "    if n[0:2]==\"NO\" and n[2].isdigit():\n",
    "        n = n[2:]\n",
    "    \n",
    "    vs = n.split(\" \")\n",
    "    \n",
    "    move_to_end = []\n",
    "    for i in range(len(vs)):\n",
    "        try:\n",
    "            try:\n",
    "                vs[i] = roman.fromRoman(vs[i])\n",
    "            except:\n",
    "                pass\n",
    "            vs[i] = str(int(vs[i]))\n",
    "            move_to_end.append(i)       \n",
    "        except:\n",
    "            pass\n",
    "    \n",
    "    if len(move_to_end) == 1:\n",
    "        vs += [vs.pop(move_to_end[0])]\n",
    "    \n",
    "    n = \"\".join(vs)\n",
    "    \n",
    "    n = n.replace(\" \",\"\")\n",
    "\n",
    "    n = n.replace(\".\",\"\"); #get rid of periods\n",
    "    n = n.replace(\"'\",\"\"); # get rid of single quotes\n",
    "    n = n.replace(\"F/B\",''); # get rid of all F/B\n",
    "    n = n.replace(\"F/V\",''); # get rid of all F/V\n",
    "    n = n.replace(\"R/V\",''); # get rid of all F/V\n",
    "    n = n.replace(\"FV\",''); # get rid of all FV\n",
    "    n = n.replace(\"#\",''); # get ride of #\n",
    "    n = n.replace(\"-\",''); # get ride of -\n",
    "    n = n.replace(\"&\",'AND'); # get ride of -\n",
    "    return n\n"
   ]
  },
  {
   "cell_type": "code",
   "execution_count": 170,
   "metadata": {
    "collapsed": false
   },
   "outputs": [],
   "source": [
    "result[\"norm_shipname\"] = result['shipname'].apply(normalize_shipname)\n",
    "result[\"norm_Vessel Name\"] = result['Vessel Name'].apply(normalize_shipname)\n"
   ]
  },
  {
   "cell_type": "code",
   "execution_count": 173,
   "metadata": {
    "collapsed": false
   },
   "outputs": [],
   "source": [
    "matches = result.loc[result['norm_shipname'] == result['norm_Vessel Name']]"
   ]
  },
  {
   "cell_type": "code",
   "execution_count": 174,
   "metadata": {
    "collapsed": false
   },
   "outputs": [],
   "source": [
    "matches.to_csv(\"matches_verified.csv\")"
   ]
  }
 ],
 "metadata": {
  "kernelspec": {
   "display_name": "Python 2",
   "language": "python",
   "name": "python2"
  },
  "language_info": {
   "codemirror_mode": {
    "name": "ipython",
    "version": 2
   },
   "file_extension": ".py",
   "mimetype": "text/x-python",
   "name": "python",
   "nbconvert_exporter": "python",
   "pygments_lexer": "ipython2",
   "version": "2.7.13"
  }
 },
 "nbformat": 4,
 "nbformat_minor": 2
}
