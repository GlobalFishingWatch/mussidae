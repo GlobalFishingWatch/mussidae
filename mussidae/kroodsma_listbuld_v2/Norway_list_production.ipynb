{
 "cells": [
  {
   "cell_type": "code",
   "execution_count": 1,
   "metadata": {
    "collapsed": false
   },
   "outputs": [],
   "source": [
    "import pandas as pd\n",
    "import csv\n",
    "import pandas.io.gbq as bq"
   ]
  },
  {
   "cell_type": "code",
   "execution_count": 2,
   "metadata": {
    "collapsed": false
   },
   "outputs": [],
   "source": [
    "# first find the geartypes\n",
    "nor = pd.DataFrame.from_csv('from_bigquery/Norway_2016_clean.csv')"
   ]
  },
  {
   "cell_type": "code",
   "execution_count": 3,
   "metadata": {
    "collapsed": false
   },
   "outputs": [
    {
     "data": {
      "text/html": [
       "<div>\n",
       "<table border=\"1\" class=\"dataframe\">\n",
       "  <thead>\n",
       "    <tr style=\"text-align: right;\">\n",
       "      <th></th>\n",
       "      <th>shipname</th>\n",
       "      <th>callsign</th>\n",
       "      <th>length</th>\n",
       "      <th>width</th>\n",
       "      <th>power</th>\n",
       "      <th>tonnage</th>\n",
       "    </tr>\n",
       "    <tr>\n",
       "      <th>mmsi</th>\n",
       "      <th></th>\n",
       "      <th></th>\n",
       "      <th></th>\n",
       "      <th></th>\n",
       "      <th></th>\n",
       "      <th></th>\n",
       "    </tr>\n",
       "  </thead>\n",
       "  <tbody>\n",
       "    <tr>\n",
       "      <th>257000202</th>\n",
       "      <td>DUCK3</td>\n",
       "      <td>NaN</td>\n",
       "      <td>NaN</td>\n",
       "      <td>NaN</td>\n",
       "      <td>NaN</td>\n",
       "      <td>NaN</td>\n",
       "    </tr>\n",
       "    <tr>\n",
       "      <th>257000410</th>\n",
       "      <td>MS PER IVAR</td>\n",
       "      <td>LM8718</td>\n",
       "      <td>10.22</td>\n",
       "      <td>3.25</td>\n",
       "      <td>114.0</td>\n",
       "      <td>11.0</td>\n",
       "    </tr>\n",
       "    <tr>\n",
       "      <th>257000430</th>\n",
       "      <td>NYHAV</td>\n",
       "      <td>3YTR</td>\n",
       "      <td>12.88</td>\n",
       "      <td>3.80</td>\n",
       "      <td>131.0</td>\n",
       "      <td>12.0</td>\n",
       "    </tr>\n",
       "    <tr>\n",
       "      <th>257000700</th>\n",
       "      <td>EBENEZER</td>\n",
       "      <td>LF5171</td>\n",
       "      <td>10.63</td>\n",
       "      <td>3.58</td>\n",
       "      <td>340.0</td>\n",
       "      <td>NaN</td>\n",
       "    </tr>\n",
       "    <tr>\n",
       "      <th>257000810</th>\n",
       "      <td>KAROLINE</td>\n",
       "      <td>LG 3129</td>\n",
       "      <td>NaN</td>\n",
       "      <td>NaN</td>\n",
       "      <td>NaN</td>\n",
       "      <td>NaN</td>\n",
       "    </tr>\n",
       "  </tbody>\n",
       "</table>\n",
       "</div>"
      ],
      "text/plain": [
       "              shipname callsign  length  width  power  tonnage\n",
       "mmsi                                                          \n",
       "257000202        DUCK3      NaN     NaN    NaN    NaN      NaN\n",
       "257000410  MS PER IVAR   LM8718   10.22   3.25  114.0     11.0\n",
       "257000430        NYHAV     3YTR   12.88   3.80  131.0     12.0\n",
       "257000700     EBENEZER   LF5171   10.63   3.58  340.0      NaN\n",
       "257000810     KAROLINE  LG 3129     NaN    NaN    NaN      NaN"
      ]
     },
     "execution_count": 3,
     "metadata": {},
     "output_type": "execute_result"
    }
   ],
   "source": [
    "# ffa = ffa.set_index('mmsi')\n",
    "nor.head()"
   ]
  },
  {
   "cell_type": "code",
   "execution_count": 4,
   "metadata": {
    "collapsed": false
   },
   "outputs": [],
   "source": [
    "nor = nor.rename(columns = {'power':'power_hp'})\n"
   ]
  },
  {
   "cell_type": "code",
   "execution_count": null,
   "metadata": {
    "collapsed": true
   },
   "outputs": [],
   "source": []
  },
  {
   "cell_type": "code",
   "execution_count": 5,
   "metadata": {
    "collapsed": false
   },
   "outputs": [],
   "source": [
    "# 1 ps = 0.735499 kw \n",
    "# 1 hp = 0.7457 kw\n",
    "\n",
    "def calc_kw(a):\n",
    "    try:\n",
    "        c = .75\n",
    "        return float(a)*c\n",
    "    except:\n",
    "        return None\n",
    "\n",
    "\n",
    "nor['power'] = nor.apply(lambda row: calc_kw(row['power_hp']), axis=1)"
   ]
  },
  {
   "cell_type": "code",
   "execution_count": 6,
   "metadata": {
    "collapsed": false
   },
   "outputs": [
    {
     "data": {
      "text/html": [
       "<div>\n",
       "<table border=\"1\" class=\"dataframe\">\n",
       "  <thead>\n",
       "    <tr style=\"text-align: right;\">\n",
       "      <th></th>\n",
       "      <th>shipname</th>\n",
       "      <th>callsign</th>\n",
       "      <th>length</th>\n",
       "      <th>width</th>\n",
       "      <th>power_hp</th>\n",
       "      <th>tonnage</th>\n",
       "      <th>power</th>\n",
       "    </tr>\n",
       "    <tr>\n",
       "      <th>mmsi</th>\n",
       "      <th></th>\n",
       "      <th></th>\n",
       "      <th></th>\n",
       "      <th></th>\n",
       "      <th></th>\n",
       "      <th></th>\n",
       "      <th></th>\n",
       "    </tr>\n",
       "  </thead>\n",
       "  <tbody>\n",
       "    <tr>\n",
       "      <th>257000202</th>\n",
       "      <td>DUCK3</td>\n",
       "      <td>NaN</td>\n",
       "      <td>NaN</td>\n",
       "      <td>NaN</td>\n",
       "      <td>NaN</td>\n",
       "      <td>NaN</td>\n",
       "      <td>NaN</td>\n",
       "    </tr>\n",
       "    <tr>\n",
       "      <th>257000410</th>\n",
       "      <td>MS PER IVAR</td>\n",
       "      <td>LM8718</td>\n",
       "      <td>10.22</td>\n",
       "      <td>3.25</td>\n",
       "      <td>114.0</td>\n",
       "      <td>11.0</td>\n",
       "      <td>85.50</td>\n",
       "    </tr>\n",
       "    <tr>\n",
       "      <th>257000430</th>\n",
       "      <td>NYHAV</td>\n",
       "      <td>3YTR</td>\n",
       "      <td>12.88</td>\n",
       "      <td>3.80</td>\n",
       "      <td>131.0</td>\n",
       "      <td>12.0</td>\n",
       "      <td>98.25</td>\n",
       "    </tr>\n",
       "    <tr>\n",
       "      <th>257000700</th>\n",
       "      <td>EBENEZER</td>\n",
       "      <td>LF5171</td>\n",
       "      <td>10.63</td>\n",
       "      <td>3.58</td>\n",
       "      <td>340.0</td>\n",
       "      <td>NaN</td>\n",
       "      <td>255.00</td>\n",
       "    </tr>\n",
       "    <tr>\n",
       "      <th>257000810</th>\n",
       "      <td>KAROLINE</td>\n",
       "      <td>LG 3129</td>\n",
       "      <td>NaN</td>\n",
       "      <td>NaN</td>\n",
       "      <td>NaN</td>\n",
       "      <td>NaN</td>\n",
       "      <td>NaN</td>\n",
       "    </tr>\n",
       "  </tbody>\n",
       "</table>\n",
       "</div>"
      ],
      "text/plain": [
       "              shipname callsign  length  width  power_hp  tonnage   power\n",
       "mmsi                                                                     \n",
       "257000202        DUCK3      NaN     NaN    NaN       NaN      NaN     NaN\n",
       "257000410  MS PER IVAR   LM8718   10.22   3.25     114.0     11.0   85.50\n",
       "257000430        NYHAV     3YTR   12.88   3.80     131.0     12.0   98.25\n",
       "257000700     EBENEZER   LF5171   10.63   3.58     340.0      NaN  255.00\n",
       "257000810     KAROLINE  LG 3129     NaN    NaN       NaN      NaN     NaN"
      ]
     },
     "execution_count": 6,
     "metadata": {},
     "output_type": "execute_result"
    }
   ],
   "source": [
    "nor.head()"
   ]
  },
  {
   "cell_type": "code",
   "execution_count": 7,
   "metadata": {
    "collapsed": false
   },
   "outputs": [],
   "source": [
    "nor.to_csv('input_lists/norway.csv')"
   ]
  },
  {
   "cell_type": "code",
   "execution_count": null,
   "metadata": {
    "collapsed": true
   },
   "outputs": [],
   "source": []
  }
 ],
 "metadata": {
  "kernelspec": {
   "display_name": "Python 2",
   "language": "python",
   "name": "python2"
  },
  "language_info": {
   "codemirror_mode": {
    "name": "ipython",
    "version": 2
   },
   "file_extension": ".py",
   "mimetype": "text/x-python",
   "name": "python",
   "nbconvert_exporter": "python",
   "pygments_lexer": "ipython2",
   "version": "2.7.13"
  }
 },
 "nbformat": 4,
 "nbformat_minor": 2
}
