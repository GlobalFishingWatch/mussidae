{
 "cells": [
  {
   "cell_type": "code",
   "execution_count": 436,
   "metadata": {
    "collapsed": true
   },
   "outputs": [],
   "source": [
    "# List Organization\n",
    "# for metadata on the lists we are inspecting, see \n",
    "# https://docs.google.com/spreadsheets/d/1YkZaLIodS5V-UjOgmTHpTr0JmCrPoDkX3BfHNvchEqk/edit#gid=0"
   ]
  },
  {
   "cell_type": "code",
   "execution_count": 95,
   "metadata": {
    "collapsed": true
   },
   "outputs": [],
   "source": [
    "import csv\n",
    "import pandas as pd\n",
    "import numpy as np\n",
    "headers = {}\n",
    "label_mappings = {}\n",
    "counts = {}\n",
    "import json"
   ]
  },
  {
   "cell_type": "code",
   "execution_count": 183,
   "metadata": {
    "collapsed": true
   },
   "outputs": [],
   "source": [
    "def save_file(filename):\n",
    "    js = {\n",
    "        'mappings': label_mappings[filename],\n",
    "        'counts': counts[filename],\n",
    "        'headers': headers[filename] \n",
    "    }\n",
    "\n",
    "    js_towrite = json.dumps(js)\n",
    "    with open('input_lists/'+filename+'.json','w') as f:\n",
    "        f.write(js_towrite)\n",
    "\n",
    "def get_counts(label_header,filename,df):\n",
    "    c={}\n",
    "    for a in df.groupby(label_header).indices:\n",
    "        c[a]= len(df.groupby(label_header).indices[a])\n",
    "    return c"
   ]
  },
  {
   "cell_type": "code",
   "execution_count": null,
   "metadata": {
    "collapsed": true
   },
   "outputs": [],
   "source": []
  },
  {
   "cell_type": "code",
   "execution_count": 184,
   "metadata": {
    "collapsed": true
   },
   "outputs": [],
   "source": [
    "Labels = '''Trawlers\n",
    "Purse_seines\n",
    "Drifting_longlines\n",
    "Fixed_gear\n",
    "Set_gillnets\n",
    "Pots_and_traps\n",
    "Set_longlines\n",
    "longline - don't know if set or longline\n",
    "Squid_jigger\n",
    "Pole_and_line\n",
    "Troller\n",
    "other_fishing\n",
    "unknown_fishing\n",
    "Reefer\n",
    "Cargo_Tanker\n",
    "Tanker\n",
    "Cargo\n",
    "Passenger\n",
    "Sailing\n",
    "Seismic_vessel\n",
    "Tug_Pilot\n",
    "Tug\n",
    "Pilot\n",
    "other_not_fishing\n",
    "unknown_but_not_fishing\n",
    "no_idea_what_it_is\n",
    "unkown'''.split(\"\\n\")"
   ]
  },
  {
   "cell_type": "code",
   "execution_count": 213,
   "metadata": {
    "collapsed": false
   },
   "outputs": [],
   "source": [
    "filename = 'AlexWManualNonFishing'\n",
    "df = pd.read_csv(\"input_lists/\"+filename+\".csv\")"
   ]
  },
  {
   "cell_type": "code",
   "execution_count": 214,
   "metadata": {
    "collapsed": false
   },
   "outputs": [
    {
     "data": {
      "text/html": [
       "<div>\n",
       "<table border=\"1\" class=\"dataframe\">\n",
       "  <thead>\n",
       "    <tr style=\"text-align: right;\">\n",
       "      <th></th>\n",
       "      <th>mmsi</th>\n",
       "      <th>label</th>\n",
       "    </tr>\n",
       "  </thead>\n",
       "  <tbody>\n",
       "    <tr>\n",
       "      <th>0</th>\n",
       "      <td>203310200</td>\n",
       "      <td>Passenger</td>\n",
       "    </tr>\n",
       "    <tr>\n",
       "      <th>1</th>\n",
       "      <td>205269190</td>\n",
       "      <td>Passenger</td>\n",
       "    </tr>\n",
       "    <tr>\n",
       "      <th>2</th>\n",
       "      <td>205596910</td>\n",
       "      <td>Passenger</td>\n",
       "    </tr>\n",
       "    <tr>\n",
       "      <th>3</th>\n",
       "      <td>211123610</td>\n",
       "      <td>Passenger</td>\n",
       "    </tr>\n",
       "    <tr>\n",
       "      <th>4</th>\n",
       "      <td>211149170</td>\n",
       "      <td>Passenger</td>\n",
       "    </tr>\n",
       "  </tbody>\n",
       "</table>\n",
       "</div>"
      ],
      "text/plain": [
       "        mmsi      label\n",
       "0  203310200  Passenger\n",
       "1  205269190  Passenger\n",
       "2  205596910  Passenger\n",
       "3  211123610  Passenger\n",
       "4  211149170  Passenger"
      ]
     },
     "execution_count": 214,
     "metadata": {},
     "output_type": "execute_result"
    }
   ],
   "source": [
    "df.head()"
   ]
  },
  {
   "cell_type": "code",
   "execution_count": 215,
   "metadata": {
    "collapsed": true
   },
   "outputs": [],
   "source": [
    "headers[filename] = { 'mmsi':'mmsi',\n",
    "                                    'label':'label',\n",
    "                                    'tonnage':None, \n",
    "                                    'length':None, \n",
    "                                    'engine power': None}"
   ]
  },
  {
   "cell_type": "code",
   "execution_count": 216,
   "metadata": {
    "collapsed": false,
    "scrolled": false
   },
   "outputs": [
    {
     "data": {
      "text/plain": [
       "{'Cargo': 10,\n",
       " 'Dredger': 1,\n",
       " 'Longliner': 3,\n",
       " 'Passenger': 142,\n",
       " 'Tanker': 20,\n",
       " 'Trawler': 1,\n",
       " 'Tug': 40}"
      ]
     },
     "execution_count": 216,
     "metadata": {},
     "output_type": "execute_result"
    }
   ],
   "source": [
    "counts[filename] = get_counts('label',filename,df)\n",
    "counts[filename]"
   ]
  },
  {
   "cell_type": "code",
   "execution_count": 217,
   "metadata": {
    "collapsed": false
   },
   "outputs": [],
   "source": [
    "label_mappings[filename] = {\n",
    "    'Cargo':'Cargo',\n",
    "    'Dredger': 'other_not_fishing',\n",
    "    'Longliner': \"Drifting_longlines|Set_longlines\",\n",
    "    'Tanker': 'Tanker',\n",
    "    'Trawler':'Trawlers',\n",
    "    'Tug':'Tug'\n",
    "}"
   ]
  },
  {
   "cell_type": "code",
   "execution_count": 218,
   "metadata": {
    "collapsed": false
   },
   "outputs": [],
   "source": [
    "save_file(filename)"
   ]
  },
  {
   "cell_type": "code",
   "execution_count": 212,
   "metadata": {
    "collapsed": true
   },
   "outputs": [],
   "source": [
    "filename = 'KnownVesselCargoTanker'\n",
    "df = pd.read_csv('input_lists/'+filename+'.csv')"
   ]
  },
  {
   "cell_type": "code",
   "execution_count": 192,
   "metadata": {
    "collapsed": false
   },
   "outputs": [
    {
     "data": {
      "text/html": [
       "<div>\n",
       "<table border=\"1\" class=\"dataframe\">\n",
       "  <thead>\n",
       "    <tr style=\"text-align: right;\">\n",
       "      <th></th>\n",
       "      <th>mmsi</th>\n",
       "      <th>label</th>\n",
       "    </tr>\n",
       "  </thead>\n",
       "  <tbody>\n",
       "    <tr>\n",
       "      <th>0</th>\n",
       "      <td>111111110</td>\n",
       "      <td>Cargo</td>\n",
       "    </tr>\n",
       "    <tr>\n",
       "      <th>1</th>\n",
       "      <td>204708000</td>\n",
       "      <td>Cargo</td>\n",
       "    </tr>\n",
       "    <tr>\n",
       "      <th>2</th>\n",
       "      <td>205256290</td>\n",
       "      <td>Cargo</td>\n",
       "    </tr>\n",
       "    <tr>\n",
       "      <th>3</th>\n",
       "      <td>205258890</td>\n",
       "      <td>Cargo</td>\n",
       "    </tr>\n",
       "    <tr>\n",
       "      <th>4</th>\n",
       "      <td>205263390</td>\n",
       "      <td>Cargo</td>\n",
       "    </tr>\n",
       "  </tbody>\n",
       "</table>\n",
       "</div>"
      ],
      "text/plain": [
       "        mmsi  label\n",
       "0  111111110  Cargo\n",
       "1  204708000  Cargo\n",
       "2  205256290  Cargo\n",
       "3  205258890  Cargo\n",
       "4  205263390  Cargo"
      ]
     },
     "execution_count": 192,
     "metadata": {},
     "output_type": "execute_result"
    }
   ],
   "source": [
    "df.head()"
   ]
  },
  {
   "cell_type": "code",
   "execution_count": 193,
   "metadata": {
    "collapsed": true
   },
   "outputs": [],
   "source": [
    "headers[filename] = { 'mmsi':'mmsi',\n",
    "                                'label':'label',\n",
    "                                'tonnage':None, \n",
    "                                'length':None, \n",
    "                                'engine power': None}"
   ]
  },
  {
   "cell_type": "code",
   "execution_count": 194,
   "metadata": {
    "collapsed": false
   },
   "outputs": [
    {
     "data": {
      "text/plain": [
       "{'Cargo': 1128, 'Tanker': 1156}"
      ]
     },
     "execution_count": 194,
     "metadata": {},
     "output_type": "execute_result"
    }
   ],
   "source": [
    "counts[filename] = get_counts('label',filename,df)\n",
    "counts[filename]"
   ]
  },
  {
   "cell_type": "code",
   "execution_count": 195,
   "metadata": {
    "collapsed": false
   },
   "outputs": [],
   "source": [
    "label_mappings[filename] = {'Cargo':'Cargo','Tanker':'Tanker'}"
   ]
  },
  {
   "cell_type": "code",
   "execution_count": 196,
   "metadata": {
    "collapsed": true
   },
   "outputs": [],
   "source": [
    "save_file(filename)"
   ]
  },
  {
   "cell_type": "code",
   "execution_count": 197,
   "metadata": {
    "collapsed": true
   },
   "outputs": [],
   "source": [
    "filename = 'KristinaManualClassification'"
   ]
  },
  {
   "cell_type": "code",
   "execution_count": 198,
   "metadata": {
    "collapsed": false
   },
   "outputs": [
    {
     "data": {
      "text/html": [
       "<div>\n",
       "<table border=\"1\" class=\"dataframe\">\n",
       "  <thead>\n",
       "    <tr style=\"text-align: right;\">\n",
       "      <th></th>\n",
       "      <th>mmsi</th>\n",
       "      <th>label</th>\n",
       "      <th>detail</th>\n",
       "    </tr>\n",
       "  </thead>\n",
       "  <tbody>\n",
       "    <tr>\n",
       "      <th>0</th>\n",
       "      <td>10421670</td>\n",
       "      <td>Purse seine</td>\n",
       "      <td>NaN</td>\n",
       "    </tr>\n",
       "    <tr>\n",
       "      <th>1</th>\n",
       "      <td>123450020</td>\n",
       "      <td>Purse seine</td>\n",
       "      <td>NaN</td>\n",
       "    </tr>\n",
       "    <tr>\n",
       "      <th>2</th>\n",
       "      <td>123450800</td>\n",
       "      <td>Purse seine</td>\n",
       "      <td>NaN</td>\n",
       "    </tr>\n",
       "    <tr>\n",
       "      <th>3</th>\n",
       "      <td>203226200</td>\n",
       "      <td>Passenger</td>\n",
       "      <td>sail</td>\n",
       "    </tr>\n",
       "    <tr>\n",
       "      <th>4</th>\n",
       "      <td>203745200</td>\n",
       "      <td>Passenger</td>\n",
       "      <td>yacht</td>\n",
       "    </tr>\n",
       "  </tbody>\n",
       "</table>\n",
       "</div>"
      ],
      "text/plain": [
       "        mmsi        label detail\n",
       "0   10421670  Purse seine    NaN\n",
       "1  123450020  Purse seine    NaN\n",
       "2  123450800  Purse seine    NaN\n",
       "3  203226200    Passenger   sail\n",
       "4  203745200    Passenger  yacht"
      ]
     },
     "execution_count": 198,
     "metadata": {},
     "output_type": "execute_result"
    }
   ],
   "source": [
    "df = pd.read_csv('input_lists/'+filename+\".csv\")\n",
    "df.head()"
   ]
  },
  {
   "cell_type": "code",
   "execution_count": 199,
   "metadata": {
    "collapsed": true
   },
   "outputs": [],
   "source": [
    "headers[filename] = { 'mmsi':'mmsi',\n",
    "                                'label':'label',\n",
    "                                'tonnage':None, \n",
    "                                'length':None, \n",
    "                                'engine power': None}"
   ]
  },
  {
   "cell_type": "code",
   "execution_count": 200,
   "metadata": {
    "collapsed": false
   },
   "outputs": [
    {
     "data": {
      "text/plain": [
       "{'Cargo': 1027,\n",
       " 'Dredger': 2,\n",
       " 'Longliner': 89,\n",
       " 'Passenger': 171,\n",
       " 'Purse seine': 105,\n",
       " 'Tanker': 303,\n",
       " 'Trawler': 268,\n",
       " 'Tug': 61,\n",
       " 'Unclassified': 145}"
      ]
     },
     "execution_count": 200,
     "metadata": {},
     "output_type": "execute_result"
    }
   ],
   "source": [
    "counts[filename] = get_counts('label',filename,df)\n",
    "counts[filename]"
   ]
  },
  {
   "cell_type": "code",
   "execution_count": 175,
   "metadata": {
    "collapsed": true
   },
   "outputs": [],
   "source": [
    "label_mappings[filename] = {\n",
    "    'Cargo':'Cargo',\n",
    "    'Dredger': 'other_not_fishing',\n",
    "    'Longliner': \"Drifting_longlines|Set_longlines\",\n",
    "    'Passenger': 'Passenger',\n",
    "    'Purse seine':'Purse_seines',\n",
    "    'Tanker':'Tanker',\n",
    "    'Trawler':'Trawlers',\n",
    "    'Tug':'Tug',\n",
    "    'Unclassified':None\n",
    "}"
   ]
  },
  {
   "cell_type": "code",
   "execution_count": 176,
   "metadata": {
    "collapsed": true
   },
   "outputs": [],
   "source": [
    "save_file(filename)"
   ]
  },
  {
   "cell_type": "code",
   "execution_count": null,
   "metadata": {
    "collapsed": true
   },
   "outputs": [],
   "source": []
  },
  {
   "cell_type": "code",
   "execution_count": null,
   "metadata": {
    "collapsed": true
   },
   "outputs": [],
   "source": []
  },
  {
   "cell_type": "code",
   "execution_count": null,
   "metadata": {
    "collapsed": true
   },
   "outputs": [],
   "source": []
  },
  {
   "cell_type": "code",
   "execution_count": 116,
   "metadata": {
    "collapsed": true
   },
   "outputs": [],
   "source": [
    "filename='PyBossaNonFishing'"
   ]
  },
  {
   "cell_type": "code",
   "execution_count": 117,
   "metadata": {
    "collapsed": false
   },
   "outputs": [
    {
     "data": {
      "text/html": [
       "<div>\n",
       "<table border=\"1\" class=\"dataframe\">\n",
       "  <thead>\n",
       "    <tr style=\"text-align: right;\">\n",
       "      <th></th>\n",
       "      <th>mmsi</th>\n",
       "      <th>label</th>\n",
       "    </tr>\n",
       "  </thead>\n",
       "  <tbody>\n",
       "    <tr>\n",
       "      <th>0</th>\n",
       "      <td>205203390</td>\n",
       "      <td>Tug</td>\n",
       "    </tr>\n",
       "    <tr>\n",
       "      <th>1</th>\n",
       "      <td>205252690</td>\n",
       "      <td>Tug</td>\n",
       "    </tr>\n",
       "    <tr>\n",
       "      <th>2</th>\n",
       "      <td>205264290</td>\n",
       "      <td>Tug</td>\n",
       "    </tr>\n",
       "    <tr>\n",
       "      <th>3</th>\n",
       "      <td>205273990</td>\n",
       "      <td>Tug</td>\n",
       "    </tr>\n",
       "    <tr>\n",
       "      <th>4</th>\n",
       "      <td>205360090</td>\n",
       "      <td>Tug</td>\n",
       "    </tr>\n",
       "  </tbody>\n",
       "</table>\n",
       "</div>"
      ],
      "text/plain": [
       "        mmsi label\n",
       "0  205203390   Tug\n",
       "1  205252690   Tug\n",
       "2  205264290   Tug\n",
       "3  205273990   Tug\n",
       "4  205360090   Tug"
      ]
     },
     "execution_count": 117,
     "metadata": {},
     "output_type": "execute_result"
    }
   ],
   "source": [
    "df = pd.read_csv('input_lists/'+filename+'.csv')\n",
    "df.head()"
   ]
  },
  {
   "cell_type": "code",
   "execution_count": 118,
   "metadata": {
    "collapsed": true
   },
   "outputs": [],
   "source": [
    "headers['PyBossaNonFishing'] = { 'mmsi':'mmsi',\n",
    "                                'label':'label',\n",
    "                                'tonnage':None, \n",
    "                                'length':None, \n",
    "                                'engine power': None}"
   ]
  },
  {
   "cell_type": "code",
   "execution_count": 119,
   "metadata": {
    "collapsed": false
   },
   "outputs": [
    {
     "data": {
      "text/plain": [
       "{'Tug': 153}"
      ]
     },
     "execution_count": 119,
     "metadata": {},
     "output_type": "execute_result"
    }
   ],
   "source": [
    "counts[filename] = get_counts('label',filename,df)\n",
    "counts[filename]"
   ]
  },
  {
   "cell_type": "code",
   "execution_count": 120,
   "metadata": {
    "collapsed": true
   },
   "outputs": [],
   "source": [
    "label_mappings['PyBossaNonFishing'] = {\n",
    "    'Tug':'Tug'}"
   ]
  },
  {
   "cell_type": "code",
   "execution_count": 121,
   "metadata": {
    "collapsed": true
   },
   "outputs": [],
   "source": [
    "save_file(filename)"
   ]
  },
  {
   "cell_type": "code",
   "execution_count": null,
   "metadata": {
    "collapsed": true
   },
   "outputs": [],
   "source": []
  },
  {
   "cell_type": "code",
   "execution_count": 122,
   "metadata": {
    "collapsed": false
   },
   "outputs": [
    {
     "data": {
      "text/html": [
       "<div>\n",
       "<table border=\"1\" class=\"dataframe\">\n",
       "  <thead>\n",
       "    <tr style=\"text-align: right;\">\n",
       "      <th></th>\n",
       "      <th>Unnamed: 0</th>\n",
       "      <th>mmsi</th>\n",
       "      <th>shiptype</th>\n",
       "      <th>length</th>\n",
       "      <th>tonnage</th>\n",
       "      <th>length_stddev</th>\n",
       "      <th>tonnage_stddev</th>\n",
       "      <th>number_shiptypes</th>\n",
       "    </tr>\n",
       "  </thead>\n",
       "  <tbody>\n",
       "    <tr>\n",
       "      <th>0</th>\n",
       "      <td>0</td>\n",
       "      <td>338793000</td>\n",
       "      <td>Purse_seines</td>\n",
       "      <td>63.12</td>\n",
       "      <td>1446.50</td>\n",
       "      <td>0.0</td>\n",
       "      <td>75.367670</td>\n",
       "      <td>1</td>\n",
       "    </tr>\n",
       "    <tr>\n",
       "      <th>1</th>\n",
       "      <td>1</td>\n",
       "      <td>416002947</td>\n",
       "      <td>Drifting_longlines</td>\n",
       "      <td>29.70</td>\n",
       "      <td>98.00</td>\n",
       "      <td>0.0</td>\n",
       "      <td>0.000000</td>\n",
       "      <td>1</td>\n",
       "    </tr>\n",
       "    <tr>\n",
       "      <th>2</th>\n",
       "      <td>2</td>\n",
       "      <td>416000961</td>\n",
       "      <td>Drifting_longlines</td>\n",
       "      <td>23.20</td>\n",
       "      <td>61.23</td>\n",
       "      <td>NaN</td>\n",
       "      <td>NaN</td>\n",
       "      <td>1</td>\n",
       "    </tr>\n",
       "    <tr>\n",
       "      <th>3</th>\n",
       "      <td>3</td>\n",
       "      <td>224654000</td>\n",
       "      <td>Drifting_longlines</td>\n",
       "      <td>40.50</td>\n",
       "      <td>NaN</td>\n",
       "      <td>0.0</td>\n",
       "      <td>89.719106</td>\n",
       "      <td>1</td>\n",
       "    </tr>\n",
       "    <tr>\n",
       "      <th>4</th>\n",
       "      <td>4</td>\n",
       "      <td>412371206</td>\n",
       "      <td>Drifting_longlines</td>\n",
       "      <td>43.20</td>\n",
       "      <td>560.00</td>\n",
       "      <td>0.0</td>\n",
       "      <td>0.000000</td>\n",
       "      <td>1</td>\n",
       "    </tr>\n",
       "  </tbody>\n",
       "</table>\n",
       "</div>"
      ],
      "text/plain": [
       "   Unnamed: 0       mmsi            shiptype  length  tonnage  length_stddev  \\\n",
       "0           0  338793000        Purse_seines   63.12  1446.50            0.0   \n",
       "1           1  416002947  Drifting_longlines   29.70    98.00            0.0   \n",
       "2           2  416000961  Drifting_longlines   23.20    61.23            NaN   \n",
       "3           3  224654000  Drifting_longlines   40.50      NaN            0.0   \n",
       "4           4  412371206  Drifting_longlines   43.20   560.00            0.0   \n",
       "\n",
       "   tonnage_stddev  number_shiptypes  \n",
       "0       75.367670                 1  \n",
       "1        0.000000                 1  \n",
       "2             NaN                 1  \n",
       "3       89.719106                 1  \n",
       "4        0.000000                 1  "
      ]
     },
     "execution_count": 122,
     "metadata": {},
     "output_type": "execute_result"
    }
   ],
   "source": [
    "filename = 'clav_v10_processed'\n",
    "df = pd.read_csv('input_lists/'+filename+'.csv')\n",
    "df.head()"
   ]
  },
  {
   "cell_type": "code",
   "execution_count": 123,
   "metadata": {
    "collapsed": true
   },
   "outputs": [],
   "source": [
    "headers['clav_v10_processed'] = { 'mmsi':'mmsi',\n",
    "                                'label':'shiptype',\n",
    "                                'tonnage':'tonnage', \n",
    "                                'length':'length', \n",
    "                                'engine power': None}"
   ]
  },
  {
   "cell_type": "code",
   "execution_count": 124,
   "metadata": {
    "collapsed": false,
    "scrolled": false
   },
   "outputs": [
    {
     "data": {
      "text/plain": [
       "{'Bunker': 48,\n",
       " 'Bunker|Reefer': 1,\n",
       " 'Bunker|Reefer|Unknown': 1,\n",
       " 'Drifting_longlines': 1786,\n",
       " 'Drifting_longlines|Pole_and_line': 6,\n",
       " 'Drifting_longlines|Pole_and_line|Recreational_fishing': 1,\n",
       " 'Drifting_longlines|Purse_seines': 4,\n",
       " 'Drifting_longlines|Recreational_fishing': 1,\n",
       " 'Drifting_longlines|Reefer': 10,\n",
       " 'Drifting_longlines|Research': 10,\n",
       " 'Drifting_longlines|Set_gillnets': 1,\n",
       " 'Drifting_longlines|Trollers': 1,\n",
       " 'Drifting_longlines|Unknown': 9,\n",
       " 'Handliners': 9,\n",
       " 'Handliners|Pole_and_line': 1,\n",
       " 'Pole_and_line': 206,\n",
       " 'Pole_and_line|Drifting_longlines': 5,\n",
       " 'Pole_and_line|Trollers': 2,\n",
       " 'Pole_and_line|Unknown': 1,\n",
       " 'Purse_seines': 635,\n",
       " 'Purse_seines|Drifting_longlines': 1,\n",
       " 'Purse_seines|Recreational_fishing': 1,\n",
       " 'Purse_seines|Trollers': 1,\n",
       " 'Purse_seines|Unknown': 5,\n",
       " 'Recreational_fishing': 138,\n",
       " 'Recreational_fishing|Drifting_longlines': 1,\n",
       " 'Recreational_fishing|Pole_and_line': 2,\n",
       " 'Recreational_fishing|Purse_seines': 1,\n",
       " 'Recreational_fishing|Reefer': 2,\n",
       " 'Recreational_fishing|Trollers': 3,\n",
       " 'Reefer': 242,\n",
       " 'Reefer|Drifting_longlines': 9,\n",
       " 'Reefer|Pole_and_line': 1,\n",
       " 'Reefer|Recreational_fishing': 3,\n",
       " 'Reefer|Unknown': 1,\n",
       " 'Research': 19,\n",
       " 'Research|Drifting_longlines': 8,\n",
       " 'Set_gillnets': 24,\n",
       " 'Set_gillnets|Drifting_longlines': 3,\n",
       " 'Trawlers': 451,\n",
       " 'Trawlers|Drifting_longlines': 2,\n",
       " 'Trollers': 72,\n",
       " 'Trollers|Pole_and_line': 1,\n",
       " 'Trollers|Recreational_fishing': 3,\n",
       " 'Trollers|Unknown': 11,\n",
       " 'Unknown': 370,\n",
       " 'Unknown|Bunker': 1,\n",
       " 'Unknown|Drifting_longlines': 4,\n",
       " 'Unknown|Purse_seines': 3,\n",
       " 'Unknown|Purse_seines|Trollers': 1,\n",
       " 'Unknown|Reefer': 3,\n",
       " 'Unknown|Reefer|Bunker': 1,\n",
       " 'Unknown|Trollers': 11}"
      ]
     },
     "execution_count": 124,
     "metadata": {},
     "output_type": "execute_result"
    }
   ],
   "source": [
    "counts[filename] = get_counts('shiptype',filename,df)\n",
    "counts[filename]"
   ]
  },
  {
   "cell_type": "code",
   "execution_count": 125,
   "metadata": {
    "collapsed": false,
    "scrolled": false
   },
   "outputs": [],
   "source": [
    "label_mappings[filename] = None # None means that we will use the values from the original list"
   ]
  },
  {
   "cell_type": "code",
   "execution_count": 126,
   "metadata": {
    "collapsed": true
   },
   "outputs": [],
   "source": [
    "save_file(filename)"
   ]
  },
  {
   "cell_type": "code",
   "execution_count": 127,
   "metadata": {
    "collapsed": false
   },
   "outputs": [
    {
     "data": {
      "text/html": [
       "<div>\n",
       "<table border=\"1\" class=\"dataframe\">\n",
       "  <thead>\n",
       "    <tr style=\"text-align: right;\">\n",
       "      <th></th>\n",
       "      <th>mmsi</th>\n",
       "      <th>label</th>\n",
       "    </tr>\n",
       "  </thead>\n",
       "  <tbody>\n",
       "    <tr>\n",
       "      <th>0</th>\n",
       "      <td>514210000</td>\n",
       "      <td>not_known</td>\n",
       "    </tr>\n",
       "    <tr>\n",
       "      <th>1</th>\n",
       "      <td>100000000</td>\n",
       "      <td>multiple_vessles</td>\n",
       "    </tr>\n",
       "    <tr>\n",
       "      <th>2</th>\n",
       "      <td>100900012</td>\n",
       "      <td>not_fishing</td>\n",
       "    </tr>\n",
       "    <tr>\n",
       "      <th>3</th>\n",
       "      <td>1193046</td>\n",
       "      <td>bad_data</td>\n",
       "    </tr>\n",
       "    <tr>\n",
       "      <th>4</th>\n",
       "      <td>123456789</td>\n",
       "      <td>bad_data</td>\n",
       "    </tr>\n",
       "  </tbody>\n",
       "</table>\n",
       "</div>"
      ],
      "text/plain": [
       "        mmsi             label\n",
       "0  514210000         not_known\n",
       "1  100000000  multiple_vessles\n",
       "2  100900012       not_fishing\n",
       "3    1193046          bad_data\n",
       "4  123456789          bad_data"
      ]
     },
     "execution_count": 127,
     "metadata": {},
     "output_type": "execute_result"
    }
   ],
   "source": [
    "filename = 'rivervessels_20160502'\n",
    "df = pd.read_csv('input_lists/'+filename+'.csv')\n",
    "df.head()"
   ]
  },
  {
   "cell_type": "code",
   "execution_count": 128,
   "metadata": {
    "collapsed": true
   },
   "outputs": [],
   "source": [
    "headers[filename] = { 'mmsi':'mmsi',\n",
    "                                'label':'label',\n",
    "                                'tonnage': None, \n",
    "                                'length': None, \n",
    "                                'engine power': None}"
   ]
  },
  {
   "cell_type": "code",
   "execution_count": 129,
   "metadata": {
    "collapsed": false
   },
   "outputs": [
    {
     "data": {
      "text/plain": [
       "{'Supply': 1,\n",
       " 'bad_data': 9,\n",
       " 'cargo': 104,\n",
       " 'multiple_vessles': 1,\n",
       " 'not_fishing': 11,\n",
       " 'not_known': 16,\n",
       " 'passenger': 7,\n",
       " 'tanker': 3}"
      ]
     },
     "execution_count": 129,
     "metadata": {},
     "output_type": "execute_result"
    }
   ],
   "source": [
    "counts[filename] = get_counts('label',filename,df)\n",
    "counts[filename]"
   ]
  },
  {
   "cell_type": "code",
   "execution_count": 130,
   "metadata": {
    "collapsed": true
   },
   "outputs": [],
   "source": [
    "label_mappings[filename] = {\n",
    "    'cargo':'Cargo',\n",
    "    'not_fishing':'not_fishing',\n",
    "    'passenger':'Passenger',\n",
    "    'tanker':'Tanker'\n",
    "}\n"
   ]
  },
  {
   "cell_type": "code",
   "execution_count": 131,
   "metadata": {
    "collapsed": true
   },
   "outputs": [],
   "source": [
    "save_file(filename)"
   ]
  },
  {
   "cell_type": "code",
   "execution_count": null,
   "metadata": {
    "collapsed": true
   },
   "outputs": [],
   "source": []
  },
  {
   "cell_type": "code",
   "execution_count": 132,
   "metadata": {
    "collapsed": false
   },
   "outputs": [
    {
     "data": {
      "text/html": [
       "<div>\n",
       "<table border=\"1\" class=\"dataframe\">\n",
       "  <thead>\n",
       "    <tr style=\"text-align: right;\">\n",
       "      <th></th>\n",
       "      <th>Unnamed: 0</th>\n",
       "      <th>mmsi</th>\n",
       "      <th>label</th>\n",
       "      <th>length</th>\n",
       "      <th>tonnage</th>\n",
       "      <th>power</th>\n",
       "      <th>geartype</th>\n",
       "      <th>secondary_geartype</th>\n",
       "    </tr>\n",
       "  </thead>\n",
       "  <tbody>\n",
       "    <tr>\n",
       "      <th>0</th>\n",
       "      <td>0</td>\n",
       "      <td>247306520</td>\n",
       "      <td>Trawlers|Purse_seines</td>\n",
       "      <td>18.20</td>\n",
       "      <td>32.0</td>\n",
       "      <td>199.0</td>\n",
       "      <td>OTB</td>\n",
       "      <td>PS</td>\n",
       "    </tr>\n",
       "    <tr>\n",
       "      <th>1</th>\n",
       "      <td>1</td>\n",
       "      <td>247070960</td>\n",
       "      <td>Trawlers</td>\n",
       "      <td>23.02</td>\n",
       "      <td>122.0</td>\n",
       "      <td>478.0</td>\n",
       "      <td>OTB</td>\n",
       "      <td>PTM</td>\n",
       "    </tr>\n",
       "    <tr>\n",
       "      <th>2</th>\n",
       "      <td>2</td>\n",
       "      <td>250000887</td>\n",
       "      <td>Trawlers</td>\n",
       "      <td>50.70</td>\n",
       "      <td>1094.0</td>\n",
       "      <td>2500.0</td>\n",
       "      <td>PTM</td>\n",
       "      <td>OTM</td>\n",
       "    </tr>\n",
       "    <tr>\n",
       "      <th>3</th>\n",
       "      <td>3</td>\n",
       "      <td>219001588</td>\n",
       "      <td>other_fishing|Set_gillnets</td>\n",
       "      <td>18.50</td>\n",
       "      <td>57.2</td>\n",
       "      <td>221.0</td>\n",
       "      <td>SDN</td>\n",
       "      <td>GNS</td>\n",
       "    </tr>\n",
       "    <tr>\n",
       "      <th>4</th>\n",
       "      <td>4</td>\n",
       "      <td>247050110</td>\n",
       "      <td>Trawlers</td>\n",
       "      <td>17.80</td>\n",
       "      <td>31.0</td>\n",
       "      <td>128.7</td>\n",
       "      <td>OTB</td>\n",
       "      <td>PTM</td>\n",
       "    </tr>\n",
       "  </tbody>\n",
       "</table>\n",
       "</div>"
      ],
      "text/plain": [
       "   Unnamed: 0       mmsi                       label  length  tonnage   power  \\\n",
       "0           0  247306520       Trawlers|Purse_seines   18.20     32.0   199.0   \n",
       "1           1  247070960                    Trawlers   23.02    122.0   478.0   \n",
       "2           2  250000887                    Trawlers   50.70   1094.0  2500.0   \n",
       "3           3  219001588  other_fishing|Set_gillnets   18.50     57.2   221.0   \n",
       "4           4  247050110                    Trawlers   17.80     31.0   128.7   \n",
       "\n",
       "  geartype secondary_geartype  \n",
       "0      OTB                 PS  \n",
       "1      OTB                PTM  \n",
       "2      PTM                OTM  \n",
       "3      SDN                GNS  \n",
       "4      OTB                PTM  "
      ]
     },
     "execution_count": 132,
     "metadata": {},
     "output_type": "execute_result"
    }
   ],
   "source": [
    "filename = 'eu_processed'\n",
    "df = pd.read_csv('input_lists/'+filename+'.csv')\n",
    "df.head()"
   ]
  },
  {
   "cell_type": "code",
   "execution_count": 133,
   "metadata": {
    "collapsed": true
   },
   "outputs": [],
   "source": [
    "headers[filename] = { 'mmsi':'mmsi',\n",
    "                                'label':'label',\n",
    "                                'tonnage': 'tonnage', \n",
    "                                'length': 'length', \n",
    "                                'engine power': 'power'}"
   ]
  },
  {
   "cell_type": "code",
   "execution_count": 134,
   "metadata": {
    "collapsed": false,
    "scrolled": false
   },
   "outputs": [
    {
     "data": {
      "text/plain": [
       "{'Drifting_longlines': 155,\n",
       " 'Drifting_longlines|Pots_and_traps': 2,\n",
       " 'Drifting_longlines|Purse_seines': 2,\n",
       " 'Drifting_longlines|Set_gillnets': 15,\n",
       " 'Drifting_longlines|Set_longlines': 30,\n",
       " 'Drifting_longlines|Trawlers': 2,\n",
       " 'Pole_and_line': 20,\n",
       " 'Pole_and_line|Drifting_longlines': 5,\n",
       " 'Pole_and_line|Pots_and_traps': 1,\n",
       " 'Pole_and_line|Set_gillnets': 2,\n",
       " 'Pole_and_line|Set_longlines': 14,\n",
       " 'Pole_and_line|Trawlers': 1,\n",
       " 'Pole_and_line|other_fishing': 5,\n",
       " 'Pots_and_traps': 68,\n",
       " 'Pots_and_traps|Drifting_longlines': 1,\n",
       " 'Pots_and_traps|Pole_and_line': 2,\n",
       " 'Pots_and_traps|Purse_seines': 2,\n",
       " 'Pots_and_traps|Set_gillnets': 37,\n",
       " 'Pots_and_traps|Set_longlines': 4,\n",
       " 'Pots_and_traps|Trawlers': 7,\n",
       " 'Pots_and_traps|Trollers': 1,\n",
       " 'Pots_and_traps|other_fishing': 11,\n",
       " 'Pots_and_traps|unknown_fishing': 8,\n",
       " 'Purse_seines': 536,\n",
       " 'Purse_seines|Drifting_longlines': 4,\n",
       " 'Purse_seines|Pole_and_line': 4,\n",
       " 'Purse_seines|Pots_and_traps': 1,\n",
       " 'Purse_seines|Set_gillnets': 78,\n",
       " 'Purse_seines|Set_longlines': 91,\n",
       " 'Purse_seines|Trawlers': 55,\n",
       " 'Purse_seines|Trollers': 2,\n",
       " 'Purse_seines|other_fishing': 4,\n",
       " 'Set_gillnets': 361,\n",
       " 'Set_gillnets|Drifting_longlines': 20,\n",
       " 'Set_gillnets|Pole_and_line': 22,\n",
       " 'Set_gillnets|Pots_and_traps': 44,\n",
       " 'Set_gillnets|Purse_seines': 4,\n",
       " 'Set_gillnets|Set_longlines': 70,\n",
       " 'Set_gillnets|Trawlers': 53,\n",
       " 'Set_gillnets|Trollers': 8,\n",
       " 'Set_gillnets|other_fishing': 11,\n",
       " 'Set_longlines': 77,\n",
       " 'Set_longlines|Drifting_longlines': 25,\n",
       " 'Set_longlines|Pole_and_line': 3,\n",
       " 'Set_longlines|Pots_and_traps': 25,\n",
       " 'Set_longlines|Purse_seines': 3,\n",
       " 'Set_longlines|Set_gillnets': 82,\n",
       " 'Set_longlines|Trawlers': 3,\n",
       " 'Set_longlines|other_fishing': 17,\n",
       " 'Trawlers': 3545,\n",
       " 'Trawlers|Drifting_longlines': 16,\n",
       " 'Trawlers|Pole_and_line': 11,\n",
       " 'Trawlers|Pots_and_traps': 26,\n",
       " 'Trawlers|Purse_seines': 306,\n",
       " 'Trawlers|Set_gillnets': 214,\n",
       " 'Trawlers|Set_longlines': 199,\n",
       " 'Trawlers|Trollers': 1,\n",
       " 'Trawlers|other_fishing': 31,\n",
       " 'Trawlers|unknown_fishing': 3,\n",
       " 'Trollers': 1,\n",
       " 'Trollers|Pots_and_traps': 3,\n",
       " 'Trollers|other_fishing': 3,\n",
       " 'other_fishing': 35,\n",
       " 'other_fishing|Pots_and_traps': 4,\n",
       " 'other_fishing|Purse_seines': 2,\n",
       " 'other_fishing|Set_gillnets': 10,\n",
       " 'other_fishing|Trawlers': 28,\n",
       " 'other_fishing|Trollers': 2}"
      ]
     },
     "execution_count": 134,
     "metadata": {},
     "output_type": "execute_result"
    }
   ],
   "source": [
    "counts[filename] = get_counts('label',filename,df)\n",
    "counts[filename]"
   ]
  },
  {
   "cell_type": "code",
   "execution_count": 135,
   "metadata": {
    "collapsed": false
   },
   "outputs": [],
   "source": [
    "label_mappings[filename] = None"
   ]
  },
  {
   "cell_type": "code",
   "execution_count": 136,
   "metadata": {
    "collapsed": true
   },
   "outputs": [],
   "source": [
    "save_file(filename)"
   ]
  },
  {
   "cell_type": "code",
   "execution_count": null,
   "metadata": {
    "collapsed": true
   },
   "outputs": [],
   "source": []
  },
  {
   "cell_type": "code",
   "execution_count": 201,
   "metadata": {
    "collapsed": false
   },
   "outputs": [
    {
     "data": {
      "text/html": [
       "<div>\n",
       "<table border=\"1\" class=\"dataframe\">\n",
       "  <thead>\n",
       "    <tr style=\"text-align: right;\">\n",
       "      <th></th>\n",
       "      <th>Unnamed: 0</th>\n",
       "      <th>mmsi</th>\n",
       "      <th>shipname</th>\n",
       "      <th>callsign</th>\n",
       "      <th>itu_General_classification</th>\n",
       "      <th>itu_Individual_classification</th>\n",
       "      <th>national_id</th>\n",
       "      <th>tonnage</th>\n",
       "      <th>itu_Capacity_of_persons_on_board</th>\n",
       "      <th>label</th>\n",
       "    </tr>\n",
       "  </thead>\n",
       "  <tbody>\n",
       "    <tr>\n",
       "      <th>0</th>\n",
       "      <td>0</td>\n",
       "      <td>319058400</td>\n",
       "      <td>VALYRA</td>\n",
       "      <td>ZGCQ8</td>\n",
       "      <td>Pleasure / Leisure</td>\n",
       "      <td>Yacht</td>\n",
       "      <td>743779</td>\n",
       "      <td>63</td>\n",
       "      <td>12</td>\n",
       "      <td>Motor_passenger</td>\n",
       "    </tr>\n",
       "    <tr>\n",
       "      <th>1</th>\n",
       "      <td>1</td>\n",
       "      <td>319058500</td>\n",
       "      <td>TRIPLESEVEN</td>\n",
       "      <td>ZGDO7</td>\n",
       "      <td>Pleasure / Leisure</td>\n",
       "      <td>Yacht</td>\n",
       "      <td>739145</td>\n",
       "      <td>1385</td>\n",
       "      <td>26</td>\n",
       "      <td>Motor_passenger</td>\n",
       "    </tr>\n",
       "    <tr>\n",
       "      <th>2</th>\n",
       "      <td>2</td>\n",
       "      <td>319058600</td>\n",
       "      <td>AMOIXA</td>\n",
       "      <td>ZGDO6</td>\n",
       "      <td>Pleasure / Leisure</td>\n",
       "      <td>Yacht</td>\n",
       "      <td>739106</td>\n",
       "      <td>498</td>\n",
       "      <td>22</td>\n",
       "      <td>Motor_passenger</td>\n",
       "    </tr>\n",
       "    <tr>\n",
       "      <th>3</th>\n",
       "      <td>3</td>\n",
       "      <td>319058800</td>\n",
       "      <td>NORDICGRACE</td>\n",
       "      <td>ZGDM8</td>\n",
       "      <td>Merchant</td>\n",
       "      <td>Tanker</td>\n",
       "      <td>745168</td>\n",
       "      <td>84598</td>\n",
       "      <td>32</td>\n",
       "      <td>Tanker</td>\n",
       "    </tr>\n",
       "    <tr>\n",
       "      <th>4</th>\n",
       "      <td>4</td>\n",
       "      <td>319058900</td>\n",
       "      <td>SCOUT</td>\n",
       "      <td>ZGDP4</td>\n",
       "      <td>Pleasure / Leisure</td>\n",
       "      <td>Yacht</td>\n",
       "      <td>744433</td>\n",
       "      <td>496</td>\n",
       "      <td>24</td>\n",
       "      <td>Motor_passenger</td>\n",
       "    </tr>\n",
       "  </tbody>\n",
       "</table>\n",
       "</div>"
      ],
      "text/plain": [
       "   Unnamed: 0       mmsi     shipname callsign itu_General_classification  \\\n",
       "0           0  319058400       VALYRA    ZGCQ8         Pleasure / Leisure   \n",
       "1           1  319058500  TRIPLESEVEN    ZGDO7         Pleasure / Leisure   \n",
       "2           2  319058600       AMOIXA    ZGDO6         Pleasure / Leisure   \n",
       "3           3  319058800  NORDICGRACE    ZGDM8                   Merchant   \n",
       "4           4  319058900        SCOUT    ZGDP4         Pleasure / Leisure   \n",
       "\n",
       "  itu_Individual_classification national_id tonnage  \\\n",
       "0                         Yacht      743779      63   \n",
       "1                         Yacht      739145    1385   \n",
       "2                         Yacht      739106     498   \n",
       "3                        Tanker      745168   84598   \n",
       "4                         Yacht      744433     496   \n",
       "\n",
       "  itu_Capacity_of_persons_on_board            label  \n",
       "0                               12  Motor_passenger  \n",
       "1                               26  Motor_passenger  \n",
       "2                               22  Motor_passenger  \n",
       "3                               32           Tanker  \n",
       "4                               24  Motor_passenger  "
      ]
     },
     "execution_count": 201,
     "metadata": {},
     "output_type": "execute_result"
    }
   ],
   "source": [
    "\n",
    "filename = 'itu_2016_processed'\n",
    "df = pd.read_csv('input_lists/'+filename+'.csv')\n",
    "df.head()"
   ]
  },
  {
   "cell_type": "code",
   "execution_count": 202,
   "metadata": {
    "collapsed": true
   },
   "outputs": [],
   "source": [
    "headers[filename] = { 'mmsi':'mmsi',\n",
    "                                'label':'label',\n",
    "                                'tonnage': 'tonnage', \n",
    "                                'length': None, \n",
    "                                'engine power': None}"
   ]
  },
  {
   "cell_type": "code",
   "execution_count": 203,
   "metadata": {
    "collapsed": false
   },
   "outputs": [
    {
     "data": {
      "text/plain": [
       "{'Cargo': 17250,\n",
       " 'Cargo|Passenger': 575,\n",
       " 'Cargo|Tanker': 53,\n",
       " 'Fishing': 4197,\n",
       " 'Motor passenger': 912,\n",
       " 'Motor_passenger': 7306,\n",
       " 'None': 9044,\n",
       " 'Passenger': 2684,\n",
       " 'Pots_and_traps': 1,\n",
       " 'Reefer': 326,\n",
       " 'Sailing': 4560,\n",
       " 'Tanker': 7408,\n",
       " 'Trawler': 958,\n",
       " 'Tug': 6213,\n",
       " 'not_fishing': 5972}"
      ]
     },
     "execution_count": 203,
     "metadata": {},
     "output_type": "execute_result"
    }
   ],
   "source": [
    "counts[filename] = get_counts('label',filename,df)\n",
    "counts[filename]"
   ]
  },
  {
   "cell_type": "code",
   "execution_count": 204,
   "metadata": {
    "collapsed": true
   },
   "outputs": [],
   "source": [
    "label_mappings[filename] = None"
   ]
  },
  {
   "cell_type": "code",
   "execution_count": 205,
   "metadata": {
    "collapsed": true
   },
   "outputs": [],
   "source": [
    "save_file(filename)"
   ]
  },
  {
   "cell_type": "code",
   "execution_count": 142,
   "metadata": {
    "collapsed": false
   },
   "outputs": [
    {
     "data": {
      "text/html": [
       "<div>\n",
       "<table border=\"1\" class=\"dataframe\">\n",
       "  <thead>\n",
       "    <tr style=\"text-align: right;\">\n",
       "      <th></th>\n",
       "      <th>mmsi</th>\n",
       "      <th>label</th>\n",
       "    </tr>\n",
       "  </thead>\n",
       "  <tbody>\n",
       "    <tr>\n",
       "      <th>0</th>\n",
       "      <td>412420405</td>\n",
       "      <td>Squid fishing</td>\n",
       "    </tr>\n",
       "    <tr>\n",
       "      <th>1</th>\n",
       "      <td>412420974</td>\n",
       "      <td>Squid fishing</td>\n",
       "    </tr>\n",
       "    <tr>\n",
       "      <th>2</th>\n",
       "      <td>412673260</td>\n",
       "      <td>Squid fishing</td>\n",
       "    </tr>\n",
       "    <tr>\n",
       "      <th>3</th>\n",
       "      <td>412420681</td>\n",
       "      <td>Squid fishing</td>\n",
       "    </tr>\n",
       "    <tr>\n",
       "      <th>4</th>\n",
       "      <td>412420798</td>\n",
       "      <td>Squid fishing</td>\n",
       "    </tr>\n",
       "  </tbody>\n",
       "</table>\n",
       "</div>"
      ],
      "text/plain": [
       "        mmsi          label\n",
       "0  412420405  Squid fishing\n",
       "1  412420974  Squid fishing\n",
       "2  412673260  Squid fishing\n",
       "3  412420681  Squid fishing\n",
       "4  412420798  Squid fishing"
      ]
     },
     "execution_count": 142,
     "metadata": {},
     "output_type": "execute_result"
    }
   ],
   "source": [
    "\n",
    "filename = 'PeruvianSquidFleet'\n",
    "df = pd.read_csv('input_lists/'+filename+'.csv')\n",
    "df.head()"
   ]
  },
  {
   "cell_type": "code",
   "execution_count": 143,
   "metadata": {
    "collapsed": true
   },
   "outputs": [],
   "source": [
    "headers[filename] = { 'mmsi':'mmsi',\n",
    "                                'label':'label',\n",
    "                                'tonnage': None, \n",
    "                                'length': None, \n",
    "                                'engine power': None}"
   ]
  },
  {
   "cell_type": "code",
   "execution_count": 144,
   "metadata": {
    "collapsed": false
   },
   "outputs": [
    {
     "data": {
      "text/plain": [
       "{'Squid fishing': 104}"
      ]
     },
     "execution_count": 144,
     "metadata": {},
     "output_type": "execute_result"
    }
   ],
   "source": [
    "counts[filename] = get_counts('label',filename,df)\n",
    "counts[filename]"
   ]
  },
  {
   "cell_type": "code",
   "execution_count": 145,
   "metadata": {
    "collapsed": true
   },
   "outputs": [],
   "source": [
    "label_mappings[filename] = {'Squid fishing':'Squid_jigger'}"
   ]
  },
  {
   "cell_type": "code",
   "execution_count": 146,
   "metadata": {
    "collapsed": true
   },
   "outputs": [],
   "source": [
    "save_file(filename)"
   ]
  },
  {
   "cell_type": "code",
   "execution_count": null,
   "metadata": {
    "collapsed": true
   },
   "outputs": [],
   "source": []
  },
  {
   "cell_type": "code",
   "execution_count": 147,
   "metadata": {
    "collapsed": false
   },
   "outputs": [
    {
     "data": {
      "text/html": [
       "<div>\n",
       "<table border=\"1\" class=\"dataframe\">\n",
       "  <thead>\n",
       "    <tr style=\"text-align: right;\">\n",
       "      <th></th>\n",
       "      <th>MMSI #</th>\n",
       "      <th>Label</th>\n",
       "      <th>Owner</th>\n",
       "      <th>Vessel Name</th>\n",
       "      <th>Vessel length (m)</th>\n",
       "      <th>IMO registration #</th>\n",
       "      <th>Call Sign</th>\n",
       "      <th>2013</th>\n",
       "      <th>2014</th>\n",
       "      <th>2015</th>\n",
       "      <th>2014 Location Log</th>\n",
       "      <th>2015 Location Log</th>\n",
       "      <th>Other Notes</th>\n",
       "      <th>columns G, H, I are for Listed in Offshore Magazine Vessel Survey?</th>\n",
       "    </tr>\n",
       "  </thead>\n",
       "  <tbody>\n",
       "    <tr>\n",
       "      <th>0</th>\n",
       "      <td>209108000</td>\n",
       "      <td>Seismic vessel</td>\n",
       "      <td>Dolpin Geophysical</td>\n",
       "      <td>Polar Duchess</td>\n",
       "      <td>106.8</td>\n",
       "      <td>9378216</td>\n",
       "      <td>5BJC3</td>\n",
       "      <td>N</td>\n",
       "      <td>N</td>\n",
       "      <td>Y</td>\n",
       "      <td>January: Australia, New Zealand\\nAugust: South...</td>\n",
       "      <td>February: Western Europe\\nApril: Northern Euro...</td>\n",
       "      <td>NaN</td>\n",
       "      <td>NaN</td>\n",
       "    </tr>\n",
       "    <tr>\n",
       "      <th>1</th>\n",
       "      <td>209587000</td>\n",
       "      <td>Seismic vessel</td>\n",
       "      <td>Sea Bird Exploration</td>\n",
       "      <td>Hugin Explorer</td>\n",
       "      <td>86</td>\n",
       "      <td>9366005</td>\n",
       "      <td>5BEA2</td>\n",
       "      <td>N</td>\n",
       "      <td>Y</td>\n",
       "      <td>N</td>\n",
       "      <td>April: North America East Coast\\nMay: Western ...</td>\n",
       "      <td>January: South America East Coast\\nSeptember: ...</td>\n",
       "      <td>NaN</td>\n",
       "      <td>NaN</td>\n",
       "    </tr>\n",
       "    <tr>\n",
       "      <th>2</th>\n",
       "      <td>210228000</td>\n",
       "      <td>Seismic vessel</td>\n",
       "      <td>Sea Bird Exploration</td>\n",
       "      <td>Munin Explorer</td>\n",
       "      <td>60</td>\n",
       "      <td>8915782</td>\n",
       "      <td>C4XX2</td>\n",
       "      <td>Y</td>\n",
       "      <td>Y</td>\n",
       "      <td>Y</td>\n",
       "      <td>May: Western Europe</td>\n",
       "      <td>January: South America East Coast, West Africa...</td>\n",
       "      <td>NaN</td>\n",
       "      <td>NaN</td>\n",
       "    </tr>\n",
       "    <tr>\n",
       "      <th>3</th>\n",
       "      <td>210582000</td>\n",
       "      <td>Seismic vessel</td>\n",
       "      <td>Dolpin Geophysical</td>\n",
       "      <td>Polar Duke</td>\n",
       "      <td>106.8</td>\n",
       "      <td>9378204</td>\n",
       "      <td>5BJL2</td>\n",
       "      <td>N</td>\n",
       "      <td>N</td>\n",
       "      <td>Y</td>\n",
       "      <td>May: Mediterranean Sea, Western Europe\\nJuly: ...</td>\n",
       "      <td>January: Australia, New Zealand\\nMay: Mediterr...</td>\n",
       "      <td>VesselTracker lists length as 104m</td>\n",
       "      <td>NaN</td>\n",
       "    </tr>\n",
       "    <tr>\n",
       "      <th>4</th>\n",
       "      <td>212338000</td>\n",
       "      <td>Seismic vessel</td>\n",
       "      <td>Sea Bird Exploration</td>\n",
       "      <td>Kondor Explorer</td>\n",
       "      <td>63.5</td>\n",
       "      <td>8201363</td>\n",
       "      <td>P3LE7</td>\n",
       "      <td>N</td>\n",
       "      <td>Y</td>\n",
       "      <td>N</td>\n",
       "      <td>n/a</td>\n",
       "      <td>n/a</td>\n",
       "      <td>Equasis indicates this vessel has been laid up...</td>\n",
       "      <td>NaN</td>\n",
       "    </tr>\n",
       "  </tbody>\n",
       "</table>\n",
       "</div>"
      ],
      "text/plain": [
       "      MMSI #           Label                 Owner      Vessel Name  \\\n",
       "0  209108000  Seismic vessel    Dolpin Geophysical    Polar Duchess   \n",
       "1  209587000  Seismic vessel  Sea Bird Exploration   Hugin Explorer   \n",
       "2  210228000  Seismic vessel  Sea Bird Exploration   Munin Explorer   \n",
       "3  210582000  Seismic vessel    Dolpin Geophysical       Polar Duke   \n",
       "4  212338000  Seismic vessel  Sea Bird Exploration  Kondor Explorer   \n",
       "\n",
       "  Vessel length (m) IMO registration # Call Sign 2013 2014 2015  \\\n",
       "0             106.8            9378216     5BJC3    N    N    Y   \n",
       "1                86            9366005     5BEA2    N    Y    N   \n",
       "2                60            8915782     C4XX2    Y    Y    Y   \n",
       "3             106.8            9378204     5BJL2    N    N    Y   \n",
       "4              63.5            8201363     P3LE7    N    Y    N   \n",
       "\n",
       "                                   2014 Location Log  \\\n",
       "0  January: Australia, New Zealand\\nAugust: South...   \n",
       "1  April: North America East Coast\\nMay: Western ...   \n",
       "2                                May: Western Europe   \n",
       "3  May: Mediterranean Sea, Western Europe\\nJuly: ...   \n",
       "4                                                n/a   \n",
       "\n",
       "                                   2015 Location Log  \\\n",
       "0  February: Western Europe\\nApril: Northern Euro...   \n",
       "1  January: South America East Coast\\nSeptember: ...   \n",
       "2  January: South America East Coast, West Africa...   \n",
       "3  January: Australia, New Zealand\\nMay: Mediterr...   \n",
       "4                                                n/a   \n",
       "\n",
       "                                         Other Notes  \\\n",
       "0                                                NaN   \n",
       "1                                                NaN   \n",
       "2                                                NaN   \n",
       "3                 VesselTracker lists length as 104m   \n",
       "4  Equasis indicates this vessel has been laid up...   \n",
       "\n",
       "   columns G, H, I are for Listed in Offshore Magazine Vessel Survey?  \n",
       "0                                                NaN                   \n",
       "1                                                NaN                   \n",
       "2                                                NaN                   \n",
       "3                                                NaN                   \n",
       "4                                                NaN                   "
      ]
     },
     "execution_count": 147,
     "metadata": {},
     "output_type": "execute_result"
    }
   ],
   "source": [
    "filename = \"WorldwideSeismicVesselDatabase4Dec15\"\n",
    "df = pd.read_csv('input_lists/'+filename+'.csv')\n",
    "df.head()"
   ]
  },
  {
   "cell_type": "code",
   "execution_count": 148,
   "metadata": {
    "collapsed": true
   },
   "outputs": [],
   "source": [
    "headers[filename] = { 'mmsi':'MMSI #',\n",
    "                                'label':'Label',\n",
    "                                'tonnage': None, \n",
    "                                'length': 'Vessel length (m)', \n",
    "                                'engine power': None}"
   ]
  },
  {
   "cell_type": "code",
   "execution_count": 149,
   "metadata": {
    "collapsed": false
   },
   "outputs": [
    {
     "data": {
      "text/plain": [
       "{'Seismic vessel': 169}"
      ]
     },
     "execution_count": 149,
     "metadata": {},
     "output_type": "execute_result"
    }
   ],
   "source": [
    "counts[filename] = get_counts('Label',filename,df)\n",
    "counts[filename]"
   ]
  },
  {
   "cell_type": "code",
   "execution_count": 150,
   "metadata": {
    "collapsed": true
   },
   "outputs": [],
   "source": [
    "label_mappings[filename] = {'Seismic vessel':'Seismic_vessel'}"
   ]
  },
  {
   "cell_type": "code",
   "execution_count": 151,
   "metadata": {
    "collapsed": true
   },
   "outputs": [],
   "source": [
    "save_file(filename)"
   ]
  },
  {
   "cell_type": "code",
   "execution_count": null,
   "metadata": {
    "collapsed": true
   },
   "outputs": [],
   "source": [
    "\n"
   ]
  },
  {
   "cell_type": "code",
   "execution_count": 225,
   "metadata": {
    "collapsed": false
   },
   "outputs": [
    {
     "data": {
      "text/html": [
       "<div>\n",
       "<table border=\"1\" class=\"dataframe\">\n",
       "  <thead>\n",
       "    <tr style=\"text-align: right;\">\n",
       "      <th></th>\n",
       "      <th>task id</th>\n",
       "      <th>mmsi</th>\n",
       "      <th>label</th>\n",
       "    </tr>\n",
       "  </thead>\n",
       "  <tbody>\n",
       "    <tr>\n",
       "      <th>0</th>\n",
       "      <td>2031</td>\n",
       "      <td>244690101</td>\n",
       "      <td>cargo</td>\n",
       "    </tr>\n",
       "    <tr>\n",
       "      <th>1</th>\n",
       "      <td>2572</td>\n",
       "      <td>211512210</td>\n",
       "      <td>cargo</td>\n",
       "    </tr>\n",
       "    <tr>\n",
       "      <th>2</th>\n",
       "      <td>2587</td>\n",
       "      <td>211668930</td>\n",
       "      <td>cargo</td>\n",
       "    </tr>\n",
       "    <tr>\n",
       "      <th>3</th>\n",
       "      <td>2608</td>\n",
       "      <td>244660859</td>\n",
       "      <td>cargo</td>\n",
       "    </tr>\n",
       "    <tr>\n",
       "      <th>4</th>\n",
       "      <td>2609</td>\n",
       "      <td>258222000</td>\n",
       "      <td>cargo</td>\n",
       "    </tr>\n",
       "  </tbody>\n",
       "</table>\n",
       "</div>"
      ],
      "text/plain": [
       "   task id       mmsi  label\n",
       "0     2031  244690101  cargo\n",
       "1     2572  211512210  cargo\n",
       "2     2587  211668930  cargo\n",
       "3     2608  244660859  cargo\n",
       "4     2609  258222000  cargo"
      ]
     },
     "execution_count": 225,
     "metadata": {},
     "output_type": "execute_result"
    }
   ],
   "source": [
    "filename = 'verify5and24_20160502'\n",
    "df = pd.read_csv('input_lists/'+filename+'.csv')\n",
    "df.head()"
   ]
  },
  {
   "cell_type": "code",
   "execution_count": 226,
   "metadata": {
    "collapsed": true
   },
   "outputs": [],
   "source": [
    "headers[filename] = { 'mmsi':'mmsi',\n",
    "                                'label':'label',\n",
    "                                'tonnage': None, \n",
    "                                'length': None, \n",
    "                                'engine power': None}"
   ]
  },
  {
   "cell_type": "code",
   "execution_count": 227,
   "metadata": {
    "collapsed": false
   },
   "outputs": [
    {
     "data": {
      "text/plain": [
       "{'Diving_ops': 80,\n",
       " 'Dredging_or_underwater_ops': 112,\n",
       " 'Law_enforcement': 133,\n",
       " 'Medical_transport': 15,\n",
       " 'Military_ops': 168,\n",
       " 'OffShore Support vessel': 8,\n",
       " 'Passenger': 193,\n",
       " 'Passenger and Cargo': 4,\n",
       " 'Passenger/ferry': 1,\n",
       " 'Patrol vessel': 3,\n",
       " 'Pleasure_craft': 129,\n",
       " 'Port_tender': 86,\n",
       " 'Research Vessel': 5,\n",
       " 'Sailing': 148,\n",
       " 'Salvage/rescue vessel': 1,\n",
       " 'Search_and_Rescue': 164,\n",
       " 'Support vessel': 6,\n",
       " 'Tanker': 153,\n",
       " 'Trawler': 1,\n",
       " 'Tug': 175,\n",
       " 'cargo': 26,\n",
       " 'helicopter': 3,\n",
       " 'passenger/ferry': 16,\n",
       " 'sailing': 1,\n",
       " 'service vessel': 1,\n",
       " 'supply vessel': 67,\n",
       " 'tanker': 6}"
      ]
     },
     "execution_count": 227,
     "metadata": {},
     "output_type": "execute_result"
    }
   ],
   "source": [
    "counts[filename] = get_counts('label',filename,df)\n",
    "counts[filename]"
   ]
  },
  {
   "cell_type": "code",
   "execution_count": 228,
   "metadata": {
    "collapsed": false
   },
   "outputs": [],
   "source": [
    "label_mappings[filename] = {'Diving_ops': 'not_fishing',\n",
    " 'Dredging_or_underwater_ops': 'not_fishing',\n",
    " 'Law_enforcement': 'not_fishing',\n",
    " 'Medical_transport': 'not_fishing',\n",
    " 'Military_ops': 'not_fishing',\n",
    " 'OffShore Support vessel': 'not_fishing',\n",
    " 'Passenger': 'Passenger',\n",
    " 'Passenger and Cargo': 'Passenger|Cargo',\n",
    " 'Passenger/ferry':'Passenger',\n",
    " 'Patrol vessel': 'not_fishing',\n",
    " 'Pleasure_craft': 'not_fishing',\n",
    " 'Port_tender': 'not_fishing',\n",
    " 'Research Vessel': 'unknown',\n",
    " 'Sailing': 'Sailing',\n",
    " 'Salvage/rescue vessel': 'not_fishing',\n",
    " 'Search_and_Rescue': 'not_fishing',\n",
    " 'Support vessel': 'not_fishing',\n",
    " 'Tanker': 'Tanker',\n",
    " 'Trawler': 'Trawlers',\n",
    " 'Tug': 'Tug',\n",
    " 'cargo': 'Cargo',\n",
    " 'helicopter': 'not_fishing',\n",
    " 'passenger/ferry': 'Passenger',\n",
    " 'sailing': 'Sailing',\n",
    " 'service vessel': 'not_fishing',\n",
    " 'supply vessel': 'not_fishing',\n",
    " 'tanker': 'Tanker'}"
   ]
  },
  {
   "cell_type": "code",
   "execution_count": 229,
   "metadata": {
    "collapsed": true
   },
   "outputs": [],
   "source": [
    "save_file(filename)"
   ]
  },
  {
   "cell_type": "code",
   "execution_count": null,
   "metadata": {
    "collapsed": true
   },
   "outputs": [],
   "source": []
  },
  {
   "cell_type": "code",
   "execution_count": 177,
   "metadata": {
    "collapsed": true
   },
   "outputs": [],
   "source": [
    "filename = 'double_geartype_override'"
   ]
  },
  {
   "cell_type": "code",
   "execution_count": 178,
   "metadata": {
    "collapsed": false
   },
   "outputs": [
    {
     "data": {
      "text/html": [
       "<div>\n",
       "<table border=\"1\" class=\"dataframe\">\n",
       "  <thead>\n",
       "    <tr style=\"text-align: right;\">\n",
       "      <th></th>\n",
       "      <th>mmsi</th>\n",
       "      <th>newlabel</th>\n",
       "      <th>link</th>\n",
       "      <th>primary geartyp</th>\n",
       "      <th>secondary geartype</th>\n",
       "      <th>Vaida's Best Guess</th>\n",
       "      <th>David's Best Guess</th>\n",
       "      <th>Kristina's Best Guess</th>\n",
       "    </tr>\n",
       "  </thead>\n",
       "  <tbody>\n",
       "    <tr>\n",
       "      <th>0</th>\n",
       "      <td>204206740</td>\n",
       "      <td>Pole and line</td>\n",
       "      <td>http://crowd.globalfishingwatch.org/project/id...</td>\n",
       "      <td>Pole and line</td>\n",
       "      <td>Drifting longlines</td>\n",
       "      <td>pole and line</td>\n",
       "      <td>Pole and line</td>\n",
       "      <td>NaN</td>\n",
       "    </tr>\n",
       "    <tr>\n",
       "      <th>1</th>\n",
       "      <td>204206740</td>\n",
       "      <td>Pole and line</td>\n",
       "      <td>http://crowd.globalfishingwatch.org/project/id...</td>\n",
       "      <td>Pole and line</td>\n",
       "      <td>Drifting longlines</td>\n",
       "      <td>pole and line</td>\n",
       "      <td>Pole and line</td>\n",
       "      <td>NaN</td>\n",
       "    </tr>\n",
       "    <tr>\n",
       "      <th>2</th>\n",
       "      <td>204209570</td>\n",
       "      <td>Pole and line</td>\n",
       "      <td>http://crowd.globalfishingwatch.org/project/id...</td>\n",
       "      <td>Pole and line</td>\n",
       "      <td>Fishing vessel</td>\n",
       "      <td>pole and line</td>\n",
       "      <td>Pole and line</td>\n",
       "      <td>NaN</td>\n",
       "    </tr>\n",
       "    <tr>\n",
       "      <th>3</th>\n",
       "      <td>204209570</td>\n",
       "      <td>Pole and line</td>\n",
       "      <td>http://crowd.globalfishingwatch.org/project/id...</td>\n",
       "      <td>Pole and line</td>\n",
       "      <td>Fishing vessel</td>\n",
       "      <td>pole and line</td>\n",
       "      <td>Pole and line</td>\n",
       "      <td>NaN</td>\n",
       "    </tr>\n",
       "    <tr>\n",
       "      <th>4</th>\n",
       "      <td>204209890</td>\n",
       "      <td>Pole and line</td>\n",
       "      <td>http://crowd.globalfishingwatch.org/project/id...</td>\n",
       "      <td>Set longlines</td>\n",
       "      <td>Pole and line</td>\n",
       "      <td>pole and line</td>\n",
       "      <td>Pole and line</td>\n",
       "      <td>NaN</td>\n",
       "    </tr>\n",
       "  </tbody>\n",
       "</table>\n",
       "</div>"
      ],
      "text/plain": [
       "        mmsi       newlabel  \\\n",
       "0  204206740  Pole and line   \n",
       "1  204206740  Pole and line   \n",
       "2  204209570  Pole and line   \n",
       "3  204209570  Pole and line   \n",
       "4  204209890  Pole and line   \n",
       "\n",
       "                                                link primary geartyp  \\\n",
       "0  http://crowd.globalfishingwatch.org/project/id...   Pole and line   \n",
       "1  http://crowd.globalfishingwatch.org/project/id...   Pole and line   \n",
       "2  http://crowd.globalfishingwatch.org/project/id...   Pole and line   \n",
       "3  http://crowd.globalfishingwatch.org/project/id...   Pole and line   \n",
       "4  http://crowd.globalfishingwatch.org/project/id...   Set longlines   \n",
       "\n",
       "   secondary geartype Vaida's Best Guess David's Best Guess  \\\n",
       "0  Drifting longlines      pole and line      Pole and line   \n",
       "1  Drifting longlines      pole and line      Pole and line   \n",
       "2      Fishing vessel      pole and line      Pole and line   \n",
       "3      Fishing vessel      pole and line      Pole and line   \n",
       "4       Pole and line      pole and line      Pole and line   \n",
       "\n",
       "   Kristina's Best Guess  \n",
       "0                    NaN  \n",
       "1                    NaN  \n",
       "2                    NaN  \n",
       "3                    NaN  \n",
       "4                    NaN  "
      ]
     },
     "execution_count": 178,
     "metadata": {},
     "output_type": "execute_result"
    }
   ],
   "source": [
    "df = pd.read_csv('input_lists/'+filename+'.csv')\n",
    "df.head()"
   ]
  },
  {
   "cell_type": "code",
   "execution_count": 179,
   "metadata": {
    "collapsed": true
   },
   "outputs": [],
   "source": [
    "headers[filename] = { 'mmsi':'mmsi',\n",
    "                    'label':'newlabel',\n",
    "                    'tonnage': None, \n",
    "                    'length': None, \n",
    "                    'engine power': None\n",
    "                    }"
   ]
  },
  {
   "cell_type": "code",
   "execution_count": 180,
   "metadata": {
    "collapsed": false
   },
   "outputs": [
    {
     "data": {
      "text/plain": [
       "{'Drifting longlines': 2,\n",
       " 'IGNORE': 6,\n",
       " 'Pole and line': 12,\n",
       " 'Pots and traps': 16,\n",
       " 'Purse seines': 14,\n",
       " 'Set gillnets': 6,\n",
       " 'Set longlines': 10,\n",
       " 'Trawlers': 29,\n",
       " 'Trollers': 4}"
      ]
     },
     "execution_count": 180,
     "metadata": {},
     "output_type": "execute_result"
    }
   ],
   "source": [
    "counts[filename] = get_counts('newlabel',filename,df)\n",
    "counts[filename]"
   ]
  },
  {
   "cell_type": "code",
   "execution_count": 181,
   "metadata": {
    "collapsed": false
   },
   "outputs": [],
   "source": [
    "label_mappings[filename] = {'Drifting longlines': 'Drifting_longlines',\n",
    " 'IGNORE': \"unknown_fishing\",\n",
    " 'Pole and line': \"Pole_and_line\",\n",
    " 'Pots and traps': \"Pots_and_traps\",\n",
    " 'Purse seines': \"Purse_seines\",\n",
    " 'Set gillnets': \"Set_gillnets\",\n",
    " 'Set longlines': \"Set_longlines\",\n",
    " 'Trawlers': \"Trawlers\",\n",
    " 'Trollers': \"Trollers\"}"
   ]
  },
  {
   "cell_type": "code",
   "execution_count": 182,
   "metadata": {
    "collapsed": true
   },
   "outputs": [],
   "source": [
    "save_file(filename)"
   ]
  },
  {
   "cell_type": "code",
   "execution_count": null,
   "metadata": {
    "collapsed": true
   },
   "outputs": [],
   "source": []
  },
  {
   "cell_type": "code",
   "execution_count": 163,
   "metadata": {
    "collapsed": false
   },
   "outputs": [
    {
     "data": {
      "text/html": [
       "<div>\n",
       "<table border=\"1\" class=\"dataframe\">\n",
       "  <thead>\n",
       "    <tr style=\"text-align: right;\">\n",
       "      <th></th>\n",
       "      <th>Unnamed: 0</th>\n",
       "      <th>mmsi</th>\n",
       "      <th>label</th>\n",
       "      <th>length</th>\n",
       "      <th>tonnage</th>\n",
       "    </tr>\n",
       "  </thead>\n",
       "  <tbody>\n",
       "    <tr>\n",
       "      <th>0</th>\n",
       "      <td>0</td>\n",
       "      <td>664090000</td>\n",
       "      <td>Reefer</td>\n",
       "      <td>93.78</td>\n",
       "      <td>2600.0</td>\n",
       "    </tr>\n",
       "    <tr>\n",
       "      <th>1</th>\n",
       "      <td>1</td>\n",
       "      <td>636017468</td>\n",
       "      <td>Reefer</td>\n",
       "      <td>94.65</td>\n",
       "      <td>3496.0</td>\n",
       "    </tr>\n",
       "    <tr>\n",
       "      <th>2</th>\n",
       "      <td>2</td>\n",
       "      <td>273385860</td>\n",
       "      <td>Reefer</td>\n",
       "      <td>102.80</td>\n",
       "      <td>4109.0</td>\n",
       "    </tr>\n",
       "    <tr>\n",
       "      <th>3</th>\n",
       "      <td>3</td>\n",
       "      <td>357020000</td>\n",
       "      <td>Reefer</td>\n",
       "      <td>100.98</td>\n",
       "      <td>4361.0</td>\n",
       "    </tr>\n",
       "    <tr>\n",
       "      <th>4</th>\n",
       "      <td>4</td>\n",
       "      <td>529606000</td>\n",
       "      <td>Reefer</td>\n",
       "      <td>84.60</td>\n",
       "      <td>2429.0</td>\n",
       "    </tr>\n",
       "  </tbody>\n",
       "</table>\n",
       "</div>"
      ],
      "text/plain": [
       "   Unnamed: 0       mmsi   label  length  tonnage\n",
       "0           0  664090000  Reefer   93.78   2600.0\n",
       "1           1  636017468  Reefer   94.65   3496.0\n",
       "2           2  273385860  Reefer  102.80   4109.0\n",
       "3           3  357020000  Reefer  100.98   4361.0\n",
       "4           4  529606000  Reefer   84.60   2429.0"
      ]
     },
     "execution_count": 163,
     "metadata": {},
     "output_type": "execute_result"
    }
   ],
   "source": [
    "filename = 'reefers'\n",
    "df = pd.read_csv('input_lists/'+filename+'.csv')\n",
    "df.head()"
   ]
  },
  {
   "cell_type": "code",
   "execution_count": 164,
   "metadata": {
    "collapsed": true
   },
   "outputs": [],
   "source": [
    "headers[filename] = { 'mmsi':'mmsi',\n",
    "                    'label':'label',\n",
    "                    'tonnage': 'tonnage', \n",
    "                    'length': 'length', \n",
    "                    'engine power': None\n",
    "                    }"
   ]
  },
  {
   "cell_type": "code",
   "execution_count": 165,
   "metadata": {
    "collapsed": false
   },
   "outputs": [
    {
     "data": {
      "text/plain": [
       "{'Reefer': 1130}"
      ]
     },
     "execution_count": 165,
     "metadata": {},
     "output_type": "execute_result"
    }
   ],
   "source": [
    "counts[filename] = get_counts('label',filename,df)\n",
    "counts[filename]"
   ]
  },
  {
   "cell_type": "code",
   "execution_count": 166,
   "metadata": {
    "collapsed": true
   },
   "outputs": [],
   "source": [
    "label_mappings[filename] = None\n",
    "save_file(filename)"
   ]
  },
  {
   "cell_type": "code",
   "execution_count": null,
   "metadata": {
    "collapsed": true
   },
   "outputs": [],
   "source": []
  },
  {
   "cell_type": "code",
   "execution_count": 167,
   "metadata": {
    "collapsed": false
   },
   "outputs": [],
   "source": [
    "js = {\n",
    "    'mappings': label_mappings,\n",
    "    'counts': counts,\n",
    "    'headers': headers,\n",
    "}\n",
    "\n",
    "js_towrite = json.dumps(js)\n",
    "with open('input_lists/allfiles.json','w') as f:\n",
    "    f.write(js_towrite)"
   ]
  },
  {
   "cell_type": "code",
   "execution_count": null,
   "metadata": {
    "collapsed": true
   },
   "outputs": [],
   "source": []
  },
  {
   "cell_type": "code",
   "execution_count": null,
   "metadata": {
    "collapsed": true
   },
   "outputs": [],
   "source": []
  },
  {
   "cell_type": "code",
   "execution_count": null,
   "metadata": {
    "collapsed": true
   },
   "outputs": [],
   "source": []
  },
  {
   "cell_type": "code",
   "execution_count": null,
   "metadata": {
    "collapsed": true
   },
   "outputs": [],
   "source": []
  }
 ],
 "metadata": {
  "kernelspec": {
   "display_name": "Python 2",
   "language": "python",
   "name": "python2"
  },
  "language_info": {
   "codemirror_mode": {
    "name": "ipython",
    "version": 2
   },
   "file_extension": ".py",
   "mimetype": "text/x-python",
   "name": "python",
   "nbconvert_exporter": "python",
   "pygments_lexer": "ipython2",
   "version": "2.7.13"
  }
 },
 "nbformat": 4,
 "nbformat_minor": 2
}
