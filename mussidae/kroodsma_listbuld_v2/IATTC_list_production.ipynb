{
 "cells": [
  {
   "cell_type": "code",
   "execution_count": 1,
   "metadata": {
    "collapsed": false
   },
   "outputs": [],
   "source": [
    "import pandas as pd\n",
    "import csv\n",
    "import pandas.io.gbq as bq"
   ]
  },
  {
   "cell_type": "code",
   "execution_count": 8,
   "metadata": {
    "collapsed": false
   },
   "outputs": [],
   "source": [
    "# first find the geartypes\n",
    "\n",
    "q = '''SELECT\n",
    "  b.mmsi mmsi,\n",
    "  b.clav_TUVI clav_TUVI,\n",
    "  a.rfmo_id as rfmo_id\n",
    "FROM ( \n",
    "  SELECT\n",
    "    *\n",
    "  FROM\n",
    "    [world-fishing-827:Registry_matching_sources.CLAV_12_14_2015]\n",
    "  WHERE\n",
    "    rfmo_name =\"IATTC\") a\n",
    "INNER JOIN (\n",
    "  SELECT\n",
    "    clav_TUVI,\n",
    "    mmsi\n",
    "  FROM\n",
    "    [world-fishing-827:CLAV_match_results.v7_results]) b\n",
    "ON\n",
    "  a.clav_TUVI = b.clav_TUVI\n",
    "  group by mmsi, clav_TUVI, rfmo_id\n",
    "'''\n",
    "\n",
    "ffa =pd.io.gbq.read_gbq(q, project_id='world-fishing-827', verbose = False )"
   ]
  },
  {
   "cell_type": "code",
   "execution_count": 9,
   "metadata": {
    "collapsed": false
   },
   "outputs": [
    {
     "data": {
      "text/html": [
       "<div>\n",
       "<table border=\"1\" class=\"dataframe\">\n",
       "  <thead>\n",
       "    <tr style=\"text-align: right;\">\n",
       "      <th></th>\n",
       "      <th>callsign</th>\n",
       "      <th>tonnage</th>\n",
       "      <th>length</th>\n",
       "      <th>ffa_ENGINE_POWER</th>\n",
       "      <th>ffa_ENGINE_UNIT</th>\n",
       "    </tr>\n",
       "    <tr>\n",
       "      <th>mmsi</th>\n",
       "      <th></th>\n",
       "      <th></th>\n",
       "      <th></th>\n",
       "      <th></th>\n",
       "      <th></th>\n",
       "    </tr>\n",
       "  </thead>\n",
       "  <tbody>\n",
       "    <tr>\n",
       "      <th>416</th>\n",
       "      <td>BH3233</td>\n",
       "      <td>496.00</td>\n",
       "      <td>52.65</td>\n",
       "      <td>1100</td>\n",
       "      <td>HP</td>\n",
       "    </tr>\n",
       "    <tr>\n",
       "      <th>512000</th>\n",
       "      <td>ZMAE</td>\n",
       "      <td>1355.00</td>\n",
       "      <td>61.00</td>\n",
       "      <td>3070</td>\n",
       "      <td>HP</td>\n",
       "    </tr>\n",
       "    <tr>\n",
       "      <th>4162316</th>\n",
       "      <td>BJ5024</td>\n",
       "      <td>95.66</td>\n",
       "      <td>23.90</td>\n",
       "      <td>940</td>\n",
       "      <td>hp</td>\n",
       "    </tr>\n",
       "    <tr>\n",
       "      <th>8615784</th>\n",
       "      <td>3FXQ4</td>\n",
       "      <td>2856.00</td>\n",
       "      <td>91.02</td>\n",
       "      <td>3660</td>\n",
       "      <td>HP</td>\n",
       "    </tr>\n",
       "    <tr>\n",
       "      <th>22412400</th>\n",
       "      <td>EBTL</td>\n",
       "      <td>7207.00</td>\n",
       "      <td>132.90</td>\n",
       "      <td>5850</td>\n",
       "      <td>KW</td>\n",
       "    </tr>\n",
       "  </tbody>\n",
       "</table>\n",
       "</div>"
      ],
      "text/plain": [
       "         callsign  tonnage  length ffa_ENGINE_POWER ffa_ENGINE_UNIT\n",
       "mmsi                                                               \n",
       "416        BH3233   496.00   52.65             1100              HP\n",
       "512000       ZMAE  1355.00   61.00             3070              HP\n",
       "4162316    BJ5024    95.66   23.90              940              hp\n",
       "8615784     3FXQ4  2856.00   91.02             3660              HP\n",
       "22412400     EBTL  7207.00  132.90             5850              KW"
      ]
     },
     "execution_count": 9,
     "metadata": {},
     "output_type": "execute_result"
    }
   ],
   "source": [
    "ffa = ffa.set_index('mmsi')\n",
    "ffa.head()"
   ]
  },
  {
   "cell_type": "code",
   "execution_count": 21,
   "metadata": {
    "collapsed": false
   },
   "outputs": [],
   "source": [
    "# 1 ps = 0.735499 kw \n",
    "# 1 hp = 0.7457 kw\n",
    "\n",
    "def calc_kw(a,b):\n",
    "    try:\n",
    "        c = 1\n",
    "        if b.upper() == \"HP\":\n",
    "            c = .75\n",
    "        if b.upper() == \"PS\":\n",
    "            c = .74\n",
    "        return float(a)*c\n",
    "    except:\n",
    "        return None\n",
    "\n",
    "\n",
    "ffa['power'] = ffa.apply(lambda row: calc_kw(row['ffa_ENGINE_POWER'], row['ffa_ENGINE_UNIT']), axis=1)"
   ]
  },
  {
   "cell_type": "code",
   "execution_count": 22,
   "metadata": {
    "collapsed": false
   },
   "outputs": [
    {
     "data": {
      "text/html": [
       "<div>\n",
       "<table border=\"1\" class=\"dataframe\">\n",
       "  <thead>\n",
       "    <tr style=\"text-align: right;\">\n",
       "      <th></th>\n",
       "      <th>callsign</th>\n",
       "      <th>tonnage</th>\n",
       "      <th>length</th>\n",
       "      <th>ffa_ENGINE_POWER</th>\n",
       "      <th>ffa_ENGINE_UNIT</th>\n",
       "      <th>power</th>\n",
       "    </tr>\n",
       "    <tr>\n",
       "      <th>mmsi</th>\n",
       "      <th></th>\n",
       "      <th></th>\n",
       "      <th></th>\n",
       "      <th></th>\n",
       "      <th></th>\n",
       "      <th></th>\n",
       "    </tr>\n",
       "  </thead>\n",
       "  <tbody>\n",
       "    <tr>\n",
       "      <th>416</th>\n",
       "      <td>BH3233</td>\n",
       "      <td>496.00</td>\n",
       "      <td>52.65</td>\n",
       "      <td>1100</td>\n",
       "      <td>HP</td>\n",
       "      <td>825.0</td>\n",
       "    </tr>\n",
       "    <tr>\n",
       "      <th>512000</th>\n",
       "      <td>ZMAE</td>\n",
       "      <td>1355.00</td>\n",
       "      <td>61.00</td>\n",
       "      <td>3070</td>\n",
       "      <td>HP</td>\n",
       "      <td>2302.5</td>\n",
       "    </tr>\n",
       "    <tr>\n",
       "      <th>4162316</th>\n",
       "      <td>BJ5024</td>\n",
       "      <td>95.66</td>\n",
       "      <td>23.90</td>\n",
       "      <td>940</td>\n",
       "      <td>hp</td>\n",
       "      <td>705.0</td>\n",
       "    </tr>\n",
       "    <tr>\n",
       "      <th>8615784</th>\n",
       "      <td>3FXQ4</td>\n",
       "      <td>2856.00</td>\n",
       "      <td>91.02</td>\n",
       "      <td>3660</td>\n",
       "      <td>HP</td>\n",
       "      <td>2745.0</td>\n",
       "    </tr>\n",
       "    <tr>\n",
       "      <th>22412400</th>\n",
       "      <td>EBTL</td>\n",
       "      <td>7207.00</td>\n",
       "      <td>132.90</td>\n",
       "      <td>5850</td>\n",
       "      <td>KW</td>\n",
       "      <td>5850.0</td>\n",
       "    </tr>\n",
       "  </tbody>\n",
       "</table>\n",
       "</div>"
      ],
      "text/plain": [
       "         callsign  tonnage  length ffa_ENGINE_POWER ffa_ENGINE_UNIT   power\n",
       "mmsi                                                                       \n",
       "416        BH3233   496.00   52.65             1100              HP   825.0\n",
       "512000       ZMAE  1355.00   61.00             3070              HP  2302.5\n",
       "4162316    BJ5024    95.66   23.90              940              hp   705.0\n",
       "8615784     3FXQ4  2856.00   91.02             3660              HP  2745.0\n",
       "22412400     EBTL  7207.00  132.90             5850              KW  5850.0"
      ]
     },
     "execution_count": 22,
     "metadata": {},
     "output_type": "execute_result"
    }
   ],
   "source": [
    "ffa.head()"
   ]
  },
  {
   "cell_type": "code",
   "execution_count": 19,
   "metadata": {
    "collapsed": false
   },
   "outputs": [],
   "source": [
    "ffa[['callsign','tonnage','length','power']].to_csv('input_lists/ffa.csv')"
   ]
  },
  {
   "cell_type": "code",
   "execution_count": 23,
   "metadata": {
    "collapsed": true
   },
   "outputs": [],
   "source": [
    "ffa.to_csv('input_lists/ffa.csv')"
   ]
  },
  {
   "cell_type": "code",
   "execution_count": null,
   "metadata": {
    "collapsed": true
   },
   "outputs": [],
   "source": []
  }
 ],
 "metadata": {
  "kernelspec": {
   "display_name": "Python 2",
   "language": "python",
   "name": "python2"
  },
  "language_info": {
   "codemirror_mode": {
    "name": "ipython",
    "version": 2
   },
   "file_extension": ".py",
   "mimetype": "text/x-python",
   "name": "python",
   "nbconvert_exporter": "python",
   "pygments_lexer": "ipython2",
   "version": "2.7.13"
  }
 },
 "nbformat": 4,
 "nbformat_minor": 2
}
