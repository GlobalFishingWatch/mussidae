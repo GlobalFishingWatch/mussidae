{
 "cells": [
  {
   "cell_type": "code",
   "execution_count": 9,
   "metadata": {
    "collapsed": false
   },
   "outputs": [],
   "source": [
    "fishing_classes = [  'drifting_longlines',\n",
    "                     'other_fishing',\n",
    "                     'pole_and_line',\n",
    "                     'pots_and_traps',\n",
    "                     'purse_seines',\n",
    "                     'set_gillnets',\n",
    "                     'set_longlines',\n",
    "                     'squid_jigger',\n",
    "                     'trawlers',\n",
    "                     'trollers',\n",
    "                     'unknown_longline']\n",
    "\n",
    "non_fishing_classes = [  'cargo',\n",
    "                         'motor_passenger',\n",
    "                         'other_not_fishing',\n",
    "                         'passenger',\n",
    "                         'reefer',\n",
    "                         'sailing',\n",
    "                         'seismic_vessel',\n",
    "                         'tanker',\n",
    "                         'tug']"
   ]
  },
  {
   "cell_type": "code",
   "execution_count": 2,
   "metadata": {
    "collapsed": true
   },
   "outputs": [],
   "source": [
    "import pandas as pd"
   ]
  },
  {
   "cell_type": "code",
   "execution_count": 3,
   "metadata": {
    "collapsed": true
   },
   "outputs": [],
   "source": [
    "df = pd.DataFrame.from_csv('classification_list.csv')"
   ]
  },
  {
   "cell_type": "code",
   "execution_count": 5,
   "metadata": {
    "collapsed": false
   },
   "outputs": [
    {
     "data": {
      "text/html": [
       "<div>\n",
       "<table border=\"1\" class=\"dataframe\">\n",
       "  <thead>\n",
       "    <tr style=\"text-align: right;\">\n",
       "      <th></th>\n",
       "      <th>label</th>\n",
       "      <th>length</th>\n",
       "      <th>engine_power</th>\n",
       "      <th>tonnage</th>\n",
       "      <th>split</th>\n",
       "      <th>source</th>\n",
       "    </tr>\n",
       "    <tr>\n",
       "      <th>mmsi</th>\n",
       "      <th></th>\n",
       "      <th></th>\n",
       "      <th></th>\n",
       "      <th></th>\n",
       "      <th></th>\n",
       "      <th></th>\n",
       "    </tr>\n",
       "  </thead>\n",
       "  <tbody>\n",
       "    <tr>\n",
       "      <th>1</th>\n",
       "      <td>purse_seines</td>\n",
       "      <td>65.05</td>\n",
       "      <td>NaN</td>\n",
       "      <td>1385.666667</td>\n",
       "      <td>Training</td>\n",
       "      <td>clav_v10_processed;iattc;matched_mmsi_IATTC;wcpfc</td>\n",
       "    </tr>\n",
       "    <tr>\n",
       "      <th>100900012</th>\n",
       "      <td>unknown_not_fishing</td>\n",
       "      <td>NaN</td>\n",
       "      <td>NaN</td>\n",
       "      <td>NaN</td>\n",
       "      <td>Training</td>\n",
       "      <td>rivervessels_20160502</td>\n",
       "    </tr>\n",
       "    <tr>\n",
       "      <th>10201</th>\n",
       "      <td>unknown_fishing</td>\n",
       "      <td>NaN</td>\n",
       "      <td>NaN</td>\n",
       "      <td>NaN</td>\n",
       "      <td>Training</td>\n",
       "      <td>Trawlers in central Pacific</td>\n",
       "    </tr>\n",
       "    <tr>\n",
       "      <th>10421670</th>\n",
       "      <td>drifting_longlines|purse_seines</td>\n",
       "      <td>NaN</td>\n",
       "      <td>NaN</td>\n",
       "      <td>NaN</td>\n",
       "      <td>Training</td>\n",
       "      <td>KristinaManualClassification;clav_v10_processe...</td>\n",
       "    </tr>\n",
       "    <tr>\n",
       "      <th>111111110</th>\n",
       "      <td>cargo</td>\n",
       "      <td>NaN</td>\n",
       "      <td>NaN</td>\n",
       "      <td>NaN</td>\n",
       "      <td>Training</td>\n",
       "      <td>KnownVesselCargoTanker</td>\n",
       "    </tr>\n",
       "  </tbody>\n",
       "</table>\n",
       "</div>"
      ],
      "text/plain": [
       "                                     label  length  engine_power      tonnage  \\\n",
       "mmsi                                                                            \n",
       "1                             purse_seines   65.05           NaN  1385.666667   \n",
       "100900012              unknown_not_fishing     NaN           NaN          NaN   \n",
       "10201                      unknown_fishing     NaN           NaN          NaN   \n",
       "10421670   drifting_longlines|purse_seines     NaN           NaN          NaN   \n",
       "111111110                            cargo     NaN           NaN          NaN   \n",
       "\n",
       "              split                                             source  \n",
       "mmsi                                                                    \n",
       "1          Training  clav_v10_processed;iattc;matched_mmsi_IATTC;wcpfc  \n",
       "100900012  Training                              rivervessels_20160502  \n",
       "10201      Training                        Trawlers in central Pacific  \n",
       "10421670   Training  KristinaManualClassification;clav_v10_processe...  \n",
       "111111110  Training                             KnownVesselCargoTanker  "
      ]
     },
     "execution_count": 5,
     "metadata": {},
     "output_type": "execute_result"
    }
   ],
   "source": [
    "df.head()"
   ]
  },
  {
   "cell_type": "code",
   "execution_count": 7,
   "metadata": {
    "collapsed": false
   },
   "outputs": [],
   "source": [
    "df = df.rename(columns={'label': 'all_label'})"
   ]
  },
  {
   "cell_type": "code",
   "execution_count": 13,
   "metadata": {
    "collapsed": false
   },
   "outputs": [],
   "source": [
    "def decide_fishing(l):\n",
    "    try:\n",
    "        labs = l.split('|')\n",
    "        for l in labs:\n",
    "            if l in non_fishing_classes:\n",
    "                return \"non_fishing\"\n",
    "        return \"fishing\"\n",
    "    except:\n",
    "        return None\n",
    "df['fishing_label'] = df['all_label'].apply(decide_fishing)"
   ]
  },
  {
   "cell_type": "code",
   "execution_count": 17,
   "metadata": {
    "collapsed": false
   },
   "outputs": [],
   "source": [
    "def decide_label(l):\n",
    "    try:\n",
    "        labs = l.split('|')\n",
    "        labs = list(set(labs))\n",
    "        if len(labs) == 1:\n",
    "            return labs[0]\n",
    "        else:\n",
    "            return None\n",
    "    except:\n",
    "        return None\n",
    "    \n",
    "df['label'] = df['all_label'].apply(decide_label)"
   ]
  },
  {
   "cell_type": "code",
   "execution_count": 18,
   "metadata": {
    "collapsed": false
   },
   "outputs": [
    {
     "data": {
      "text/plain": [
       "mmsi\n",
       "1                   purse_seines\n",
       "100900012    unknown_not_fishing\n",
       "10201            unknown_fishing\n",
       "10421670                    None\n",
       "111111110                  cargo\n",
       "111219507    unknown_not_fishing\n",
       "111224509    unknown_not_fishing\n",
       "123450020           purse_seines\n",
       "123450800           purse_seines\n",
       "123456789           purse_seines\n",
       "12347            unknown_fishing\n",
       "13060            unknown_fishing\n",
       "150202717                  cargo\n",
       "200000001        unknown_fishing\n",
       "200001140                 reefer\n",
       "200001653        unknown_fishing\n",
       "200008650     drifting_longlines\n",
       "201100153           purse_seines\n",
       "201851        drifting_longlines\n",
       "203048100        motor_passenger\n",
       "203114200        motor_passenger\n",
       "203122200        motor_passenger\n",
       "203141400        motor_passenger\n",
       "203143300        motor_passenger\n",
       "203149300        motor_passenger\n",
       "203163100        motor_passenger\n",
       "203169300        motor_passenger\n",
       "203226200              passenger\n",
       "203241100        motor_passenger\n",
       "203244200        motor_passenger\n",
       "                    ...         \n",
       "775993000           purse_seines\n",
       "775993020           purse_seines\n",
       "775993050          pole_and_line\n",
       "775996002    unknown_not_fishing\n",
       "775996539              passenger\n",
       "775996601    unknown_not_fishing\n",
       "775996607    unknown_not_fishing\n",
       "797468163                 tanker\n",
       "800007245        unknown_fishing\n",
       "800012254        unknown_fishing\n",
       "800150305    unknown_not_fishing\n",
       "8396         unknown_not_fishing\n",
       "8615784                     None\n",
       "884259400              passenger\n",
       "888802000           purse_seines\n",
       "900006068    unknown_not_fishing\n",
       "900006270        unknown_fishing\n",
       "900011937    unknown_not_fishing\n",
       "900012351    unknown_not_fishing\n",
       "900021712        unknown_fishing\n",
       "900200029     drifting_longlines\n",
       "900265007           squid_jigger\n",
       "9010000       drifting_longlines\n",
       "9103568                    cargo\n",
       "92431185           pole_and_line\n",
       "983712160       unknown_longline\n",
       "986737000       unknown_longline\n",
       "987357559       unknown_longline\n",
       "987357573                   None\n",
       "999000100        unknown_fishing\n",
       "Name: label, dtype: object"
      ]
     },
     "execution_count": 18,
     "metadata": {},
     "output_type": "execute_result"
    }
   ],
   "source": [
    "df['label']"
   ]
  },
  {
   "cell_type": "code",
   "execution_count": 19,
   "metadata": {
    "collapsed": false
   },
   "outputs": [
    {
     "data": {
      "text/html": [
       "<div>\n",
       "<table border=\"1\" class=\"dataframe\">\n",
       "  <thead>\n",
       "    <tr style=\"text-align: right;\">\n",
       "      <th></th>\n",
       "      <th>all_label</th>\n",
       "      <th>length</th>\n",
       "      <th>engine_power</th>\n",
       "      <th>tonnage</th>\n",
       "      <th>split</th>\n",
       "      <th>source</th>\n",
       "      <th>fishing_label</th>\n",
       "      <th>label</th>\n",
       "    </tr>\n",
       "    <tr>\n",
       "      <th>mmsi</th>\n",
       "      <th></th>\n",
       "      <th></th>\n",
       "      <th></th>\n",
       "      <th></th>\n",
       "      <th></th>\n",
       "      <th></th>\n",
       "      <th></th>\n",
       "      <th></th>\n",
       "    </tr>\n",
       "  </thead>\n",
       "  <tbody>\n",
       "    <tr>\n",
       "      <th>1</th>\n",
       "      <td>purse_seines</td>\n",
       "      <td>65.05</td>\n",
       "      <td>NaN</td>\n",
       "      <td>1385.666667</td>\n",
       "      <td>Training</td>\n",
       "      <td>clav_v10_processed;iattc;matched_mmsi_IATTC;wcpfc</td>\n",
       "      <td>fishing</td>\n",
       "      <td>purse_seines</td>\n",
       "    </tr>\n",
       "    <tr>\n",
       "      <th>100900012</th>\n",
       "      <td>unknown_not_fishing</td>\n",
       "      <td>NaN</td>\n",
       "      <td>NaN</td>\n",
       "      <td>NaN</td>\n",
       "      <td>Training</td>\n",
       "      <td>rivervessels_20160502</td>\n",
       "      <td>fishing</td>\n",
       "      <td>unknown_not_fishing</td>\n",
       "    </tr>\n",
       "    <tr>\n",
       "      <th>10201</th>\n",
       "      <td>unknown_fishing</td>\n",
       "      <td>NaN</td>\n",
       "      <td>NaN</td>\n",
       "      <td>NaN</td>\n",
       "      <td>Training</td>\n",
       "      <td>Trawlers in central Pacific</td>\n",
       "      <td>fishing</td>\n",
       "      <td>unknown_fishing</td>\n",
       "    </tr>\n",
       "    <tr>\n",
       "      <th>10421670</th>\n",
       "      <td>drifting_longlines|purse_seines</td>\n",
       "      <td>NaN</td>\n",
       "      <td>NaN</td>\n",
       "      <td>NaN</td>\n",
       "      <td>Training</td>\n",
       "      <td>KristinaManualClassification;clav_v10_processe...</td>\n",
       "      <td>fishing</td>\n",
       "      <td>None</td>\n",
       "    </tr>\n",
       "    <tr>\n",
       "      <th>111111110</th>\n",
       "      <td>cargo</td>\n",
       "      <td>NaN</td>\n",
       "      <td>NaN</td>\n",
       "      <td>NaN</td>\n",
       "      <td>Training</td>\n",
       "      <td>KnownVesselCargoTanker</td>\n",
       "      <td>non_fishing</td>\n",
       "      <td>cargo</td>\n",
       "    </tr>\n",
       "  </tbody>\n",
       "</table>\n",
       "</div>"
      ],
      "text/plain": [
       "                                 all_label  length  engine_power      tonnage  \\\n",
       "mmsi                                                                            \n",
       "1                             purse_seines   65.05           NaN  1385.666667   \n",
       "100900012              unknown_not_fishing     NaN           NaN          NaN   \n",
       "10201                      unknown_fishing     NaN           NaN          NaN   \n",
       "10421670   drifting_longlines|purse_seines     NaN           NaN          NaN   \n",
       "111111110                            cargo     NaN           NaN          NaN   \n",
       "\n",
       "              split                                             source  \\\n",
       "mmsi                                                                     \n",
       "1          Training  clav_v10_processed;iattc;matched_mmsi_IATTC;wcpfc   \n",
       "100900012  Training                              rivervessels_20160502   \n",
       "10201      Training                        Trawlers in central Pacific   \n",
       "10421670   Training  KristinaManualClassification;clav_v10_processe...   \n",
       "111111110  Training                             KnownVesselCargoTanker   \n",
       "\n",
       "          fishing_label                label  \n",
       "mmsi                                          \n",
       "1               fishing         purse_seines  \n",
       "100900012       fishing  unknown_not_fishing  \n",
       "10201           fishing      unknown_fishing  \n",
       "10421670        fishing                 None  \n",
       "111111110   non_fishing                cargo  "
      ]
     },
     "execution_count": 19,
     "metadata": {},
     "output_type": "execute_result"
    }
   ],
   "source": [
    "df.head()"
   ]
  },
  {
   "cell_type": "code",
   "execution_count": 20,
   "metadata": {
    "collapsed": true
   },
   "outputs": [],
   "source": [
    "df.to_csv('labels_20170127.csv')"
   ]
  },
  {
   "cell_type": "code",
   "execution_count": 22,
   "metadata": {
    "collapsed": false
   },
   "outputs": [
    {
     "data": {
      "text/plain": [
       "'bq load --max_bad_records=100 --skip_leading_rows=1 world-fishing-827:Registry_matching_sources.WCPFC_20170123_download RFV_database_export.csv Submitted_by_CCM:string,VID:string,Vessel_Name:string,Flag:'"
      ]
     },
     "execution_count": 22,
     "metadata": {},
     "output_type": "execute_result"
    }
   ],
   "source": [
    "'''bq load --max_bad_records=100 --skip_leading_rows=1 world-fishing-827:Registry_matching_sources.WCPFC_20170123_download RFV_database_export.csv Submitted_by_CCM:string,VID:string,Vessel_Name:string,Flag:'''"
   ]
  },
  {
   "cell_type": "markdown",
   "metadata": {},
   "source": [
    "bq load --max_bad_records=100 --skip_leading_rows=1 world-fishing-827:scratch_david_mmsi_lists.training_20170127 labels_20170127.csv mmsi:integer,all_labels:string,length:float,engine_power:float,tonnage:float,split:sgring,source:string,fishing_label:string,label:string"
   ]
  },
  {
   "cell_type": "code",
   "execution_count": 26,
   "metadata": {
    "collapsed": true
   },
   "outputs": [],
   "source": [
    "c = '''bq load --max_bad_records=100 --skip_leading_rows=1 world-fishing-827:scratch_david_mmsi_lists.net_training_20170127 labels_20170127.csv mmsi:integer,all_labels:string,length:float,engine_power:float,tonnage:float,split:sgring,source:string,fishing_label:string,label:string'''"
   ]
  },
  {
   "cell_type": "code",
   "execution_count": 27,
   "metadata": {
    "collapsed": false
   },
   "outputs": [
    {
     "data": {
      "text/plain": [
       "0"
      ]
     },
     "execution_count": 27,
     "metadata": {},
     "output_type": "execute_result"
    }
   ],
   "source": [
    "import os \n",
    "os.system(c.replace('sgring','string'))"
   ]
  },
  {
   "cell_type": "code",
   "execution_count": null,
   "metadata": {
    "collapsed": true
   },
   "outputs": [],
   "source": []
  }
 ],
 "metadata": {
  "kernelspec": {
   "display_name": "Python 2",
   "language": "python",
   "name": "python2"
  },
  "language_info": {
   "codemirror_mode": {
    "name": "ipython",
    "version": 2
   },
   "file_extension": ".py",
   "mimetype": "text/x-python",
   "name": "python",
   "nbconvert_exporter": "python",
   "pygments_lexer": "ipython2",
   "version": "2.7.13"
  }
 },
 "nbformat": 4,
 "nbformat_minor": 2
}
