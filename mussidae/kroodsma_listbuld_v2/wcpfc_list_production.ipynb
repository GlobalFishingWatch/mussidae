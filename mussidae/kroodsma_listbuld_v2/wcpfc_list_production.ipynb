{
 "cells": [
  {
   "cell_type": "code",
   "execution_count": 1,
   "metadata": {
    "collapsed": false
   },
   "outputs": [],
   "source": [
    "import pandas as pd\n",
    "import csv\n",
    "import pandas.io.gbq as bq"
   ]
  },
  {
   "cell_type": "code",
   "execution_count": 12,
   "metadata": {
    "collapsed": false
   },
   "outputs": [],
   "source": [
    "# first find the geartypes\n",
    "'''\n",
    "Overall\t \n",
    "2\tRegistered\t \n",
    "3\tREGISTERED\t \n",
    "4\tOVERALL\t \n",
    "5\tBetweenPP\t \n",
    "6\toverall\n",
    "'''\n",
    "\n",
    "q = '''SELECT c.mmsi mmsi, \n",
    "if(a.Length_Type  = 'Overall' or a.Length_Type = 'OVERALL' or a.Length_Type = 'overall', a.Length,null)  length,\n",
    "a.Length_type length_type,\n",
    "if(a.Tonnage_Type = 'GRT', Null, a.Tonnage )  tonnage,\n",
    "a.Tonnage_Type tonnage_type,\n",
    "a.Engine_Power Engine_Power,\n",
    "a.Power_Units Power_Units\n",
    "FROM [world-fishing-827:Registry_matching_sources.WCPFC_20170123_download] a \n",
    "inner join [world-fishing-827:Registry_matching_sources.CLAV_12_14_2015] b\n",
    "on a.VID = b.rfmo_id \n",
    "left join [world-fishing-827:CLAV_match_results.v7_results] c\n",
    "on b.clav_TUVI = c.clav_TUVI\n",
    "where b.rfmo_name = 'WCPFC'\n",
    "and c.mmsi is not null\n",
    "'''\n",
    "\n",
    "wcpfc = pd.io.gbq.read_gbq(q, project_id='world-fishing-827', verbose = False )"
   ]
  },
  {
   "cell_type": "code",
   "execution_count": 13,
   "metadata": {
    "collapsed": false
   },
   "outputs": [
    {
     "data": {
      "text/html": [
       "<div>\n",
       "<table border=\"1\" class=\"dataframe\">\n",
       "  <thead>\n",
       "    <tr style=\"text-align: right;\">\n",
       "      <th></th>\n",
       "      <th>length</th>\n",
       "      <th>length_type</th>\n",
       "      <th>tonnage</th>\n",
       "      <th>tonnage_type</th>\n",
       "      <th>Engine_Power</th>\n",
       "      <th>Power_Units</th>\n",
       "    </tr>\n",
       "    <tr>\n",
       "      <th>mmsi</th>\n",
       "      <th></th>\n",
       "      <th></th>\n",
       "      <th></th>\n",
       "      <th></th>\n",
       "      <th></th>\n",
       "      <th></th>\n",
       "    </tr>\n",
       "  </thead>\n",
       "  <tbody>\n",
       "    <tr>\n",
       "      <th>412687180</th>\n",
       "      <td>None</td>\n",
       "      <td>Registered</td>\n",
       "      <td>115</td>\n",
       "      <td>GT</td>\n",
       "      <td>237</td>\n",
       "      <td>KW</td>\n",
       "    </tr>\n",
       "    <tr>\n",
       "      <th>416004299</th>\n",
       "      <td>23.9</td>\n",
       "      <td>Overall</td>\n",
       "      <td>99.7</td>\n",
       "      <td>GT</td>\n",
       "      <td>940</td>\n",
       "      <td>HP</td>\n",
       "    </tr>\n",
       "    <tr>\n",
       "      <th>412689850</th>\n",
       "      <td>None</td>\n",
       "      <td>Registered</td>\n",
       "      <td>128</td>\n",
       "      <td>GT</td>\n",
       "      <td>407</td>\n",
       "      <td>KW</td>\n",
       "    </tr>\n",
       "    <tr>\n",
       "      <th>416003700</th>\n",
       "      <td>56.9</td>\n",
       "      <td>Overall</td>\n",
       "      <td>720</td>\n",
       "      <td>GT</td>\n",
       "      <td>1400</td>\n",
       "      <td>HP</td>\n",
       "    </tr>\n",
       "    <tr>\n",
       "      <th>416003700</th>\n",
       "      <td>56.9</td>\n",
       "      <td>Overall</td>\n",
       "      <td>720</td>\n",
       "      <td>GT</td>\n",
       "      <td>1400</td>\n",
       "      <td>HP</td>\n",
       "    </tr>\n",
       "  </tbody>\n",
       "</table>\n",
       "</div>"
      ],
      "text/plain": [
       "          length length_type tonnage tonnage_type Engine_Power Power_Units\n",
       "mmsi                                                                      \n",
       "412687180   None  Registered     115           GT          237          KW\n",
       "416004299   23.9     Overall    99.7           GT          940          HP\n",
       "412689850   None  Registered     128           GT          407          KW\n",
       "416003700   56.9     Overall     720           GT         1400          HP\n",
       "416003700   56.9     Overall     720           GT         1400          HP"
      ]
     },
     "execution_count": 13,
     "metadata": {},
     "output_type": "execute_result"
    }
   ],
   "source": [
    "wcpfc = wcpfc.set_index('mmsi')\n",
    "wcpfc.head()"
   ]
  },
  {
   "cell_type": "code",
   "execution_count": 15,
   "metadata": {
    "collapsed": false
   },
   "outputs": [],
   "source": [
    "# 1 ps = 0.735499 kw \n",
    "# 1 hp = 0.7457 kw\n",
    "\n",
    "def calc_kw(a,b):\n",
    "    try:\n",
    "        c = 1\n",
    "        if b.upper() == \"HP\":\n",
    "            c = .75\n",
    "        if b.upper() == \"PS\":\n",
    "            c = .74\n",
    "        return float(a)*c\n",
    "    except:\n",
    "        return None\n",
    "\n",
    "\n",
    "wcpfc['power'] = wcpfc.apply(lambda row: calc_kw(row['Engine_Power'], row['Power_Units']), axis=1)"
   ]
  },
  {
   "cell_type": "code",
   "execution_count": 16,
   "metadata": {
    "collapsed": false
   },
   "outputs": [
    {
     "data": {
      "text/html": [
       "<div>\n",
       "<table border=\"1\" class=\"dataframe\">\n",
       "  <thead>\n",
       "    <tr style=\"text-align: right;\">\n",
       "      <th></th>\n",
       "      <th>length</th>\n",
       "      <th>length_type</th>\n",
       "      <th>tonnage</th>\n",
       "      <th>tonnage_type</th>\n",
       "      <th>Engine_Power</th>\n",
       "      <th>Power_Units</th>\n",
       "      <th>power</th>\n",
       "    </tr>\n",
       "    <tr>\n",
       "      <th>mmsi</th>\n",
       "      <th></th>\n",
       "      <th></th>\n",
       "      <th></th>\n",
       "      <th></th>\n",
       "      <th></th>\n",
       "      <th></th>\n",
       "      <th></th>\n",
       "    </tr>\n",
       "  </thead>\n",
       "  <tbody>\n",
       "    <tr>\n",
       "      <th>412687180</th>\n",
       "      <td>None</td>\n",
       "      <td>Registered</td>\n",
       "      <td>115</td>\n",
       "      <td>GT</td>\n",
       "      <td>237</td>\n",
       "      <td>KW</td>\n",
       "      <td>237.0</td>\n",
       "    </tr>\n",
       "    <tr>\n",
       "      <th>416004299</th>\n",
       "      <td>23.9</td>\n",
       "      <td>Overall</td>\n",
       "      <td>99.7</td>\n",
       "      <td>GT</td>\n",
       "      <td>940</td>\n",
       "      <td>HP</td>\n",
       "      <td>705.0</td>\n",
       "    </tr>\n",
       "    <tr>\n",
       "      <th>412689850</th>\n",
       "      <td>None</td>\n",
       "      <td>Registered</td>\n",
       "      <td>128</td>\n",
       "      <td>GT</td>\n",
       "      <td>407</td>\n",
       "      <td>KW</td>\n",
       "      <td>407.0</td>\n",
       "    </tr>\n",
       "    <tr>\n",
       "      <th>416003700</th>\n",
       "      <td>56.9</td>\n",
       "      <td>Overall</td>\n",
       "      <td>720</td>\n",
       "      <td>GT</td>\n",
       "      <td>1400</td>\n",
       "      <td>HP</td>\n",
       "      <td>1050.0</td>\n",
       "    </tr>\n",
       "    <tr>\n",
       "      <th>416003700</th>\n",
       "      <td>56.9</td>\n",
       "      <td>Overall</td>\n",
       "      <td>720</td>\n",
       "      <td>GT</td>\n",
       "      <td>1400</td>\n",
       "      <td>HP</td>\n",
       "      <td>1050.0</td>\n",
       "    </tr>\n",
       "  </tbody>\n",
       "</table>\n",
       "</div>"
      ],
      "text/plain": [
       "          length length_type tonnage tonnage_type Engine_Power Power_Units  \\\n",
       "mmsi                                                                         \n",
       "412687180   None  Registered     115           GT          237          KW   \n",
       "416004299   23.9     Overall    99.7           GT          940          HP   \n",
       "412689850   None  Registered     128           GT          407          KW   \n",
       "416003700   56.9     Overall     720           GT         1400          HP   \n",
       "416003700   56.9     Overall     720           GT         1400          HP   \n",
       "\n",
       "            power  \n",
       "mmsi               \n",
       "412687180   237.0  \n",
       "416004299   705.0  \n",
       "412689850   407.0  \n",
       "416003700  1050.0  \n",
       "416003700  1050.0  "
      ]
     },
     "execution_count": 16,
     "metadata": {},
     "output_type": "execute_result"
    }
   ],
   "source": [
    "wcpfc.head()"
   ]
  },
  {
   "cell_type": "code",
   "execution_count": 17,
   "metadata": {
    "collapsed": true
   },
   "outputs": [],
   "source": [
    "wcpfc.to_csv('input_lists/wcpfc.csv')"
   ]
  },
  {
   "cell_type": "code",
   "execution_count": null,
   "metadata": {
    "collapsed": true
   },
   "outputs": [],
   "source": []
  }
 ],
 "metadata": {
  "kernelspec": {
   "display_name": "Python 2",
   "language": "python",
   "name": "python2"
  },
  "language_info": {
   "codemirror_mode": {
    "name": "ipython",
    "version": 2
   },
   "file_extension": ".py",
   "mimetype": "text/x-python",
   "name": "python",
   "nbconvert_exporter": "python",
   "pygments_lexer": "ipython2",
   "version": "2.7.13"
  }
 },
 "nbformat": 4,
 "nbformat_minor": 2
}
