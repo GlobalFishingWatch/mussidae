{
 "cells": [
  {
   "cell_type": "markdown",
   "metadata": {},
   "source": [
    "# CCAMMLR List Production\n",
    "\n",
    "The following downloads the CCAMLR list from BigQuery, inspects the geartypes, and then maps the geartypes to the labels we decided on for the neural net input. See the readme.md file in this folder for more on this mapping"
   ]
  },
  {
   "cell_type": "code",
   "execution_count": null,
   "metadata": {
    "collapsed": true
   },
   "outputs": [],
   "source": []
  },
  {
   "cell_type": "code",
   "execution_count": 1,
   "metadata": {
    "collapsed": false
   },
   "outputs": [],
   "source": [
    "import pandas as pd\n",
    "import csv\n",
    "import pandas.io.gbq as bq"
   ]
  },
  {
   "cell_type": "code",
   "execution_count": 2,
   "metadata": {
    "collapsed": false
   },
   "outputs": [],
   "source": [
    "# first find the geartypes\n",
    "\n",
    "q = '''SELECT  geartype FROM [world-fishing-827:Registry_matching_sources.CCAMLR_July_2015_with_mmsi] group by geartype\n",
    "'''\n",
    "\n",
    "cc_gear =pd.io.gbq.read_gbq(q, project_id='world-fishing-827', verbose = False )"
   ]
  },
  {
   "cell_type": "code",
   "execution_count": 4,
   "metadata": {
    "collapsed": false
   },
   "outputs": [
    {
     "data": {
      "text/html": [
       "<div>\n",
       "<table border=\"1\" class=\"dataframe\">\n",
       "  <thead>\n",
       "    <tr style=\"text-align: right;\">\n",
       "      <th></th>\n",
       "      <th>geartype</th>\n",
       "    </tr>\n",
       "  </thead>\n",
       "  <tbody>\n",
       "    <tr>\n",
       "      <th>0</th>\n",
       "      <td>Longlines (not specified)</td>\n",
       "    </tr>\n",
       "    <tr>\n",
       "      <th>1</th>\n",
       "      <td>Longlines (not specified); Other trawls (not s...</td>\n",
       "    </tr>\n",
       "    <tr>\n",
       "      <th>2</th>\n",
       "      <td>Longlines (not specified); Pots</td>\n",
       "    </tr>\n",
       "    <tr>\n",
       "      <th>3</th>\n",
       "      <td>Other trawls (not specified)</td>\n",
       "    </tr>\n",
       "    <tr>\n",
       "      <th>4</th>\n",
       "      <td>Midwater trawls (not specified)</td>\n",
       "    </tr>\n",
       "  </tbody>\n",
       "</table>\n",
       "</div>"
      ],
      "text/plain": [
       "                                            geartype\n",
       "0                          Longlines (not specified)\n",
       "1  Longlines (not specified); Other trawls (not s...\n",
       "2                    Longlines (not specified); Pots\n",
       "3                       Other trawls (not specified)\n",
       "4                    Midwater trawls (not specified)"
      ]
     },
     "execution_count": 4,
     "metadata": {},
     "output_type": "execute_result"
    }
   ],
   "source": [
    "cc_gear"
   ]
  },
  {
   "cell_type": "code",
   "execution_count": 8,
   "metadata": {
    "collapsed": false
   },
   "outputs": [
    {
     "data": {
      "text/plain": [
       "u'Longlines (not specified); Other trawls (not specified)'"
      ]
     },
     "execution_count": 8,
     "metadata": {},
     "output_type": "execute_result"
    }
   ],
   "source": [
    "cc_gear.loc[1]['geartype']"
   ]
  },
  {
   "cell_type": "code",
   "execution_count": 9,
   "metadata": {
    "collapsed": true
   },
   "outputs": [],
   "source": [
    "gear_map = {'Longlines (not specified)':'Drifting_longlines',\n",
    "           'Longlines (not specified); Pots':\"Drifting_longlines|Pots_and_traps\",\n",
    "           'Longlines (not specified); Other trawls (not specified)':'Drifting_longlines|Trawlers',\n",
    "           'Other trawls (not specified)':\"Trawlers\",\n",
    "          'Midwater trawls (not specified)':'Trawlers' }"
   ]
  },
  {
   "cell_type": "code",
   "execution_count": 10,
   "metadata": {
    "collapsed": true
   },
   "outputs": [],
   "source": [
    "\n",
    "q = '''SELECT\n",
    "  mmsi,\n",
    "  geartype,\n",
    "  tonnage,\n",
    "  length\n",
    "FROM\n",
    "  [world-fishing-827:Registry_matching_sources.CCAMLR_July_2015_with_mmsi]\n",
    "'''\n",
    "\n",
    "ccamlr =pd.io.gbq.read_gbq(q, project_id='world-fishing-827', verbose = False )"
   ]
  },
  {
   "cell_type": "code",
   "execution_count": 12,
   "metadata": {
    "collapsed": false
   },
   "outputs": [],
   "source": [
    "ccamlr['label']=ccamlr['geartype'].map(gear_map)"
   ]
  },
  {
   "cell_type": "code",
   "execution_count": 16,
   "metadata": {
    "collapsed": false
   },
   "outputs": [],
   "source": [
    "ccamlr = ccamlr.set_index('mmsi')"
   ]
  },
  {
   "cell_type": "code",
   "execution_count": 17,
   "metadata": {
    "collapsed": false
   },
   "outputs": [
    {
     "data": {
      "text/html": [
       "<div>\n",
       "<table border=\"1\" class=\"dataframe\">\n",
       "  <thead>\n",
       "    <tr style=\"text-align: right;\">\n",
       "      <th></th>\n",
       "      <th>geartype</th>\n",
       "      <th>tonnage</th>\n",
       "      <th>length</th>\n",
       "      <th>label</th>\n",
       "    </tr>\n",
       "    <tr>\n",
       "      <th>mmsi</th>\n",
       "      <th></th>\n",
       "      <th></th>\n",
       "      <th></th>\n",
       "      <th></th>\n",
       "    </tr>\n",
       "  </thead>\n",
       "  <tbody>\n",
       "    <tr>\n",
       "      <th>503595000</th>\n",
       "      <td>Longlines (not specified)</td>\n",
       "      <td>1136</td>\n",
       "      <td>62.8</td>\n",
       "      <td>Drifting_longlines</td>\n",
       "    </tr>\n",
       "    <tr>\n",
       "      <th>503552000</th>\n",
       "      <td>Longlines (not specified); Other trawls (not s...</td>\n",
       "      <td>1906</td>\n",
       "      <td>68.1</td>\n",
       "      <td>Drifting_longlines|Trawlers</td>\n",
       "    </tr>\n",
       "    <tr>\n",
       "      <th>503556000</th>\n",
       "      <td>Longlines (not specified); Pots</td>\n",
       "      <td>1045</td>\n",
       "      <td>59.8</td>\n",
       "      <td>Drifting_longlines|Pots_and_traps</td>\n",
       "    </tr>\n",
       "    <tr>\n",
       "      <th>503000087</th>\n",
       "      <td>Longlines (not specified)</td>\n",
       "      <td>1155</td>\n",
       "      <td>54.58</td>\n",
       "      <td>Drifting_longlines</td>\n",
       "    </tr>\n",
       "    <tr>\n",
       "      <th>508770000</th>\n",
       "      <td>Longlines (not specified)</td>\n",
       "      <td>1362</td>\n",
       "      <td>49.9</td>\n",
       "      <td>Drifting_longlines</td>\n",
       "    </tr>\n",
       "  </tbody>\n",
       "</table>\n",
       "</div>"
      ],
      "text/plain": [
       "                                                    geartype tonnage length  \\\n",
       "mmsi                                                                          \n",
       "503595000                          Longlines (not specified)    1136   62.8   \n",
       "503552000  Longlines (not specified); Other trawls (not s...    1906   68.1   \n",
       "503556000                    Longlines (not specified); Pots    1045   59.8   \n",
       "503000087                          Longlines (not specified)    1155  54.58   \n",
       "508770000                          Longlines (not specified)    1362   49.9   \n",
       "\n",
       "                                       label  \n",
       "mmsi                                          \n",
       "503595000                 Drifting_longlines  \n",
       "503552000        Drifting_longlines|Trawlers  \n",
       "503556000  Drifting_longlines|Pots_and_traps  \n",
       "503000087                 Drifting_longlines  \n",
       "508770000                 Drifting_longlines  "
      ]
     },
     "execution_count": 17,
     "metadata": {},
     "output_type": "execute_result"
    }
   ],
   "source": [
    "ccamlr.head()"
   ]
  },
  {
   "cell_type": "code",
   "execution_count": 19,
   "metadata": {
    "collapsed": false
   },
   "outputs": [],
   "source": [
    "ccamlr[['label','tonnage','length']].to_csv('../classification-list-sourcesccamlr.csv')"
   ]
  },
  {
   "cell_type": "code",
   "execution_count": null,
   "metadata": {
    "collapsed": true
   },
   "outputs": [],
   "source": []
  }
 ],
 "metadata": {
  "kernelspec": {
   "display_name": "Python 2",
   "language": "python",
   "name": "python2"
  },
  "language_info": {
   "codemirror_mode": {
    "name": "ipython",
    "version": 2
   },
   "file_extension": ".py",
   "mimetype": "text/x-python",
   "name": "python",
   "nbconvert_exporter": "python",
   "pygments_lexer": "ipython2",
   "version": "2.7.13"
  }
 },
 "nbformat": 4,
 "nbformat_minor": 2
}
