{
 "cells": [
  {
   "cell_type": "markdown",
   "metadata": {},
   "source": [
    "# IATTC\n",
    "The IATTC list was obtained from Juan Mayorga, who scraped the data and matched it to the AIS data. The data is saved in `from_bigquery/matched_mmsi_IATTC.csv` (although it wasn't gotten from bigquery). this notebook reads the file in and converts the power from horsepower to kilowatt hours and saves it at `../classification-list-sources/iattc.csv`"
   ]
  },
  {
   "cell_type": "code",
   "execution_count": 2,
   "metadata": {
    "collapsed": false
   },
   "outputs": [],
   "source": [
    "import pandas as pd\n",
    "import csv\n",
    "import pandas.io.gbq as bq"
   ]
  },
  {
   "cell_type": "code",
   "execution_count": 4,
   "metadata": {
    "collapsed": false
   },
   "outputs": [],
   "source": [
    "# first find the geartypes\n",
    "iattc = pd.DataFrame.from_csv('from_bigquery/matched_mmsi_IATTC.csv')"
   ]
  },
  {
   "cell_type": "code",
   "execution_count": 5,
   "metadata": {
    "collapsed": false
   },
   "outputs": [
    {
     "data": {
      "text/html": [
       "<div>\n",
       "<table border=\"1\" class=\"dataframe\">\n",
       "  <thead>\n",
       "    <tr style=\"text-align: right;\">\n",
       "      <th></th>\n",
       "      <th>clav_TUVI</th>\n",
       "      <th>rfmo_id</th>\n",
       "      <th>length</th>\n",
       "      <th>tonnage</th>\n",
       "      <th>power</th>\n",
       "    </tr>\n",
       "    <tr>\n",
       "      <th>mmsi</th>\n",
       "      <th></th>\n",
       "      <th></th>\n",
       "      <th></th>\n",
       "      <th></th>\n",
       "      <th></th>\n",
       "    </tr>\n",
       "  </thead>\n",
       "  <tbody>\n",
       "    <tr>\n",
       "      <th>224130000</th>\n",
       "      <td>66</td>\n",
       "      <td>8767</td>\n",
       "      <td>38.00</td>\n",
       "      <td>427.0</td>\n",
       "      <td>NaN</td>\n",
       "    </tr>\n",
       "    <tr>\n",
       "      <th>431500180</th>\n",
       "      <td>395</td>\n",
       "      <td>4915</td>\n",
       "      <td>49.20</td>\n",
       "      <td>398.0</td>\n",
       "      <td>NaN</td>\n",
       "    </tr>\n",
       "    <tr>\n",
       "      <th>224120840</th>\n",
       "      <td>1666</td>\n",
       "      <td>8789</td>\n",
       "      <td>24.00</td>\n",
       "      <td>43.0</td>\n",
       "      <td>NaN</td>\n",
       "    </tr>\n",
       "    <tr>\n",
       "      <th>440847000</th>\n",
       "      <td>201</td>\n",
       "      <td>8133</td>\n",
       "      <td>49.91</td>\n",
       "      <td>410.0</td>\n",
       "      <td>1200.0</td>\n",
       "    </tr>\n",
       "    <tr>\n",
       "      <th>440751000</th>\n",
       "      <td>486</td>\n",
       "      <td>8403</td>\n",
       "      <td>49.91</td>\n",
       "      <td>410.0</td>\n",
       "      <td>1200.0</td>\n",
       "    </tr>\n",
       "  </tbody>\n",
       "</table>\n",
       "</div>"
      ],
      "text/plain": [
       "           clav_TUVI  rfmo_id  length  tonnage   power\n",
       "mmsi                                                  \n",
       "224130000         66     8767   38.00    427.0     NaN\n",
       "431500180        395     4915   49.20    398.0     NaN\n",
       "224120840       1666     8789   24.00     43.0     NaN\n",
       "440847000        201     8133   49.91    410.0  1200.0\n",
       "440751000        486     8403   49.91    410.0  1200.0"
      ]
     },
     "execution_count": 5,
     "metadata": {},
     "output_type": "execute_result"
    }
   ],
   "source": [
    "# ffa = ffa.set_index('mmsi')\n",
    "iattc.head()"
   ]
  },
  {
   "cell_type": "code",
   "execution_count": 8,
   "metadata": {
    "collapsed": false
   },
   "outputs": [],
   "source": [
    "iattc = iattc.rename(columns = {'power':'power_hp'})\n"
   ]
  },
  {
   "cell_type": "code",
   "execution_count": 11,
   "metadata": {
    "collapsed": false
   },
   "outputs": [],
   "source": [
    "# 1 ps = 0.735499 kw \n",
    "# 1 hp = 0.7457 kw\n",
    "\n",
    "def calc_kw(a):\n",
    "    try:\n",
    "        c = .75\n",
    "        return float(a)*c\n",
    "    except:\n",
    "        return None\n",
    "\n",
    "\n",
    "iattc['power'] = iattc.apply(lambda row: calc_kw(row['power_hp']), axis=1)"
   ]
  },
  {
   "cell_type": "code",
   "execution_count": 12,
   "metadata": {
    "collapsed": false
   },
   "outputs": [
    {
     "data": {
      "text/html": [
       "<div>\n",
       "<table border=\"1\" class=\"dataframe\">\n",
       "  <thead>\n",
       "    <tr style=\"text-align: right;\">\n",
       "      <th></th>\n",
       "      <th>clav_TUVI</th>\n",
       "      <th>rfmo_id</th>\n",
       "      <th>length</th>\n",
       "      <th>tonnage</th>\n",
       "      <th>power_hp</th>\n",
       "      <th>power</th>\n",
       "    </tr>\n",
       "    <tr>\n",
       "      <th>mmsi</th>\n",
       "      <th></th>\n",
       "      <th></th>\n",
       "      <th></th>\n",
       "      <th></th>\n",
       "      <th></th>\n",
       "      <th></th>\n",
       "    </tr>\n",
       "  </thead>\n",
       "  <tbody>\n",
       "    <tr>\n",
       "      <th>224130000</th>\n",
       "      <td>66</td>\n",
       "      <td>8767</td>\n",
       "      <td>38.00</td>\n",
       "      <td>427.0</td>\n",
       "      <td>NaN</td>\n",
       "      <td>NaN</td>\n",
       "    </tr>\n",
       "    <tr>\n",
       "      <th>431500180</th>\n",
       "      <td>395</td>\n",
       "      <td>4915</td>\n",
       "      <td>49.20</td>\n",
       "      <td>398.0</td>\n",
       "      <td>NaN</td>\n",
       "      <td>NaN</td>\n",
       "    </tr>\n",
       "    <tr>\n",
       "      <th>224120840</th>\n",
       "      <td>1666</td>\n",
       "      <td>8789</td>\n",
       "      <td>24.00</td>\n",
       "      <td>43.0</td>\n",
       "      <td>NaN</td>\n",
       "      <td>NaN</td>\n",
       "    </tr>\n",
       "    <tr>\n",
       "      <th>440847000</th>\n",
       "      <td>201</td>\n",
       "      <td>8133</td>\n",
       "      <td>49.91</td>\n",
       "      <td>410.0</td>\n",
       "      <td>1200.0</td>\n",
       "      <td>900.0</td>\n",
       "    </tr>\n",
       "    <tr>\n",
       "      <th>440751000</th>\n",
       "      <td>486</td>\n",
       "      <td>8403</td>\n",
       "      <td>49.91</td>\n",
       "      <td>410.0</td>\n",
       "      <td>1200.0</td>\n",
       "      <td>900.0</td>\n",
       "    </tr>\n",
       "  </tbody>\n",
       "</table>\n",
       "</div>"
      ],
      "text/plain": [
       "           clav_TUVI  rfmo_id  length  tonnage  power_hp  power\n",
       "mmsi                                                           \n",
       "224130000         66     8767   38.00    427.0       NaN    NaN\n",
       "431500180        395     4915   49.20    398.0       NaN    NaN\n",
       "224120840       1666     8789   24.00     43.0       NaN    NaN\n",
       "440847000        201     8133   49.91    410.0    1200.0  900.0\n",
       "440751000        486     8403   49.91    410.0    1200.0  900.0"
      ]
     },
     "execution_count": 12,
     "metadata": {},
     "output_type": "execute_result"
    }
   ],
   "source": [
    "iattc.head()"
   ]
  },
  {
   "cell_type": "code",
   "execution_count": 14,
   "metadata": {
    "collapsed": false
   },
   "outputs": [],
   "source": [
    "iattc.to_csv('../classification-list-sources/iattc.csv')"
   ]
  },
  {
   "cell_type": "code",
   "execution_count": null,
   "metadata": {
    "collapsed": true
   },
   "outputs": [],
   "source": []
  }
 ],
 "metadata": {
  "kernelspec": {
   "display_name": "Python 2",
   "language": "python",
   "name": "python2"
  },
  "language_info": {
   "codemirror_mode": {
    "name": "ipython",
    "version": 2
   },
   "file_extension": ".py",
   "mimetype": "text/x-python",
   "name": "python",
   "nbconvert_exporter": "python",
   "pygments_lexer": "ipython2",
   "version": "2.7.13"
  }
 },
 "nbformat": 4,
 "nbformat_minor": 2
}
