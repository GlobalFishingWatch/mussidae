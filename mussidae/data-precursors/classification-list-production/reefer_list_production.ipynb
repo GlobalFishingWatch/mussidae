{
 "cells": [
  {
   "cell_type": "markdown",
   "metadata": {},
   "source": [
    "# Reefer list production\n",
    "This gets the reefer list from BigQuery and saves it to `../classification-list-sources/reefers.csv`"
   ]
  },
  {
   "cell_type": "code",
   "execution_count": 1,
   "metadata": {
    "collapsed": true
   },
   "outputs": [],
   "source": [
    "import csv\n",
    "import pandas as pd\n",
    "import pandas.io.gbq as bq\n",
    "import numpy as np"
   ]
  },
  {
   "cell_type": "code",
   "execution_count": 2,
   "metadata": {
    "collapsed": false
   },
   "outputs": [
    {
     "name": "stdout",
     "output_type": "stream",
     "text": [
      "Requesting query... ok.\n",
      "Query running...\n",
      "Query done.\n",
      "Cache hit.\n",
      "\n",
      "Retrieving results...\n",
      "Got 1130 rows.\n",
      "\n",
      "Total time taken 1.0 s.\n",
      "Finished at 2017-01-12 20:45:35.\n"
     ]
    }
   ],
   "source": [
    "q = '''SELECT\n",
    "  mmsi,\n",
    "  \"Reefer\" as label,\n",
    "  avg_length AS length,\n",
    "  avg_gross_tonnage AS tonnage\n",
    "FROM\n",
    "  [transshipments.reefer_list_20170102]\n",
    "WHERE\n",
    "  mmsi IS NOT NULL'''\n",
    "\n",
    "df = bq.read_gbq(q, project_id=\"world-fishing-827\")"
   ]
  },
  {
   "cell_type": "code",
   "execution_count": 4,
   "metadata": {
    "collapsed": false
   },
   "outputs": [],
   "source": [
    "df.to_csv('../classification-list-sources/reefers.csv')"
   ]
  },
  {
   "cell_type": "code",
   "execution_count": null,
   "metadata": {
    "collapsed": true
   },
   "outputs": [],
   "source": []
  }
 ],
 "metadata": {
  "kernelspec": {
   "display_name": "Python 2",
   "language": "python",
   "name": "python2"
  },
  "language_info": {
   "codemirror_mode": {
    "name": "ipython",
    "version": 2
   },
   "file_extension": ".py",
   "mimetype": "text/x-python",
   "name": "python",
   "nbconvert_exporter": "python",
   "pygments_lexer": "ipython2",
   "version": "2.7.13"
  }
 },
 "nbformat": 4,
 "nbformat_minor": 2
}
