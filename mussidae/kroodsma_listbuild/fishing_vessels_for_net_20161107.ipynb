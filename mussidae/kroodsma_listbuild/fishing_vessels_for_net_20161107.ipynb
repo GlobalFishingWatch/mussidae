{
 "cells": [
  {
   "cell_type": "markdown",
   "metadata": {},
   "source": [
    "# Generate Lists for Neural Net"
   ]
  },
  {
   "cell_type": "code",
   "execution_count": 312,
   "metadata": {
    "collapsed": false
   },
   "outputs": [],
   "source": [
    "import csv\n",
    "import bq\n",
    "import time\n",
    "import numpy as np\n",
    "import pandas as pd\n",
    "import matplotlib.pyplot as plt\n",
    "%matplotlib inline\n",
    "import seaborn as sb"
   ]
  },
  {
   "cell_type": "code",
   "execution_count": 319,
   "metadata": {
    "collapsed": true
   },
   "outputs": [],
   "source": [
    "client = bq.Client.Get()\n",
    "\n",
    "def Query(q):\n",
    "    t0 = time.time()\n",
    "    answer = client.ReadTableRows(client.Query(q)['configuration']['query']['destinationTable'])\n",
    "    print 'Query time: ' + str(time.time() - t0) + ' seconds.'\n",
    "    return answer"
   ]
  },
  {
   "cell_type": "markdown",
   "metadata": {},
   "source": [
    "## Get Vessels that Have Been Matched to the CLAV List"
   ]
  },
  {
   "cell_type": "code",
   "execution_count": 320,
   "metadata": {
    "collapsed": false
   },
   "outputs": [
    {
     "name": "stdout",
     "output_type": "stream",
     "text": [
      "Waiting on bqjob_r2e508090681f5ff0_00000158417ac161_63 ... (0s) Current status: DONE   \n",
      "Query time: 1.65427398682 seconds.\n"
     ]
    }
   ],
   "source": [
    "q = '''select shiptype, count(*) num from [world-fishing-827:CLAV_match_results.v7_results] group by shiptype\n",
    "       order by num desc '''\n",
    "geartypes = Query(q)"
   ]
  },
  {
   "cell_type": "code",
   "execution_count": 321,
   "metadata": {
    "collapsed": false
   },
   "outputs": [
    {
     "name": "stdout",
     "output_type": "stream",
     "text": [
      "Longliners 2057\n",
      "Tuna longliners 975\n",
      "Purse seiners 412\n",
      "Fish carriers 406\n",
      "Trawlers 392\n",
      "Tuna purse seiners 282\n",
      "Pole and Line vessels 203\n",
      "Non-fishing vessels nei 146\n",
      "Unknown 127\n",
      "Trollers 86\n",
      "Recreational fishing vessels 52\n",
      "Multipurpose vessels 47\n",
      "Support Vessels 42\n",
      "Bunkers 41\n",
      "Fishery research vessels 37\n",
      "Gillnetters 30\n",
      "Multipurpose vessels nei 28\n",
      "Dredgers 8\n",
      "None 5\n",
      "Handliners 4\n",
      "Liners nei 3\n",
      "Liners 3\n",
      "Motherships 2\n",
      "Seiners 2\n",
      "Stern trawlers 1\n",
      "Seiners nei 1\n",
      "Other line vessels 1\n"
     ]
    }
   ],
   "source": [
    "for g in geartypes:\n",
    "    print g[0],g[1]"
   ]
  },
  {
   "cell_type": "markdown",
   "metadata": {},
   "source": [
    "## Rules for CLAV Shiptypes"
   ]
  },
  {
   "cell_type": "code",
   "execution_count": 322,
   "metadata": {
    "collapsed": false
   },
   "outputs": [],
   "source": [
    "clav_rules = {\n",
    "'Longliners': 'Drifting longlines',\n",
    "'Tuna longliners': 'Drifting longlines',\n",
    "'Purse seiners': 'Purse seiners',\n",
    "'Trawlers': 'Trawlers',\n",
    "'Trawler':'Trawlers',\n",
    "'Trollers':'Trollers' ,\n",
    "'Pole and Line vessels': 'Pole and line',\n",
    "'Tuna purse seiners':'Purse seiners',\n",
    "'Gillnetters':'Set gillnets'}\n",
    "    \n",
    "# ignore the following cageories\n",
    "'''\n",
    "Fish carriers\n",
    "Non-fishing vessels nei 146\n",
    "Unknown 127\n",
    "Recreational fishing vessels 52\n",
    "Multipurpose vessels 47\n",
    "Support Vessels 42\n",
    "Bunkers 41\n",
    "Fishery research vessels 37\n",
    "Multipurpose vessels nei 28\n",
    "Dredgers 8\n",
    "None 5\n",
    "Handliners 4\n",
    "Liners nei 3\n",
    "Liners 3\n",
    "Motherships 2\n",
    "Seiners 2\n",
    "Stern trawlers 1\n",
    "Seiners nei 1\n",
    "Other line vessels'''\n",
    "None"
   ]
  },
  {
   "cell_type": "code",
   "execution_count": 323,
   "metadata": {
    "collapsed": false
   },
   "outputs": [
    {
     "name": "stdout",
     "output_type": "stream",
     "text": [
      "Waiting on bqjob_r5386d72732e23d2_00000158417ad064_64 ... (0s) Current status: DONE   \n",
      "Query time: 1.79481387138 seconds.\n"
     ]
    }
   ],
   "source": [
    "# get the important data from the CLAV lists\n",
    "q = '''\n",
    "select mmsi, group_concat(shiptype) geartype, avg(length),avg(tonnage), \n",
    "avg(stddev_length), avg(stddev_tonnage), count(*) number_shiptypes from\n",
    "(select a.mmsi as mmsi, a.shiptype as shiptype, avg(b.length) length, avg(c.tonnage) tonnage, \n",
    "stddev(b.length) stddev_length, stddev(c.tonnage) stddev_tonnage\n",
    "from \n",
    "(SELECT mmsi, shipname, \n",
    "CASE\n",
    "  WHEN shiptype = 'Tuna purse seiners' THEN 'Purse seines'\n",
    "  WHEN shiptype = 'Purse seiners' THEN 'Purse seines'\n",
    "  WHEN shiptype = 'Tuna longliners' THEN 'Drifting longlines'\n",
    "  WHEN shiptype = 'Trawler' THEN 'Trawlers'\n",
    "  ELSE shiptype\n",
    "END shiptype, \n",
    "clav_TUVI FROM [world-fishing-827:CLAV_match_results.v7_results]) a\n",
    "left join\n",
    "(select length, clav_TUVI from [world-fishing-827:Registry_matching_sources.CLAV_12_14_2015] where length is not null)  b\n",
    "on a.clav_TUVI = b.clav_TUVI\n",
    "left join \n",
    "(select tonnage, clav_TUVI from [world-fishing-827:Registry_matching_sources.CLAV_12_14_2015] where tonnage is not null)  c\n",
    "on a.clav_TUVI = c.clav_TUVI\n",
    "group by mmsi, shiptype)\n",
    "group by mmsi\n",
    "having number_shiptypes = 1\n",
    "'''\n",
    "clav = Query(q)"
   ]
  },
  {
   "cell_type": "code",
   "execution_count": 324,
   "metadata": {
    "collapsed": false
   },
   "outputs": [],
   "source": [
    "rows = []\n",
    "mmsis = []\n",
    "\n",
    "for c in clav:\n",
    "    if c[1] in clav_rules: # if it is a shiptype we are including\n",
    "        mmsi = c[0]\n",
    "        geartype = clav_rules[c[1]] # replace with the right shipname\n",
    "        length = c[2]\n",
    "        tonnage = c[3]\n",
    "        stddev_length = c[4]\n",
    "        stddev_tonnage = c[5]\n",
    "        if length !=None: length=float(c[2])\n",
    "        if tonnage !=None: tonnage = float(c[3])\n",
    "        if stddev_length !=None: stddev_length = float(c[4])\n",
    "        if stddev_tonnage !=None: stddev_tonnage = float(c[5])\n",
    "        if stddev_length !=None and stddev_length/length > .1:\n",
    "            length = None # if different entries differ by more than 10 percent, ignore\n",
    "        if stddev_tonnage !=None and stddev_tonnage/tonnage > 1:\n",
    "            tonnage = None\n",
    "        rows.append([geartype,length,tonnage])\n",
    "        mmsis.append(mmsi)"
   ]
  },
  {
   "cell_type": "code",
   "execution_count": 325,
   "metadata": {
    "collapsed": false
   },
   "outputs": [],
   "source": [
    "clav_frame = pd.DataFrame(rows,index=mmsis,columns=['clav_geartype', 'clav_length', 'clav_tonnage'])"
   ]
  },
  {
   "cell_type": "code",
   "execution_count": 326,
   "metadata": {
    "collapsed": false
   },
   "outputs": [
    {
     "name": "stdout",
     "output_type": "stream",
     "text": [
      "clav_geartype    Drifting longlines\n",
      "clav_length                      25\n",
      "clav_tonnage                     85\n",
      "Name: 224025440, dtype: object\n"
     ]
    },
    {
     "data": {
      "text/html": [
       "<div>\n",
       "<table border=\"1\" class=\"dataframe\">\n",
       "  <thead>\n",
       "    <tr style=\"text-align: right;\">\n",
       "      <th></th>\n",
       "      <th>clav_geartype</th>\n",
       "      <th>clav_length</th>\n",
       "      <th>clav_tonnage</th>\n",
       "    </tr>\n",
       "  </thead>\n",
       "  <tbody>\n",
       "    <tr>\n",
       "      <th>412270059</th>\n",
       "      <td>Drifting longlines</td>\n",
       "      <td>50.000</td>\n",
       "      <td>647.000</td>\n",
       "    </tr>\n",
       "    <tr>\n",
       "      <th>440328000</th>\n",
       "      <td>Drifting longlines</td>\n",
       "      <td>32.210</td>\n",
       "      <td>167.500</td>\n",
       "    </tr>\n",
       "    <tr>\n",
       "      <th>412371179</th>\n",
       "      <td>Drifting longlines</td>\n",
       "      <td>48.025</td>\n",
       "      <td>478.000</td>\n",
       "    </tr>\n",
       "    <tr>\n",
       "      <th>227926000</th>\n",
       "      <td>Set gillnets</td>\n",
       "      <td>26.095</td>\n",
       "      <td>159.525</td>\n",
       "    </tr>\n",
       "    <tr>\n",
       "      <th>247120430</th>\n",
       "      <td>Trawlers</td>\n",
       "      <td>26.880</td>\n",
       "      <td>90.000</td>\n",
       "    </tr>\n",
       "  </tbody>\n",
       "</table>\n",
       "</div>"
      ],
      "text/plain": [
       "                clav_geartype  clav_length  clav_tonnage\n",
       "412270059  Drifting longlines       50.000       647.000\n",
       "440328000  Drifting longlines       32.210       167.500\n",
       "412371179  Drifting longlines       48.025       478.000\n",
       "227926000        Set gillnets       26.095       159.525\n",
       "247120430            Trawlers       26.880        90.000"
      ]
     },
     "execution_count": 326,
     "metadata": {},
     "output_type": "execute_result"
    }
   ],
   "source": [
    "print clav_frame.ix['224025440']\n",
    "clav_frame.head()"
   ]
  },
  {
   "cell_type": "code",
   "execution_count": 327,
   "metadata": {
    "collapsed": false
   },
   "outputs": [
    {
     "data": {
      "text/html": [
       "<div>\n",
       "<table border=\"1\" class=\"dataframe\">\n",
       "  <thead>\n",
       "    <tr style=\"text-align: right;\">\n",
       "      <th></th>\n",
       "      <th>clav_length</th>\n",
       "      <th>clav_tonnage</th>\n",
       "    </tr>\n",
       "    <tr>\n",
       "      <th>clav_geartype</th>\n",
       "      <th></th>\n",
       "      <th></th>\n",
       "    </tr>\n",
       "  </thead>\n",
       "  <tbody>\n",
       "    <tr>\n",
       "      <th>Drifting longlines</th>\n",
       "      <td>542</td>\n",
       "      <td>540</td>\n",
       "    </tr>\n",
       "    <tr>\n",
       "      <th>Pole and line</th>\n",
       "      <td>157</td>\n",
       "      <td>160</td>\n",
       "    </tr>\n",
       "    <tr>\n",
       "      <th>Set gillnets</th>\n",
       "      <td>23</td>\n",
       "      <td>17</td>\n",
       "    </tr>\n",
       "    <tr>\n",
       "      <th>Trawlers</th>\n",
       "      <td>387</td>\n",
       "      <td>334</td>\n",
       "    </tr>\n",
       "    <tr>\n",
       "      <th>Trollers</th>\n",
       "      <td>45</td>\n",
       "      <td>49</td>\n",
       "    </tr>\n",
       "  </tbody>\n",
       "</table>\n",
       "</div>"
      ],
      "text/plain": [
       "                    clav_length  clav_tonnage\n",
       "clav_geartype                                \n",
       "Drifting longlines          542           540\n",
       "Pole and line               157           160\n",
       "Set gillnets                 23            17\n",
       "Trawlers                    387           334\n",
       "Trollers                     45            49"
      ]
     },
     "execution_count": 327,
     "metadata": {},
     "output_type": "execute_result"
    }
   ],
   "source": [
    "clav_frame.groupby('clav_geartype').count()"
   ]
  },
  {
   "cell_type": "markdown",
   "metadata": {},
   "source": [
    "## Get Vessels that Have Been Matched to the ITU List"
   ]
  },
  {
   "cell_type": "code",
   "execution_count": 328,
   "metadata": {
    "collapsed": false
   },
   "outputs": [
    {
     "name": "stdout",
     "output_type": "stream",
     "text": [
      "Waiting on bqjob_r3d4df4cb0b232f59_00000158417ad7b5_65 ... (0s) Current status: DONE   \n",
      "Query time: 1.31226110458 seconds.\n"
     ]
    }
   ],
   "source": [
    "# First identify the geartypes\n",
    "\n",
    "q = '''select itu_Individual_classification, count(*) num from \n",
    "[world-fishing-827:Registry_matching_sources.ITU_Dec_2015_Fishing] \n",
    "group by itu_Individual_classification\n",
    "order by 2 desc'''\n",
    "itu_gears = Query(q)"
   ]
  },
  {
   "cell_type": "code",
   "execution_count": 329,
   "metadata": {
    "collapsed": false,
    "scrolled": false
   },
   "outputs": [
    {
     "name": "stdout",
     "output_type": "stream",
     "text": [
      "Fishing vessel 10352\n",
      "Trawler 633\n",
      "None 399\n",
      "Lobster ship 261\n",
      "Motor boat 86\n",
      "Unspecified 57\n",
      "Passenger ship 47\n",
      "Cutter 25\n",
      "Launch 18\n",
      "Tunny ship 18\n",
      "Yacht 11\n",
      "Barge 9\n",
      "Research ship /Survey ship 9\n",
      "Reefer 7\n",
      "Salvage ship 7\n",
      "Liner 4\n",
      "Cable ship 3\n",
      "Coaster 3\n",
      "Cargo ship 3\n",
      "Barge carrier 3\n",
      "Auxiliary ship 3\n",
      "Sailing ship 2\n",
      "Whaler 2\n",
      "RoRo ship 2\n",
      "Fishing guard 2\n",
      "Lugger 2\n",
      "Bulk carrier 2\n",
      "Factory ship 2\n",
      "Training ship 2\n",
      "Air-cushion vehicle 1\n",
      "Sloop 1\n",
      "Cargo and passenger 1\n",
      "Cruiser 1\n",
      "Supply vessel 1\n",
      "Lightship 1\n",
      "Vehicle carrier 1\n",
      "Dredger 1\n",
      "Ship used by divers 1\n",
      "Pontoon 1\n"
     ]
    }
   ],
   "source": [
    "for i in itu_gears:\n",
    "    print i[0],i[1]"
   ]
  },
  {
   "cell_type": "code",
   "execution_count": 330,
   "metadata": {
    "collapsed": false
   },
   "outputs": [],
   "source": [
    "# only the following matter\n",
    "itu_rules = {\n",
    "  'Trawler':'Trawlers',\n",
    "  'Lobster ship': 'Pots and traps',\n",
    "  'Fishing vessel':'Fishing vessel'\n",
    "}"
   ]
  },
  {
   "cell_type": "code",
   "execution_count": 331,
   "metadata": {
    "collapsed": false
   },
   "outputs": [
    {
     "name": "stdout",
     "output_type": "stream",
     "text": [
      "Waiting on bqjob_r5a6a75dca0de98f1_00000158417adce1_66 ... (0s) Current status: DONE   \n",
      "Query time: 2.88003516197 seconds.\n"
     ]
    }
   ],
   "source": [
    "q = ''' SELECT\n",
    "    mmsi,\n",
    "    itu_Individual_classification,\n",
    "    tonnage\n",
    "  FROM\n",
    "    [world-fishing-827:Registry_matching_sources.ITU_Dec_2015_Fishing]'''\n",
    "itu = Query(q)"
   ]
  },
  {
   "cell_type": "code",
   "execution_count": 332,
   "metadata": {
    "collapsed": false
   },
   "outputs": [],
   "source": [
    "rows = []\n",
    "mmsis = []\n",
    "\n",
    "for c in itu:\n",
    "    if c[1] in itu_rules: # if it is a shiptype we are including\n",
    "        mmsi = c[0]\n",
    "        geartype = itu_rules[c[1]] # replace with the right shipname\n",
    "        try:\n",
    "            tonnage = float(c[2])\n",
    "        except:\n",
    "            tonnage = None       \n",
    "        rows.append([geartype,tonnage])\n",
    "        mmsis.append(mmsi)"
   ]
  },
  {
   "cell_type": "code",
   "execution_count": 333,
   "metadata": {
    "collapsed": false
   },
   "outputs": [],
   "source": [
    "itu_frame = pd.DataFrame(rows,index=mmsis,columns=['itu_geartype', 'itu_tonnage'])"
   ]
  },
  {
   "cell_type": "code",
   "execution_count": 334,
   "metadata": {
    "collapsed": false
   },
   "outputs": [
    {
     "data": {
      "text/html": [
       "<div>\n",
       "<table border=\"1\" class=\"dataframe\">\n",
       "  <thead>\n",
       "    <tr style=\"text-align: right;\">\n",
       "      <th></th>\n",
       "      <th>itu_geartype</th>\n",
       "      <th>itu_tonnage</th>\n",
       "    </tr>\n",
       "  </thead>\n",
       "  <tbody>\n",
       "    <tr>\n",
       "      <th>204211000</th>\n",
       "      <td>Fishing vessel</td>\n",
       "      <td>NaN</td>\n",
       "    </tr>\n",
       "    <tr>\n",
       "      <th>204212000</th>\n",
       "      <td>Trawlers</td>\n",
       "      <td>NaN</td>\n",
       "    </tr>\n",
       "    <tr>\n",
       "      <th>204213000</th>\n",
       "      <td>Fishing vessel</td>\n",
       "      <td>NaN</td>\n",
       "    </tr>\n",
       "    <tr>\n",
       "      <th>204218000</th>\n",
       "      <td>Fishing vessel</td>\n",
       "      <td>NaN</td>\n",
       "    </tr>\n",
       "    <tr>\n",
       "      <th>204228000</th>\n",
       "      <td>Fishing vessel</td>\n",
       "      <td>NaN</td>\n",
       "    </tr>\n",
       "  </tbody>\n",
       "</table>\n",
       "</div>"
      ],
      "text/plain": [
       "             itu_geartype  itu_tonnage\n",
       "204211000  Fishing vessel          NaN\n",
       "204212000        Trawlers          NaN\n",
       "204213000  Fishing vessel          NaN\n",
       "204218000  Fishing vessel          NaN\n",
       "204228000  Fishing vessel          NaN"
      ]
     },
     "execution_count": 334,
     "metadata": {},
     "output_type": "execute_result"
    }
   ],
   "source": [
    "itu_frame.head()"
   ]
  },
  {
   "cell_type": "markdown",
   "metadata": {},
   "source": [
    "## Get Vessels that Have Been Matched to the EU List"
   ]
  },
  {
   "cell_type": "code",
   "execution_count": 335,
   "metadata": {
    "collapsed": false
   },
   "outputs": [
    {
     "name": "stdout",
     "output_type": "stream",
     "text": [
      "Waiting on bqjob_r4a76e15196bac9a8_00000158417ae86a_67 ... (0s) Current status: DONE   \n",
      "Query time: 1.07890892029 seconds.\n"
     ]
    }
   ],
   "source": [
    "# first find the geartypes\n",
    "\n",
    "q = '''select geartype, count(*) from (select a.mmsi, b.Gear_Main_Code geartype, \n",
    "b.Loa length, b.Ton_Gt tonnage from \n",
    "(SELECT mmsi,row_number FROM [world-fishing-827:EU_match_results.EU_v2]) a\n",
    "left join [Registry_matching_sources.EU_registry_311215] b\n",
    "on a.row_number = b.row_number) group by geartype order by 2 desc'''\n",
    "eu_gear = Query(q)"
   ]
  },
  {
   "cell_type": "code",
   "execution_count": 336,
   "metadata": {
    "collapsed": false
   },
   "outputs": [
    {
     "name": "stdout",
     "output_type": "stream",
     "text": [
      "OTB Bottom otter trawls 3118\n",
      "PS Purse seines 779\n",
      "TBB Beam trawls 517\n",
      "GNS Set gillnets (anchored) 487\n",
      "OTM Midwater otter trawls 311\n",
      "LLS Set longlines 241\n",
      "DRB Boat dredges 229\n",
      "LLD Drifting longlines 206\n",
      "FPO Pots and traps 141\n",
      "GTR Trammel nets 100\n",
      "OTT Otter twin trawls 66\n",
      "HMD Mechanised dredges including suction dredges 59\n",
      "LHP Handlines and pole-lines (hand operated) 48\n",
      "PTB Bottom pair trawls 43\n",
      "SDN Danish seines 35\n",
      "PTM Midwater pair trawls 29\n",
      "SSC Scottish seines 23\n",
      "GND Drift nets 16\n",
      "DRH Hand dredges operating from a boat 14\n",
      "GTN Combined gillnets-trammel nets 7\n",
      "LTL Trolling lines 7\n",
      "GNC Encircling gillnets 3\n",
      "SPR Pair seines 3\n",
      "SB Beach seines 2\n",
      "LNB Boat-operated lift nets 2\n",
      "NO No gear 1\n",
      "LA Lampara nets 1\n"
     ]
    }
   ],
   "source": [
    "# see http://ec.europa.eu/fisheries/fleet/index.cfm?method=Codification.Cod_gear\n",
    "eu_gear_codes = {\"DRB\":\"Boat dredges\",\n",
    "\"DRH\":\"Hand dredges operating from a boat\",\n",
    "\"HMD\":\"Mechanised dredges including suction dredges\",\n",
    "\"GNC\":\"Encircling gillnets\",\n",
    "\"GND\":\"Drift nets\",\n",
    "\"GNS\":\"Set gillnets (anchored)\",\n",
    "\"GTN\":\"Combined gillnets-trammel nets\",\n",
    "\"GTR\":\"Trammel nets\",\n",
    "\"HAR\":\"Harpoons\",\n",
    "\"LLS\":\"Set longlines\",\n",
    "\"LLD\":\"Drifting longlines\",\n",
    "\"LHM\":\"Handlines and pole-lines (mechanised)\",\n",
    "\"LHP\":\"Handlines and pole-lines (hand operated)\",\n",
    "\"LLD\":\"Drifting longlines\",\n",
    "\"LLS\":\"Set longlines\",\n",
    "\"LTL\":\"Trolling lines\",\n",
    "\"LNB\":\"Boat-operated lift nets\",\n",
    "\"LNS\":\"Shore-operated stationary lift nets\",\n",
    "\"NO\":\"No gear\",\n",
    "\"SB\":\"Beach seines\",\n",
    "\"SDN\":\"Danish seines\",\n",
    "\"SPR\":\"Pair seines\",\n",
    "\"SSC\":\"Scottish seines\",\n",
    "\"LA\":\"Lampara nets\",\n",
    "\"PS\":\"Purse seines\",\n",
    "\"FPO\":\"Pots and traps\",\n",
    "\"OTB\":\"Bottom otter trawls\",\n",
    "\"OTM\":\"Midwater otter trawls\",\n",
    "\"OTT\":\"Otter twin trawls\",\n",
    "\"PTB\":\"Bottom pair trawls\",\n",
    "\"PTM\":\"Midwater pair trawls\",\n",
    "\"TBB\":\"Beam trawls\",\n",
    "\"NK\":\"Unknown gear\"};\n",
    "\n",
    "\n",
    "for e in eu_gear:\n",
    "    print e[0],eu_gear_codes[e[0]], e[1]"
   ]
  },
  {
   "cell_type": "code",
   "execution_count": 337,
   "metadata": {
    "collapsed": true
   },
   "outputs": [],
   "source": [
    "eu_gear2 = {\"DRB\":\"Trawlers\",\n",
    "\"DRH\":\"Trawlers\",\n",
    "\"HMD\":\"Trawlers\",\n",
    "\"GNC\":\"Set gillnets\",\n",
    "\"GND\":\"Fishing vessel\",\n",
    "\"GNS\":\"Set gillnets\",\n",
    "\"GTN\":\"Set gillnets\",\n",
    "\"GTR\":\"Set gillnets\",\n",
    "\"HAR\":\"Fishing vessel\",\n",
    "\"LHM\":\"Pole and line\",\n",
    "\"LHP\":\"Pole and line\",\n",
    "\"LLD\":\"Drifting longlines\",\n",
    "\"LLS\":\"Set longlines\",\n",
    "\"LTL\":\"Trollers\",\n",
    "\"LNB\":\"Fishing vessel\",\n",
    "\"LNS\":\"Fishing vessel\",\n",
    "\"NO\":\"Fishing vessel\",\n",
    "\"SB\":\"Fishing vessel\",\n",
    "\"SDN\":\"Fishing vessel\",\n",
    "\"SPR\":\"Fishing vessel\",\n",
    "\"SSC\":\"Fishing vessel\",\n",
    "\"LA\":\"Set gillnets\",\n",
    "\"PS\":\"Purse seines\",\n",
    "\"FPO\":\"Pots and traps\",\n",
    "\"OTB\":\"Trawlers\",\n",
    "\"OTM\":\"Trawlers\",\n",
    "\"OTT\":\"Trawlers\",\n",
    "\"PTB\":\"Trawlers\",\n",
    "\"PTM\":\"Trawlers\",\n",
    "\"TBB\":\"Trawlers\",\n",
    "\"NK\":\"Unknown gear\",\n",
    "\"NO\":\"No gear\"}"
   ]
  },
  {
   "cell_type": "code",
   "execution_count": 338,
   "metadata": {
    "collapsed": false
   },
   "outputs": [
    {
     "name": "stdout",
     "output_type": "stream",
     "text": [
      "Waiting on bqjob_r3465ad4fe7edee9e_00000158417aecc4_68 ... (0s) Current status: DONE   \n",
      "Query time: 2.99647688866 seconds.\n"
     ]
    }
   ],
   "source": [
    "# get EU values\n",
    "\n",
    "q = '''\n",
    "select mmsi, \n",
    "group_concat(geartype) geartype, \n",
    "avg(length), \n",
    "avg(tonnage),\n",
    "count(*) num_mmsi,\n",
    "group_concat(secondary_geartype) secondary_geartype\n",
    "from\n",
    "(select a.mmsi mmsi, b.Gear_Main_Code geartype, \n",
    "b.Loa length, b.Ton_Gt tonnage, b.Gear_Sec_Code as secondary_geartype\n",
    "from \n",
    "(SELECT mmsi,row_number FROM [world-fishing-827:EU_match_results.EU_v2]) a\n",
    "left join [Registry_matching_sources.EU_registry_311215] b\n",
    "on a.row_number = b.row_number)\n",
    "group by mmsi\n",
    "having num_mmsi = 1\n",
    "\n",
    "'''\n",
    "eu = Query(q)"
   ]
  },
  {
   "cell_type": "code",
   "execution_count": 391,
   "metadata": {
    "collapsed": false
   },
   "outputs": [],
   "source": [
    "rows = []\n",
    "mmsis = []\n",
    "\n",
    "bad_mmsis = []\n",
    "\n",
    "for c in eu:\n",
    "    if c[1] in eu_gear2 and c[1] != \"NO\": # if it is a shiptype we are including\n",
    "        mmsi = c[0]\n",
    "        geartype2 = eu_gear2[c[1]] # replace with the right geartype\n",
    "        secondary_geartype = eu_gear2[c[5]]\n",
    "        if secondary_geartype == \"No gear\" or secondary_geartype == geartype2:\n",
    "            geartype = geartype2\n",
    "            if geartype2[:3] == \"Set\" or geartype2 ==\"Pots and traps\":\n",
    "                geartype = \"Set gear\"\n",
    "            length = c[2]\n",
    "            tonnage = c[3]\n",
    "            if length !=None: length=float(c[2])\n",
    "            if tonnage !=None: tonnage = float(c[3])\n",
    "            rows.append([geartype, geartype2, length, tonnage])\n",
    "            mmsis.append(mmsi)\n",
    "        else:\n",
    "            bad_mmsis.append([mmsi,geartype2,secondary_geartype])"
   ]
  },
  {
   "cell_type": "code",
   "execution_count": 392,
   "metadata": {
    "collapsed": false
   },
   "outputs": [],
   "source": [
    "eu_frame = pd.DataFrame(rows,index=mmsis,columns=['eu_geartype','eu_geartype2','eu_length', 'eu_tonnage'])"
   ]
  },
  {
   "cell_type": "code",
   "execution_count": 393,
   "metadata": {
    "collapsed": false
   },
   "outputs": [],
   "source": [
    "with open(\"two_geartype_mmsi.csv\",'w') as csvfile:\n",
    "    writer = csv.writer(csvfile)\n",
    "    writer.writerow(['mmsi','primary_geartype','secondary_geartype'])\n",
    "    writer.writerows(bad_mmsis)"
   ]
  },
  {
   "cell_type": "code",
   "execution_count": 341,
   "metadata": {
    "collapsed": false
   },
   "outputs": [
    {
     "data": {
      "text/html": [
       "<div>\n",
       "<table border=\"1\" class=\"dataframe\">\n",
       "  <thead>\n",
       "    <tr style=\"text-align: right;\">\n",
       "      <th></th>\n",
       "      <th>eu_geartype</th>\n",
       "      <th>eu_geartype2</th>\n",
       "      <th>eu_length</th>\n",
       "      <th>eu_tonnage</th>\n",
       "    </tr>\n",
       "  </thead>\n",
       "  <tbody>\n",
       "    <tr>\n",
       "      <th>211505000</th>\n",
       "      <td>Trawlers</td>\n",
       "      <td>Trawlers</td>\n",
       "      <td>15.87</td>\n",
       "      <td>33</td>\n",
       "    </tr>\n",
       "    <tr>\n",
       "      <th>277214000</th>\n",
       "      <td>Trawlers</td>\n",
       "      <td>Trawlers</td>\n",
       "      <td>25.50</td>\n",
       "      <td>118</td>\n",
       "    </tr>\n",
       "    <tr>\n",
       "      <th>239224000</th>\n",
       "      <td>Purse seines</td>\n",
       "      <td>Purse seines</td>\n",
       "      <td>18.85</td>\n",
       "      <td>35</td>\n",
       "    </tr>\n",
       "    <tr>\n",
       "      <th>250512000</th>\n",
       "      <td>Trawlers</td>\n",
       "      <td>Trawlers</td>\n",
       "      <td>64.60</td>\n",
       "      <td>1499</td>\n",
       "    </tr>\n",
       "    <tr>\n",
       "      <th>232007250</th>\n",
       "      <td>Set gear</td>\n",
       "      <td>Set longlines</td>\n",
       "      <td>28.13</td>\n",
       "      <td>203</td>\n",
       "    </tr>\n",
       "  </tbody>\n",
       "</table>\n",
       "</div>"
      ],
      "text/plain": [
       "            eu_geartype   eu_geartype2  eu_length  eu_tonnage\n",
       "211505000      Trawlers       Trawlers      15.87          33\n",
       "277214000      Trawlers       Trawlers      25.50         118\n",
       "239224000  Purse seines   Purse seines      18.85          35\n",
       "250512000      Trawlers       Trawlers      64.60        1499\n",
       "232007250      Set gear  Set longlines      28.13         203"
      ]
     },
     "execution_count": 341,
     "metadata": {},
     "output_type": "execute_result"
    }
   ],
   "source": [
    "eu_frame.head()"
   ]
  },
  {
   "cell_type": "code",
   "execution_count": 342,
   "metadata": {
    "collapsed": false
   },
   "outputs": [
    {
     "data": {
      "text/html": [
       "<div>\n",
       "<table border=\"1\" class=\"dataframe\">\n",
       "  <thead>\n",
       "    <tr style=\"text-align: right;\">\n",
       "      <th></th>\n",
       "      <th>eu_geartype</th>\n",
       "      <th>eu_length</th>\n",
       "      <th>eu_tonnage</th>\n",
       "    </tr>\n",
       "    <tr>\n",
       "      <th>eu_geartype2</th>\n",
       "      <th></th>\n",
       "      <th></th>\n",
       "      <th></th>\n",
       "    </tr>\n",
       "  </thead>\n",
       "  <tbody>\n",
       "    <tr>\n",
       "      <th>Drifting longlines</th>\n",
       "      <td>155</td>\n",
       "      <td>155</td>\n",
       "      <td>155</td>\n",
       "    </tr>\n",
       "    <tr>\n",
       "      <th>Fishing vessel</th>\n",
       "      <td>35</td>\n",
       "      <td>35</td>\n",
       "      <td>35</td>\n",
       "    </tr>\n",
       "    <tr>\n",
       "      <th>Pole and line</th>\n",
       "      <td>20</td>\n",
       "      <td>20</td>\n",
       "      <td>20</td>\n",
       "    </tr>\n",
       "    <tr>\n",
       "      <th>Pots and traps</th>\n",
       "      <td>68</td>\n",
       "      <td>68</td>\n",
       "      <td>68</td>\n",
       "    </tr>\n",
       "    <tr>\n",
       "      <th>Purse seines</th>\n",
       "      <td>536</td>\n",
       "      <td>536</td>\n",
       "      <td>536</td>\n",
       "    </tr>\n",
       "    <tr>\n",
       "      <th>Set gillnets</th>\n",
       "      <td>361</td>\n",
       "      <td>361</td>\n",
       "      <td>361</td>\n",
       "    </tr>\n",
       "    <tr>\n",
       "      <th>Set longlines</th>\n",
       "      <td>77</td>\n",
       "      <td>77</td>\n",
       "      <td>77</td>\n",
       "    </tr>\n",
       "    <tr>\n",
       "      <th>Trawlers</th>\n",
       "      <td>3545</td>\n",
       "      <td>3545</td>\n",
       "      <td>3545</td>\n",
       "    </tr>\n",
       "    <tr>\n",
       "      <th>Trollers</th>\n",
       "      <td>1</td>\n",
       "      <td>1</td>\n",
       "      <td>1</td>\n",
       "    </tr>\n",
       "  </tbody>\n",
       "</table>\n",
       "</div>"
      ],
      "text/plain": [
       "                    eu_geartype  eu_length  eu_tonnage\n",
       "eu_geartype2                                          \n",
       "Drifting longlines          155        155         155\n",
       "Fishing vessel               35         35          35\n",
       "Pole and line                20         20          20\n",
       "Pots and traps               68         68          68\n",
       "Purse seines                536        536         536\n",
       "Set gillnets                361        361         361\n",
       "Set longlines                77         77          77\n",
       "Trawlers                   3545       3545        3545\n",
       "Trollers                      1          1           1"
      ]
     },
     "execution_count": 342,
     "metadata": {},
     "output_type": "execute_result"
    }
   ],
   "source": [
    "eu_frame.groupby('eu_geartype2').count()"
   ]
  },
  {
   "cell_type": "markdown",
   "metadata": {},
   "source": [
    "## Get Vessels that Have Been Matched to the CCAMLR List"
   ]
  },
  {
   "cell_type": "code",
   "execution_count": 343,
   "metadata": {
    "collapsed": false,
    "scrolled": false
   },
   "outputs": [
    {
     "name": "stdout",
     "output_type": "stream",
     "text": [
      "Waiting on bqjob_r22594ebe56ce55b9_0000015841ea9890_69 ... (0s) Current status: DONE   \n",
      "Query time: 2.10108184814 seconds.\n"
     ]
    }
   ],
   "source": [
    "q = '''SELECT geartype, count(*) num \n",
    "FROM [world-fishing-827:Registry_matching_sources.CCAMLR_July_2015_with_mmsi] \n",
    "group by geartype order by num desc'''\n",
    "ccamlr = Query(q)"
   ]
  },
  {
   "cell_type": "code",
   "execution_count": 344,
   "metadata": {
    "collapsed": false
   },
   "outputs": [
    {
     "name": "stdout",
     "output_type": "stream",
     "text": [
      "Longlines (not specified) 23\n",
      "Midwater trawls (not specified) 9\n",
      "Other trawls (not specified) 7\n",
      "Longlines (not specified); Other trawls (not specified) 1\n",
      "Longlines (not specified); Pots 1\n"
     ]
    }
   ],
   "source": [
    "for c in ccamlr:\n",
    "    print c[0],c[1]"
   ]
  },
  {
   "cell_type": "code",
   "execution_count": 345,
   "metadata": {
    "collapsed": false
   },
   "outputs": [],
   "source": [
    "ccamlr_gear = {\n",
    "'Longlines (not specified)': 'Drifting longlines',\n",
    "'Midwater trawls (not specified)':\"Trawlers\", \n",
    "'Other trawls (not specified)':'Trawlers' \n",
    "}\n",
    "\n",
    "# ignore the follwoing\n",
    "# Longlines (not specified); Other trawls (not specified) 1\n",
    "# Longlines (not specified); Pots 1"
   ]
  },
  {
   "cell_type": "code",
   "execution_count": 346,
   "metadata": {
    "collapsed": false
   },
   "outputs": [
    {
     "name": "stdout",
     "output_type": "stream",
     "text": [
      "Waiting on bqjob_r2fda285ec2f8bd93_0000015841eaa0d1_70 ... (0s) Current status: DONE   \n",
      "Query time: 1.77989006042 seconds.\n"
     ]
    }
   ],
   "source": [
    "q = '''SELECT\n",
    "    mmsi, geartype, length, tonnage\n",
    "from  [world-fishing-827:Registry_matching_sources.CCAMLR_July_2015_with_mmsi]\n",
    "'''\n",
    "ccamlr = Query(q)"
   ]
  },
  {
   "cell_type": "code",
   "execution_count": 347,
   "metadata": {
    "collapsed": false
   },
   "outputs": [],
   "source": [
    "rows = []\n",
    "mmsis = []\n",
    "\n",
    "for c in ccamlr:\n",
    "    if c[1] in ccamlr_gear: # if it is a shiptype we are including\n",
    "        mmsi = c[0]\n",
    "        geartype = ccamlr_gear[c[1]] # replace with the right geartype\n",
    "        length = c[2]\n",
    "        tonnage = c[3]\n",
    "        if length !=None: length=float(c[2])\n",
    "        if tonnage !=None: tonnage = float(c[3])\n",
    "        rows.append([geartype, length,tonnage])\n",
    "        mmsis.append(mmsi)"
   ]
  },
  {
   "cell_type": "code",
   "execution_count": 348,
   "metadata": {
    "collapsed": false
   },
   "outputs": [],
   "source": [
    "ccamlr_frame = pd.DataFrame(rows,index=mmsis,columns=['ccamlr_geartype','ccamlr_length', 'ccamlr_tonnage'])"
   ]
  },
  {
   "cell_type": "markdown",
   "metadata": {},
   "source": [
    "## Squid Vessels"
   ]
  },
  {
   "cell_type": "code",
   "execution_count": 349,
   "metadata": {
    "collapsed": false
   },
   "outputs": [],
   "source": [
    "# from spreadsheet\n",
    "\n",
    "squids = [412420249,412420405,412420536,412430920,412439583,412421005,412000812,412200146,\n",
    "          412206009,412350801,412354049,412354055,412354057,412354058,412354091,412354167,\n",
    "          412354168,412354445,412354446,412371203,412371204,412371205,412402273,412420008,\n",
    "          412420109,412420214,412420225,412420228,412420229,412420231,412420242,412420243,\n",
    "          412420244,412420245,412420246,412420248,412420252,412420253,412420254,412420255,\n",
    "          412420277,412420278,412420312,412420315,412420317,412420341,412420378,412420382,\n",
    "          412420383,412420384,412420406,412420409,412420418,412420422,412420423,412420427,\n",
    "          412420428,412420432,412420439,412420452,412420453,412420454,412420455,412420456,\n",
    "          412420457,412420458,412420464,412420466,412420467,412420471,412420488,412420493,\n",
    "          412420494,412420502,412420503,412420504,412420531,412420532,412420533,412420538,\n",
    "          412420609,412420622,412420623,412420624,412420644,412420646,412420647,412420652,\n",
    "          412420688,412420691,412420697,412420789,412420798,412420799,412420801,412420816,\n",
    "          412420822,412420823,412420825,412420872,412420873,412420923,412420925,412420926,\n",
    "          412420927,412420928,412420933,412420937,412420951,412420955,412420956,412420957,\n",
    "          412420958,412420959,412420961,412420962,412420963,412420964,412420965,412420966,\n",
    "          412420968,412420969,412420971,412420972,412420973,412420974,412420975,412420979,\n",
    "          412420981,412420992,412420994,412421002,412421003,412421004,412421016,412421033,\n",
    "          412421356,412421357,412422693,412422695,412422696,412422697,412422701,412422706,\n",
    "          412424491,412424547,412424702,412424703,412430930,412439584,412439586,412439587,\n",
    "          412439741,412439742,412670670,412679810,412697150,412857888,416562000,416563000,\n",
    "          440995000,441767000,373039000,356514000,370178000,411164730]\n",
    "geartypes = [\"Squid\" for s in squids]\n",
    "mmsis = [str(s) for  s in squids]\n",
    "\n",
    "\n"
   ]
  },
  {
   "cell_type": "code",
   "execution_count": 350,
   "metadata": {
    "collapsed": false
   },
   "outputs": [],
   "source": [
    "squid_frame = pd.DataFrame(geartypes,index=mmsis,columns=['squid_geartype'])"
   ]
  },
  {
   "cell_type": "markdown",
   "metadata": {},
   "source": [
    "# Reefers"
   ]
  },
  {
   "cell_type": "code",
   "execution_count": 351,
   "metadata": {
    "collapsed": false
   },
   "outputs": [
    {
     "name": "stdout",
     "output_type": "stream",
     "text": [
      "Waiting on bqjob_r6545a001bdddda98_0000015841eaa7fd_71 ... (0s) Current status: DONE   \n",
      "Query time: 2.11178612709 seconds.\n"
     ]
    }
   ],
   "source": [
    "q = '''SELECT\n",
    "  mmsi,\n",
    "  \"Reefer\" geartype,\n",
    "  AVG(length) length,\n",
    "  AVG(tonnage) tonnage,\n",
    "  STDDEV(length) stddev_length,\n",
    "  STDDEV(tonnage) stddev_tonnage\n",
    "FROM\n",
    "  [world-fishing-827:scratch_nate.fish_carrier_list_nate_09_2016_plusD]\n",
    "GROUP BY\n",
    "  mmsi,\n",
    "  geartype\n",
    "order by mmsi\n",
    " '''\n",
    "reefers = Query(q)"
   ]
  },
  {
   "cell_type": "code",
   "execution_count": 352,
   "metadata": {
    "collapsed": true
   },
   "outputs": [],
   "source": [
    "rows = []\n",
    "mmsis = []\n",
    "\n",
    "for c in reefers:\n",
    "    mmsi = c[0]\n",
    "    length = c[2]\n",
    "    tonnage = c[3]\n",
    "    geartype = \"Reefer\"\n",
    "    stddev_length = c[4]\n",
    "    stddev_tonnage = c[5]\n",
    "    if length !=None: length=float(c[2])\n",
    "    if tonnage !=None: tonnage = float(c[3])\n",
    "    if stddev_length !=None: stddev_length = float(c[4])\n",
    "    if stddev_tonnage !=None: stddev_tonnage = float(c[5])\n",
    "    if stddev_length !=None and stddev_length/length > .1:\n",
    "        length = None # if different entries differ by more than 10 percent, ignore\n",
    "    if stddev_tonnage !=None and stddev_tonnage/tonnage > 1:\n",
    "        tonnage = None\n",
    "    rows.append([geartype,length,tonnage])\n",
    "    mmsis.append(mmsi)"
   ]
  },
  {
   "cell_type": "code",
   "execution_count": 353,
   "metadata": {
    "collapsed": false
   },
   "outputs": [],
   "source": [
    "reefer_frame = pd.DataFrame(rows,index=mmsis,columns=['reefer_geartype','reefer_length', 'reefer_tonnage'])"
   ]
  },
  {
   "cell_type": "markdown",
   "metadata": {},
   "source": [
    "## Get Countries from 2015 list\n",
    "Note that if the vessel wasn't scored for 2015, it has a null value in country in this table"
   ]
  },
  {
   "cell_type": "code",
   "execution_count": 354,
   "metadata": {
    "collapsed": false
   },
   "outputs": [
    {
     "name": "stdout",
     "output_type": "stream",
     "text": [
      "Waiting on bqjob_r748a9fa9e2151dea_0000015841eab052_72 ... (0s) Current status: DONE   \n",
      "Query time: 3.79527378082 seconds.\n"
     ]
    }
   ],
   "source": [
    "q = '''SELECT\n",
    "  mmsi,\n",
    "  iso3\n",
    "FROM\n",
    "  [world-fishing-827:scratch_david_mmsi_lists.2015_all_fishing_v4]\n",
    "WHERE\n",
    "  label IS NOT NULL\n",
    "  group by mmsi, iso3'''\n",
    "countries = Query(q)"
   ]
  },
  {
   "cell_type": "code",
   "execution_count": 355,
   "metadata": {
    "collapsed": false
   },
   "outputs": [],
   "source": [
    "mmsis = []\n",
    "cs = []\n",
    "for c in countries:\n",
    "    mmsis.append(c[0])\n",
    "    cs.append([c[1]])\n",
    "    \n",
    "countries_frame = pd.DataFrame(cs,index=mmsis,columns=['country'])"
   ]
  },
  {
   "cell_type": "code",
   "execution_count": 356,
   "metadata": {
    "collapsed": false
   },
   "outputs": [],
   "source": [
    "result = eu_frame.join(itu_frame, how='outer')\n",
    "result = result.join(clav_frame, how='outer')\n",
    "result = result.join(ccamlr_frame, how='outer')\n",
    "result = result.join(countries_frame, how='outer')\n",
    "result = result.join(reefer_frame, how='outer')\n",
    "result = result.join(squid_frame, how='outer')\n",
    "\n",
    "# result = pd.concat([result,clav_frame], axis=1, join_axes=[result.index])\n",
    "# result = result.groupby(result.index).first()\n",
    "# result = result.drop_duplicates()"
   ]
  },
  {
   "cell_type": "code",
   "execution_count": 365,
   "metadata": {
    "collapsed": false
   },
   "outputs": [
    {
     "data": {
      "text/html": [
       "<div>\n",
       "<table border=\"1\" class=\"dataframe\">\n",
       "  <thead>\n",
       "    <tr style=\"text-align: right;\">\n",
       "      <th></th>\n",
       "      <th>eu_geartype</th>\n",
       "      <th>eu_geartype2</th>\n",
       "      <th>eu_length</th>\n",
       "      <th>eu_tonnage</th>\n",
       "      <th>itu_geartype</th>\n",
       "      <th>itu_tonnage</th>\n",
       "      <th>clav_geartype</th>\n",
       "      <th>clav_length</th>\n",
       "      <th>clav_tonnage</th>\n",
       "      <th>ccamlr_geartype</th>\n",
       "      <th>ccamlr_length</th>\n",
       "      <th>ccamlr_tonnage</th>\n",
       "      <th>country</th>\n",
       "      <th>reefer_geartype</th>\n",
       "      <th>reefer_length</th>\n",
       "      <th>reefer_tonnage</th>\n",
       "      <th>squid_geartype</th>\n",
       "    </tr>\n",
       "  </thead>\n",
       "  <tbody>\n",
       "    <tr>\n",
       "      <th>100000005</th>\n",
       "      <td>NaN</td>\n",
       "      <td>NaN</td>\n",
       "      <td>NaN</td>\n",
       "      <td>NaN</td>\n",
       "      <td>NaN</td>\n",
       "      <td>NaN</td>\n",
       "      <td>NaN</td>\n",
       "      <td>NaN</td>\n",
       "      <td>NaN</td>\n",
       "      <td>NaN</td>\n",
       "      <td>NaN</td>\n",
       "      <td>NaN</td>\n",
       "      <td>None</td>\n",
       "      <td>NaN</td>\n",
       "      <td>NaN</td>\n",
       "      <td>NaN</td>\n",
       "      <td>NaN</td>\n",
       "    </tr>\n",
       "    <tr>\n",
       "      <th>100000018</th>\n",
       "      <td>NaN</td>\n",
       "      <td>NaN</td>\n",
       "      <td>NaN</td>\n",
       "      <td>NaN</td>\n",
       "      <td>NaN</td>\n",
       "      <td>NaN</td>\n",
       "      <td>NaN</td>\n",
       "      <td>NaN</td>\n",
       "      <td>NaN</td>\n",
       "      <td>NaN</td>\n",
       "      <td>NaN</td>\n",
       "      <td>NaN</td>\n",
       "      <td>None</td>\n",
       "      <td>NaN</td>\n",
       "      <td>NaN</td>\n",
       "      <td>NaN</td>\n",
       "      <td>NaN</td>\n",
       "    </tr>\n",
       "    <tr>\n",
       "      <th>100000046</th>\n",
       "      <td>NaN</td>\n",
       "      <td>NaN</td>\n",
       "      <td>NaN</td>\n",
       "      <td>NaN</td>\n",
       "      <td>NaN</td>\n",
       "      <td>NaN</td>\n",
       "      <td>NaN</td>\n",
       "      <td>NaN</td>\n",
       "      <td>NaN</td>\n",
       "      <td>NaN</td>\n",
       "      <td>NaN</td>\n",
       "      <td>NaN</td>\n",
       "      <td>None</td>\n",
       "      <td>NaN</td>\n",
       "      <td>NaN</td>\n",
       "      <td>NaN</td>\n",
       "      <td>NaN</td>\n",
       "    </tr>\n",
       "    <tr>\n",
       "      <th>100000668</th>\n",
       "      <td>NaN</td>\n",
       "      <td>NaN</td>\n",
       "      <td>NaN</td>\n",
       "      <td>NaN</td>\n",
       "      <td>NaN</td>\n",
       "      <td>NaN</td>\n",
       "      <td>NaN</td>\n",
       "      <td>NaN</td>\n",
       "      <td>NaN</td>\n",
       "      <td>NaN</td>\n",
       "      <td>NaN</td>\n",
       "      <td>NaN</td>\n",
       "      <td>None</td>\n",
       "      <td>NaN</td>\n",
       "      <td>NaN</td>\n",
       "      <td>NaN</td>\n",
       "      <td>NaN</td>\n",
       "    </tr>\n",
       "    <tr>\n",
       "      <th>100001001</th>\n",
       "      <td>NaN</td>\n",
       "      <td>NaN</td>\n",
       "      <td>NaN</td>\n",
       "      <td>NaN</td>\n",
       "      <td>NaN</td>\n",
       "      <td>NaN</td>\n",
       "      <td>NaN</td>\n",
       "      <td>NaN</td>\n",
       "      <td>NaN</td>\n",
       "      <td>NaN</td>\n",
       "      <td>NaN</td>\n",
       "      <td>NaN</td>\n",
       "      <td>None</td>\n",
       "      <td>NaN</td>\n",
       "      <td>NaN</td>\n",
       "      <td>NaN</td>\n",
       "      <td>NaN</td>\n",
       "    </tr>\n",
       "  </tbody>\n",
       "</table>\n",
       "</div>"
      ],
      "text/plain": [
       "          eu_geartype eu_geartype2  eu_length  eu_tonnage itu_geartype  \\\n",
       "100000005         NaN          NaN        NaN         NaN          NaN   \n",
       "100000018         NaN          NaN        NaN         NaN          NaN   \n",
       "100000046         NaN          NaN        NaN         NaN          NaN   \n",
       "100000668         NaN          NaN        NaN         NaN          NaN   \n",
       "100001001         NaN          NaN        NaN         NaN          NaN   \n",
       "\n",
       "           itu_tonnage clav_geartype  clav_length  clav_tonnage  \\\n",
       "100000005          NaN           NaN          NaN           NaN   \n",
       "100000018          NaN           NaN          NaN           NaN   \n",
       "100000046          NaN           NaN          NaN           NaN   \n",
       "100000668          NaN           NaN          NaN           NaN   \n",
       "100001001          NaN           NaN          NaN           NaN   \n",
       "\n",
       "          ccamlr_geartype  ccamlr_length  ccamlr_tonnage country  \\\n",
       "100000005             NaN            NaN             NaN    None   \n",
       "100000018             NaN            NaN             NaN    None   \n",
       "100000046             NaN            NaN             NaN    None   \n",
       "100000668             NaN            NaN             NaN    None   \n",
       "100001001             NaN            NaN             NaN    None   \n",
       "\n",
       "          reefer_geartype  reefer_length  reefer_tonnage squid_geartype  \n",
       "100000005             NaN            NaN             NaN            NaN  \n",
       "100000018             NaN            NaN             NaN            NaN  \n",
       "100000046             NaN            NaN             NaN            NaN  \n",
       "100000668             NaN            NaN             NaN            NaN  \n",
       "100001001             NaN            NaN             NaN            NaN  "
      ]
     },
     "execution_count": 365,
     "metadata": {},
     "output_type": "execute_result"
    }
   ],
   "source": [
    "result.head()"
   ]
  },
  {
   "cell_type": "code",
   "execution_count": 366,
   "metadata": {
    "collapsed": false
   },
   "outputs": [
    {
     "data": {
      "text/plain": [
       "eu_geartype2        clav_geartype     \n",
       "Drifting longlines  Drifting longlines     71\n",
       "Fishing vessel      Trawlers                2\n",
       "Pole and line       Pole and line           9\n",
       "Purse seines        Pole and line          51\n",
       "Set gillnets        Drifting longlines      9\n",
       "                    Set gillnets           12\n",
       "                    Trawlers                1\n",
       "Set longlines       Drifting longlines     17\n",
       "                    Set gillnets            3\n",
       "Trawlers            Set gillnets            1\n",
       "                    Trawlers              236\n",
       "Name: eu_geartype, dtype: int64"
      ]
     },
     "execution_count": 366,
     "metadata": {},
     "output_type": "execute_result"
    }
   ],
   "source": [
    "result.groupby(['eu_geartype2','clav_geartype']).count()['eu_geartype']"
   ]
  },
  {
   "cell_type": "code",
   "execution_count": 367,
   "metadata": {
    "collapsed": false
   },
   "outputs": [],
   "source": [
    "rows = []\n",
    "\n",
    "for i in result.index:\n",
    "    try:\n",
    "        mmsi = i\n",
    "        eu_geartype = result['eu_geartype'].ix[i]\n",
    "        itu_geartype = result['itu_geartype'].ix[i]\n",
    "        clav_geartype = result['clav_geartype'].ix[i]\n",
    "        ccamlr_geartype = result['ccamlr_geartype'].ix[i]\n",
    "        reefer_geartype = result['reefer_geartype'].ix[i]\n",
    "        squid_geartype = result['squid_geartype'].ix[i]\n",
    "        s =  set([eu_geartype, itu_geartype, clav_geartype,ccamlr_geartype,reefer_geartype,squid_geartype])\n",
    "        if np.nan in s:\n",
    "            s.remove(np.nan)\n",
    "        if \"Fishing vessel\" in s:\n",
    "            s.remove(\"Fishing vessel\")\n",
    "        if len(s)!=1:\n",
    "            geartype = \"Fishing vessel\"\n",
    "        else:\n",
    "            geartype = list(s)[0]\n",
    "        \n",
    "        \n",
    "\n",
    "        # this is a way to figure what what the second gearytpe is\n",
    "#         if 'ongline' in str(eu_geartype) and geartype != \"Fishing vessel\":\n",
    "        if 'Set' in str(eu_geartype) and geartype != \"Fishing vessel\":\n",
    "            geartype2 = result['eu_geartype2'].ix[i]\n",
    "        else: \n",
    "            geartype2 = geartype\n",
    "            \n",
    "        if geartype[:3]==\"Set\" or geartype == \"Pots and traps\":\n",
    "            geartype = \"Set gear\"\n",
    "\n",
    "        eu_tonnage = result['eu_tonnage'].ix[i]\n",
    "        clav_tonnage = result['clav_tonnage'].ix[i]\n",
    "        itu_tonnage = result['itu_tonnage'].ix[i]\n",
    "        ccamlr_tonnage = result['ccamlr_tonnage'].ix[i]\n",
    "        reefer_tonnage = result['reefer_tonnage'].ix[i]\n",
    "        tonns = [eu_tonnage,clav_tonnage,itu_tonnage,ccamlr_tonnage,reefer_tonnage]\n",
    "        tonns = np.array([t for t in tonns if t is not None])\n",
    "        avg = np.nanmean(tonns)\n",
    "        stddev = np.nanstd(tonns)\n",
    "        if stddev/avg > .1:\n",
    "            tonnage = np.nan\n",
    "        else:\n",
    "            tonnage = avg\n",
    "\n",
    "        if np.isnan(tonnage): tonnage = None\n",
    "\n",
    "        eu_length= result['eu_length'].ix[i]\n",
    "        clav_length = result['clav_length'].ix[i]\n",
    "        ccamlr_length = result['ccamlr_length'].ix[i]\n",
    "        reefer_length = result['reefer_length'].ix[i]\n",
    "        length = np.array([eu_length,clav_length,ccamlr_length,reefer_length])\n",
    "        avg = np.nanmean(length)\n",
    "        stddev = np.nanstd(length)\n",
    "        if stddev/avg > .1:\n",
    "            length = np.nan\n",
    "        else:\n",
    "            length = avg\n",
    "        if np.isnan(length): length = None\n",
    "\n",
    "        country =  result['country'].ix[i]\n",
    "        if str(country) == 'nan': country = None\n",
    "\n",
    "        r = [int(mmsi),geartype,geartype2,length,tonnage,country]    \n",
    "        rows.append(r)\n",
    "    except:\n",
    "        print i \n",
    "        break\n"
   ]
  },
  {
   "cell_type": "code",
   "execution_count": 370,
   "metadata": {
    "collapsed": false
   },
   "outputs": [
    {
     "data": {
      "text/plain": [
       "eu_geartype                       NaN\n",
       "eu_geartype2                      NaN\n",
       "eu_length                         NaN\n",
       "eu_tonnage                        NaN\n",
       "itu_geartype                      NaN\n",
       "itu_tonnage                       NaN\n",
       "clav_geartype      Drifting longlines\n",
       "clav_length                        25\n",
       "clav_tonnage                       85\n",
       "ccamlr_geartype                   NaN\n",
       "ccamlr_length                     NaN\n",
       "ccamlr_tonnage                    NaN\n",
       "country                           ESP\n",
       "reefer_geartype                   NaN\n",
       "reefer_length                     NaN\n",
       "reefer_tonnage                    NaN\n",
       "squid_geartype                    NaN\n",
       "Name: 224025440, dtype: object"
      ]
     },
     "execution_count": 370,
     "metadata": {},
     "output_type": "execute_result"
    }
   ],
   "source": [
    "result.ix['224025440']\n"
   ]
  },
  {
   "cell_type": "code",
   "execution_count": 371,
   "metadata": {
    "collapsed": false
   },
   "outputs": [],
   "source": [
    "header = ['mmsi','geartype','secondary geartype','length','tonnage','country']\n",
    "with open(\"fishing_training_20161107.csv\", 'wb') as csvfile:\n",
    "    writer = csv.writer(csvfile)\n",
    "    writer.writerow(header)\n",
    "    writer.writerows(rows)"
   ]
  },
  {
   "cell_type": "code",
   "execution_count": 372,
   "metadata": {
    "collapsed": true
   },
   "outputs": [],
   "source": [
    "ft = pd.read_csv('fishing_training_20161107.csv')"
   ]
  },
  {
   "cell_type": "code",
   "execution_count": 373,
   "metadata": {
    "collapsed": false
   },
   "outputs": [
    {
     "data": {
      "text/plain": [
       "geartype\n",
       "Drifting longlines      620\n",
       "Fishing vessel        40858\n",
       "Pole and line           120\n",
       "Purse seines            485\n",
       "Reefer                  694\n",
       "Set gear                730\n",
       "Squid                   164\n",
       "Trawlers               4286\n",
       "Trollers                 50\n",
       "Name: mmsi, dtype: int64"
      ]
     },
     "execution_count": 373,
     "metadata": {},
     "output_type": "execute_result"
    }
   ],
   "source": [
    "ft.groupby(['geartype'])['mmsi'].count()"
   ]
  },
  {
   "cell_type": "code",
   "execution_count": 374,
   "metadata": {
    "collapsed": false
   },
   "outputs": [
    {
     "data": {
      "text/plain": [
       "secondary geartype\n",
       "Drifting longlines      620\n",
       "Fishing vessel        40858\n",
       "Pole and line           120\n",
       "Pots and traps          328\n",
       "Purse seines            485\n",
       "Reefer                  694\n",
       "Set gillnets            345\n",
       "Set longlines            57\n",
       "Squid                   164\n",
       "Trawlers               4286\n",
       "Trollers                 50\n",
       "Name: mmsi, dtype: int64"
      ]
     },
     "execution_count": 374,
     "metadata": {},
     "output_type": "execute_result"
    }
   ],
   "source": [
    "ft.groupby(['secondary geartype'])['mmsi'].count()"
   ]
  },
  {
   "cell_type": "code",
   "execution_count": null,
   "metadata": {
    "collapsed": true
   },
   "outputs": [],
   "source": []
  },
  {
   "cell_type": "code",
   "execution_count": null,
   "metadata": {
    "collapsed": true
   },
   "outputs": [],
   "source": []
  },
  {
   "cell_type": "code",
   "execution_count": null,
   "metadata": {
    "collapsed": true
   },
   "outputs": [],
   "source": []
  },
  {
   "cell_type": "code",
   "execution_count": null,
   "metadata": {
    "collapsed": true
   },
   "outputs": [],
   "source": []
  },
  {
   "cell_type": "code",
   "execution_count": null,
   "metadata": {
    "collapsed": true
   },
   "outputs": [],
   "source": []
  },
  {
   "cell_type": "code",
   "execution_count": null,
   "metadata": {
    "collapsed": true
   },
   "outputs": [],
   "source": []
  }
 ],
 "metadata": {
  "kernelspec": {
   "display_name": "Python 2",
   "language": "python",
   "name": "python2"
  },
  "language_info": {
   "codemirror_mode": {
    "name": "ipython",
    "version": 2
   },
   "file_extension": ".py",
   "mimetype": "text/x-python",
   "name": "python",
   "nbconvert_exporter": "python",
   "pygments_lexer": "ipython2",
   "version": "2.7.3"
  }
 },
 "nbformat": 4,
 "nbformat_minor": 0
}
