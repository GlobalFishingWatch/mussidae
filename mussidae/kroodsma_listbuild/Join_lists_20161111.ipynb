{
 "cells": [
  {
   "cell_type": "code",
   "execution_count": 155,
   "metadata": {
    "collapsed": true
   },
   "outputs": [],
   "source": [
    "import csv\n",
    "import pandas as pd\n",
    "from os import listdir\n",
    "from os.path import isfile, join\n",
    "import numpy as np\n",
    "mypath = 'lists/'\n",
    "files = [f for f in listdir(mypath) if isfile(join(mypath, f)) and \".csv\" in f]"
   ]
  },
  {
   "cell_type": "code",
   "execution_count": 156,
   "metadata": {
    "collapsed": true
   },
   "outputs": [],
   "source": [
    "detail_to_general = {'Sailing':'Passenger',\n",
    "                    'Motor passenger':'Passenger',\n",
    "                    'Passenger':'Passenger',\n",
    "                    'Tug':'Tug/Pilot/Supply',\n",
    "                    'Pilot':'Tug/Pilot/Supply',\n",
    "                    'Supply':'Tug/Pilot/Supply',\n",
    "                    'Tug/Pilot/Supply':'Tug/Pilot/Supply',\n",
    "                    'Cargo':'Cargo/Tanker',\n",
    "                    'Tanker':'Cargo/Tanker',\n",
    "                    'Cargo/Tanker':'Cargo/Tanker',\n",
    "                    'Seismic vessel':'Seismic vessel',\n",
    "                    'Drifting longlines':'Drifting longlines',\n",
    "                    'Set longlines':'Set gear', \n",
    "                    'Pole and line':'Pole and line',\n",
    "                    'Pots and traps':'Set gear',\n",
    "                    'Purse seines':'Purse seines',\n",
    "                    'Reefer':'Reefer',\n",
    "                    'Set gillnets':'Set gear',\n",
    "                    'Trawlers':'Trawlers',\n",
    "                    'Trollers':'Trollers',\n",
    "                     'Fishing vessel':'Fishing vessel',\n",
    "                     \"Squid\":\"Squid\"\n",
    "                    }\n",
    "\n",
    "general_to_fishing = {'Passenger':\"Non-fishing\",\n",
    "                     'Tug/Pilot/Supply':\"Non-fishing\",\n",
    "                     'Cargo/Tanker': \"Non-fishing\",\n",
    "                     \"Seismic vessel\": \"Non-fishing\",\n",
    "                     \"Drifting longlines\":\"Fishing\",\n",
    "                     \"Pole and line\":\"Fishing\",\n",
    "                     \"Purse seines\":\"Fishing\",\n",
    "                     \"Reefer\":\"Non-fishing\", # this is debatable\n",
    "                     \"Set gear\":\"Fishing\",\n",
    "                     \"Squid\":\"Fishing\",\n",
    "                      \"Trawlers\":\"Fishing\",\n",
    "                      \"Trollers\":\"Fishing\",\n",
    "                      \"Fishing vessel\":\"Fishing\",\n",
    "                     }\n",
    "\n",
    "cats_without_subcats = [\"Seismic vessel\",\n",
    "                        \"Trawlers\",\"Purse seines\",\"Reefer\",\n",
    "                        \"Squid\",\"Seismic vessel\",\"Drifting lonlines\"\n",
    "                       \"Pole and line\",\"Trollers\"]"
   ]
  },
  {
   "cell_type": "code",
   "execution_count": 157,
   "metadata": {
    "collapsed": false
   },
   "outputs": [],
   "source": [
    "dfs = []\n",
    "\n",
    "for f in files:\n",
    "    df = pd.read_csv(mypath+f)\n",
    "    df = df.set_index('mmsi')\n",
    "    dfs.append(df)\n"
   ]
  },
  {
   "cell_type": "code",
   "execution_count": 158,
   "metadata": {
    "collapsed": false
   },
   "outputs": [],
   "source": [
    "lv = pd.concat(dfs, join='outer', axis = 1)"
   ]
  },
  {
   "cell_type": "code",
   "execution_count": 236,
   "metadata": {
    "collapsed": false
   },
   "outputs": [],
   "source": [
    "headers = list(lv.columns.values)"
   ]
  },
  {
   "cell_type": "code",
   "execution_count": 196,
   "metadata": {
    "collapsed": true
   },
   "outputs": [],
   "source": [
    "def average_value(alist):\n",
    "    if len(alist) == 0:\n",
    "        return \"\"\n",
    "    alist = np.array(alist)\n",
    "    avg = np.nanmean(alist)\n",
    "    stddev = np.nanstd(alist)\n",
    "    if stddev/avg > .1:\n",
    "        return \"\"\n",
    "    else:\n",
    "        return avg"
   ]
  },
  {
   "cell_type": "code",
   "execution_count": 215,
   "metadata": {
    "collapsed": false
   },
   "outputs": [],
   "source": [
    "# this is based on a review of vessels that had two geartypes that were\n",
    "# labeled in pybossa\n",
    "# the original google sheet is here: \n",
    "#https://docs.google.com/spreadsheets/d/1WTF-KoFCXQbxvn7WJrg97BNs_Ha7I_qojVQyQeB3GyE/edit#gid=0\n",
    "\n",
    "label_override = {}\n",
    "with open (\"pybossa/double_geartype_override.csv\",'rU') as csvfile:\n",
    "    reader = csv.DictReader(csvfile)\n",
    "    for row in reader:\n",
    "        if row['newlabel'] != \"IGNORE\":\n",
    "            label_override[row['mmsi']] = row['newlabel']\n"
   ]
  },
  {
   "cell_type": "code",
   "execution_count": 222,
   "metadata": {
    "collapsed": false,
    "scrolled": false
   },
   "outputs": [],
   "source": [
    "rows = []\n",
    "k = 0\n",
    "for mmsi in lv.index:\n",
    "    \n",
    "    ton_list = []\n",
    "    for h in headers:\n",
    "        if \"tonnage\" in h and not np.isnan(lv[h].ix[mmsi]):\n",
    "            ton_list.append(lv[h].ix[mmsi])\n",
    "    tonnage = average_value(ton_list)\n",
    "    \n",
    "    length_list = []\n",
    "    for h in headers:\n",
    "        if \"length\" in h and not np.isnan(lv[h].ix[mmsi]):\n",
    "            length_list.append(lv[h].ix[mmsi])  \n",
    "    \n",
    "    length = average_value(length_list)\n",
    "    \n",
    "    if length > 100 and tonnage < 1000:\n",
    "        length = ''\n",
    "    \n",
    "    # Earlier analysis showed we should get rid of the outliers on \n",
    "    # length -- where tonnage is less than 1000 and length is greater 100\n",
    "    \n",
    "    \n",
    "    fishings = []\n",
    "    fishings_map = {'Fishing':'Fishing',\n",
    "                             'Non-fishing':'Non-fishing',\n",
    "                             'Fishing vessel':'Fishing',\n",
    "                            'Nonfishing vessel':'Non-fishing'} \n",
    "    for h in headers:\n",
    "        if \"_fishing\" in h and str(lv[h].ix[mmsi]) != 'nan':\n",
    "            fishings.append(fishings_map[lv[h].ix[mmsi]])\n",
    "            \n",
    "    fish = set(fishings)\n",
    "    if len(fish)>1:\n",
    "        continue \n",
    "        # skip these vessels if the lists disagree about \n",
    "        # whether it is a fishing vessel\n",
    "    fishing = fishings[0]\n",
    "    \n",
    "    \n",
    "    list_sources = []\n",
    "    labels = []\n",
    "    for h in headers:\n",
    "        if \"_label\" in h and str(lv[h].ix[mmsi]) != 'nan':\n",
    "            labels.append(lv[h].ix[mmsi]) \n",
    "            list_sources.append(h.replace(\"_label\",\"\"))\n",
    "    if 'Fishing vessel' in labels:\n",
    "        labels.remove('Fishing vessel') \n",
    "    fish = set(labels)\n",
    "    if len(fish)>1 or len(fish) == 0:\n",
    "        label = ''\n",
    "        sublabel = ''\n",
    "    else:\n",
    "        label = labels[0]   \n",
    "    \n",
    "\n",
    "        sublabels = []\n",
    "        for h in headers:\n",
    "            if \"_sublabel\" in h and str(lv[h].ix[mmsi]) != 'nan':\n",
    "                sublabels.append(lv[h].ix[mmsi]) \n",
    "        if 'Fishing vessel' in sublabels:\n",
    "            sublabels.remove('Fishing vessel')\n",
    "        fish = set(sublabels)\n",
    "        if len(fish)>1 or len(fish) == 0:\n",
    "            sublabel = ''\n",
    "        else:\n",
    "            sublabel = sublabels[0]   \n",
    " \n",
    "\n",
    "    if sublabel == label:\n",
    "        sublabel = \"\"\n",
    "    \n",
    "    # these have been manually identified they are still a bit unclear, as they \n",
    "    # are multi-gear, and we looked at only a few specific months\n",
    "    if mmsi in label_override:\n",
    "        sublabel = label_override[mmsi]\n",
    "        label = detail_to_general[sublabel]\n",
    "    \n",
    "    if 'eu2' in list_sources: \n",
    "        list_sources.remove(\"eu2\")\n",
    "    rows.append([mmsi,fishing,label,sublabel,length,tonnage,\";\".join(list_sources)])\n",
    "    \n"
   ]
  },
  {
   "cell_type": "code",
   "execution_count": 223,
   "metadata": {
    "collapsed": false
   },
   "outputs": [],
   "source": [
    "with open('net_training_20161111.csv', 'w') as csvfile:\n",
    "    writer = csv.writer(csvfile)\n",
    "    writer.writerow(['mmsi','fishing','label','sublabel','length','tonnage','list_sources'])\n",
    "    writer.writerows(rows)"
   ]
  },
  {
   "cell_type": "code",
   "execution_count": null,
   "metadata": {
    "collapsed": true
   },
   "outputs": [],
   "source": []
  }
 ],
 "metadata": {
  "kernelspec": {
   "display_name": "Python 2",
   "language": "python",
   "name": "python2"
  },
  "language_info": {
   "codemirror_mode": {
    "name": "ipython",
    "version": 2
   },
   "file_extension": ".py",
   "mimetype": "text/x-python",
   "name": "python",
   "nbconvert_exporter": "python",
   "pygments_lexer": "ipython2",
   "version": "2.7.3"
  }
 },
 "nbformat": 4,
 "nbformat_minor": 0
}
