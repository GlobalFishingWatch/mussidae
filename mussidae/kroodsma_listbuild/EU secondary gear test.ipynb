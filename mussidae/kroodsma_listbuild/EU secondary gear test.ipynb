{
 "cells": [
  {
   "cell_type": "code",
   "execution_count": 2,
   "metadata": {
    "collapsed": false
   },
   "outputs": [],
   "source": [
    "import csv\n",
    "import bq\n",
    "import time\n",
    "import numpy as np\n",
    "import pandas as pd\n",
    "import matplotlib.pyplot as plt\n",
    "%matplotlib inline\n",
    "import seaborn as sb"
   ]
  },
  {
   "cell_type": "code",
   "execution_count": 3,
   "metadata": {
    "collapsed": true
   },
   "outputs": [],
   "source": [
    "client = bq.Client.Get()\n",
    "\n",
    "def Query(q):\n",
    "    t0 = time.time()\n",
    "    answer = client.ReadTableRows(client.Query(q)['configuration']['query']['destinationTable'])\n",
    "    print 'Query time: ' + str(time.time() - t0) + ' seconds.'\n",
    "    return answer"
   ]
  },
  {
   "cell_type": "code",
   "execution_count": 28,
   "metadata": {
    "collapsed": false
   },
   "outputs": [],
   "source": [
    "# see http://ec.europa.eu/fisheries/fleet/index.cfm?method=Codification.Cod_gear\n",
    "eu_gear_codes = {\"DRB\":\"Boat dredges\",\n",
    "\"DRH\":\"Hand dredges operating from a boat\",\n",
    "\"HMD\":\"Mechanised dredges including suction dredges\",\n",
    "\"GNC\":\"Encircling gillnets\",\n",
    "\"GND\":\"Drift nets\",\n",
    "\"GNS\":\"Set gillnets (anchored)\",\n",
    "\"GTN\":\"Combined gillnets-trammel nets\",\n",
    "\"GTR\":\"Trammel nets\",\n",
    "\"HAR\":\"Harpoons\",\n",
    "\"LLS\":\"Set longlines\",\n",
    "\"LLD\":\"Drifting longlines\",\n",
    "\"LHM\":\"Handlines and pole-lines (mechanised)\",\n",
    "\"LHP\":\"Handlines and pole-lines (hand operated)\",\n",
    "\"LLD\":\"Drifting longlines\",\n",
    "\"LLS\":\"Set longlines\",\n",
    "\"LTL\":\"Trolling lines\",\n",
    "\"LNB\":\"Boat-operated lift nets\",\n",
    "\"LNS\":\"Shore-operated stationary lift nets\",\n",
    "\"NO\":\"No gear\",\n",
    "\"SB\":\"Beach seines\",\n",
    "\"SDN\":\"Danish seines\",\n",
    "\"SPR\":\"Pair seines\",\n",
    "\"SSC\":\"Scottish seines\",\n",
    "\"LA\":\"Lampara nets\",\n",
    "\"PS\":\"Purse seines\",\n",
    "\"FPO\":\"Pots and traps\",\n",
    "\"OTB\":\"Bottom otter trawls\",\n",
    "\"OTM\":\"Midwater otter trawls\",\n",
    "\"OTT\":\"Otter twin trawls\",\n",
    "\"PTB\":\"Bottom pair trawls\",\n",
    "\"PTM\":\"Midwater pair trawls\",\n",
    "\"TBB\":\"Beam trawls\",\n",
    "\"NK\":\"Unknown gear\"};\n",
    "\n",
    "\n",
    "eu_gear2 = {\"DRB\":\"Trawlers\",\n",
    "\"DRH\":\"Trawlers\",\n",
    "\"HMD\":\"Trawlers\",\n",
    "\"GNC\":\"Set gillnets\",\n",
    "\"GND\":\"Fishing vessel\",\n",
    "\"GNS\":\"Set gillnets\",\n",
    "\"GTN\":\"Set gillnets\",\n",
    "\"GTR\":\"Set gillnets\",\n",
    "\"HAR\":\"Fishing vessel\",\n",
    "\"LHM\":\"Pole and line\",\n",
    "\"LHP\":\"Pole and line\",\n",
    "\"LLD\":\"Drifting longlines\",\n",
    "\"LLS\":\"Set longlines\",\n",
    "\"LTL\":\"Trollers\",\n",
    "\"LNB\":\"Fishing vessel\",\n",
    "\"LNS\":\"Fishing vessel\",\n",
    "\"NO\":\"Fishing vessel\",\n",
    "\"SB\":\"Fishing vessel\",\n",
    "\"SDN\":\"Fishing vessel\",\n",
    "\"SPR\":\"Fishing vessel\",\n",
    "\"SSC\":\"Fishing vessel\",\n",
    "\"LA\":\"Set gillnets\",\n",
    "\"PS\":\"Purse seines\",\n",
    "\"FPO\":\"Pots and traps\",\n",
    "\"OTB\":\"Trawlers\",\n",
    "\"OTM\":\"Trawlers\",\n",
    "\"OTT\":\"Trawlers\",\n",
    "\"PTB\":\"Trawlers\",\n",
    "\"PTM\":\"Trawlers\",\n",
    "\"TBB\":\"Trawlers\",\n",
    "\"NK\":\"Unknown gear\"}"
   ]
  },
  {
   "cell_type": "code",
   "execution_count": 8,
   "metadata": {
    "collapsed": false
   },
   "outputs": [
    {
     "name": "stdout",
     "output_type": "stream",
     "text": [
      "Waiting on bqjob_r1be5a3d20655f03e_0000015840bdee3a_3 ... (0s) Current status: DONE   \n",
      "Query time: 4.1088809967 seconds.\n"
     ]
    }
   ],
   "source": [
    "q = '''select mmsi, group_concat(geartype) geartype, \n",
    "group_concat(secondary_geartype) secondary_geartype,\n",
    "avg(length), avg(tonnage), \n",
    "count(*) num_mmsi from\n",
    "(select a.mmsi mmsi, b.Gear_Main_Code geartype, b.Gear_Sec_Code secondary_geartype,\n",
    "b.Loa length, b.Ton_Gt tonnage from \n",
    "(SELECT mmsi,row_number FROM [world-fishing-827:EU_match_results.EU_v2]) a\n",
    "left join [Registry_matching_sources.EU_registry_311215] b\n",
    "on a.row_number = b.row_number)\n",
    "group by mmsi\n",
    "having num_mmsi = 1'''\n",
    "eu = Query(q)"
   ]
  },
  {
   "cell_type": "code",
   "execution_count": 32,
   "metadata": {
    "collapsed": false
   },
   "outputs": [],
   "source": [
    "rows = []\n",
    "mmsis = []\n",
    "\n",
    "for c in eu:\n",
    "    if c[1] in eu_gear_codes: # if it is a shiptype we are including\n",
    "        mmsi = c[0]\n",
    "        geartype = eu_gear2[c[1]] # replace with the right geartype\n",
    "        geartype2 = eu_gear2[c[2]]\n",
    "        if geartype2 == \"Fishing vessel\":\n",
    "            geartype2 = eu_gear_codes[c[2]]\n",
    "#         if geartype2[:3] == \"Set\" or geartype2 ==\"Pots and traps\":\n",
    "#             geartype = \"Set gear\"\n",
    "#         length = c[2]\n",
    "#         tonnage = c[3]\n",
    "#         if length !=None: length=float(c[2])\n",
    "#         if tonnage !=None: tonnage = float(c[3])\n",
    "        rows.append([geartype, geartype2])\n",
    "        mmsis.append(mmsi)"
   ]
  },
  {
   "cell_type": "code",
   "execution_count": 44,
   "metadata": {
    "collapsed": true
   },
   "outputs": [],
   "source": [
    "eu_frame = pd.DataFrame(rows,index=mmsis,columns=['primary_geartype','secondary_geartype'])"
   ]
  },
  {
   "cell_type": "code",
   "execution_count": 48,
   "metadata": {
    "collapsed": false
   },
   "outputs": [
    {
     "data": {
      "text/plain": [
       "primary_geartype\n",
       "Drifting longlines     206\n",
       "Fishing vessel          82\n",
       "Pole and line           48\n",
       "Pots and traps         141\n",
       "Purse seines           775\n",
       "Set gillnets           593\n",
       "Set longlines          235\n",
       "Trawlers              4352\n",
       "Trollers                 7\n",
       "dtype: int64"
      ]
     },
     "execution_count": 48,
     "metadata": {},
     "output_type": "execute_result"
    }
   ],
   "source": [
    "eu_frame.groupby(['primary_geartype']).size()\n",
    "#     print j\n"
   ]
  },
  {
   "cell_type": "code",
   "execution_count": null,
   "metadata": {
    "collapsed": true
   },
   "outputs": [],
   "source": []
  },
  {
   "cell_type": "code",
   "execution_count": 57,
   "metadata": {
    "collapsed": false
   },
   "outputs": [
    {
     "name": "stdout",
     "output_type": "stream",
     "text": [
      "primary_geartype  secondary_geartype\n",
      "Trawlers          Danish seines           11\n",
      "                  Drift nets              11\n",
      "                  Drifting longlines      16\n",
      "                  No gear               2196\n",
      "                  Pair seines              1\n",
      "                  Pole and line           11\n",
      "                  Pots and traps          26\n",
      "                  Purse seines           306\n",
      "                  Scottish seines          8\n",
      "                  Set gillnets           214\n",
      "                  Set longlines          199\n",
      "                  Trawlers              1349\n",
      "                  Trollers                 1\n",
      "                  Unknown gear             3\n",
      "dtype: int64\n",
      "primary_geartype  secondary_geartype\n",
      "Set gillnets      Danish seines           4\n",
      "                  Drift nets              6\n",
      "                  Drifting longlines     20\n",
      "                  No gear               116\n",
      "                  Pair seines             1\n",
      "                  Pole and line          22\n",
      "                  Pots and traps         44\n",
      "                  Purse seines            4\n",
      "                  Set gillnets          245\n",
      "                  Set longlines          70\n",
      "                  Trawlers               53\n",
      "                  Trollers                8\n",
      "dtype: int64\n",
      "primary_geartype  secondary_geartype\n",
      "Set longlines     Drift nets            17\n",
      "                  Drifting longlines    25\n",
      "                  No gear               75\n",
      "                  Pole and line          3\n",
      "                  Pots and traps        25\n",
      "                  Purse seines           3\n",
      "                  Set gillnets          82\n",
      "                  Set longlines          2\n",
      "                  Trawlers               3\n",
      "dtype: int64\n",
      "primary_geartype  secondary_geartype     \n",
      "Pole and line     Boat-operated lift nets     3\n",
      "                  Drift nets                  2\n",
      "                  Drifting longlines          5\n",
      "                  No gear                    12\n",
      "                  Pole and line               8\n",
      "                  Pots and traps              1\n",
      "                  Set gillnets                2\n",
      "                  Set longlines              14\n",
      "                  Trawlers                    1\n",
      "dtype: int64\n",
      "primary_geartype  secondary_geartype\n",
      "Purse seines      Beach seines            3\n",
      "                  Drift nets              1\n",
      "                  Drifting longlines      4\n",
      "                  No gear               504\n",
      "                  Pole and line           4\n",
      "                  Pots and traps          1\n",
      "                  Purse seines           32\n",
      "                  Set gillnets           78\n",
      "                  Set longlines          91\n",
      "                  Trawlers               55\n",
      "                  Trollers                2\n",
      "dtype: int64\n",
      "primary_geartype  secondary_geartype\n",
      "Pots and traps    Drift nets            11\n",
      "                  Drifting longlines     1\n",
      "                  No gear               56\n",
      "                  Pole and line          2\n",
      "                  Pots and traps        12\n",
      "                  Purse seines           2\n",
      "                  Set gillnets          37\n",
      "                  Set longlines          4\n",
      "                  Trawlers               7\n",
      "                  Trollers               1\n",
      "                  Unknown gear           8\n",
      "dtype: int64\n",
      "primary_geartype    secondary_geartype\n",
      "Drifting longlines  Drifting longlines      3\n",
      "                    No gear               152\n",
      "                    Pots and traps          2\n",
      "                    Purse seines            2\n",
      "                    Set gillnets           15\n",
      "                    Set longlines          30\n",
      "                    Trawlers                2\n",
      "dtype: int64\n",
      "primary_geartype  secondary_geartype\n",
      "Trollers          Drift nets            3\n",
      "                  No gear               1\n",
      "                  Pots and traps        3\n",
      "dtype: int64\n",
      "primary_geartype  secondary_geartype\n",
      "Fishing vessel    Danish seines          1\n",
      "                  No gear               32\n",
      "                  Pair seines            3\n",
      "                  Pots and traps         4\n",
      "                  Purse seines           2\n",
      "                  Set gillnets          10\n",
      "                  Trawlers              28\n",
      "                  Trollers               2\n",
      "dtype: int64\n"
     ]
    }
   ],
   "source": [
    "eu_frame[eu_frame['primary_geartype'] == \"Drifting longlines\"].groupby(['primary_geartype','secondary_geartype']).size()\n",
    "\n",
    "types = []\n",
    "for e in eu_gear2:\n",
    "    types.append(eu_gear2[e])\n",
    "\n",
    "types = list(set(types))\n",
    "for t in types:\n",
    "    if t != 'Unknown gear':\n",
    "        print eu_frame[eu_frame['primary_geartype'] == t].groupby(['primary_geartype','secondary_geartype']).size()\n"
   ]
  },
  {
   "cell_type": "code",
   "execution_count": 58,
   "metadata": {
    "collapsed": false
   },
   "outputs": [
    {
     "name": "stdout",
     "output_type": "stream",
     "text": [
      "Waiting on bqjob_r1bb9926f74a63f25_00000158417b27e2_4 ... (0s) Current status: DONE   \n",
      "Query time: 2.54363203049 seconds.\n"
     ]
    }
   ],
   "source": [
    "# get EU values\n",
    "\n",
    "q = '''\n",
    "select mmsi, \n",
    "group_concat(geartype) geartype, \n",
    "avg(length), \n",
    "avg(tonnage),\n",
    "count(*) num_mmsi,\n",
    "group_concat(secondary_geartype) secondary_geartype\n",
    "from\n",
    "(select a.mmsi mmsi, b.Gear_Main_Code geartype, \n",
    "b.Loa length, b.Ton_Gt tonnage, b.Gear_Sec_Code as secondary_geartype\n",
    "from \n",
    "(SELECT mmsi,row_number FROM [world-fishing-827:EU_match_results.EU_v2]) a\n",
    "left join [Registry_matching_sources.EU_registry_311215] b\n",
    "on a.row_number = b.row_number)\n",
    "group by mmsi\n",
    "having num_mmsi = 1\n",
    "\n",
    "'''\n",
    "eu = Query(q)"
   ]
  },
  {
   "cell_type": "code",
   "execution_count": 59,
   "metadata": {
    "collapsed": true
   },
   "outputs": [],
   "source": [
    "eu_gear2 = {\"DRB\":\"Trawlers\",\n",
    "\"DRH\":\"Trawlers\",\n",
    "\"HMD\":\"Trawlers\",\n",
    "\"GNC\":\"Set gillnets\",\n",
    "\"GND\":\"Fishing vessel\",\n",
    "\"GNS\":\"Set gillnets\",\n",
    "\"GTN\":\"Set gillnets\",\n",
    "\"GTR\":\"Set gillnets\",\n",
    "\"HAR\":\"Fishing vessel\",\n",
    "\"LHM\":\"Pole and line\",\n",
    "\"LHP\":\"Pole and line\",\n",
    "\"LLD\":\"Drifting longlines\",\n",
    "\"LLS\":\"Set longlines\",\n",
    "\"LTL\":\"Trollers\",\n",
    "\"LNB\":\"Fishing vessel\",\n",
    "\"LNS\":\"Fishing vessel\",\n",
    "\"NO\":\"Fishing vessel\",\n",
    "\"SB\":\"Fishing vessel\",\n",
    "\"SDN\":\"Fishing vessel\",\n",
    "\"SPR\":\"Fishing vessel\",\n",
    "\"SSC\":\"Fishing vessel\",\n",
    "\"LA\":\"Set gillnets\",\n",
    "\"PS\":\"Purse seines\",\n",
    "\"FPO\":\"Pots and traps\",\n",
    "\"OTB\":\"Trawlers\",\n",
    "\"OTM\":\"Trawlers\",\n",
    "\"OTT\":\"Trawlers\",\n",
    "\"PTB\":\"Trawlers\",\n",
    "\"PTM\":\"Trawlers\",\n",
    "\"TBB\":\"Trawlers\",\n",
    "\"NK\":\"Unknown gear\",\n",
    "\"NO\":\"No gear\"}"
   ]
  },
  {
   "cell_type": "code",
   "execution_count": 73,
   "metadata": {
    "collapsed": false
   },
   "outputs": [],
   "source": [
    "rows = []\n",
    "mmsis = []\n",
    "bad_rows = []\n",
    "bad_mmsis = {}\n",
    "\n",
    "for c in eu:\n",
    "    if c[1] in eu_gear2 and c[1] != \"NO\": # if it is a shiptype we are including\n",
    "        mmsi = c[0]\n",
    "        geartype2 = eu_gear2[c[1]] # replace with the right geartype\n",
    "        secondary_geartype = eu_gear2[c[5]]\n",
    "        if secondary_geartype == \"No gear\" or secondary_geartype == geartype2:\n",
    "\n",
    "            geartype = geartype2\n",
    "            if geartype2[:3] == \"Set\" or geartype2 ==\"Pots and traps\":\n",
    "                geartype = \"Set gear\"\n",
    "            length = c[2]\n",
    "            tonnage = c[3]\n",
    "            if length !=None: length=float(c[2])\n",
    "            if tonnage !=None: tonnage = float(c[3])\n",
    "            rows.append([geartype2, secondary_geartype, length, tonnage])\n",
    "            mmsis.append(mmsi)\n",
    "        else:\n",
    "            \n",
    "            if geartype2[:3] == \"Set\" or geartype2 ==\"Pots and traps\":\n",
    "                geartype = \"Set gear\"\n",
    "            length = c[2]\n",
    "            tonnage = c[3]\n",
    "            if length !=None: length=float(c[2])\n",
    "            if tonnage !=None: tonnage = float(c[3])\n",
    "            bad_rows.append([geartype2, secondary_geartype, length, tonnage])\n",
    "            bad_mmsis[mmsi] = [geartype2, secondary_geartype, length, tonnage]         "
   ]
  },
  {
   "cell_type": "code",
   "execution_count": 74,
   "metadata": {
    "collapsed": false
   },
   "outputs": [
    {
     "data": {
      "text/plain": [
       "1640"
      ]
     },
     "execution_count": 74,
     "metadata": {},
     "output_type": "execute_result"
    }
   ],
   "source": [
    "len(bad_mmsis)"
   ]
  },
  {
   "cell_type": "code",
   "execution_count": null,
   "metadata": {
    "collapsed": true
   },
   "outputs": [],
   "source": []
  },
  {
   "cell_type": "code",
   "execution_count": 81,
   "metadata": {
    "collapsed": false,
    "scrolled": false
   },
   "outputs": [
    {
     "name": "stdout",
     "output_type": "stream",
     "text": [
      "\n"
     ]
    }
   ],
   "source": [
    "rows = []\n",
    "doubles = 0\n",
    "with open('dumped_predictions_20161107.csv') as csvfile:\n",
    "    reader = csv.DictReader(csvfile)\n",
    "    for row in reader:\n",
    "        if row['mmsi'] in bad_mmsis:\n",
    "            doubles += 1\n",
    "            if row['true'] != row['inferred']:\n",
    "                rows.append([row['true'],row['inferred'], bad_mmsis[row['mmsi']][0],bad_mmsis[row['mmsi']][1]])"
   ]
  },
  {
   "cell_type": "code",
   "execution_count": 82,
   "metadata": {
    "collapsed": false
   },
   "outputs": [
    {
     "name": "stdout",
     "output_type": "stream",
     "text": [
      "90 267 695\n"
     ]
    }
   ],
   "source": [
    "m = 0\n",
    "for r in rows:\n",
    "    if r[1]==r[3]: m+=1\n",
    "\n",
    "print m, len(rows), doubles\n",
    "        "
   ]
  },
  {
   "cell_type": "code",
   "execution_count": 98,
   "metadata": {
    "collapsed": false
   },
   "outputs": [],
   "source": [
    "rows = []\n",
    "doubles = 0\n",
    "mmsis = []\n",
    "with open('dumped_predictions_20161107.csv') as csvfile:\n",
    "    reader = csv.DictReader(csvfile)\n",
    "    for row in reader:\n",
    "        if row['mmsi'] in bad_mmsis:\n",
    "            doubles += 1\n",
    "            if row['true'] != row['inferred']:\n",
    "                mmsis.append(row['mmsi'])\n",
    "                rows.append([row['true'],row['inferred'],bad_mmsis[row['mmsi']][1]])"
   ]
  },
  {
   "cell_type": "code",
   "execution_count": 99,
   "metadata": {
    "collapsed": false
   },
   "outputs": [],
   "source": [
    "df = pd.DataFrame(rows,index=mmsis,columns=['true','inferred','secondary'])"
   ]
  },
  {
   "cell_type": "code",
   "execution_count": 109,
   "metadata": {
    "collapsed": false
   },
   "outputs": [
    {
     "data": {
      "text/plain": [
       "true                inferred        secondary         \n",
       "Drifting longlines  Pole and Line   Set gillnets           1\n",
       "                                    Set longlines          2\n",
       "                    Pots and Traps  Set gillnets           1\n",
       "                    Purse seines    Set gillnets           1\n",
       "                                    Set longlines          1\n",
       "                    Sailing         Purse seines           1\n",
       "                    Set gillnets    Set gillnets           1\n",
       "                                    Set longlines          1\n",
       "                    Trawlers        Set gillnets           1\n",
       "                                    Set longlines          3\n",
       "                                    Trawlers               1\n",
       "Pole and Line       Pots and Traps  Set gillnets           1\n",
       "                    Set gillnets    Set gillnets           1\n",
       "                    Trollers        Fishing vessel         1\n",
       "Pots and Traps      Purse seines    Fishing vessel         1\n",
       "                                    Set gillnets           1\n",
       "                    Set gillnets    Fishing vessel         1\n",
       "                                    Set gillnets           7\n",
       "                    Trawlers        Fishing vessel         1\n",
       "Purse seines        Pole and Line   Set longlines          2\n",
       "                                    Trawlers               1\n",
       "                    Pots and Traps  Set gillnets           1\n",
       "                                    Set longlines          3\n",
       "                                    Trawlers               1\n",
       "                    Sailing         Set gillnets           3\n",
       "                    Set gillnets    Fishing vessel         1\n",
       "                                    Set gillnets           2\n",
       "                                    Set longlines          7\n",
       "                    Trawlers        Set gillnets           1\n",
       "                                    Set longlines          2\n",
       "                                                          ..\n",
       "Set longlines       Purse seines    Pots and traps         1\n",
       "                                    Purse seines           3\n",
       "                                    Set gillnets           4\n",
       "                    Set gillnets    Fishing vessel         5\n",
       "                                    Set gillnets          13\n",
       "                    Trawlers        Drifting longlines     2\n",
       "                                    Set gillnets           6\n",
       "                    Trollers        Set gillnets           2\n",
       "Trawlers            Pole and Line   Pots and traps         1\n",
       "                                    Set gillnets           3\n",
       "                                    Set longlines          3\n",
       "                    Pots and Traps  Pots and traps         6\n",
       "                                    Set gillnets          18\n",
       "                                    Set longlines          2\n",
       "                    Purse seines    Pots and traps         1\n",
       "                                    Purse seines          22\n",
       "                                    Set gillnets           1\n",
       "                    Sailing         Purse seines           1\n",
       "                                    Set gillnets           1\n",
       "                    Set gillnets    Drifting longlines     2\n",
       "                                    Fishing vessel         2\n",
       "                                    Pole and line          1\n",
       "                                    Purse seines           6\n",
       "                                    Set gillnets          22\n",
       "                                    Set longlines          4\n",
       "                    Squid           Purse seines           1\n",
       "                    Trollers        Purse seines           1\n",
       "                                    Set gillnets           3\n",
       "                                    Set longlines          2\n",
       "Trollers            Pots and Traps  Fishing vessel         1\n",
       "dtype: int64"
      ]
     },
     "execution_count": 109,
     "metadata": {},
     "output_type": "execute_result"
    }
   ],
   "source": [
    "df.groupby(['true','inferred','secondary']).size()"
   ]
  },
  {
   "cell_type": "code",
   "execution_count": 106,
   "metadata": {
    "collapsed": false,
    "scrolled": false
   },
   "outputs": [
    {
     "name": "stdout",
     "output_type": "stream",
     "text": [
      "Pole and line ['Pole and line', 'Drifting longlines', 20.0, 77.39]\n",
      "Pole and line ['Pole and line', 'Fishing vessel', 25.0, 148.42]\n",
      "Pole and line ['Pole and line', 'Drifting longlines', 20.0, 86.64]\n",
      "Trawlers ['Drifting longlines', 'Set longlines', 34.5, 273.0]\n",
      "Drifting longlines ['Set longlines', 'Drifting longlines', 25.36, 154.0]\n",
      "Drifting longlines ['Set longlines', 'Drifting longlines', 24.75, 157.94]\n",
      "Drifting longlines ['Drifting longlines', 'Set longlines', 28.0, 215.0]\n",
      "Drifting longlines ['Set longlines', 'Drifting longlines', 28.1, 215.0]\n",
      "Drifting longlines ['Pole and line', 'Drifting longlines', 28.1, 184.0]\n",
      "Pole and line ['Pole and line', 'Pots and traps', 25.41, 116.0]\n",
      "Drifting longlines ['Set longlines', 'Drifting longlines', 29.46, 171.0]\n",
      "Drifting longlines ['Drifting longlines', 'Set gillnets', 25.4, 82.0]\n",
      "Drifting longlines ['Drifting longlines', 'Set longlines', 21.3, 80.0]\n",
      "Drifting longlines ['Drifting longlines', 'Purse seines', 20.0, 70.21]\n",
      "Trawlers ['Trawlers', 'Set gillnets', 11.9, 15.4]\n",
      "Trawlers ['Trawlers', 'Set gillnets', 9.99, 12.0]\n",
      "Drifting longlines ['Set longlines', 'Set gillnets', 29.0, 232.0]\n",
      "Drifting longlines ['Set longlines', 'Set gillnets', 31.0, 268.0]\n",
      "Drifting longlines ['Set longlines', 'Set gillnets', 31.0, 291.0]\n",
      "Drifting longlines ['Set longlines', 'Pots and traps', 21.5, 82.09]\n",
      "Drifting longlines ['Set longlines', 'Set gillnets', 28.15, 238.0]\n",
      "Pole and line ['Set longlines', 'Pots and traps', 24.7, 109.0]\n",
      "Drifting longlines ['Set longlines', 'Set gillnets', 33.0, 335.0]\n",
      "Pole and line ['Set longlines', 'Pots and traps', 24.7, 106.0]\n",
      "Pole and line ['Set longlines', 'Pots and traps', 26.0, 87.0]\n",
      "Drifting longlines ['Set longlines', 'Pots and traps', 21.0, 52.8]\n",
      "Pole and line ['Set longlines', 'Pots and traps', 34.2, 175.0]\n",
      "Drifting longlines ['Set longlines', 'Set gillnets', 33.5, 260.0]\n",
      "Drifting longlines ['Set longlines', 'Set gillnets', 29.35, 220.0]\n",
      "Pole and line ['Set longlines', 'Pots and traps', 29.72, 148.0]\n",
      "Drifting longlines ['Set longlines', 'Set gillnets', 32.0, 309.0]\n",
      "Drifting longlines ['Set longlines', 'Set gillnets', 32.0, 294.0]\n",
      "Drifting longlines ['Set longlines', 'Set gillnets', 31.5, 320.0]\n",
      "Drifting longlines ['Set longlines', 'Set gillnets', 30.0, 246.0]\n",
      "Pole and line ['Set longlines', 'Pots and traps', 26.4, 200.0]\n",
      "Drifting longlines ['Set longlines', 'Set gillnets', 34.2, 392.65]\n",
      "Drifting longlines ['Set longlines', 'Set gillnets', 30.0, 240.0]\n",
      "Drifting longlines ['Set longlines', 'Set gillnets', 28.0, 225.54]\n",
      "Trawlers ['Fishing vessel', 'Trawlers', 23.3, 165.5]\n",
      "Trawlers ['Fishing vessel', 'Trawlers', 23.4, 177.56]\n",
      "Trawlers ['Trawlers', 'Fishing vessel', 20.79, 113.0]\n",
      "Trawlers ['Pots and traps', 'Set gillnets', 19.6, 117.49]\n",
      "Drifting longlines ['Set gillnets', 'Set longlines', 22.05, 186.0]\n",
      "Set gear ['Fishing vessel', 'Set gillnets', 21.4, 131.32]\n",
      "Set gear ['Set gillnets', 'Set longlines', 24.9, 219.0]\n",
      "Trawlers ['Set gillnets', 'Set longlines', 11.0, 9.0]\n",
      "Trawlers ['Set gillnets', 'Set longlines', 32.8, 273.0]\n",
      "Set gear ['Set gillnets', 'Set longlines', 26.09, 198.0]\n",
      "Trawlers ['Trawlers', 'Purse seines', 29.0, 155.0]\n",
      "Trawlers ['Trawlers', 'Purse seines', 24.95, 85.0]\n",
      "Trawlers ['Trawlers', 'Purse seines', 24.88, 86.0]\n",
      "Trawlers ['Trawlers', 'Purse seines', 28.15, 120.0]\n",
      "Trawlers ['Trawlers', 'Purse seines', 28.0, 112.0]\n",
      "Trawlers ['Trawlers', 'Purse seines', 24.69, 99.0]\n",
      "Trawlers ['Trawlers', 'Purse seines', 28.04, 105.0]\n",
      "Trawlers ['Trawlers', 'Purse seines', 25.9, 80.0]\n",
      "Drifting longlines ['Trawlers', 'Set longlines', 22.78, 73.0]\n",
      "Drifting longlines ['Trawlers', 'Set longlines', 22.62, 59.0]\n",
      "Trawlers ['Trawlers', 'Set gillnets', 22.34, 67.0]\n",
      "Drifting longlines ['Trawlers', 'Set longlines', 23.0, 86.0]\n",
      "Drifting longlines ['Trawlers', 'Purse seines', 21.88, 67.0]\n",
      "Drifting longlines ['Trawlers', 'Set longlines', 24.62, 106.0]\n",
      "Drifting longlines ['Trawlers', 'Set longlines', 25.99, 188.0]\n",
      "Drifting longlines ['Trawlers', 'Set longlines', 21.45, 82.0]\n",
      "Trawlers ['Trawlers', 'Purse seines', 27.25, 114.0]\n",
      "Trawlers ['Trawlers', 'Purse seines', 27.3, 120.0]\n",
      "Trawlers ['Trawlers', 'Purse seines', 24.6, 101.0]\n",
      "Drifting longlines ['Trawlers', 'Purse seines', 29.8, 123.0]\n",
      "Trawlers ['Trawlers', 'Purse seines', 25.29, 125.0]\n",
      "Trawlers ['Trawlers', 'Purse seines', 26.25, 138.0]\n",
      "Drifting longlines ['Trawlers', 'Set longlines', 20.53, 91.0]\n",
      "Drifting longlines ['Trawlers', 'Set longlines', 21.1, 55.0]\n",
      "Drifting longlines ['Trawlers', 'Set longlines', 21.14, 52.0]\n",
      "Drifting longlines ['Trawlers', 'Set longlines', 21.26, 60.0]\n",
      "Drifting longlines ['Trawlers', 'Set longlines', 25.75, 69.0]\n",
      "Drifting longlines ['Trawlers', 'Set longlines', 22.75, 56.0]\n",
      "Drifting longlines ['Trawlers', 'Set longlines', 23.9, 111.0]\n",
      "Drifting longlines ['Trawlers', 'Set longlines', 20.6, 40.0]\n",
      "Trawlers ['Trawlers', 'Set gillnets', 25.0, 96.0]\n",
      "Trawlers ['Trawlers', 'Purse seines', 26.56, 124.0]\n",
      "Trawlers ['Trawlers', 'Purse seines', 26.75, 113.0]\n",
      "Trawlers ['Trawlers', 'Purse seines', 26.28, 108.0]\n",
      "Trawlers ['Trawlers', 'Purse seines', 25.06, 100.0]\n",
      "Drifting longlines ['Trawlers', 'Set longlines', 22.7, 99.0]\n",
      "Trawlers ['Trawlers', 'Set gillnets', 27.7, 159.0]\n",
      "Trawlers ['Trawlers', 'Set gillnets', 25.0, 96.0]\n",
      "Trawlers ['Trawlers', 'Purse seines', 23.02, 91.0]\n",
      "Drifting longlines ['Trawlers', 'Purse seines', 23.92, 131.0]\n",
      "Drifting longlines ['Purse seines', 'Set longlines', 26.55, 94.0]\n",
      "Trawlers ['Trawlers', 'Purse seines', 25.04, 144.0]\n",
      "Drifting longlines ['Trawlers', 'Set longlines', 26.9, 96.0]\n",
      "Trawlers ['Trawlers', 'Purse seines', 24.04, 90.0]\n",
      "Drifting longlines ['Trawlers', 'Set longlines', 24.8, 83.0]\n",
      "Trawlers ['Trawlers', 'Purse seines', 20.62, 57.0]\n",
      "Trawlers ['Trawlers', 'Purse seines', 24.05, 83.0]\n",
      "Trawlers ['Trawlers', 'Purse seines', 55.6, 695.0]\n",
      "Drifting longlines ['Trawlers', 'Purse seines', 23.0, 63.0]\n",
      "Drifting longlines ['Purse seines', 'Set longlines', 21.21, 50.0]\n",
      "Drifting longlines ['Trawlers', 'Set longlines', 22.85, 63.0]\n",
      "Drifting longlines ['Trawlers', 'Set longlines', 23.6, 69.0]\n",
      "Drifting longlines ['Trawlers', 'Purse seines', 21.51, 43.0]\n",
      "Trawlers ['Trawlers', 'Purse seines', 28.46, 133.0]\n",
      "Trawlers ['Trawlers', 'Set gillnets', 26.88, 90.0]\n",
      "Drifting longlines ['Trawlers', 'Set longlines', 20.84, 59.0]\n",
      "Drifting longlines ['Trawlers', 'Set longlines', 21.86, 63.0]\n",
      "Drifting longlines ['Trawlers', 'Purse seines', 27.5, 99.0]\n",
      "Drifting longlines ['Trawlers', 'Set longlines', 21.9, 77.0]\n",
      "Trawlers ['Trawlers', 'Purse seines', 21.58, 83.0]\n",
      "Trawlers ['Trawlers', 'Purse seines', 23.92, 115.0]\n",
      "Trawlers ['Trawlers', 'Purse seines', 25.11, 70.0]\n",
      "Trawlers ['Trawlers', 'Purse seines', 27.52, 99.0]\n",
      "Trawlers ['Trawlers', 'Purse seines', 26.12, 92.0]\n",
      "Drifting longlines ['Trawlers', 'Purse seines', 22.1, 56.0]\n",
      "Drifting longlines ['Trawlers', 'Set longlines', 21.2, 55.0]\n",
      "Trawlers ['Trawlers', 'Purse seines', 25.39, 81.0]\n",
      "Drifting longlines ['Trawlers', 'Set longlines', 20.05, 83.0]\n",
      "Drifting longlines ['Trawlers', 'Set longlines', 22.0, 67.0]\n",
      "Drifting longlines ['Trawlers', 'Set longlines', 21.25, 59.0]\n",
      "Trawlers ['Trawlers', 'Purse seines', 25.73, 77.0]\n",
      "Drifting longlines ['Purse seines', 'Set longlines', 22.7, 48.0]\n",
      "Drifting longlines ['Purse seines', 'Set longlines', 22.65, 70.0]\n",
      "Drifting longlines ['Trawlers', 'Set longlines', 20.15, 44.0]\n",
      "Drifting longlines ['Trawlers', 'Purse seines', 20.06, 47.0]\n",
      "Drifting longlines ['Trawlers', 'Set longlines', 22.91, 70.0]\n",
      "Drifting longlines ['Purse seines', 'Set longlines', 22.2, 103.0]\n",
      "Drifting longlines ['Trawlers', 'Set longlines', 21.8, 64.0]\n",
      "Drifting longlines ['Set longlines', 'Fishing vessel', 20.55, 62.0]\n",
      "Drifting longlines ['Trawlers', 'Set longlines', 23.41, 84.0]\n",
      "Drifting longlines ['Trawlers', 'Purse seines', 23.01, 57.0]\n",
      "Drifting longlines ['Trawlers', 'Set longlines', 20.48, 47.0]\n",
      "Drifting longlines ['Set longlines', 'Fishing vessel', 20.85, 68.0]\n",
      "Drifting longlines ['Purse seines', 'Set longlines', 20.3, 47.0]\n",
      "Drifting longlines ['Trawlers', 'Set longlines', 20.86, 55.0]\n",
      "Drifting longlines ['Trawlers', 'Purse seines', 20.35, 59.0]\n",
      "Drifting longlines ['Trawlers', 'Set longlines', 22.75, 74.0]\n",
      "Drifting longlines ['Trawlers', 'Set longlines', 26.9, 157.0]\n",
      "Drifting longlines ['Trawlers', 'Set longlines', 22.65, 70.0]\n",
      "Drifting longlines ['Trawlers', 'Purse seines', 21.33, 57.0]\n",
      "Drifting longlines ['Purse seines', 'Set longlines', 22.38, 85.0]\n",
      "Drifting longlines ['Trawlers', 'Set longlines', 23.85, 89.0]\n",
      "Drifting longlines ['Trawlers', 'Set longlines', 22.7, 99.0]\n",
      "Drifting longlines ['Trawlers', 'Set longlines', 21.39, 62.0]\n",
      "Drifting longlines ['Trawlers', 'Set longlines', 24.2, 62.0]\n",
      "Drifting longlines ['Trawlers', 'Set longlines', 21.3, 75.0]\n",
      "Trawlers ['Trawlers', 'Purse seines', 25.24, 112.0]\n",
      "Drifting longlines ['Trawlers', 'Set longlines', 20.95, 58.0]\n",
      "Drifting longlines ['Trawlers', 'Set longlines', 20.7, 59.0]\n",
      "Drifting longlines ['Trawlers', 'Set longlines', 21.7, 50.0]\n",
      "Drifting longlines ['Trawlers', 'Set longlines', 24.13, 82.0]\n",
      "Drifting longlines ['Trawlers', 'Set longlines', 20.86, 58.0]\n",
      "Drifting longlines ['Trawlers', 'Set longlines', 26.15, 104.0]\n",
      "Drifting longlines ['Trawlers', 'Purse seines', 21.15, 63.0]\n",
      "Trawlers ['Trawlers', 'Purse seines', 27.59, 120.0]\n",
      "Drifting longlines ['Purse seines', 'Set longlines', 26.31, 98.0]\n",
      "Drifting longlines ['Trawlers', 'Purse seines', 20.43, 52.0]\n",
      "Drifting longlines ['Purse seines', 'Set longlines', 23.75, 88.0]\n",
      "Drifting longlines ['Trawlers', 'Set longlines', 26.2, 120.0]\n",
      "Drifting longlines ['Trawlers', 'Set longlines', 25.07, 96.0]\n",
      "Drifting longlines ['Trawlers', 'Set longlines', 21.69, 65.0]\n",
      "Drifting longlines ['Trawlers', 'Purse seines', 22.45, 80.0]\n",
      "Drifting longlines ['Trawlers', 'Set longlines', 20.35, 51.0]\n",
      "Drifting longlines ['Trawlers', 'Set longlines', 23.05, 87.0]\n",
      "Drifting longlines ['Trawlers', 'Purse seines', 20.9, 51.0]\n",
      "Drifting longlines ['Trawlers', 'Set longlines', 22.02, 90.0]\n",
      "Drifting longlines ['Trawlers', 'Set longlines', 25.17, 142.0]\n",
      "Drifting longlines ['Trawlers', 'Set longlines', 21.21, 96.0]\n",
      "Drifting longlines ['Trawlers', 'Set longlines', 22.12, 72.0]\n",
      "Drifting longlines ['Set longlines', 'Fishing vessel', 20.0, 71.0]\n",
      "Drifting longlines ['Trawlers', 'Set longlines', 25.78, 87.0]\n",
      "Drifting longlines ['Trawlers', 'Set longlines', 25.15, 87.0]\n",
      "Drifting longlines ['Trawlers', 'Set longlines', 24.86, 109.0]\n",
      "Drifting longlines ['Trawlers', 'Set longlines', 27.5, 138.0]\n",
      "Trawlers ['Trawlers', 'Set longlines', 24.28, 130.0]\n",
      "Drifting longlines ['Trawlers', 'Set longlines', 27.5, 138.0]\n",
      "Drifting longlines ['Trawlers', 'Set longlines', 22.5, 158.0]\n",
      "Drifting longlines ['Trawlers', 'Set longlines', 29.35, 167.0]\n",
      "Drifting longlines ['Trawlers', 'Set longlines', 22.5, 158.0]\n",
      "Drifting longlines ['Trawlers', 'Set longlines', 20.1, 75.0]\n",
      "Drifting longlines ['Trawlers', 'Purse seines', 23.24, 61.0]\n",
      "Drifting longlines ['Purse seines', 'Set longlines', 25.36, 99.0]\n",
      "Trawlers ['Trawlers', 'Purse seines', 27.6, 79.0]\n",
      "Trawlers ['Trawlers', 'Set gillnets', 24.8, 109.0]\n",
      "Drifting longlines ['Trawlers', 'Purse seines', 21.8, 55.0]\n",
      "Drifting longlines ['Set longlines', 'Set gillnets', 22.37, 82.0]\n",
      "Drifting longlines ['Purse seines', 'Set longlines', 22.1, 55.0]\n",
      "Drifting longlines ['Trawlers', 'Set longlines', 23.0, 75.0]\n",
      "Drifting longlines ['Trawlers', 'Set longlines', 23.62, 59.0]\n",
      "Drifting longlines ['Trawlers', 'Set longlines', 22.45, 86.0]\n",
      "Drifting longlines ['Trawlers', 'Set longlines', 20.82, 41.0]\n",
      "Drifting longlines ['Trawlers', 'Set longlines', 21.34, 75.0]\n",
      "Drifting longlines ['Trawlers', 'Set longlines', 20.72, 62.0]\n",
      "Trawlers ['Set gillnets', 'Trawlers', 21.95, 131.0]\n",
      "Trawlers ['Fishing vessel', 'Trawlers', 23.2, 224.0]\n",
      "Trawlers ['Trawlers', 'Set gillnets', 20.4, 110.0]\n",
      "Trawlers ['Trawlers', 'Set gillnets', 26.9, 279.0]\n",
      "Trawlers ['Set gillnets', 'Fishing vessel', 37.3, 469.0]\n",
      "Trawlers ['Purse seines', 'Trawlers', 22.5, 190.0]\n",
      "Trawlers ['Fishing vessel', 'Set gillnets', 23.65, 176.0]\n",
      "Trawlers ['Purse seines', 'Trawlers', 24.9, 233.0]\n",
      "Trawlers ['Set gillnets', 'Fishing vessel', 26.6, 335.0]\n",
      "Trawlers ['Trawlers', 'Purse seines', 27.38, 322.0]\n",
      "Pole and line ['Pole and line', 'Set longlines', 32.0, 258.0]\n",
      "Drifting longlines ['Drifting longlines', 'Set longlines', 25.0, 177.4]\n",
      "Drifting longlines ['Set longlines', 'Drifting longlines', 20.26, 52.0]\n",
      "Trawlers ['Pots and traps', 'Set longlines', 27.2, 166.19]\n",
      "Drifting longlines ['Set longlines', 'Drifting longlines', 24.5, 100.48]\n",
      "Drifting longlines ['Set gillnets', 'Drifting longlines', 20.5, 128.73]\n",
      "Drifting longlines ['Pots and traps', 'Drifting longlines', 24.0, 187.12]\n",
      "Drifting longlines ['Set longlines', 'Drifting longlines', 24.45, 147.98]\n",
      "Drifting longlines ['Drifting longlines', 'Set longlines', 24.79, 167.29]\n",
      "Drifting longlines ['Set gillnets', 'Drifting longlines', 20.5, 87.03]\n",
      "Drifting longlines ['Set longlines', 'Drifting longlines', 26.1, 210.32]\n",
      "Trawlers ['Set longlines', 'Drifting longlines', 37.5, 412.0]\n"
     ]
    }
   ],
   "source": [
    "with open(\"net_training_20161107.csv\") as csvfile:\n",
    "    reader = csv.DictReader(csvfile)\n",
    "    for row in reader:\n",
    "        if row['mmsi'] in bad_mmsis and row['label']!=\"\":\n",
    "            print row['label'], bad_mmsis[row['mmsi']]"
   ]
  },
  {
   "cell_type": "code",
   "execution_count": null,
   "metadata": {
    "collapsed": true
   },
   "outputs": [],
   "source": []
  }
 ],
 "metadata": {
  "kernelspec": {
   "display_name": "Python 2",
   "language": "python",
   "name": "python2"
  },
  "language_info": {
   "codemirror_mode": {
    "name": "ipython",
    "version": 2
   },
   "file_extension": ".py",
   "mimetype": "text/x-python",
   "name": "python",
   "nbconvert_exporter": "python",
   "pygments_lexer": "ipython2",
   "version": "2.7.3"
  }
 },
 "nbformat": 4,
 "nbformat_minor": 0
}
