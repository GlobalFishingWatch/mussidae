{
 "cells": [
  {
   "cell_type": "markdown",
   "metadata": {},
   "source": [
    "# Generate Lists for Neural Net"
   ]
  },
  {
   "cell_type": "code",
   "execution_count": 10,
   "metadata": {
    "collapsed": false
   },
   "outputs": [],
   "source": [
    "import csv\n",
    "import bq\n",
    "import time\n",
    "import numpy as np\n",
    "import pandas as pd\n",
    "import matplotlib.pyplot as plt\n",
    "%matplotlib inline\n",
    "import seaborn as sb"
   ]
  },
  {
   "cell_type": "code",
   "execution_count": 11,
   "metadata": {
    "collapsed": true
   },
   "outputs": [],
   "source": [
    "client = bq.Client.Get()\n",
    "\n",
    "def Query(q):\n",
    "    t0 = time.time()\n",
    "    answer = client.ReadTableRows(client.Query(q)['configuration']['query']['destinationTable'])\n",
    "    print 'Query time: ' + str(time.time() - t0) + ' seconds.'\n",
    "    return answer"
   ]
  },
  {
   "cell_type": "markdown",
   "metadata": {},
   "source": [
    "## Get Vessels that Have Been Matched to the CLAV List"
   ]
  },
  {
   "cell_type": "code",
   "execution_count": 12,
   "metadata": {
    "collapsed": false
   },
   "outputs": [
    {
     "name": "stdout",
     "output_type": "stream",
     "text": [
      "Waiting on bqjob_r5744fad2a52354a0_000001586911d3af_4 ... (0s) Current status: DONE   \n",
      "Query time: 1.20661687851 seconds.\n"
     ]
    }
   ],
   "source": [
    "q = '''select shiptype, count(*) num from [world-fishing-827:CLAV_match_results.v7_results] group by shiptype\n",
    "       order by num desc '''\n",
    "geartypes = Query(q)"
   ]
  },
  {
   "cell_type": "code",
   "execution_count": 13,
   "metadata": {
    "collapsed": false
   },
   "outputs": [
    {
     "name": "stdout",
     "output_type": "stream",
     "text": [
      "Longliners 2057\n",
      "Tuna longliners 975\n",
      "Purse seiners 412\n",
      "Fish carriers 406\n",
      "Trawlers 392\n",
      "Tuna purse seiners 282\n",
      "Pole and Line vessels 203\n",
      "Non-fishing vessels nei 146\n",
      "Unknown 127\n",
      "Trollers 86\n",
      "Recreational fishing vessels 52\n",
      "Multipurpose vessels 47\n",
      "Support Vessels 42\n",
      "Bunkers 41\n",
      "Fishery research vessels 37\n",
      "Gillnetters 30\n",
      "Multipurpose vessels nei 28\n",
      "Dredgers 8\n",
      "None 5\n",
      "Handliners 4\n",
      "Liners nei 3\n",
      "Liners 3\n",
      "Motherships 2\n",
      "Seiners 2\n",
      "Stern trawlers 1\n",
      "Seiners nei 1\n",
      "Other line vessels 1\n"
     ]
    }
   ],
   "source": [
    "for g in geartypes:\n",
    "    print g[0],g[1]"
   ]
  },
  {
   "cell_type": "markdown",
   "metadata": {},
   "source": [
    "## Rules for CLAV Shiptypes"
   ]
  },
  {
   "cell_type": "code",
   "execution_count": 14,
   "metadata": {
    "collapsed": false
   },
   "outputs": [],
   "source": [
    "clav_rules = {\n",
    "'Longliners': 'Drifting longlines',\n",
    "'Tuna longliners': 'Drifting longlines',\n",
    "'Purse seiners': 'Purse seiners',\n",
    "'Trawlers': 'Trawlers',\n",
    "'Trawler':'Trawlers',\n",
    "'Trollers':'Trollers' ,\n",
    "'Pole and Line vessels': 'Pole and line',\n",
    "'Tuna purse seiners':'Purse seiners',\n",
    "'Gillnetters':'Set gillnets'}\n",
    "    \n",
    "# ignore the following cageories\n",
    "'''\n",
    "Fish carriers\n",
    "Non-fishing vessels nei 146\n",
    "Unknown 127\n",
    "Recreational fishing vessels 52\n",
    "Multipurpose vessels 47\n",
    "Support Vessels 42\n",
    "Bunkers 41\n",
    "Fishery research vessels 37\n",
    "Multipurpose vessels nei 28\n",
    "Dredgers 8\n",
    "None 5\n",
    "Handliners 4\n",
    "Liners nei 3\n",
    "Liners 3\n",
    "Motherships 2\n",
    "Seiners 2\n",
    "Stern trawlers 1\n",
    "Seiners nei 1\n",
    "Other line vessels'''\n",
    "None"
   ]
  },
  {
   "cell_type": "code",
   "execution_count": 15,
   "metadata": {
    "collapsed": false
   },
   "outputs": [
    {
     "name": "stdout",
     "output_type": "stream",
     "text": [
      "Waiting on bqjob_r1db5b2c3c833296d_000001586911d877_5 ... (0s) Current status: DONE   \n",
      "Query time: 2.63697504997 seconds.\n"
     ]
    }
   ],
   "source": [
    "# get the important data from the CLAV lists\n",
    "q = '''\n",
    "select mmsi, \n",
    "group_concat(shiptype) geartype, \n",
    "avg(length),avg(tonnage), \n",
    "avg(stddev_length), \n",
    "avg(stddev_tonnage), \n",
    "count(*) number_shiptypes \n",
    "from\n",
    "(select a.mmsi as mmsi, a.shiptype as shiptype, avg(b.length) length, avg(c.tonnage) tonnage, \n",
    "stddev(b.length) stddev_length, stddev(c.tonnage) stddev_tonnage\n",
    "from \n",
    "(SELECT mmsi, shipname, \n",
    "CASE\n",
    "  WHEN shiptype = 'Tuna purse seiners' THEN 'Purse seines'\n",
    "  WHEN shiptype = 'Purse seiners' THEN 'Purse seines'\n",
    "  WHEN shiptype = 'Tuna longliners' THEN 'Drifting longlines'\n",
    "  WHEN shiptype = 'Longliners' then 'Drifting longlines'\n",
    "  WHEN shiptype = 'Trawler' THEN 'Trawlers'\n",
    "  WHEN shiptype = 'Liners' THEN 'Drifting longlines'\n",
    "  ELSE shiptype\n",
    "END shiptype, \n",
    "clav_TUVI FROM [world-fishing-827:CLAV_match_results.v7_results]) a\n",
    "left join\n",
    "(select length, clav_TUVI from [world-fishing-827:Registry_matching_sources.CLAV_12_14_2015] where length is not null)  b\n",
    "on a.clav_TUVI = b.clav_TUVI\n",
    "left join \n",
    "(select tonnage, clav_TUVI from [world-fishing-827:Registry_matching_sources.CLAV_12_14_2015] where tonnage is not null)  c\n",
    "on a.clav_TUVI = c.clav_TUVI\n",
    "group by mmsi, shiptype)\n",
    "group by mmsi\n",
    "'''\n",
    "clav = Query(q)"
   ]
  },
  {
   "cell_type": "code",
   "execution_count": 17,
   "metadata": {
    "collapsed": false
   },
   "outputs": [],
   "source": [
    "rows = []\n",
    "mmsis = []\n",
    "\n",
    "for c in clav:\n",
    "    mmsi = c[0]\n",
    "    geartype = c[1]\n",
    "    if geartype in clav_rules: # if it is a shiptype we are including\n",
    "        geartype = clav_rules[geartype] # replace with the right shipname\n",
    "        length = c[2]\n",
    "        tonnage = c[3]\n",
    "        stddev_length = c[4]\n",
    "        stddev_tonnage = c[5]\n",
    "        if length !=None: length=float(c[2])\n",
    "        if tonnage !=None: tonnage = float(c[3])\n",
    "        if stddev_length !=None: stddev_length = float(c[4])\n",
    "        if stddev_tonnage !=None: stddev_tonnage = float(c[5])\n",
    "        if stddev_length !=None and stddev_length/length > .1:\n",
    "            length = None # if different entries differ by more than 10 percent, ignore\n",
    "        if stddev_tonnage !=None and stddev_tonnage/tonnage > 1:\n",
    "            tonnage = None\n",
    "        num_types = int(c[6])\n",
    "        geartype2 = geartype\n",
    "        if geartype == 'Set gillnets':\n",
    "            geartype = 'Fixed gear'\n",
    "        rows.append(['Fishing vessel',geartype,geartype2,length,tonnage, num_types])\n",
    "        mmsis.append(mmsi)"
   ]
  },
  {
   "cell_type": "code",
   "execution_count": 18,
   "metadata": {
    "collapsed": false
   },
   "outputs": [],
   "source": [
    "clav_frame = pd.DataFrame(rows,index=mmsis,columns=['clav_fishing','clav_label','clav_sublabel', 'clav_length', 'clav_tonnage','num_clav_geartypes'])\n",
    "clav_frame.index.name = 'mmsi'"
   ]
  },
  {
   "cell_type": "code",
   "execution_count": 19,
   "metadata": {
    "collapsed": false
   },
   "outputs": [],
   "source": [
    "clav_frame.to_csv('lists/clav.csv')"
   ]
  },
  {
   "cell_type": "code",
   "execution_count": 20,
   "metadata": {
    "collapsed": false
   },
   "outputs": [
    {
     "data": {
      "text/html": [
       "<div>\n",
       "<table border=\"1\" class=\"dataframe\">\n",
       "  <thead>\n",
       "    <tr style=\"text-align: right;\">\n",
       "      <th></th>\n",
       "      <th>clav_fishing</th>\n",
       "      <th>clav_label</th>\n",
       "      <th>clav_sublabel</th>\n",
       "      <th>clav_length</th>\n",
       "      <th>clav_tonnage</th>\n",
       "      <th>num_clav_geartypes</th>\n",
       "    </tr>\n",
       "    <tr>\n",
       "      <th>mmsi</th>\n",
       "      <th></th>\n",
       "      <th></th>\n",
       "      <th></th>\n",
       "      <th></th>\n",
       "      <th></th>\n",
       "      <th></th>\n",
       "    </tr>\n",
       "  </thead>\n",
       "  <tbody>\n",
       "    <tr>\n",
       "      <th>224085260</th>\n",
       "      <td>Fishing vessel</td>\n",
       "      <td>Pole and line</td>\n",
       "      <td>Pole and line</td>\n",
       "      <td>37.0</td>\n",
       "      <td>206.00</td>\n",
       "      <td>1</td>\n",
       "    </tr>\n",
       "    <tr>\n",
       "      <th>224033380</th>\n",
       "      <td>Fishing vessel</td>\n",
       "      <td>Pole and line</td>\n",
       "      <td>Pole and line</td>\n",
       "      <td>28.5</td>\n",
       "      <td>128.00</td>\n",
       "      <td>1</td>\n",
       "    </tr>\n",
       "    <tr>\n",
       "      <th>250440000</th>\n",
       "      <td>Fishing vessel</td>\n",
       "      <td>Trawlers</td>\n",
       "      <td>Trawlers</td>\n",
       "      <td>33.4</td>\n",
       "      <td>304.00</td>\n",
       "      <td>1</td>\n",
       "    </tr>\n",
       "    <tr>\n",
       "      <th>224205420</th>\n",
       "      <td>Fishing vessel</td>\n",
       "      <td>Trawlers</td>\n",
       "      <td>Trawlers</td>\n",
       "      <td>26.5</td>\n",
       "      <td>182.85</td>\n",
       "      <td>1</td>\n",
       "    </tr>\n",
       "    <tr>\n",
       "      <th>235008860</th>\n",
       "      <td>Fishing vessel</td>\n",
       "      <td>Trawlers</td>\n",
       "      <td>Trawlers</td>\n",
       "      <td>25.9</td>\n",
       "      <td>NaN</td>\n",
       "      <td>1</td>\n",
       "    </tr>\n",
       "  </tbody>\n",
       "</table>\n",
       "</div>"
      ],
      "text/plain": [
       "             clav_fishing     clav_label  clav_sublabel  clav_length  \\\n",
       "mmsi                                                                   \n",
       "224085260  Fishing vessel  Pole and line  Pole and line         37.0   \n",
       "224033380  Fishing vessel  Pole and line  Pole and line         28.5   \n",
       "250440000  Fishing vessel       Trawlers       Trawlers         33.4   \n",
       "224205420  Fishing vessel       Trawlers       Trawlers         26.5   \n",
       "235008860  Fishing vessel       Trawlers       Trawlers         25.9   \n",
       "\n",
       "           clav_tonnage  num_clav_geartypes  \n",
       "mmsi                                         \n",
       "224085260        206.00                   1  \n",
       "224033380        128.00                   1  \n",
       "250440000        304.00                   1  \n",
       "224205420        182.85                   1  \n",
       "235008860           NaN                   1  "
      ]
     },
     "execution_count": 20,
     "metadata": {},
     "output_type": "execute_result"
    }
   ],
   "source": [
    "# print clav_frame.ix['224025440']\n",
    "clav_frame.head()"
   ]
  },
  {
   "cell_type": "code",
   "execution_count": 21,
   "metadata": {
    "collapsed": false
   },
   "outputs": [
    {
     "data": {
      "text/html": [
       "<div>\n",
       "<table border=\"1\" class=\"dataframe\">\n",
       "  <thead>\n",
       "    <tr style=\"text-align: right;\">\n",
       "      <th></th>\n",
       "      <th>clav_fishing</th>\n",
       "      <th>clav_label</th>\n",
       "      <th>clav_length</th>\n",
       "      <th>clav_tonnage</th>\n",
       "      <th>num_clav_geartypes</th>\n",
       "    </tr>\n",
       "    <tr>\n",
       "      <th>clav_sublabel</th>\n",
       "      <th></th>\n",
       "      <th></th>\n",
       "      <th></th>\n",
       "      <th></th>\n",
       "      <th></th>\n",
       "    </tr>\n",
       "  </thead>\n",
       "  <tbody>\n",
       "    <tr>\n",
       "      <th>Pole and line</th>\n",
       "      <td>160</td>\n",
       "      <td>160</td>\n",
       "      <td>157</td>\n",
       "      <td>160</td>\n",
       "      <td>160</td>\n",
       "    </tr>\n",
       "    <tr>\n",
       "      <th>Set gillnets</th>\n",
       "      <td>23</td>\n",
       "      <td>23</td>\n",
       "      <td>23</td>\n",
       "      <td>17</td>\n",
       "      <td>23</td>\n",
       "    </tr>\n",
       "    <tr>\n",
       "      <th>Trawlers</th>\n",
       "      <td>388</td>\n",
       "      <td>388</td>\n",
       "      <td>387</td>\n",
       "      <td>334</td>\n",
       "      <td>388</td>\n",
       "    </tr>\n",
       "    <tr>\n",
       "      <th>Trollers</th>\n",
       "      <td>49</td>\n",
       "      <td>49</td>\n",
       "      <td>45</td>\n",
       "      <td>49</td>\n",
       "      <td>49</td>\n",
       "    </tr>\n",
       "  </tbody>\n",
       "</table>\n",
       "</div>"
      ],
      "text/plain": [
       "               clav_fishing  clav_label  clav_length  clav_tonnage  \\\n",
       "clav_sublabel                                                        \n",
       "Pole and line           160         160          157           160   \n",
       "Set gillnets             23          23           23            17   \n",
       "Trawlers                388         388          387           334   \n",
       "Trollers                 49          49           45            49   \n",
       "\n",
       "               num_clav_geartypes  \n",
       "clav_sublabel                      \n",
       "Pole and line                 160  \n",
       "Set gillnets                   23  \n",
       "Trawlers                      388  \n",
       "Trollers                       49  "
      ]
     },
     "execution_count": 21,
     "metadata": {},
     "output_type": "execute_result"
    }
   ],
   "source": [
    "clav_frame.groupby('clav_sublabel').count()"
   ]
  },
  {
   "cell_type": "markdown",
   "metadata": {},
   "source": [
    "## Get Vessels that Have Been Matched to the ITU List"
   ]
  },
  {
   "cell_type": "code",
   "execution_count": 22,
   "metadata": {
    "collapsed": false
   },
   "outputs": [
    {
     "name": "stdout",
     "output_type": "stream",
     "text": [
      "Waiting on bqjob_r1a51a3e338dee538_0000015869123eb6_6 ... (0s) Current status: DONE   \n",
      "Query time: 2.39899086952 seconds.\n"
     ]
    }
   ],
   "source": [
    "# First identify the geartypes\n",
    "\n",
    "q = '''select itu_Individual_classification, count(*) num from \n",
    "[world-fishing-827:Registry_matching_sources.ITU_Dec_2015_Fishing] \n",
    "group by itu_Individual_classification\n",
    "order by 2 desc'''\n",
    "itu_gears = Query(q)"
   ]
  },
  {
   "cell_type": "code",
   "execution_count": 23,
   "metadata": {
    "collapsed": false,
    "scrolled": false
   },
   "outputs": [
    {
     "name": "stdout",
     "output_type": "stream",
     "text": [
      "Fishing vessel 10352\n",
      "Trawler 633\n",
      "None 399\n",
      "Lobster ship 261\n",
      "Motor boat 86\n",
      "Unspecified 57\n",
      "Passenger ship 47\n",
      "Cutter 25\n",
      "Launch 18\n",
      "Tunny ship 18\n",
      "Yacht 11\n",
      "Barge 9\n",
      "Research ship /Survey ship 9\n",
      "Reefer 7\n",
      "Salvage ship 7\n",
      "Liner 4\n",
      "Cable ship 3\n",
      "Coaster 3\n",
      "Cargo ship 3\n",
      "Barge carrier 3\n",
      "Auxiliary ship 3\n",
      "Sailing ship 2\n",
      "Whaler 2\n",
      "RoRo ship 2\n",
      "Fishing guard 2\n",
      "Lugger 2\n",
      "Bulk carrier 2\n",
      "Factory ship 2\n",
      "Training ship 2\n",
      "Air-cushion vehicle 1\n",
      "Sloop 1\n",
      "Cargo and passenger 1\n",
      "Cruiser 1\n",
      "Supply vessel 1\n",
      "Lightship 1\n",
      "Vehicle carrier 1\n",
      "Dredger 1\n",
      "Ship used by divers 1\n",
      "Pontoon 1\n"
     ]
    }
   ],
   "source": [
    "for i in itu_gears:\n",
    "    print i[0],i[1]"
   ]
  },
  {
   "cell_type": "code",
   "execution_count": 24,
   "metadata": {
    "collapsed": false
   },
   "outputs": [],
   "source": [
    "# only the following matter\n",
    "\n",
    "itu_rules_course = {\n",
    "  'Trawler':'Trawlers',\n",
    "  'Lobster ship': 'Fixed gear',\n",
    "  'Fishing vessel':'Fishing vessel'\n",
    "\n",
    "}\n",
    "\n",
    "# only the following matter\n",
    "itu_rules_detail = {\n",
    "  'Trawler':'Trawlers',\n",
    "  'Lobster ship': 'Pots and traps',\n",
    "}"
   ]
  },
  {
   "cell_type": "code",
   "execution_count": 25,
   "metadata": {
    "collapsed": false
   },
   "outputs": [
    {
     "name": "stdout",
     "output_type": "stream",
     "text": [
      "Waiting on bqjob_r5fb645b7638d2bc2_0000015869124bfe_7 ... (0s) Current status: DONE   \n",
      "Query time: 3.42368602753 seconds.\n"
     ]
    }
   ],
   "source": [
    "q = ''' SELECT\n",
    "    mmsi,\n",
    "    itu_Individual_classification,\n",
    "    tonnage\n",
    "  FROM\n",
    "    [world-fishing-827:Registry_matching_sources.ITU_Dec_2015_Fishing]'''\n",
    "itu = Query(q)"
   ]
  },
  {
   "cell_type": "code",
   "execution_count": 27,
   "metadata": {
    "collapsed": false
   },
   "outputs": [],
   "source": [
    "rows = []\n",
    "mmsis = []\n",
    "\n",
    "for c in itu:\n",
    "    if c[1] in itu_rules_course: # if it is a shiptype we are including\n",
    "        mmsi = c[0]\n",
    "        geartype_course = itu_rules_course[c[1]] # replace with the right shipname\n",
    "        try:\n",
    "            tonnage = float(c[2])\n",
    "        except:\n",
    "            tonnage = None  \n",
    "        if c[1] in itu_rules_detail:\n",
    "            geartype_detail = itu_rules_detail[c[1]]\n",
    "        else:\n",
    "            geartype_detail = None\n",
    "        if geartype_course == \"Fishing vessel\":\n",
    "            geartype_course = \"\"\n",
    "        rows.append(['Fishing vessel',geartype_course,geartype_detail,tonnage])\n",
    "        mmsis.append(mmsi)"
   ]
  },
  {
   "cell_type": "code",
   "execution_count": 28,
   "metadata": {
    "collapsed": false
   },
   "outputs": [],
   "source": [
    "itu_frame = pd.DataFrame(rows,index=mmsis,columns=['itu_fishing','itu_label','itu_sublabel', 'itu_tonnage'])\n",
    "itu_frame.index.name = 'mmsi'\n",
    "itu_frame.to_csv('lists/itu.csv')"
   ]
  },
  {
   "cell_type": "code",
   "execution_count": null,
   "metadata": {
    "collapsed": true
   },
   "outputs": [],
   "source": []
  },
  {
   "cell_type": "code",
   "execution_count": 29,
   "metadata": {
    "collapsed": false
   },
   "outputs": [
    {
     "data": {
      "text/html": [
       "<div>\n",
       "<table border=\"1\" class=\"dataframe\">\n",
       "  <thead>\n",
       "    <tr style=\"text-align: right;\">\n",
       "      <th></th>\n",
       "      <th>itu_fishing</th>\n",
       "      <th>itu_label</th>\n",
       "      <th>itu_sublabel</th>\n",
       "      <th>itu_tonnage</th>\n",
       "    </tr>\n",
       "    <tr>\n",
       "      <th>mmsi</th>\n",
       "      <th></th>\n",
       "      <th></th>\n",
       "      <th></th>\n",
       "      <th></th>\n",
       "    </tr>\n",
       "  </thead>\n",
       "  <tbody>\n",
       "    <tr>\n",
       "      <th>204211000</th>\n",
       "      <td>Fishing vessel</td>\n",
       "      <td></td>\n",
       "      <td>None</td>\n",
       "      <td>NaN</td>\n",
       "    </tr>\n",
       "    <tr>\n",
       "      <th>204212000</th>\n",
       "      <td>Fishing vessel</td>\n",
       "      <td>Trawlers</td>\n",
       "      <td>Trawlers</td>\n",
       "      <td>NaN</td>\n",
       "    </tr>\n",
       "    <tr>\n",
       "      <th>204213000</th>\n",
       "      <td>Fishing vessel</td>\n",
       "      <td></td>\n",
       "      <td>None</td>\n",
       "      <td>NaN</td>\n",
       "    </tr>\n",
       "    <tr>\n",
       "      <th>204218000</th>\n",
       "      <td>Fishing vessel</td>\n",
       "      <td></td>\n",
       "      <td>None</td>\n",
       "      <td>NaN</td>\n",
       "    </tr>\n",
       "    <tr>\n",
       "      <th>204228000</th>\n",
       "      <td>Fishing vessel</td>\n",
       "      <td></td>\n",
       "      <td>None</td>\n",
       "      <td>NaN</td>\n",
       "    </tr>\n",
       "  </tbody>\n",
       "</table>\n",
       "</div>"
      ],
      "text/plain": [
       "              itu_fishing itu_label itu_sublabel  itu_tonnage\n",
       "mmsi                                                         \n",
       "204211000  Fishing vessel                   None          NaN\n",
       "204212000  Fishing vessel  Trawlers     Trawlers          NaN\n",
       "204213000  Fishing vessel                   None          NaN\n",
       "204218000  Fishing vessel                   None          NaN\n",
       "204228000  Fishing vessel                   None          NaN"
      ]
     },
     "execution_count": 29,
     "metadata": {},
     "output_type": "execute_result"
    }
   ],
   "source": [
    "itu_frame.head()"
   ]
  },
  {
   "cell_type": "markdown",
   "metadata": {},
   "source": [
    "## Get Vessels that Have Been Matched to the EU List"
   ]
  },
  {
   "cell_type": "code",
   "execution_count": 57,
   "metadata": {
    "collapsed": false
   },
   "outputs": [
    {
     "name": "stdout",
     "output_type": "stream",
     "text": [
      "Waiting on bqjob_r3fa6b6a6644d0f15_0000015869287caf_14 ... (0s) Current status: DONE   \n",
      "Query time: 1.87728786469 seconds.\n"
     ]
    }
   ],
   "source": [
    "# first find the geartypes\n",
    "\n",
    "q = '''select geartype, count(*) from (select a.mmsi, b.Gear_Main_Code geartype, \n",
    "b.Loa length, b.Ton_Gt tonnage from \n",
    "(SELECT mmsi,row_number FROM [world-fishing-827:EU_match_results.EU_v2]) a\n",
    "left join [Registry_matching_sources.EU_registry_311215] b\n",
    "on a.row_number = b.row_number) group by geartype order by 2 desc'''\n",
    "eu_gear = Query(q)"
   ]
  },
  {
   "cell_type": "code",
   "execution_count": 58,
   "metadata": {
    "collapsed": false
   },
   "outputs": [
    {
     "name": "stdout",
     "output_type": "stream",
     "text": [
      "OTB Bottom otter trawls 3118\n",
      "PS Purse seines 779\n",
      "TBB Beam trawls 517\n",
      "GNS Set gillnets (anchored) 487\n",
      "OTM Midwater otter trawls 311\n",
      "LLS Set longlines 241\n",
      "DRB Boat dredges 229\n",
      "LLD Drifting longlines 206\n",
      "FPO Pots and traps 141\n",
      "GTR Trammel nets 100\n",
      "OTT Otter twin trawls 66\n",
      "HMD Mechanised dredges including suction dredges 59\n",
      "LHP Handlines and pole-lines (hand operated) 48\n",
      "PTB Bottom pair trawls 43\n",
      "SDN Danish seines 35\n",
      "PTM Midwater pair trawls 29\n",
      "SSC Scottish seines 23\n",
      "GND Drift nets 16\n",
      "DRH Hand dredges operating from a boat 14\n",
      "LTL Trolling lines 7\n",
      "GTN Combined gillnets-trammel nets 7\n",
      "SPR Pair seines 3\n",
      "GNC Encircling gillnets 3\n",
      "LNB Boat-operated lift nets 2\n",
      "SB Beach seines 2\n",
      "NO No gear 1\n",
      "LA Lampara nets 1\n"
     ]
    }
   ],
   "source": [
    "# see http://ec.europa.eu/fisheries/fleet/index.cfm?method=Codification.Cod_gear\n",
    "eu_gear_codes = {\"DRB\":\"Boat dredges\",\n",
    "\"DRH\":\"Hand dredges operating from a boat\",\n",
    "\"HMD\":\"Mechanised dredges including suction dredges\",\n",
    "\"GNC\":\"Encircling gillnets\",\n",
    "\"GND\":\"Drift nets\",\n",
    "\"GNS\":\"Set gillnets (anchored)\",\n",
    "\"GTN\":\"Combined gillnets-trammel nets\",\n",
    "\"GTR\":\"Trammel nets\",\n",
    "\"HAR\":\"Harpoons\",\n",
    "\"LLS\":\"Set longlines\",\n",
    "\"LLD\":\"Drifting longlines\",\n",
    "\"LHM\":\"Handlines and pole-lines (mechanised)\",\n",
    "\"LHP\":\"Handlines and pole-lines (hand operated)\",\n",
    "\"LLD\":\"Drifting longlines\",\n",
    "\"LLS\":\"Set longlines\",\n",
    "\"LTL\":\"Trolling lines\",\n",
    "\"LNB\":\"Boat-operated lift nets\",\n",
    "\"LNS\":\"Shore-operated stationary lift nets\",\n",
    "\"NO\":\"No gear\",\n",
    "\"SB\":\"Beach seines\",\n",
    "\"SDN\":\"Danish seines\",\n",
    "\"SPR\":\"Pair seines\",\n",
    "\"SSC\":\"Scottish seines\",\n",
    "\"LA\":\"Lampara nets\",\n",
    "\"PS\":\"Purse seines\",\n",
    "\"FPO\":\"Pots and traps\",\n",
    "\"OTB\":\"Bottom otter trawls\",\n",
    "\"OTM\":\"Midwater otter trawls\",\n",
    "\"OTT\":\"Otter twin trawls\",\n",
    "\"PTB\":\"Bottom pair trawls\",\n",
    "\"PTM\":\"Midwater pair trawls\",\n",
    "\"TBB\":\"Beam trawls\",\n",
    "\"NK\":\"Unknown gear\"};\n",
    "\n",
    "\n",
    "for e in eu_gear:\n",
    "    print e[0],eu_gear_codes[e[0]], e[1]"
   ]
  },
  {
   "cell_type": "code",
   "execution_count": 59,
   "metadata": {
    "collapsed": true
   },
   "outputs": [],
   "source": [
    "eu_gear2 = {\"DRB\":\"Trawlers\",\n",
    "\"DRH\":\"Trawlers\",\n",
    "\"HMD\":\"Trawlers\",\n",
    "\"GNC\":\"Set gillnets\",\n",
    "\"GND\":\"Fishing vessel\",\n",
    "\"GNS\":\"Set gillnets\",\n",
    "\"GTN\":\"Set gillnets\",\n",
    "\"GTR\":\"Set gillnets\",\n",
    "\"HAR\":\"Fishing vessel\",\n",
    "\"LHM\":\"Pole and line\",\n",
    "\"LHP\":\"Pole and line\",\n",
    "\"LLD\":\"Drifting longlines\",\n",
    "\"LLS\":\"Set longlines\",\n",
    "\"LTL\":\"Trollers\",\n",
    "\"LNB\":\"Fishing vessel\",\n",
    "\"LNS\":\"Fishing vessel\",\n",
    "\"NO\":\"Fishing vessel\",\n",
    "\"SB\":\"Fishing vessel\",\n",
    "\"SDN\":\"Fishing vessel\",\n",
    "\"SPR\":\"Fishing vessel\",\n",
    "\"SSC\":\"Fishing vessel\",\n",
    "\"LA\":\"Set gillnets\",\n",
    "\"PS\":\"Purse seines\",\n",
    "\"FPO\":\"Pots and traps\",\n",
    "\"OTB\":\"Trawlers\",\n",
    "\"OTM\":\"Trawlers\",\n",
    "\"OTT\":\"Trawlers\",\n",
    "\"PTB\":\"Trawlers\",\n",
    "\"PTM\":\"Trawlers\",\n",
    "\"TBB\":\"Trawlers\",\n",
    "\"NK\":\"Unknown gear\",\n",
    "\"NO\":\"No gear\"}"
   ]
  },
  {
   "cell_type": "code",
   "execution_count": 60,
   "metadata": {
    "collapsed": false
   },
   "outputs": [
    {
     "name": "stdout",
     "output_type": "stream",
     "text": [
      "Waiting on bqjob_r4abd1dc304b30abe_0000015869288867_15 ... (0s) Current status: DONE   \n",
      "Query time: 2.21019101143 seconds.\n"
     ]
    }
   ],
   "source": [
    "# get EU values\n",
    "\n",
    "q = '''\n",
    "select mmsi, \n",
    "group_concat(geartype) geartype, \n",
    "avg(length), \n",
    "avg(tonnage),\n",
    "count(*) num_mmsi,\n",
    "group_concat(secondary_geartype) secondary_geartype\n",
    "from\n",
    "(select a.mmsi mmsi, b.Gear_Main_Code geartype, \n",
    "b.Loa length, b.Ton_Gt tonnage, b.Gear_Sec_Code as secondary_geartype\n",
    "from \n",
    "(SELECT mmsi,row_number FROM [world-fishing-827:EU_match_results.EU_v2]) a\n",
    "left join [Registry_matching_sources.EU_registry_311215] b\n",
    "on a.row_number = b.row_number)\n",
    "group by mmsi\n",
    "having num_mmsi = 1\n",
    "\n",
    "'''\n",
    "eu = Query(q)"
   ]
  },
  {
   "cell_type": "code",
   "execution_count": 61,
   "metadata": {
    "collapsed": false
   },
   "outputs": [],
   "source": [
    "rows = []\n",
    "mmsis = []\n",
    "\n",
    "bad_mmsis = []\n",
    "\n",
    "for c in eu:\n",
    "    mmsi = c[0]\n",
    "    if c[1] in eu_gear2 and c[1] != \"NO\": # if it is a shiptype we are including\n",
    "\n",
    "        geartype = eu_gear2[c[1]] # replace with the right geartype\n",
    "        geartype_secondary = eu_gear2[c[5]]\n",
    "        geartype_primary_course = geartype\n",
    "        geartype_secondary_course = geartype_secondary\n",
    "        # make secondary null if it is \n",
    "        if geartype[:3] == \"Set\" or geartype ==\"Pots and traps\":\n",
    "            geartype_primary_course = \"Fixed gear\"   \n",
    "        if geartype_secondary[:3] == \"Set\" or geartype_secondary ==\"Pots and traps\":\n",
    "            geartype_secondary_course = \"Fixed gear\"\n",
    "            \n",
    "        if geartype_secondary == \"No gear\" or geartype_secondary == geartype:\n",
    "            geartype_secondary = None \n",
    "            geartype_secondary_course = None\n",
    "            \n",
    "    else: # if the primary geartype is not in our list of geartypes, include it as a fishing vessel\n",
    "        geartype = None\n",
    "        geartype_secondary = None\n",
    "        geartype_primary_course = None\n",
    "        geartype_secondary_course = None\n",
    "    \n",
    "    length = c[2]\n",
    "    tonnage = c[3]\n",
    "    if length !=None: length=float(c[2])\n",
    "    if tonnage !=None: tonnage = float(c[3])\n",
    "    rows.append([\"Fishing vessel\",geartype_primary_course, geartype, \n",
    "                 geartype_secondary_course, geartype_secondary, length, tonnage])\n",
    "    mmsis.append(mmsi)"
   ]
  },
  {
   "cell_type": "code",
   "execution_count": 62,
   "metadata": {
    "collapsed": false
   },
   "outputs": [],
   "source": [
    "headers = ['eu_fishing','eu_label','eu_sublabel','eu_label2','eu_sublabel2',\n",
    "          'eu_length','eu_tonnage']\n",
    "eu_frame = pd.DataFrame(rows,index=mmsis,columns=headers)"
   ]
  },
  {
   "cell_type": "code",
   "execution_count": 63,
   "metadata": {
    "collapsed": false
   },
   "outputs": [],
   "source": [
    "eu_frame.index.name = 'mmsi'\n",
    "eu_frame.to_csv('lists/eu.csv')"
   ]
  },
  {
   "cell_type": "code",
   "execution_count": null,
   "metadata": {
    "collapsed": true
   },
   "outputs": [],
   "source": []
  },
  {
   "cell_type": "code",
   "execution_count": 37,
   "metadata": {
    "collapsed": false
   },
   "outputs": [
    {
     "data": {
      "text/html": [
       "<div>\n",
       "<table border=\"1\" class=\"dataframe\">\n",
       "  <thead>\n",
       "    <tr style=\"text-align: right;\">\n",
       "      <th></th>\n",
       "      <th>eu_fishing</th>\n",
       "      <th>eu_label</th>\n",
       "      <th>eu_sublabel</th>\n",
       "      <th>eu_label2</th>\n",
       "      <th>eu_sublabel2</th>\n",
       "      <th>eu_length</th>\n",
       "      <th>eu_tonnage</th>\n",
       "    </tr>\n",
       "    <tr>\n",
       "      <th>mmsi</th>\n",
       "      <th></th>\n",
       "      <th></th>\n",
       "      <th></th>\n",
       "      <th></th>\n",
       "      <th></th>\n",
       "      <th></th>\n",
       "      <th></th>\n",
       "    </tr>\n",
       "  </thead>\n",
       "  <tbody>\n",
       "    <tr>\n",
       "      <th>265634070</th>\n",
       "      <td>Fishing vessel</td>\n",
       "      <td>Set gear</td>\n",
       "      <td>Set gillnets</td>\n",
       "      <td>Pole and line</td>\n",
       "      <td>Pole and line</td>\n",
       "      <td>9.00</td>\n",
       "      <td>7.87</td>\n",
       "    </tr>\n",
       "    <tr>\n",
       "      <th>211505000</th>\n",
       "      <td>Fishing vessel</td>\n",
       "      <td>Trawlers</td>\n",
       "      <td>Trawlers</td>\n",
       "      <td>None</td>\n",
       "      <td>None</td>\n",
       "      <td>15.87</td>\n",
       "      <td>33.00</td>\n",
       "    </tr>\n",
       "    <tr>\n",
       "      <th>227632830</th>\n",
       "      <td>Fishing vessel</td>\n",
       "      <td>Set gear</td>\n",
       "      <td>Pots and traps</td>\n",
       "      <td>Trawlers</td>\n",
       "      <td>Trawlers</td>\n",
       "      <td>7.50</td>\n",
       "      <td>3.40</td>\n",
       "    </tr>\n",
       "    <tr>\n",
       "      <th>277214000</th>\n",
       "      <td>Fishing vessel</td>\n",
       "      <td>Trawlers</td>\n",
       "      <td>Trawlers</td>\n",
       "      <td>None</td>\n",
       "      <td>None</td>\n",
       "      <td>25.50</td>\n",
       "      <td>118.00</td>\n",
       "    </tr>\n",
       "    <tr>\n",
       "      <th>227132100</th>\n",
       "      <td>Fishing vessel</td>\n",
       "      <td>Pole and line</td>\n",
       "      <td>Pole and line</td>\n",
       "      <td>Set gear</td>\n",
       "      <td>Set longlines</td>\n",
       "      <td>11.96</td>\n",
       "      <td>15.84</td>\n",
       "    </tr>\n",
       "  </tbody>\n",
       "</table>\n",
       "</div>"
      ],
      "text/plain": [
       "               eu_fishing       eu_label     eu_sublabel      eu_label2  \\\n",
       "mmsi                                                                      \n",
       "265634070  Fishing vessel       Set gear    Set gillnets  Pole and line   \n",
       "211505000  Fishing vessel       Trawlers        Trawlers           None   \n",
       "227632830  Fishing vessel       Set gear  Pots and traps       Trawlers   \n",
       "277214000  Fishing vessel       Trawlers        Trawlers           None   \n",
       "227132100  Fishing vessel  Pole and line   Pole and line       Set gear   \n",
       "\n",
       "            eu_sublabel2  eu_length  eu_tonnage  \n",
       "mmsi                                             \n",
       "265634070  Pole and line       9.00        7.87  \n",
       "211505000           None      15.87       33.00  \n",
       "227632830       Trawlers       7.50        3.40  \n",
       "277214000           None      25.50      118.00  \n",
       "227132100  Set longlines      11.96       15.84  "
      ]
     },
     "execution_count": 37,
     "metadata": {},
     "output_type": "execute_result"
    }
   ],
   "source": [
    "eu_frame.head()"
   ]
  },
  {
   "cell_type": "code",
   "execution_count": 38,
   "metadata": {
    "collapsed": false
   },
   "outputs": [
    {
     "data": {
      "text/html": [
       "<div>\n",
       "<table border=\"1\" class=\"dataframe\">\n",
       "  <thead>\n",
       "    <tr style=\"text-align: right;\">\n",
       "      <th></th>\n",
       "      <th>eu_fishing</th>\n",
       "      <th>eu_label</th>\n",
       "      <th>eu_sublabel</th>\n",
       "      <th>eu_label2</th>\n",
       "      <th>eu_length</th>\n",
       "      <th>eu_tonnage</th>\n",
       "    </tr>\n",
       "    <tr>\n",
       "      <th>eu_sublabel2</th>\n",
       "      <th></th>\n",
       "      <th></th>\n",
       "      <th></th>\n",
       "      <th></th>\n",
       "      <th></th>\n",
       "      <th></th>\n",
       "    </tr>\n",
       "  </thead>\n",
       "  <tbody>\n",
       "    <tr>\n",
       "      <th>Drifting longlines</th>\n",
       "      <td>71</td>\n",
       "      <td>71</td>\n",
       "      <td>71</td>\n",
       "      <td>71</td>\n",
       "      <td>71</td>\n",
       "      <td>71</td>\n",
       "    </tr>\n",
       "    <tr>\n",
       "      <th>Fishing vessel</th>\n",
       "      <td>82</td>\n",
       "      <td>82</td>\n",
       "      <td>82</td>\n",
       "      <td>82</td>\n",
       "      <td>82</td>\n",
       "      <td>82</td>\n",
       "    </tr>\n",
       "    <tr>\n",
       "      <th>Pole and line</th>\n",
       "      <td>42</td>\n",
       "      <td>42</td>\n",
       "      <td>42</td>\n",
       "      <td>42</td>\n",
       "      <td>42</td>\n",
       "      <td>42</td>\n",
       "    </tr>\n",
       "    <tr>\n",
       "      <th>Pots and traps</th>\n",
       "      <td>106</td>\n",
       "      <td>106</td>\n",
       "      <td>106</td>\n",
       "      <td>106</td>\n",
       "      <td>106</td>\n",
       "      <td>106</td>\n",
       "    </tr>\n",
       "    <tr>\n",
       "      <th>Purse seines</th>\n",
       "      <td>319</td>\n",
       "      <td>319</td>\n",
       "      <td>319</td>\n",
       "      <td>319</td>\n",
       "      <td>319</td>\n",
       "      <td>319</td>\n",
       "    </tr>\n",
       "    <tr>\n",
       "      <th>Set gillnets</th>\n",
       "      <td>438</td>\n",
       "      <td>438</td>\n",
       "      <td>438</td>\n",
       "      <td>438</td>\n",
       "      <td>438</td>\n",
       "      <td>438</td>\n",
       "    </tr>\n",
       "    <tr>\n",
       "      <th>Set longlines</th>\n",
       "      <td>408</td>\n",
       "      <td>408</td>\n",
       "      <td>408</td>\n",
       "      <td>408</td>\n",
       "      <td>408</td>\n",
       "      <td>408</td>\n",
       "    </tr>\n",
       "    <tr>\n",
       "      <th>Trawlers</th>\n",
       "      <td>149</td>\n",
       "      <td>149</td>\n",
       "      <td>149</td>\n",
       "      <td>149</td>\n",
       "      <td>149</td>\n",
       "      <td>149</td>\n",
       "    </tr>\n",
       "    <tr>\n",
       "      <th>Trollers</th>\n",
       "      <td>14</td>\n",
       "      <td>14</td>\n",
       "      <td>14</td>\n",
       "      <td>14</td>\n",
       "      <td>14</td>\n",
       "      <td>14</td>\n",
       "    </tr>\n",
       "    <tr>\n",
       "      <th>Unknown gear</th>\n",
       "      <td>11</td>\n",
       "      <td>11</td>\n",
       "      <td>11</td>\n",
       "      <td>11</td>\n",
       "      <td>11</td>\n",
       "      <td>11</td>\n",
       "    </tr>\n",
       "  </tbody>\n",
       "</table>\n",
       "</div>"
      ],
      "text/plain": [
       "                    eu_fishing  eu_label  eu_sublabel  eu_label2  eu_length  \\\n",
       "eu_sublabel2                                                                  \n",
       "Drifting longlines          71        71           71         71         71   \n",
       "Fishing vessel              82        82           82         82         82   \n",
       "Pole and line               42        42           42         42         42   \n",
       "Pots and traps             106       106          106        106        106   \n",
       "Purse seines               319       319          319        319        319   \n",
       "Set gillnets               438       438          438        438        438   \n",
       "Set longlines              408       408          408        408        408   \n",
       "Trawlers                   149       149          149        149        149   \n",
       "Trollers                    14        14           14         14         14   \n",
       "Unknown gear                11        11           11         11         11   \n",
       "\n",
       "                    eu_tonnage  \n",
       "eu_sublabel2                    \n",
       "Drifting longlines          71  \n",
       "Fishing vessel              82  \n",
       "Pole and line               42  \n",
       "Pots and traps             106  \n",
       "Purse seines               319  \n",
       "Set gillnets               438  \n",
       "Set longlines              408  \n",
       "Trawlers                   149  \n",
       "Trollers                    14  \n",
       "Unknown gear                11  "
      ]
     },
     "execution_count": 38,
     "metadata": {},
     "output_type": "execute_result"
    }
   ],
   "source": [
    "eu_frame.groupby('eu_sublabel2').count()"
   ]
  },
  {
   "cell_type": "markdown",
   "metadata": {},
   "source": [
    "## Get Vessels that Have Been Matched to the CCAMLR List"
   ]
  },
  {
   "cell_type": "code",
   "execution_count": 39,
   "metadata": {
    "collapsed": false,
    "scrolled": false
   },
   "outputs": [
    {
     "name": "stdout",
     "output_type": "stream",
     "text": [
      "Waiting on bqjob_r4c2c7080c67eb5a7_0000015869129bff_10 ... (0s) Current status: DONE   \n",
      "Query time: 1.12507510185 seconds.\n"
     ]
    }
   ],
   "source": [
    "q = '''SELECT geartype, count(*) num \n",
    "FROM [world-fishing-827:Registry_matching_sources.CCAMLR_July_2015_with_mmsi] \n",
    "group by geartype order by num desc'''\n",
    "ccamlr = Query(q)"
   ]
  },
  {
   "cell_type": "code",
   "execution_count": 40,
   "metadata": {
    "collapsed": false
   },
   "outputs": [
    {
     "name": "stdout",
     "output_type": "stream",
     "text": [
      "Longlines (not specified) 23\n",
      "Midwater trawls (not specified) 9\n",
      "Other trawls (not specified) 7\n",
      "Longlines (not specified); Other trawls (not specified) 1\n",
      "Longlines (not specified); Pots 1\n"
     ]
    }
   ],
   "source": [
    "for c in ccamlr:\n",
    "    print c[0],c[1]"
   ]
  },
  {
   "cell_type": "code",
   "execution_count": 41,
   "metadata": {
    "collapsed": false
   },
   "outputs": [],
   "source": [
    "ccamlr_gear = {\n",
    "'Longlines (not specified)': 'Drifting longlines',\n",
    "'Midwater trawls (not specified)':\"Trawlers\", \n",
    "'Other trawls (not specified)':'Trawlers' \n",
    "}\n",
    "\n",
    "# ignore the follwoing\n",
    "# Longlines (not specified); Other trawls (not specified) 1\n",
    "# Longlines (not specified); Pots 1"
   ]
  },
  {
   "cell_type": "code",
   "execution_count": 42,
   "metadata": {
    "collapsed": false
   },
   "outputs": [
    {
     "name": "stdout",
     "output_type": "stream",
     "text": [
      "Waiting on bqjob_r4cdffc9c8880a9dc_000001586912abd8_11 ... (0s) Current status: DONE   \n",
      "Query time: 1.8113451004 seconds.\n"
     ]
    }
   ],
   "source": [
    "q = '''SELECT\n",
    "    mmsi, geartype, length, tonnage\n",
    "from  [world-fishing-827:Registry_matching_sources.CCAMLR_July_2015_with_mmsi]\n",
    "'''\n",
    "ccamlr = Query(q)"
   ]
  },
  {
   "cell_type": "code",
   "execution_count": 43,
   "metadata": {
    "collapsed": false
   },
   "outputs": [],
   "source": [
    "rows = []\n",
    "mmsis = []\n",
    "\n",
    "for c in ccamlr:\n",
    "    if c[1] in ccamlr_gear: # if it is a shiptype we are including\n",
    "        geartype = ccamlr_gear[c[1]]\n",
    "    else:\n",
    "        geartype = \"Fishing vessel\"\n",
    "    mmsi = c[0]\n",
    "    length = c[2]\n",
    "    tonnage = c[3]\n",
    "    if length !=None: length=float(c[2])\n",
    "    if tonnage !=None: tonnage = float(c[3])\n",
    "    rows.append(['Fishing vessel',geartype,geartype, length,tonnage])\n",
    "    mmsis.append(mmsi)"
   ]
  },
  {
   "cell_type": "code",
   "execution_count": 44,
   "metadata": {
    "collapsed": false
   },
   "outputs": [],
   "source": [
    "ccamlr_frame = pd.DataFrame(rows,index=mmsis,columns=['ccamlr_fishing','ccamlr_label',\n",
    "                                                      'ccamlr_sublabel','ccamlr_length', 'ccamlr_tonnage'])"
   ]
  },
  {
   "cell_type": "code",
   "execution_count": 45,
   "metadata": {
    "collapsed": true
   },
   "outputs": [],
   "source": [
    "ccamlr_frame.index.name = 'mmsi'\n",
    "ccamlr_frame.to_csv('lists/ccamlr.csv')"
   ]
  },
  {
   "cell_type": "code",
   "execution_count": null,
   "metadata": {
    "collapsed": true
   },
   "outputs": [],
   "source": []
  },
  {
   "cell_type": "markdown",
   "metadata": {},
   "source": [
    "## Squid Vessels"
   ]
  },
  {
   "cell_type": "code",
   "execution_count": 46,
   "metadata": {
    "collapsed": false
   },
   "outputs": [],
   "source": [
    "# from spreadsheet\n",
    "\n",
    "squids = [412420249,412420405,412420536,412430920,412439583,412421005,412000812,412200146,\n",
    "          412206009,412350801,412354049,412354055,412354057,412354058,412354091,412354167,\n",
    "          412354168,412354445,412354446,412371203,412371204,412371205,412402273,412420008,\n",
    "          412420109,412420214,412420225,412420228,412420229,412420231,412420242,412420243,\n",
    "          412420244,412420245,412420246,412420248,412420252,412420253,412420254,412420255,\n",
    "          412420277,412420278,412420312,412420315,412420317,412420341,412420378,412420382,\n",
    "          412420383,412420384,412420406,412420409,412420418,412420422,412420423,412420427,\n",
    "          412420428,412420432,412420439,412420452,412420453,412420454,412420455,412420456,\n",
    "          412420457,412420458,412420464,412420466,412420467,412420471,412420488,412420493,\n",
    "          412420494,412420502,412420503,412420504,412420531,412420532,412420533,412420538,\n",
    "          412420609,412420622,412420623,412420624,412420644,412420646,412420647,412420652,\n",
    "          412420688,412420691,412420697,412420789,412420798,412420799,412420801,412420816,\n",
    "          412420822,412420823,412420825,412420872,412420873,412420923,412420925,412420926,\n",
    "          412420927,412420928,412420933,412420937,412420951,412420955,412420956,412420957,\n",
    "          412420958,412420959,412420961,412420962,412420963,412420964,412420965,412420966,\n",
    "          412420968,412420969,412420971,412420972,412420973,412420974,412420975,412420979,\n",
    "          412420981,412420992,412420994,412421002,412421003,412421004,412421016,412421033,\n",
    "          412421356,412421357,412422693,412422695,412422696,412422697,412422701,412422706,\n",
    "          412424491,412424547,412424702,412424703,412430930,412439584,412439586,412439587,\n",
    "          412439741,412439742,412670670,412679810,412697150,412857888,416562000,416563000,\n",
    "          440995000,441767000,373039000,356514000,370178000,411164730]\n",
    "geartypes = [[\"Fishing vessel\",\"Squid\",\"Squid\"] for s in squids]\n",
    "mmsis = [str(s) for  s in squids]\n",
    "\n",
    "\n"
   ]
  },
  {
   "cell_type": "code",
   "execution_count": 47,
   "metadata": {
    "collapsed": false
   },
   "outputs": [],
   "source": [
    "squid_frame = pd.DataFrame(geartypes,index=mmsis,columns=['squid_fishing',\n",
    "                                                          'squid_label',\n",
    "                                                          'squid_sublabel'])\n",
    "squid_frame.index.name = 'mmsi'\n",
    "squid_frame.to_csv('lists/squid.csv')"
   ]
  },
  {
   "cell_type": "markdown",
   "metadata": {},
   "source": [
    "# Reefers"
   ]
  },
  {
   "cell_type": "code",
   "execution_count": 48,
   "metadata": {
    "collapsed": false
   },
   "outputs": [
    {
     "name": "stdout",
     "output_type": "stream",
     "text": [
      "Waiting on bqjob_r2e5b29f9038fb788_000001586912cc35_12 ... (0s) Current status: DONE   \n",
      "Query time: 2.55181479454 seconds.\n"
     ]
    }
   ],
   "source": [
    "q = '''SELECT\n",
    "  mmsi,\n",
    "  \"Reefer\" geartype,\n",
    "  AVG(length) length,\n",
    "  AVG(tonnage) tonnage,\n",
    "  STDDEV(length) stddev_length,\n",
    "  STDDEV(tonnage) stddev_tonnage\n",
    "FROM\n",
    "  [world-fishing-827:scratch_nate.fish_carrier_list_nate_09_2016_plusD]\n",
    "GROUP BY\n",
    "  mmsi,\n",
    "  geartype\n",
    "order by mmsi\n",
    " '''\n",
    "reefers = Query(q)"
   ]
  },
  {
   "cell_type": "code",
   "execution_count": 49,
   "metadata": {
    "collapsed": true
   },
   "outputs": [],
   "source": [
    "rows = []\n",
    "mmsis = []\n",
    "\n",
    "for c in reefers:\n",
    "    mmsi = c[0]\n",
    "    length = c[2]\n",
    "    tonnage = c[3]\n",
    "    geartype = \"Reefer\"\n",
    "    stddev_length = c[4]\n",
    "    stddev_tonnage = c[5]\n",
    "    if length !=None: length=float(c[2])\n",
    "    if tonnage !=None: tonnage = float(c[3])\n",
    "    if stddev_length !=None: stddev_length = float(c[4])\n",
    "    if stddev_tonnage !=None: stddev_tonnage = float(c[5])\n",
    "    if stddev_length !=None and stddev_length/length > .1:\n",
    "        length = None # if different entries differ by more than 10 percent, ignore\n",
    "    if stddev_tonnage !=None and stddev_tonnage/tonnage > 1:\n",
    "        tonnage = None\n",
    "    rows.append(['Nonfishing vessel',geartype,geartype,length,tonnage])\n",
    "    mmsis.append(mmsi)"
   ]
  },
  {
   "cell_type": "code",
   "execution_count": 50,
   "metadata": {
    "collapsed": false
   },
   "outputs": [],
   "source": [
    "reefer_frame = pd.DataFrame(rows,index=mmsis,columns=['reefer_fishing','reefer_label',\n",
    "                                                      'reefer_sublabel','reefer_length', 'reefer_tonnage'])\n",
    "reefer_frame.index.name = 'mmsi'\n",
    "reefer_frame.to_csv('lists/reefer.csv')\n"
   ]
  },
  {
   "cell_type": "markdown",
   "metadata": {},
   "source": [
    "## Get Countries from 2015 list\n",
    "Note that if the vessel wasn't scored for 2015, it has a null value in country in this table"
   ]
  },
  {
   "cell_type": "code",
   "execution_count": 51,
   "metadata": {
    "collapsed": false
   },
   "outputs": [
    {
     "name": "stdout",
     "output_type": "stream",
     "text": [
      "Waiting on bqjob_r69df957cd63b4e65_000001586912d82e_13 ... (0s) Current status: DONE   \n",
      "Query time: 5.78186488152 seconds.\n"
     ]
    }
   ],
   "source": [
    "q = '''SELECT\n",
    "  mmsi,\n",
    "  iso3\n",
    "FROM\n",
    "  [world-fishing-827:scratch_david_mmsi_lists.2015_all_fishing_v4]\n",
    "WHERE\n",
    "  label IS NOT NULL\n",
    "  group by mmsi, iso3'''\n",
    "countries = Query(q)"
   ]
  },
  {
   "cell_type": "code",
   "execution_count": 52,
   "metadata": {
    "collapsed": false
   },
   "outputs": [],
   "source": [
    "mmsis = []\n",
    "cs = []\n",
    "for c in countries:\n",
    "    mmsis.append(c[0])\n",
    "    cs.append([c[1]])\n",
    "    \n",
    "countries_frame = pd.DataFrame(cs,index=mmsis,columns=['country'])\n",
    "countries_frame.index.name = 'mmsi'\n",
    "countries_frame.to_csv('lists/countries.csv')\n"
   ]
  },
  {
   "cell_type": "code",
   "execution_count": null,
   "metadata": {
    "collapsed": true
   },
   "outputs": [],
   "source": []
  },
  {
   "cell_type": "code",
   "execution_count": null,
   "metadata": {
    "collapsed": true
   },
   "outputs": [],
   "source": []
  }
 ],
 "metadata": {
  "kernelspec": {
   "display_name": "Python 2",
   "language": "python",
   "name": "python2"
  },
  "language_info": {
   "codemirror_mode": {
    "name": "ipython",
    "version": 2
   },
   "file_extension": ".py",
   "mimetype": "text/x-python",
   "name": "python",
   "nbconvert_exporter": "python",
   "pygments_lexer": "ipython2",
   "version": "2.7.13"
  }
 },
 "nbformat": 4,
 "nbformat_minor": 0
}
