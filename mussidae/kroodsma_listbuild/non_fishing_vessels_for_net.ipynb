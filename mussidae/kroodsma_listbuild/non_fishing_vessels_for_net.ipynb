{
 "cells": [
  {
   "cell_type": "markdown",
   "metadata": {},
   "source": [
    "# Generate Lists for Neural Net"
   ]
  },
  {
   "cell_type": "code",
   "execution_count": 86,
   "metadata": {
    "collapsed": false
   },
   "outputs": [],
   "source": [
    "import csv\n",
    "import bq\n",
    "import time\n",
    "import numpy as np\n",
    "import pandas as pd\n",
    "import matplotlib.pyplot as plt\n",
    "%matplotlib inline\n",
    "import seaborn as sb"
   ]
  },
  {
   "cell_type": "markdown",
   "metadata": {},
   "source": [
    "# Previous Labels\n",
    "### Fishing\n",
    " - Purse seine\n",
    " - Longliner\n",
    " - Pots and traps\n",
    " - Trawler\n",
    "\n",
    "### Non-fishing\n",
    " - Passenger\n",
    " - Tug/Pilot/Supply\n",
    " - Cargo/Tanker\n",
    " - Seismic vessel"
   ]
  },
  {
   "cell_type": "markdown",
   "metadata": {},
   "source": [
    "# New Labels [and sublabels in brackets]\n",
    "### Fishing\n",
    " - Longliners [Set longlines, Drifting longlines] \n",
    " - Pole and Line    \n",
    " - Pots and Traps      \n",
    " - Purse seines        \n",
    " - Reefer              \n",
    " - Set gillnets        \n",
    " - Squid fishing               \n",
    " - Trawlers           \n",
    " - Trollers  \n",
    " - Squid\n",
    " \n",
    "\n",
    "### Non-fishing\n",
    " - Passenger [Sailing, Motor Passenger]\n",
    " - Tug/Pilot/Supply [Tug, Piolot, Supply, Other]\n",
    " - Cargo/Tanker [Cargo, Tanker]\n",
    " - Seismic vessel [Seismic]"
   ]
  },
  {
   "cell_type": "code",
   "execution_count": 143,
   "metadata": {
    "collapsed": false
   },
   "outputs": [],
   "source": [
    "detail_to_general = {'Sailing':'Passenger',\n",
    "                    'Motor Passenger':'Passenger',\n",
    "                    'Passenger':'Passenger',\n",
    "                    'Tug':'Tug/Pilot/Supply',\n",
    "                    'Pilot':'Tug/Pilot/Supply',\n",
    "                    'Supply':'Tug/Pilot/Supply',\n",
    "                    'Tug/Pilot/Supply':'Tug/Pilot/Supply',\n",
    "                    'Cargo':'Cargo/Tanker',\n",
    "                    'Tanker':'Cargo/Tanker',\n",
    "                    'Cargo/Tanker':'Cargo/Tanker',\n",
    "                    'Seismic vessel':'Seismic vessel',\n",
    "                    'Longliners':'Longliners',\n",
    "                    'Set longlines':'Longliners', \n",
    "                    'Drifting longlines':'Longliners',\n",
    "                    'Pole and Line':'Pole and Line',\n",
    "                    'Pots and Traps':'Pots and Traps',\n",
    "                    'Purse seines':'Purse seines',\n",
    "                    'Reefer':'Reefer',\n",
    "                    'Set gillnets':'Set gillnets',\n",
    "                    'Trawlers':'Trawlers',\n",
    "                    'Trollers':'Trollers',\n",
    "                     'Fishing vessel':'Fishing vessel',\n",
    "                     \"Squid\":\"Squid\"\n",
    "                    }\n",
    "\n",
    "general_to_fishing = {'Passenger':\"Non-fishing\",\n",
    "                     'Tug/Pilot/Supply':\"Non-fishing\",\n",
    "                     'Cargo/Tanker': \"Non-fishing\",\n",
    "                     \"Seismic vessel\": \"Non-fishing\",\n",
    "                     \"Longliners\":\"Fishing\",\n",
    "                     \"Pole and Line\":\"Fishing\",\n",
    "                     \"Pots and Traps\":\"Fishing\",\n",
    "                     \"Purse seines\":\"Fishing\",\n",
    "                     \"Reefer\":\"Non-fishing\", # this is debatable\n",
    "                     \"Set gillnets\":\"Fishing\",\n",
    "                     \"Squid\":\"Fishing\",\n",
    "                      \"Trawlers\":\"Fishing\",\n",
    "                      \"Trollers\":\"Fishing\",\n",
    "                      \"Fishing vessel\":\"Fishing\"\n",
    "                     }"
   ]
  },
  {
   "cell_type": "code",
   "execution_count": null,
   "metadata": {
    "collapsed": true
   },
   "outputs": [],
   "source": []
  },
  {
   "cell_type": "markdown",
   "metadata": {},
   "source": [
    "# Lists Previously Used by the Neural Net for Training and Testing\n",
    "As of October 10, 2016, the following lists are used in the Nerual Net Classifier. Below are David's notes on what to change and use instead:\n",
    "\n",
    "## ITU_Dec_2015_full_list.csv\n",
    " - 11774 vessels\n",
    " - It is strange that it only has the follwing categories:\n",
    "```\n",
    "     'FBT': _PASSENGER,\n",
    "    'PA': _PASSENGER,\n",
    "    'TUG': _TUG_PILOT_SUPPLY,\n",
    "    'LOU': _PASSENGER,\n",
    "    'GOU': _PASSENGER,\n",
    "    'SLO': _PASSENGER,\n",
    "    'VLR': _PASSENGER,\n",
    "    'YAT': _PASSENGER,\n",
    "    'RAV': _TUG_PILOT_SUPPLY,\n",
    "    'LAN': _POTS_AND_TRAPS,\n",
    "    # TODO: [bitsofbits] More \n",
    "```\n",
    "\n",
    "This pdf gives all the values that are linked http://www.itu.int/net/ITU-R/terrestrial/mars/help/table-2.pdf\n",
    "\n",
    "This is very weird because we could be including trawlers here.\n",
    "\n",
    "\n",
    "## CLAVRegistryMatchingv5.csv\n",
    " - 4803 different vessels\n",
    " - I'm skeptical of the shiptype generated in this list because I know that when I concat the geartypes, it isn't always clear what the vessel type is\n",
    " - Bjorn now has newer matches\n",
    "\n",
    "## KnownVesselCargoTanker.csv\n",
    " - 2285 vessels\n",
    " - no idea where they came from\n",
    "\n",
    "## KristinaManualClassification.csv\n",
    " - 2184 vessels\n",
    "\n",
    "\n",
    "## PyBossaNonFishing.csv\n",
    " - 153 tug boats\n",
    "\n",
    "## AlexWManualNonFishing.csv\n",
    " - 218 vessles that are Tugs, Passengers, Tangers, Cargo\n",
    "\n",
    "## EUFishingVesselRegister.csv\n",
    " - 6489 vessels that are matched to the EU list, with their EU list geartype. See http://ec.europa.eu/fisheries/fleet/index.cfm?method=Codification.Cod_gear for the geartype\n",
    "\n",
    "## PeruvianSquidFleet.csv\n",
    " - Complied by Bjorn, 104 vessels\n",
    "\n",
    "## WorldwideSeismicVesselDatabase4Dec15.csv\n",
    " - 169 vessels, with length included\n",
    "\n",
    "\n",
    "\n",
    " # Lists not Used\n",
    " - rivervessels_20160502.csv\n",
    " - verify5and24_20160318.csv\n",
    " - verify5and24_20160502.csv\n",
    " - FishingVesselsV2_HighConfidenceStudents_20160502.csv\n",
    "\n",
    "\n"
   ]
  },
  {
   "cell_type": "markdown",
   "metadata": {},
   "source": [
    "# Lists We Are Going to Use\n",
    "\n",
    "\n",
    "## KnownVesselCargoTanker.csv\n",
    " - 2285 vessels\n",
    " - no idea where they came from\n",
    "\n",
    "## KristinaManualClassification.csv\n",
    " - 2184 vessels\n",
    "\n",
    "\n",
    "## PyBossaNonFishing.csv\n",
    " - 153 tug boats\n",
    "\n",
    "## AlexWManualNonFishing.csv\n",
    " - 218 vessles that are Tugs, Passengers, Tangers, Cargo\n",
    "\n",
    "## EUFishingVesselRegister.csv\n",
    " - 6489 vessels that are matched to the EU list, with their EU list geartype. See http://ec.europa.eu/fisheries/fleet/index.cfm?method=Codification.Cod_gear for the geartype\n",
    "\n",
    "## PeruvianSquidFleet.csv\n",
    " - Complied by Bjorn, 104 vessels\n",
    "\n",
    "## WorldwideSeismicVesselDatabase4Dec15.csv\n",
    " - 169 vessels, with length included\n",
    "\n",
    "\n",
    "\n",
    " # Lists not Used\n",
    " - rivervessels_20160502.csv\n",
    " - verify5and24_20160318.csv\n",
    " - verify5and24_20160502.csv\n",
    " - FishingVesselsV2_HighConfidenceStudents_20160502.csv\n"
   ]
  },
  {
   "cell_type": "code",
   "execution_count": 88,
   "metadata": {
    "collapsed": false
   },
   "outputs": [],
   "source": [
    "df_cargotanker = pd.read_csv('../data/classification-list-sources/KnownVesselCargoTanker.csv')"
   ]
  },
  {
   "cell_type": "code",
   "execution_count": 89,
   "metadata": {
    "collapsed": false
   },
   "outputs": [
    {
     "data": {
      "text/html": [
       "<div>\n",
       "<table border=\"1\" class=\"dataframe\">\n",
       "  <thead>\n",
       "    <tr style=\"text-align: right;\">\n",
       "      <th></th>\n",
       "      <th>mmsi</th>\n",
       "    </tr>\n",
       "    <tr>\n",
       "      <th>label</th>\n",
       "      <th></th>\n",
       "    </tr>\n",
       "  </thead>\n",
       "  <tbody>\n",
       "    <tr>\n",
       "      <th>Cargo</th>\n",
       "      <td>1128</td>\n",
       "    </tr>\n",
       "    <tr>\n",
       "      <th>Tanker</th>\n",
       "      <td>1156</td>\n",
       "    </tr>\n",
       "  </tbody>\n",
       "</table>\n",
       "</div>"
      ],
      "text/plain": [
       "        mmsi\n",
       "label       \n",
       "Cargo   1128\n",
       "Tanker  1156"
      ]
     },
     "execution_count": 89,
     "metadata": {},
     "output_type": "execute_result"
    }
   ],
   "source": [
    "df_cargotanker.groupby(['label']).count()\n",
    "\n",
    "# Passenger [sailing, motor]\n",
    "# Tug/Pilot/Supply [Tug, Piolot, Supply, Other]\n",
    "# Cargo/Tanker [Cargo, Tanker]\n",
    "# Seismic vessel [Seismic]"
   ]
  },
  {
   "cell_type": "code",
   "execution_count": 90,
   "metadata": {
    "collapsed": false
   },
   "outputs": [],
   "source": [
    "cargotanker_map = {'Cargo': 'Cargo/Tanker', \n",
    "                   'Tanker': 'Cargo/Tanker'}\n",
    "\n",
    "df_cargotanker['cargotanker_sublabel'] = df_cargotanker['label']\n",
    "df_cargotanker['label'] = df_cargotanker['label'].map(cargotanker_map)\n"
   ]
  },
  {
   "cell_type": "code",
   "execution_count": 91,
   "metadata": {
    "collapsed": false
   },
   "outputs": [
    {
     "data": {
      "text/html": [
       "<div>\n",
       "<table border=\"1\" class=\"dataframe\">\n",
       "  <thead>\n",
       "    <tr style=\"text-align: right;\">\n",
       "      <th></th>\n",
       "      <th>cargotanker_label</th>\n",
       "      <th>cargotanker_sublabel</th>\n",
       "    </tr>\n",
       "    <tr>\n",
       "      <th>mmsi</th>\n",
       "      <th></th>\n",
       "      <th></th>\n",
       "    </tr>\n",
       "  </thead>\n",
       "  <tbody>\n",
       "    <tr>\n",
       "      <th>111111110</th>\n",
       "      <td>Cargo/Tanker</td>\n",
       "      <td>Cargo</td>\n",
       "    </tr>\n",
       "    <tr>\n",
       "      <th>204708000</th>\n",
       "      <td>Cargo/Tanker</td>\n",
       "      <td>Cargo</td>\n",
       "    </tr>\n",
       "    <tr>\n",
       "      <th>205256290</th>\n",
       "      <td>Cargo/Tanker</td>\n",
       "      <td>Cargo</td>\n",
       "    </tr>\n",
       "    <tr>\n",
       "      <th>205258890</th>\n",
       "      <td>Cargo/Tanker</td>\n",
       "      <td>Cargo</td>\n",
       "    </tr>\n",
       "    <tr>\n",
       "      <th>205263390</th>\n",
       "      <td>Cargo/Tanker</td>\n",
       "      <td>Cargo</td>\n",
       "    </tr>\n",
       "  </tbody>\n",
       "</table>\n",
       "</div>"
      ],
      "text/plain": [
       "          cargotanker_label cargotanker_sublabel\n",
       "mmsi                                            \n",
       "111111110      Cargo/Tanker                Cargo\n",
       "204708000      Cargo/Tanker                Cargo\n",
       "205256290      Cargo/Tanker                Cargo\n",
       "205258890      Cargo/Tanker                Cargo\n",
       "205263390      Cargo/Tanker                Cargo"
      ]
     },
     "execution_count": 91,
     "metadata": {},
     "output_type": "execute_result"
    }
   ],
   "source": [
    "df_cargotanker = df_cargotanker.set_index('mmsi')\n",
    "df_cargotanker=df_cargotanker.rename(columns = {'label':'cargotanker_label'})\n",
    "df_cargotanker.head()"
   ]
  },
  {
   "cell_type": "code",
   "execution_count": 92,
   "metadata": {
    "collapsed": false
   },
   "outputs": [
    {
     "data": {
      "text/html": [
       "<div>\n",
       "<table border=\"1\" class=\"dataframe\">\n",
       "  <thead>\n",
       "    <tr style=\"text-align: right;\">\n",
       "      <th></th>\n",
       "      <th>mmsi</th>\n",
       "      <th>label</th>\n",
       "      <th>detail</th>\n",
       "    </tr>\n",
       "  </thead>\n",
       "  <tbody>\n",
       "    <tr>\n",
       "      <th>0</th>\n",
       "      <td>10421670</td>\n",
       "      <td>Purse seine</td>\n",
       "      <td>NaN</td>\n",
       "    </tr>\n",
       "    <tr>\n",
       "      <th>1</th>\n",
       "      <td>123450020</td>\n",
       "      <td>Purse seine</td>\n",
       "      <td>NaN</td>\n",
       "    </tr>\n",
       "    <tr>\n",
       "      <th>2</th>\n",
       "      <td>123450800</td>\n",
       "      <td>Purse seine</td>\n",
       "      <td>NaN</td>\n",
       "    </tr>\n",
       "    <tr>\n",
       "      <th>3</th>\n",
       "      <td>203226200</td>\n",
       "      <td>Passenger</td>\n",
       "      <td>sail</td>\n",
       "    </tr>\n",
       "    <tr>\n",
       "      <th>4</th>\n",
       "      <td>203745200</td>\n",
       "      <td>Passenger</td>\n",
       "      <td>yacht</td>\n",
       "    </tr>\n",
       "  </tbody>\n",
       "</table>\n",
       "</div>"
      ],
      "text/plain": [
       "        mmsi        label detail\n",
       "0   10421670  Purse seine    NaN\n",
       "1  123450020  Purse seine    NaN\n",
       "2  123450800  Purse seine    NaN\n",
       "3  203226200    Passenger   sail\n",
       "4  203745200    Passenger  yacht"
      ]
     },
     "execution_count": 92,
     "metadata": {},
     "output_type": "execute_result"
    }
   ],
   "source": [
    "df_kristina = pd.read_csv('../data/classification-list-sources/KristinaManualClassification.csv')\n",
    "df_kristina.head()\n",
    "\n",
    "# df_kristina.ix[np.nan(df_kristina['detail'])]#['detail'] = \"\" \n",
    "# df_kristina['detail'][0]# is np.nan"
   ]
  },
  {
   "cell_type": "code",
   "execution_count": 93,
   "metadata": {
    "collapsed": false
   },
   "outputs": [],
   "source": [
    "# replace the detail with label\n",
    "df_kristina['detail'] = df_kristina['detail'].fillna(df_kristina['label'])"
   ]
  },
  {
   "cell_type": "code",
   "execution_count": 94,
   "metadata": {
    "collapsed": false
   },
   "outputs": [
    {
     "data": {
      "text/html": [
       "<div>\n",
       "<table border=\"1\" class=\"dataframe\">\n",
       "  <thead>\n",
       "    <tr style=\"text-align: right;\">\n",
       "      <th></th>\n",
       "      <th>mmsi</th>\n",
       "      <th>label</th>\n",
       "      <th>detail</th>\n",
       "    </tr>\n",
       "  </thead>\n",
       "  <tbody>\n",
       "    <tr>\n",
       "      <th>0</th>\n",
       "      <td>10421670</td>\n",
       "      <td>Purse seine</td>\n",
       "      <td>Purse seine</td>\n",
       "    </tr>\n",
       "    <tr>\n",
       "      <th>1</th>\n",
       "      <td>123450020</td>\n",
       "      <td>Purse seine</td>\n",
       "      <td>Purse seine</td>\n",
       "    </tr>\n",
       "    <tr>\n",
       "      <th>2</th>\n",
       "      <td>123450800</td>\n",
       "      <td>Purse seine</td>\n",
       "      <td>Purse seine</td>\n",
       "    </tr>\n",
       "    <tr>\n",
       "      <th>3</th>\n",
       "      <td>203226200</td>\n",
       "      <td>Passenger</td>\n",
       "      <td>sail</td>\n",
       "    </tr>\n",
       "    <tr>\n",
       "      <th>4</th>\n",
       "      <td>203745200</td>\n",
       "      <td>Passenger</td>\n",
       "      <td>yacht</td>\n",
       "    </tr>\n",
       "  </tbody>\n",
       "</table>\n",
       "</div>"
      ],
      "text/plain": [
       "        mmsi        label       detail\n",
       "0   10421670  Purse seine  Purse seine\n",
       "1  123450020  Purse seine  Purse seine\n",
       "2  123450800  Purse seine  Purse seine\n",
       "3  203226200    Passenger         sail\n",
       "4  203745200    Passenger        yacht"
      ]
     },
     "execution_count": 94,
     "metadata": {},
     "output_type": "execute_result"
    }
   ],
   "source": [
    "df_kristina.head()"
   ]
  },
  {
   "cell_type": "code",
   "execution_count": 95,
   "metadata": {
    "collapsed": false
   },
   "outputs": [
    {
     "data": {
      "text/plain": [
       "label         detail         \n",
       "Cargo         bulk carrier       564\n",
       "              cargo              190\n",
       "              container          153\n",
       "              timber carrier       2\n",
       "              vehicle carrier    118\n",
       "Dredger       dredger              2\n",
       "Longliner     Longliner           89\n",
       "Passenger     ferry                1\n",
       "              passenger           14\n",
       "              sail               103\n",
       "              yacht               53\n",
       "Purse seine   Purse seine        105\n",
       "Tanker        tanker             303\n",
       "Trawler       Trawler            268\n",
       "Tug           tug                 61\n",
       "Unclassified  chemicals            1\n",
       "              construction         1\n",
       "              crane                1\n",
       "              crew boat            6\n",
       "              fish carrier         1\n",
       "              oil tanker           1\n",
       "              patrol               1\n",
       "              pilot                2\n",
       "              platform             3\n",
       "              reefer              81\n",
       "              research             7\n",
       "              supply              35\n",
       "              timber carrier       4\n",
       "              utility              1\n",
       "Name: mmsi, dtype: int64"
      ]
     },
     "execution_count": 95,
     "metadata": {},
     "output_type": "execute_result"
    }
   ],
   "source": [
    "df_kristina.groupby(['label','detail'])['mmsi'].count()"
   ]
  },
  {
   "cell_type": "code",
   "execution_count": 96,
   "metadata": {
    "collapsed": false
   },
   "outputs": [],
   "source": [
    "df_subcat_map = {'bluk carrier':'Cargo',\n",
    "         'cargo':'Cargo',\n",
    "         'container':'Cargo',\n",
    "         'timber carrier':'Cargo',\n",
    "         'ferry':'Motor Passenger',\n",
    "         'sail':'Sailing',\n",
    "          'yacht':'Passenger',\n",
    "           'passenger':'Passenger',\n",
    "          'tanker':'Tanker',\n",
    "          'tug':'Tug',\n",
    "           'reefer': 'Reefer',\n",
    "           'pilot':'Pilot',\n",
    "          'fish carrier':'Reefer',\n",
    "         'Purse seine':'Purse seines',\n",
    "         'Trawler':'Trawlers',\n",
    "         'Longliner':'Longliners'\n",
    "         }\n",
    "\n",
    "df_kristina = df_kristina[df_kristina['detail'].map(lambda x: x in df_subcat_map)]\n",
    "df_kristina['detail']=df_kristina['detail'].map(df_subcat_map)\n",
    "df_kristina['label'] = df_kristina['detail'].map(detail_to_general)\n"
   ]
  },
  {
   "cell_type": "code",
   "execution_count": 97,
   "metadata": {
    "collapsed": false
   },
   "outputs": [
    {
     "data": {
      "text/plain": [
       "label             detail         \n",
       "Cargo/Tanker      Cargo              349\n",
       "                  Tanker             303\n",
       "Longliners        Longliners          89\n",
       "Passenger         Motor Passenger      1\n",
       "                  Passenger           67\n",
       "                  Sailing            103\n",
       "Purse seines      Purse seines       105\n",
       "Reefer            Reefer              86\n",
       "Trawlers          Trawlers           268\n",
       "Tug/Pilot/Supply  Pilot                4\n",
       "                  Tug                 61\n",
       "Name: mmsi, dtype: int64"
      ]
     },
     "execution_count": 97,
     "metadata": {},
     "output_type": "execute_result"
    }
   ],
   "source": [
    "df_kristina.groupby(['label','detail'])['mmsi'].count()"
   ]
  },
  {
   "cell_type": "code",
   "execution_count": 98,
   "metadata": {
    "collapsed": true
   },
   "outputs": [],
   "source": [
    "df_kristina=df_kristina.rename(columns = {'label':'kristina_label','detail':'kristina_sublabel'})\n"
   ]
  },
  {
   "cell_type": "code",
   "execution_count": 99,
   "metadata": {
    "collapsed": false
   },
   "outputs": [
    {
     "data": {
      "text/html": [
       "<div>\n",
       "<table border=\"1\" class=\"dataframe\">\n",
       "  <thead>\n",
       "    <tr style=\"text-align: right;\">\n",
       "      <th></th>\n",
       "      <th>kristina_label</th>\n",
       "      <th>kristina_sublabel</th>\n",
       "    </tr>\n",
       "    <tr>\n",
       "      <th>mmsi</th>\n",
       "      <th></th>\n",
       "      <th></th>\n",
       "    </tr>\n",
       "  </thead>\n",
       "  <tbody>\n",
       "    <tr>\n",
       "      <th>10421670</th>\n",
       "      <td>Purse seines</td>\n",
       "      <td>Purse seines</td>\n",
       "    </tr>\n",
       "    <tr>\n",
       "      <th>123450020</th>\n",
       "      <td>Purse seines</td>\n",
       "      <td>Purse seines</td>\n",
       "    </tr>\n",
       "    <tr>\n",
       "      <th>123450800</th>\n",
       "      <td>Purse seines</td>\n",
       "      <td>Purse seines</td>\n",
       "    </tr>\n",
       "    <tr>\n",
       "      <th>203226200</th>\n",
       "      <td>Passenger</td>\n",
       "      <td>Sailing</td>\n",
       "    </tr>\n",
       "    <tr>\n",
       "      <th>203745200</th>\n",
       "      <td>Passenger</td>\n",
       "      <td>Passenger</td>\n",
       "    </tr>\n",
       "  </tbody>\n",
       "</table>\n",
       "</div>"
      ],
      "text/plain": [
       "          kristina_label kristina_sublabel\n",
       "mmsi                                      \n",
       "10421670    Purse seines      Purse seines\n",
       "123450020   Purse seines      Purse seines\n",
       "123450800   Purse seines      Purse seines\n",
       "203226200      Passenger           Sailing\n",
       "203745200      Passenger         Passenger"
      ]
     },
     "execution_count": 99,
     "metadata": {},
     "output_type": "execute_result"
    }
   ],
   "source": [
    "df_kristina = df_kristina.set_index('mmsi')\n",
    "df_kristina.head()"
   ]
  },
  {
   "cell_type": "code",
   "execution_count": 257,
   "metadata": {
    "collapsed": false
   },
   "outputs": [
    {
     "data": {
      "text/html": [
       "<div>\n",
       "<table border=\"1\" class=\"dataframe\">\n",
       "  <thead>\n",
       "    <tr style=\"text-align: right;\">\n",
       "      <th></th>\n",
       "      <th>mmsi</th>\n",
       "      <th>label</th>\n",
       "    </tr>\n",
       "  </thead>\n",
       "  <tbody>\n",
       "    <tr>\n",
       "      <th>0</th>\n",
       "      <td>205203390</td>\n",
       "      <td>Tug</td>\n",
       "    </tr>\n",
       "    <tr>\n",
       "      <th>1</th>\n",
       "      <td>205252690</td>\n",
       "      <td>Tug</td>\n",
       "    </tr>\n",
       "    <tr>\n",
       "      <th>2</th>\n",
       "      <td>205264290</td>\n",
       "      <td>Tug</td>\n",
       "    </tr>\n",
       "    <tr>\n",
       "      <th>3</th>\n",
       "      <td>205273990</td>\n",
       "      <td>Tug</td>\n",
       "    </tr>\n",
       "    <tr>\n",
       "      <th>4</th>\n",
       "      <td>205360090</td>\n",
       "      <td>Tug</td>\n",
       "    </tr>\n",
       "  </tbody>\n",
       "</table>\n",
       "</div>"
      ],
      "text/plain": [
       "        mmsi label\n",
       "0  205203390   Tug\n",
       "1  205252690   Tug\n",
       "2  205264290   Tug\n",
       "3  205273990   Tug\n",
       "4  205360090   Tug"
      ]
     },
     "execution_count": 257,
     "metadata": {},
     "output_type": "execute_result"
    }
   ],
   "source": [
    "df_tugs = pd.read_csv('../data/classification-list-sources/PyBossaNonFishing.csv',skiprows=[0])\n",
    "df_tugs.head()"
   ]
  },
  {
   "cell_type": "code",
   "execution_count": 258,
   "metadata": {
    "collapsed": false
   },
   "outputs": [
    {
     "data": {
      "text/plain": [
       "label\n",
       "Tug    153\n",
       "Name: mmsi, dtype: int64"
      ]
     },
     "execution_count": 258,
     "metadata": {},
     "output_type": "execute_result"
    }
   ],
   "source": [
    "df_tugs.groupby(['label'])['mmsi'].count()"
   ]
  },
  {
   "cell_type": "code",
   "execution_count": 259,
   "metadata": {
    "collapsed": false
   },
   "outputs": [
    {
     "data": {
      "text/html": [
       "<div>\n",
       "<table border=\"1\" class=\"dataframe\">\n",
       "  <thead>\n",
       "    <tr style=\"text-align: right;\">\n",
       "      <th></th>\n",
       "      <th>tugs_sublabel</th>\n",
       "      <th>tugs_label</th>\n",
       "    </tr>\n",
       "    <tr>\n",
       "      <th>mmsi</th>\n",
       "      <th></th>\n",
       "      <th></th>\n",
       "    </tr>\n",
       "  </thead>\n",
       "  <tbody>\n",
       "    <tr>\n",
       "      <th>205203390</th>\n",
       "      <td>Tug</td>\n",
       "      <td>Tug/Pilot/Supply</td>\n",
       "    </tr>\n",
       "    <tr>\n",
       "      <th>205252690</th>\n",
       "      <td>Tug</td>\n",
       "      <td>Tug/Pilot/Supply</td>\n",
       "    </tr>\n",
       "    <tr>\n",
       "      <th>205264290</th>\n",
       "      <td>Tug</td>\n",
       "      <td>Tug/Pilot/Supply</td>\n",
       "    </tr>\n",
       "    <tr>\n",
       "      <th>205273990</th>\n",
       "      <td>Tug</td>\n",
       "      <td>Tug/Pilot/Supply</td>\n",
       "    </tr>\n",
       "    <tr>\n",
       "      <th>205360090</th>\n",
       "      <td>Tug</td>\n",
       "      <td>Tug/Pilot/Supply</td>\n",
       "    </tr>\n",
       "  </tbody>\n",
       "</table>\n",
       "</div>"
      ],
      "text/plain": [
       "          tugs_sublabel        tugs_label\n",
       "mmsi                                     \n",
       "205203390           Tug  Tug/Pilot/Supply\n",
       "205252690           Tug  Tug/Pilot/Supply\n",
       "205264290           Tug  Tug/Pilot/Supply\n",
       "205273990           Tug  Tug/Pilot/Supply\n",
       "205360090           Tug  Tug/Pilot/Supply"
      ]
     },
     "execution_count": 259,
     "metadata": {},
     "output_type": "execute_result"
    }
   ],
   "source": [
    "df_tugs['tugs_label'] = df_tugs['label'].map(detail_to_general)\n",
    "df_tugs = df_tugs.rename(columns = {'label':'tugs_sublabel'})\n",
    "df_tugs = df_tugs.set_index('mmsi')\n",
    "df_tugs.head()"
   ]
  },
  {
   "cell_type": "code",
   "execution_count": 269,
   "metadata": {
    "collapsed": true
   },
   "outputs": [],
   "source": [
    "df_Alex = pd.read_csv('../data/classification-list-sources/AlexWManualNonFishing.csv')"
   ]
  },
  {
   "cell_type": "code",
   "execution_count": 270,
   "metadata": {
    "collapsed": false
   },
   "outputs": [
    {
     "data": {
      "text/html": [
       "<div>\n",
       "<table border=\"1\" class=\"dataframe\">\n",
       "  <thead>\n",
       "    <tr style=\"text-align: right;\">\n",
       "      <th></th>\n",
       "      <th>mmsi</th>\n",
       "    </tr>\n",
       "    <tr>\n",
       "      <th>label</th>\n",
       "      <th></th>\n",
       "    </tr>\n",
       "  </thead>\n",
       "  <tbody>\n",
       "    <tr>\n",
       "      <th>Cargo</th>\n",
       "      <td>10</td>\n",
       "    </tr>\n",
       "    <tr>\n",
       "      <th>Dredger</th>\n",
       "      <td>1</td>\n",
       "    </tr>\n",
       "    <tr>\n",
       "      <th>Longliner</th>\n",
       "      <td>3</td>\n",
       "    </tr>\n",
       "    <tr>\n",
       "      <th>Passenger</th>\n",
       "      <td>142</td>\n",
       "    </tr>\n",
       "    <tr>\n",
       "      <th>Tanker</th>\n",
       "      <td>20</td>\n",
       "    </tr>\n",
       "    <tr>\n",
       "      <th>Trawler</th>\n",
       "      <td>1</td>\n",
       "    </tr>\n",
       "    <tr>\n",
       "      <th>Tug</th>\n",
       "      <td>40</td>\n",
       "    </tr>\n",
       "  </tbody>\n",
       "</table>\n",
       "</div>"
      ],
      "text/plain": [
       "           mmsi\n",
       "label          \n",
       "Cargo        10\n",
       "Dredger       1\n",
       "Longliner     3\n",
       "Passenger   142\n",
       "Tanker       20\n",
       "Trawler       1\n",
       "Tug          40"
      ]
     },
     "execution_count": 270,
     "metadata": {},
     "output_type": "execute_result"
    }
   ],
   "source": [
    "df_Alex.groupby(['label']).count()"
   ]
  },
  {
   "cell_type": "code",
   "execution_count": 271,
   "metadata": {
    "collapsed": false
   },
   "outputs": [],
   "source": [
    "alex_subcat_map = {'Cargo':'Cargo',\n",
    "         'Dredger':'Tug/Pilot/Supply',\n",
    "         'Longliner':'Longliners',\n",
    "         'Passenger':'Passenger',\n",
    "         'Tanker':'Tanker',\n",
    "         'Trawler':'Trawlers',\n",
    "                   'Tug':'Tug'\n",
    "         }\n",
    "\n",
    "df_Alex['label'] = df_Alex['label'].map(alex_subcat_map)\n",
    "df_Alex['Alex_label'] = df_Alex['label'].map(detail_to_general)"
   ]
  },
  {
   "cell_type": "code",
   "execution_count": 272,
   "metadata": {
    "collapsed": false
   },
   "outputs": [
    {
     "data": {
      "text/html": [
       "<div>\n",
       "<table border=\"1\" class=\"dataframe\">\n",
       "  <thead>\n",
       "    <tr style=\"text-align: right;\">\n",
       "      <th></th>\n",
       "      <th>mmsi</th>\n",
       "      <th>Alex_sublabel</th>\n",
       "      <th>Alex_label</th>\n",
       "    </tr>\n",
       "  </thead>\n",
       "  <tbody>\n",
       "    <tr>\n",
       "      <th>0</th>\n",
       "      <td>203310200</td>\n",
       "      <td>Passenger</td>\n",
       "      <td>Passenger</td>\n",
       "    </tr>\n",
       "    <tr>\n",
       "      <th>1</th>\n",
       "      <td>205269190</td>\n",
       "      <td>Passenger</td>\n",
       "      <td>Passenger</td>\n",
       "    </tr>\n",
       "    <tr>\n",
       "      <th>2</th>\n",
       "      <td>205596910</td>\n",
       "      <td>Passenger</td>\n",
       "      <td>Passenger</td>\n",
       "    </tr>\n",
       "    <tr>\n",
       "      <th>3</th>\n",
       "      <td>211123610</td>\n",
       "      <td>Passenger</td>\n",
       "      <td>Passenger</td>\n",
       "    </tr>\n",
       "    <tr>\n",
       "      <th>4</th>\n",
       "      <td>211149170</td>\n",
       "      <td>Passenger</td>\n",
       "      <td>Passenger</td>\n",
       "    </tr>\n",
       "  </tbody>\n",
       "</table>\n",
       "</div>"
      ],
      "text/plain": [
       "        mmsi Alex_sublabel Alex_label\n",
       "0  203310200     Passenger  Passenger\n",
       "1  205269190     Passenger  Passenger\n",
       "2  205596910     Passenger  Passenger\n",
       "3  211123610     Passenger  Passenger\n",
       "4  211149170     Passenger  Passenger"
      ]
     },
     "execution_count": 272,
     "metadata": {},
     "output_type": "execute_result"
    }
   ],
   "source": [
    "df_Alex = df_Alex.rename(columns = {'label':'Alex_sublabel'})\n",
    "df_Alex.head()"
   ]
  },
  {
   "cell_type": "code",
   "execution_count": 273,
   "metadata": {
    "collapsed": false
   },
   "outputs": [
    {
     "data": {
      "text/html": [
       "<div>\n",
       "<table border=\"1\" class=\"dataframe\">\n",
       "  <thead>\n",
       "    <tr style=\"text-align: right;\">\n",
       "      <th></th>\n",
       "      <th>Alex_sublabel</th>\n",
       "    </tr>\n",
       "    <tr>\n",
       "      <th>Alex_label</th>\n",
       "      <th></th>\n",
       "    </tr>\n",
       "  </thead>\n",
       "  <tbody>\n",
       "    <tr>\n",
       "      <th>Cargo/Tanker</th>\n",
       "      <td>30</td>\n",
       "    </tr>\n",
       "    <tr>\n",
       "      <th>Longliners</th>\n",
       "      <td>3</td>\n",
       "    </tr>\n",
       "    <tr>\n",
       "      <th>Passenger</th>\n",
       "      <td>142</td>\n",
       "    </tr>\n",
       "    <tr>\n",
       "      <th>Trawlers</th>\n",
       "      <td>1</td>\n",
       "    </tr>\n",
       "    <tr>\n",
       "      <th>Tug/Pilot/Supply</th>\n",
       "      <td>41</td>\n",
       "    </tr>\n",
       "  </tbody>\n",
       "</table>\n",
       "</div>"
      ],
      "text/plain": [
       "                  Alex_sublabel\n",
       "Alex_label                     \n",
       "Cargo/Tanker                 30\n",
       "Longliners                    3\n",
       "Passenger                   142\n",
       "Trawlers                      1\n",
       "Tug/Pilot/Supply             41"
      ]
     },
     "execution_count": 273,
     "metadata": {},
     "output_type": "execute_result"
    }
   ],
   "source": [
    "df_Alex = df_Alex.set_index('mmsi')\n",
    "df_Alex.groupby(['Alex_label']).count()"
   ]
  },
  {
   "cell_type": "code",
   "execution_count": 108,
   "metadata": {
    "collapsed": false
   },
   "outputs": [
    {
     "data": {
      "text/html": [
       "<div>\n",
       "<table border=\"1\" class=\"dataframe\">\n",
       "  <thead>\n",
       "    <tr style=\"text-align: right;\">\n",
       "      <th></th>\n",
       "      <th>seismic_label</th>\n",
       "    </tr>\n",
       "    <tr>\n",
       "      <th>mmsi</th>\n",
       "      <th></th>\n",
       "    </tr>\n",
       "  </thead>\n",
       "  <tbody>\n",
       "    <tr>\n",
       "      <th>209108000</th>\n",
       "      <td>seismic vessel</td>\n",
       "    </tr>\n",
       "    <tr>\n",
       "      <th>209587000</th>\n",
       "      <td>seismic vessel</td>\n",
       "    </tr>\n",
       "    <tr>\n",
       "      <th>210228000</th>\n",
       "      <td>seismic vessel</td>\n",
       "    </tr>\n",
       "    <tr>\n",
       "      <th>210582000</th>\n",
       "      <td>seismic vessel</td>\n",
       "    </tr>\n",
       "    <tr>\n",
       "      <th>212338000</th>\n",
       "      <td>seismic vessel</td>\n",
       "    </tr>\n",
       "  </tbody>\n",
       "</table>\n",
       "</div>"
      ],
      "text/plain": [
       "            seismic_label\n",
       "mmsi                     \n",
       "209108000  seismic vessel\n",
       "209587000  seismic vessel\n",
       "210228000  seismic vessel\n",
       "210582000  seismic vessel\n",
       "212338000  seismic vessel"
      ]
     },
     "execution_count": 108,
     "metadata": {},
     "output_type": "execute_result"
    }
   ],
   "source": [
    "df_seismic = pd.read_csv('../data/classification-list-sources/WorldwideSeismicVesselDatabase4Dec15.csv')\n",
    "df_seismic = df_seismic.rename(columns = {'MMSI #':'mmsi','Label':'seismic_label','Vessel length (m)':'seismic_length'})\n",
    "df_seismic = df_seismic[['mmsi','seismic_label']]\n",
    "df_seismic = df_seismic.drop_duplicates()\n",
    "df_seismic = df_seismic.set_index('mmsi')\n",
    "df_seismic.head()\n"
   ]
  },
  {
   "cell_type": "code",
   "execution_count": 109,
   "metadata": {
    "collapsed": false
   },
   "outputs": [],
   "source": [
    "# df_seismic = pd.read_csv('../data/classification-list-sources/WorldwideSeismicVesselDatabase4Dec15.csv')\n",
    "# # column 'Vessel length (m)' has the length im neters\n",
    "# # df_seismic.groupby(['Label'])['MMSI #'].count()\n",
    "# df_seismic = df_seismic.rename(columns = {'MMSI #':'mmsi','Label':'seismic_label','Vessel length (m)':'seismic_length'})\n",
    "# df_seismic = df_seismic[['seismic_label','seismic_length']]\n",
    "\n",
    "df_seismic['seismic_label'] = ['Seismic vessel' for s in df_seismic['seismic_label']]\n",
    "df_seismic['seismic_sublabel'] = df_seismic['seismic_label']\n",
    "\n",
    "# df_seismic['seismic_label']=['seismic' for s in df_seismic['mmsi']]"
   ]
  },
  {
   "cell_type": "code",
   "execution_count": 110,
   "metadata": {
    "collapsed": false
   },
   "outputs": [
    {
     "data": {
      "text/html": [
       "<div>\n",
       "<table border=\"1\" class=\"dataframe\">\n",
       "  <thead>\n",
       "    <tr style=\"text-align: right;\">\n",
       "      <th></th>\n",
       "      <th>seismic_label</th>\n",
       "      <th>seismic_sublabel</th>\n",
       "    </tr>\n",
       "    <tr>\n",
       "      <th>mmsi</th>\n",
       "      <th></th>\n",
       "      <th></th>\n",
       "    </tr>\n",
       "  </thead>\n",
       "  <tbody>\n",
       "    <tr>\n",
       "      <th>209108000</th>\n",
       "      <td>Seismic vessel</td>\n",
       "      <td>Seismic vessel</td>\n",
       "    </tr>\n",
       "    <tr>\n",
       "      <th>209587000</th>\n",
       "      <td>Seismic vessel</td>\n",
       "      <td>Seismic vessel</td>\n",
       "    </tr>\n",
       "    <tr>\n",
       "      <th>210228000</th>\n",
       "      <td>Seismic vessel</td>\n",
       "      <td>Seismic vessel</td>\n",
       "    </tr>\n",
       "    <tr>\n",
       "      <th>210582000</th>\n",
       "      <td>Seismic vessel</td>\n",
       "      <td>Seismic vessel</td>\n",
       "    </tr>\n",
       "    <tr>\n",
       "      <th>212338000</th>\n",
       "      <td>Seismic vessel</td>\n",
       "      <td>Seismic vessel</td>\n",
       "    </tr>\n",
       "  </tbody>\n",
       "</table>\n",
       "</div>"
      ],
      "text/plain": [
       "            seismic_label seismic_sublabel\n",
       "mmsi                                      \n",
       "209108000  Seismic vessel   Seismic vessel\n",
       "209587000  Seismic vessel   Seismic vessel\n",
       "210228000  Seismic vessel   Seismic vessel\n",
       "210582000  Seismic vessel   Seismic vessel\n",
       "212338000  Seismic vessel   Seismic vessel"
      ]
     },
     "execution_count": 110,
     "metadata": {},
     "output_type": "execute_result"
    }
   ],
   "source": [
    "df_seismic.head()"
   ]
  },
  {
   "cell_type": "code",
   "execution_count": 111,
   "metadata": {
    "collapsed": false
   },
   "outputs": [
    {
     "data": {
      "text/html": [
       "<div>\n",
       "<table border=\"1\" class=\"dataframe\">\n",
       "  <thead>\n",
       "    <tr style=\"text-align: right;\">\n",
       "      <th></th>\n",
       "      <th>mmsi</th>\n",
       "    </tr>\n",
       "    <tr>\n",
       "      <th>label</th>\n",
       "      <th></th>\n",
       "    </tr>\n",
       "  </thead>\n",
       "  <tbody>\n",
       "    <tr>\n",
       "      <th>Supply</th>\n",
       "      <td>1</td>\n",
       "    </tr>\n",
       "    <tr>\n",
       "      <th>bad_data</th>\n",
       "      <td>9</td>\n",
       "    </tr>\n",
       "    <tr>\n",
       "      <th>cargo</th>\n",
       "      <td>104</td>\n",
       "    </tr>\n",
       "    <tr>\n",
       "      <th>multiple_vessles</th>\n",
       "      <td>1</td>\n",
       "    </tr>\n",
       "    <tr>\n",
       "      <th>not_fishing</th>\n",
       "      <td>11</td>\n",
       "    </tr>\n",
       "    <tr>\n",
       "      <th>not_known</th>\n",
       "      <td>16</td>\n",
       "    </tr>\n",
       "    <tr>\n",
       "      <th>passenger</th>\n",
       "      <td>7</td>\n",
       "    </tr>\n",
       "    <tr>\n",
       "      <th>tanker</th>\n",
       "      <td>3</td>\n",
       "    </tr>\n",
       "  </tbody>\n",
       "</table>\n",
       "</div>"
      ],
      "text/plain": [
       "                  mmsi\n",
       "label                 \n",
       "Supply               1\n",
       "bad_data             9\n",
       "cargo              104\n",
       "multiple_vessles     1\n",
       "not_fishing         11\n",
       "not_known           16\n",
       "passenger            7\n",
       "tanker               3"
      ]
     },
     "execution_count": 111,
     "metadata": {},
     "output_type": "execute_result"
    }
   ],
   "source": [
    "df_river = pd.read_csv('../data/classification-list-sources/rivervessels_20160502.csv')\n",
    "df_river.groupby(['label']).count()"
   ]
  },
  {
   "cell_type": "code",
   "execution_count": 112,
   "metadata": {
    "collapsed": false
   },
   "outputs": [],
   "source": [
    "df_river = df_river.set_index('mmsi')\n",
    "df_river = df_river.rename(columns = {'label':'river_sublabel'})\n",
    "river_subcat_map = {'cargo':'Cargo',\n",
    "         'passenger':'Passenger',\n",
    "         'Supply':'Supply',\n",
    "         'Passenger':'Passenger',\n",
    "         'tanker':'Tanker',\n",
    "         }\n",
    "\n",
    "df_river = df_river[df_river['river_sublabel'].map(lambda x: x in river_subcat_map)]\n",
    "df_river['river_sublabel']=df_river['river_sublabel'].map(river_subcat_map)\n",
    "df_river['river_label'] = df_river['river_sublabel'].map(detail_to_general)"
   ]
  },
  {
   "cell_type": "code",
   "execution_count": 113,
   "metadata": {
    "collapsed": false
   },
   "outputs": [
    {
     "data": {
      "text/html": [
       "<div>\n",
       "<table border=\"1\" class=\"dataframe\">\n",
       "  <thead>\n",
       "    <tr style=\"text-align: right;\">\n",
       "      <th></th>\n",
       "      <th>river_sublabel</th>\n",
       "      <th>river_label</th>\n",
       "    </tr>\n",
       "    <tr>\n",
       "      <th>mmsi</th>\n",
       "      <th></th>\n",
       "      <th></th>\n",
       "    </tr>\n",
       "  </thead>\n",
       "  <tbody>\n",
       "    <tr>\n",
       "      <th>203999396</th>\n",
       "      <td>Passenger</td>\n",
       "      <td>Passenger</td>\n",
       "    </tr>\n",
       "    <tr>\n",
       "      <th>203999399</th>\n",
       "      <td>Passenger</td>\n",
       "      <td>Passenger</td>\n",
       "    </tr>\n",
       "    <tr>\n",
       "      <th>211169130</th>\n",
       "      <td>Passenger</td>\n",
       "      <td>Passenger</td>\n",
       "    </tr>\n",
       "    <tr>\n",
       "      <th>211489990</th>\n",
       "      <td>Cargo</td>\n",
       "      <td>Cargo/Tanker</td>\n",
       "    </tr>\n",
       "    <tr>\n",
       "      <th>211512450</th>\n",
       "      <td>Passenger</td>\n",
       "      <td>Passenger</td>\n",
       "    </tr>\n",
       "  </tbody>\n",
       "</table>\n",
       "</div>"
      ],
      "text/plain": [
       "          river_sublabel   river_label\n",
       "mmsi                                  \n",
       "203999396      Passenger     Passenger\n",
       "203999399      Passenger     Passenger\n",
       "211169130      Passenger     Passenger\n",
       "211489990          Cargo  Cargo/Tanker\n",
       "211512450      Passenger     Passenger"
      ]
     },
     "execution_count": 113,
     "metadata": {},
     "output_type": "execute_result"
    }
   ],
   "source": [
    "df_river.head()"
   ]
  },
  {
   "cell_type": "code",
   "execution_count": 114,
   "metadata": {
    "collapsed": true
   },
   "outputs": [],
   "source": [
    "df = pd.read_csv('../data/classification-list-sources/verify5and24_20160318.csv')"
   ]
  },
  {
   "cell_type": "code",
   "execution_count": 230,
   "metadata": {
    "collapsed": false
   },
   "outputs": [
    {
     "data": {
      "text/html": [
       "<div>\n",
       "<table border=\"1\" class=\"dataframe\">\n",
       "  <thead>\n",
       "    <tr style=\"text-align: right;\">\n",
       "      <th></th>\n",
       "      <th>mmsi</th>\n",
       "      <th>is_fishing</th>\n",
       "      <th>sublabel</th>\n",
       "      <th>length</th>\n",
       "      <th>tonnage</th>\n",
       "      <th>country</th>\n",
       "    </tr>\n",
       "    <tr>\n",
       "      <th>label</th>\n",
       "      <th></th>\n",
       "      <th></th>\n",
       "      <th></th>\n",
       "      <th></th>\n",
       "      <th></th>\n",
       "      <th></th>\n",
       "    </tr>\n",
       "  </thead>\n",
       "  <tbody>\n",
       "    <tr>\n",
       "      <th>Cargo/Tanker</th>\n",
       "      <td>3099</td>\n",
       "      <td>3099</td>\n",
       "      <td>3097</td>\n",
       "      <td>1</td>\n",
       "      <td>2</td>\n",
       "      <td>5</td>\n",
       "    </tr>\n",
       "    <tr>\n",
       "      <th>Fishing vessel</th>\n",
       "      <td>38895</td>\n",
       "      <td>38895</td>\n",
       "      <td>0</td>\n",
       "      <td>272</td>\n",
       "      <td>4630</td>\n",
       "      <td>27675</td>\n",
       "    </tr>\n",
       "    <tr>\n",
       "      <th>Longliners</th>\n",
       "      <td>1631</td>\n",
       "      <td>1631</td>\n",
       "      <td>416</td>\n",
       "      <td>1581</td>\n",
       "      <td>1571</td>\n",
       "      <td>1289</td>\n",
       "    </tr>\n",
       "    <tr>\n",
       "      <th>Passenger</th>\n",
       "      <td>889</td>\n",
       "      <td>889</td>\n",
       "      <td>254</td>\n",
       "      <td>0</td>\n",
       "      <td>0</td>\n",
       "      <td>1</td>\n",
       "    </tr>\n",
       "    <tr>\n",
       "      <th>Pole and Line</th>\n",
       "      <td>137</td>\n",
       "      <td>137</td>\n",
       "      <td>0</td>\n",
       "      <td>134</td>\n",
       "      <td>136</td>\n",
       "      <td>95</td>\n",
       "    </tr>\n",
       "    <tr>\n",
       "      <th>Pots and Traps</th>\n",
       "      <td>398</td>\n",
       "      <td>398</td>\n",
       "      <td>0</td>\n",
       "      <td>137</td>\n",
       "      <td>396</td>\n",
       "      <td>130</td>\n",
       "    </tr>\n",
       "    <tr>\n",
       "      <th>Purse seines</th>\n",
       "      <td>806</td>\n",
       "      <td>806</td>\n",
       "      <td>0</td>\n",
       "      <td>710</td>\n",
       "      <td>710</td>\n",
       "      <td>666</td>\n",
       "    </tr>\n",
       "    <tr>\n",
       "      <th>Reefer</th>\n",
       "      <td>710</td>\n",
       "      <td>710</td>\n",
       "      <td>0</td>\n",
       "      <td>336</td>\n",
       "      <td>338</td>\n",
       "      <td>31</td>\n",
       "    </tr>\n",
       "    <tr>\n",
       "      <th>Seismic vessel</th>\n",
       "      <td>166</td>\n",
       "      <td>166</td>\n",
       "      <td>0</td>\n",
       "      <td>1</td>\n",
       "      <td>2</td>\n",
       "      <td>2</td>\n",
       "    </tr>\n",
       "    <tr>\n",
       "      <th>Set gillnets</th>\n",
       "      <td>576</td>\n",
       "      <td>576</td>\n",
       "      <td>0</td>\n",
       "      <td>576</td>\n",
       "      <td>569</td>\n",
       "      <td>450</td>\n",
       "    </tr>\n",
       "    <tr>\n",
       "      <th>Squid</th>\n",
       "      <td>164</td>\n",
       "      <td>164</td>\n",
       "      <td>0</td>\n",
       "      <td>0</td>\n",
       "      <td>0</td>\n",
       "      <td>115</td>\n",
       "    </tr>\n",
       "    <tr>\n",
       "      <th>Trawlers</th>\n",
       "      <td>5179</td>\n",
       "      <td>5179</td>\n",
       "      <td>0</td>\n",
       "      <td>4379</td>\n",
       "      <td>4744</td>\n",
       "      <td>4282</td>\n",
       "    </tr>\n",
       "    <tr>\n",
       "      <th>Trollers</th>\n",
       "      <td>53</td>\n",
       "      <td>53</td>\n",
       "      <td>0</td>\n",
       "      <td>49</td>\n",
       "      <td>51</td>\n",
       "      <td>42</td>\n",
       "    </tr>\n",
       "    <tr>\n",
       "      <th>Tug/Pilot/Supply</th>\n",
       "      <td>585</td>\n",
       "      <td>585</td>\n",
       "      <td>584</td>\n",
       "      <td>0</td>\n",
       "      <td>0</td>\n",
       "      <td>3</td>\n",
       "    </tr>\n",
       "  </tbody>\n",
       "</table>\n",
       "</div>"
      ],
      "text/plain": [
       "                   mmsi  is_fishing  sublabel  length  tonnage  country\n",
       "label                                                                  \n",
       "Cargo/Tanker       3099        3099      3097       1        2        5\n",
       "Fishing vessel    38895       38895         0     272     4630    27675\n",
       "Longliners         1631        1631       416    1581     1571     1289\n",
       "Passenger           889         889       254       0        0        1\n",
       "Pole and Line       137         137         0     134      136       95\n",
       "Pots and Traps      398         398         0     137      396      130\n",
       "Purse seines        806         806         0     710      710      666\n",
       "Reefer              710         710         0     336      338       31\n",
       "Seismic vessel      166         166         0       1        2        2\n",
       "Set gillnets        576         576         0     576      569      450\n",
       "Squid               164         164         0       0        0      115\n",
       "Trawlers           5179        5179         0    4379     4744     4282\n",
       "Trollers             53          53         0      49       51       42\n",
       "Tug/Pilot/Supply    585         585       584       0        0        3"
      ]
     },
     "execution_count": 230,
     "metadata": {},
     "output_type": "execute_result"
    }
   ],
   "source": [
    "df.groupby(['label']).count()"
   ]
  },
  {
   "cell_type": "code",
   "execution_count": 231,
   "metadata": {
    "collapsed": false
   },
   "outputs": [
    {
     "data": {
      "text/html": [
       "<div>\n",
       "<table border=\"1\" class=\"dataframe\">\n",
       "  <thead>\n",
       "    <tr style=\"text-align: right;\">\n",
       "      <th></th>\n",
       "      <th>task id</th>\n",
       "      <th>mmsi</th>\n",
       "      <th>label</th>\n",
       "    </tr>\n",
       "  </thead>\n",
       "  <tbody>\n",
       "    <tr>\n",
       "      <th>0</th>\n",
       "      <td>2031</td>\n",
       "      <td>244690101</td>\n",
       "      <td>cargo</td>\n",
       "    </tr>\n",
       "    <tr>\n",
       "      <th>1</th>\n",
       "      <td>2572</td>\n",
       "      <td>211512210</td>\n",
       "      <td>cargo</td>\n",
       "    </tr>\n",
       "    <tr>\n",
       "      <th>2</th>\n",
       "      <td>2587</td>\n",
       "      <td>211668930</td>\n",
       "      <td>cargo</td>\n",
       "    </tr>\n",
       "    <tr>\n",
       "      <th>3</th>\n",
       "      <td>2608</td>\n",
       "      <td>244660859</td>\n",
       "      <td>cargo</td>\n",
       "    </tr>\n",
       "    <tr>\n",
       "      <th>4</th>\n",
       "      <td>2609</td>\n",
       "      <td>258222000</td>\n",
       "      <td>cargo</td>\n",
       "    </tr>\n",
       "  </tbody>\n",
       "</table>\n",
       "</div>"
      ],
      "text/plain": [
       "   task id       mmsi  label\n",
       "0     2031  244690101  cargo\n",
       "1     2572  211512210  cargo\n",
       "2     2587  211668930  cargo\n",
       "3     2608  244660859  cargo\n",
       "4     2609  258222000  cargo"
      ]
     },
     "execution_count": 231,
     "metadata": {},
     "output_type": "execute_result"
    }
   ],
   "source": [
    "df_five24 = pd.read_csv('../data/classification-list-sources/verify5and24_20160502.csv')\n",
    "df_five24.head()"
   ]
  },
  {
   "cell_type": "code",
   "execution_count": 232,
   "metadata": {
    "collapsed": false
   },
   "outputs": [
    {
     "data": {
      "text/html": [
       "<div>\n",
       "<table border=\"1\" class=\"dataframe\">\n",
       "  <thead>\n",
       "    <tr style=\"text-align: right;\">\n",
       "      <th></th>\n",
       "      <th>task id</th>\n",
       "      <th>mmsi</th>\n",
       "    </tr>\n",
       "    <tr>\n",
       "      <th>label</th>\n",
       "      <th></th>\n",
       "      <th></th>\n",
       "    </tr>\n",
       "  </thead>\n",
       "  <tbody>\n",
       "    <tr>\n",
       "      <th>Diving_ops</th>\n",
       "      <td>80</td>\n",
       "      <td>80</td>\n",
       "    </tr>\n",
       "    <tr>\n",
       "      <th>Dredging_or_underwater_ops</th>\n",
       "      <td>112</td>\n",
       "      <td>112</td>\n",
       "    </tr>\n",
       "    <tr>\n",
       "      <th>Law_enforcement</th>\n",
       "      <td>133</td>\n",
       "      <td>133</td>\n",
       "    </tr>\n",
       "    <tr>\n",
       "      <th>Medical_transport</th>\n",
       "      <td>15</td>\n",
       "      <td>15</td>\n",
       "    </tr>\n",
       "    <tr>\n",
       "      <th>Military_ops</th>\n",
       "      <td>168</td>\n",
       "      <td>168</td>\n",
       "    </tr>\n",
       "    <tr>\n",
       "      <th>OffShore Support vessel</th>\n",
       "      <td>8</td>\n",
       "      <td>8</td>\n",
       "    </tr>\n",
       "    <tr>\n",
       "      <th>Passenger</th>\n",
       "      <td>193</td>\n",
       "      <td>193</td>\n",
       "    </tr>\n",
       "    <tr>\n",
       "      <th>Passenger and Cargo</th>\n",
       "      <td>4</td>\n",
       "      <td>4</td>\n",
       "    </tr>\n",
       "    <tr>\n",
       "      <th>Passenger/ferry</th>\n",
       "      <td>1</td>\n",
       "      <td>1</td>\n",
       "    </tr>\n",
       "    <tr>\n",
       "      <th>Patrol vessel</th>\n",
       "      <td>3</td>\n",
       "      <td>3</td>\n",
       "    </tr>\n",
       "    <tr>\n",
       "      <th>Pleasure_craft</th>\n",
       "      <td>129</td>\n",
       "      <td>129</td>\n",
       "    </tr>\n",
       "    <tr>\n",
       "      <th>Port_tender</th>\n",
       "      <td>86</td>\n",
       "      <td>86</td>\n",
       "    </tr>\n",
       "    <tr>\n",
       "      <th>Research Vessel</th>\n",
       "      <td>5</td>\n",
       "      <td>5</td>\n",
       "    </tr>\n",
       "    <tr>\n",
       "      <th>Sailing</th>\n",
       "      <td>148</td>\n",
       "      <td>148</td>\n",
       "    </tr>\n",
       "    <tr>\n",
       "      <th>Salvage/rescue vessel</th>\n",
       "      <td>1</td>\n",
       "      <td>1</td>\n",
       "    </tr>\n",
       "    <tr>\n",
       "      <th>Search_and_Rescue</th>\n",
       "      <td>164</td>\n",
       "      <td>164</td>\n",
       "    </tr>\n",
       "    <tr>\n",
       "      <th>Support vessel</th>\n",
       "      <td>6</td>\n",
       "      <td>6</td>\n",
       "    </tr>\n",
       "    <tr>\n",
       "      <th>Tanker</th>\n",
       "      <td>153</td>\n",
       "      <td>153</td>\n",
       "    </tr>\n",
       "    <tr>\n",
       "      <th>Trawler</th>\n",
       "      <td>1</td>\n",
       "      <td>1</td>\n",
       "    </tr>\n",
       "    <tr>\n",
       "      <th>Tug</th>\n",
       "      <td>175</td>\n",
       "      <td>175</td>\n",
       "    </tr>\n",
       "    <tr>\n",
       "      <th>cargo</th>\n",
       "      <td>26</td>\n",
       "      <td>26</td>\n",
       "    </tr>\n",
       "    <tr>\n",
       "      <th>helicopter</th>\n",
       "      <td>3</td>\n",
       "      <td>3</td>\n",
       "    </tr>\n",
       "    <tr>\n",
       "      <th>passenger/ferry</th>\n",
       "      <td>16</td>\n",
       "      <td>16</td>\n",
       "    </tr>\n",
       "    <tr>\n",
       "      <th>sailing</th>\n",
       "      <td>1</td>\n",
       "      <td>1</td>\n",
       "    </tr>\n",
       "    <tr>\n",
       "      <th>service vessel</th>\n",
       "      <td>1</td>\n",
       "      <td>1</td>\n",
       "    </tr>\n",
       "    <tr>\n",
       "      <th>supply vessel</th>\n",
       "      <td>67</td>\n",
       "      <td>67</td>\n",
       "    </tr>\n",
       "    <tr>\n",
       "      <th>tanker</th>\n",
       "      <td>6</td>\n",
       "      <td>6</td>\n",
       "    </tr>\n",
       "  </tbody>\n",
       "</table>\n",
       "</div>"
      ],
      "text/plain": [
       "                            task id  mmsi\n",
       "label                                    \n",
       "Diving_ops                       80    80\n",
       "Dredging_or_underwater_ops      112   112\n",
       "Law_enforcement                 133   133\n",
       "Medical_transport                15    15\n",
       "Military_ops                    168   168\n",
       "OffShore Support vessel           8     8\n",
       "Passenger                       193   193\n",
       "Passenger and Cargo               4     4\n",
       "Passenger/ferry                   1     1\n",
       "Patrol vessel                     3     3\n",
       "Pleasure_craft                  129   129\n",
       "Port_tender                      86    86\n",
       "Research Vessel                   5     5\n",
       "Sailing                         148   148\n",
       "Salvage/rescue vessel             1     1\n",
       "Search_and_Rescue               164   164\n",
       "Support vessel                    6     6\n",
       "Tanker                          153   153\n",
       "Trawler                           1     1\n",
       "Tug                             175   175\n",
       "cargo                            26    26\n",
       "helicopter                        3     3\n",
       "passenger/ferry                  16    16\n",
       "sailing                           1     1\n",
       "service vessel                    1     1\n",
       "supply vessel                    67    67\n",
       "tanker                            6     6"
      ]
     },
     "execution_count": 232,
     "metadata": {},
     "output_type": "execute_result"
    }
   ],
   "source": [
    "df_five24.groupby(['label']).count()"
   ]
  },
  {
   "cell_type": "code",
   "execution_count": 233,
   "metadata": {
    "collapsed": true
   },
   "outputs": [],
   "source": [
    "df_five24 = pd.read_csv('../data/classification-list-sources/verify5and24_20160502.csv')\n"
   ]
  },
  {
   "cell_type": "code",
   "execution_count": null,
   "metadata": {
    "collapsed": true
   },
   "outputs": [],
   "source": []
  },
  {
   "cell_type": "markdown",
   "metadata": {},
   "source": [
    "# Ignore verify5and24_20160318.csv and use verify5and24_20160502"
   ]
  },
  {
   "cell_type": "code",
   "execution_count": 234,
   "metadata": {
    "collapsed": false
   },
   "outputs": [
    {
     "data": {
      "text/html": [
       "<div>\n",
       "<table border=\"1\" class=\"dataframe\">\n",
       "  <thead>\n",
       "    <tr style=\"text-align: right;\">\n",
       "      <th></th>\n",
       "      <th>five24_sublabel</th>\n",
       "    </tr>\n",
       "    <tr>\n",
       "      <th>five24_label</th>\n",
       "      <th></th>\n",
       "    </tr>\n",
       "  </thead>\n",
       "  <tbody>\n",
       "    <tr>\n",
       "      <th>Cargo/Tanker</th>\n",
       "      <td>32</td>\n",
       "    </tr>\n",
       "    <tr>\n",
       "      <th>Passenger</th>\n",
       "      <td>358</td>\n",
       "    </tr>\n",
       "    <tr>\n",
       "      <th>Trawlers</th>\n",
       "      <td>1</td>\n",
       "    </tr>\n",
       "    <tr>\n",
       "      <th>Tug/Pilot/Supply</th>\n",
       "      <td>261</td>\n",
       "    </tr>\n",
       "  </tbody>\n",
       "</table>\n",
       "</div>"
      ],
      "text/plain": [
       "                  five24_sublabel\n",
       "five24_label                     \n",
       "Cargo/Tanker                   32\n",
       "Passenger                     358\n",
       "Trawlers                        1\n",
       "Tug/Pilot/Supply              261"
      ]
     },
     "execution_count": 234,
     "metadata": {},
     "output_type": "execute_result"
    }
   ],
   "source": [
    "df_five24 = df_five24.set_index('mmsi')\n",
    "df_five24 = df_five24.rename(columns = {'label':'five24_sublabel'})\n",
    "\n",
    "five24_subcat_map = {'Passenger':'Passenger',\n",
    "         'Sailing':'Sailing',\n",
    "         'Trawler':'Trawlers',\n",
    "         'Tug':'Tug',\n",
    "         'cargo':'Cargo',\n",
    "         'Port_tender':'Pilot',\n",
    "         'sailing':'Sailing',\n",
    "         'passenger/ferry':'Passenger',\n",
    "         'tanker':'Tanker'\n",
    "         }\n",
    "\n",
    "df_five24 = df_five24[df_five24['five24_sublabel'].map(lambda x: x in five24_subcat_map)]\n",
    "df_five24['five24_sublabel']=df_five24['five24_sublabel'].map(five24_subcat_map)\n",
    "df_five24['five24_label'] = df_five24['five24_sublabel'].map(detail_to_general)\n",
    "df_five24 = df_five24[['five24_label','five24_sublabel']]\n",
    "df_five24.groupby(['five24_label']).count()"
   ]
  },
  {
   "cell_type": "markdown",
   "metadata": {},
   "source": [
    "# Ignore FishingVesselsV2_HighConfidenceStudents_20160502.csv -- doesn't add many vessels"
   ]
  },
  {
   "cell_type": "code",
   "execution_count": 235,
   "metadata": {
    "collapsed": false
   },
   "outputs": [
    {
     "data": {
      "text/html": [
       "<div>\n",
       "<table border=\"1\" class=\"dataframe\">\n",
       "  <thead>\n",
       "    <tr style=\"text-align: right;\">\n",
       "      <th></th>\n",
       "      <th>five24_label</th>\n",
       "      <th>five24_sublabel</th>\n",
       "    </tr>\n",
       "    <tr>\n",
       "      <th>mmsi</th>\n",
       "      <th></th>\n",
       "      <th></th>\n",
       "    </tr>\n",
       "  </thead>\n",
       "  <tbody>\n",
       "    <tr>\n",
       "      <th>244690101</th>\n",
       "      <td>Cargo/Tanker</td>\n",
       "      <td>Cargo</td>\n",
       "    </tr>\n",
       "    <tr>\n",
       "      <th>211512210</th>\n",
       "      <td>Cargo/Tanker</td>\n",
       "      <td>Cargo</td>\n",
       "    </tr>\n",
       "    <tr>\n",
       "      <th>211668930</th>\n",
       "      <td>Cargo/Tanker</td>\n",
       "      <td>Cargo</td>\n",
       "    </tr>\n",
       "    <tr>\n",
       "      <th>244660859</th>\n",
       "      <td>Cargo/Tanker</td>\n",
       "      <td>Cargo</td>\n",
       "    </tr>\n",
       "    <tr>\n",
       "      <th>258222000</th>\n",
       "      <td>Cargo/Tanker</td>\n",
       "      <td>Cargo</td>\n",
       "    </tr>\n",
       "  </tbody>\n",
       "</table>\n",
       "</div>"
      ],
      "text/plain": [
       "           five24_label five24_sublabel\n",
       "mmsi                                   \n",
       "244690101  Cargo/Tanker           Cargo\n",
       "211512210  Cargo/Tanker           Cargo\n",
       "211668930  Cargo/Tanker           Cargo\n",
       "244660859  Cargo/Tanker           Cargo\n",
       "258222000  Cargo/Tanker           Cargo"
      ]
     },
     "execution_count": 235,
     "metadata": {},
     "output_type": "execute_result"
    }
   ],
   "source": [
    "df_five24.head()"
   ]
  },
  {
   "cell_type": "code",
   "execution_count": 236,
   "metadata": {
    "collapsed": false
   },
   "outputs": [
    {
     "data": {
      "text/html": [
       "<div>\n",
       "<table border=\"1\" class=\"dataframe\">\n",
       "  <thead>\n",
       "    <tr style=\"text-align: right;\">\n",
       "      <th></th>\n",
       "      <th>MMSI</th>\n",
       "      <th>Call sign</th>\n",
       "      <th>Selective call number</th>\n",
       "      <th>Name of station</th>\n",
       "      <th>Administration/ Geographical area</th>\n",
       "      <th>Lifeboats</th>\n",
       "      <th>Auxiliary installations (EPIRBs)</th>\n",
       "      <th>General classification</th>\n",
       "      <th>Individual classification</th>\n",
       "      <th>Registration number</th>\n",
       "      <th>Gross tonnage</th>\n",
       "      <th>Capacity of persons on board</th>\n",
       "      <th>Telegraph transmission frequency bands</th>\n",
       "      <th>Telegraph transmission frequency bands 2</th>\n",
       "      <th>Accounting Authority Identification Code (AAIC)</th>\n",
       "    </tr>\n",
       "  </thead>\n",
       "  <tbody>\n",
       "    <tr>\n",
       "      <th>0</th>\n",
       "      <td>203002100</td>\n",
       "      <td>OEX2217</td>\n",
       "      <td>NaN</td>\n",
       "      <td>ERIKA</td>\n",
       "      <td>AUT</td>\n",
       "      <td>NaN</td>\n",
       "      <td>NaN</td>\n",
       "      <td>PL</td>\n",
       "      <td>MTB</td>\n",
       "      <td>W21365</td>\n",
       "      <td>NaN</td>\n",
       "      <td>8</td>\n",
       "      <td>NaN</td>\n",
       "      <td>V</td>\n",
       "      <td>AU01</td>\n",
       "    </tr>\n",
       "    <tr>\n",
       "      <th>1</th>\n",
       "      <td>203058200</td>\n",
       "      <td>OEX2794</td>\n",
       "      <td>NaN</td>\n",
       "      <td>TUAT GUAT</td>\n",
       "      <td>AUT</td>\n",
       "      <td>1</td>\n",
       "      <td>BE1</td>\n",
       "      <td>PL</td>\n",
       "      <td>YAT</td>\n",
       "      <td>N27794</td>\n",
       "      <td>19,68</td>\n",
       "      <td>8</td>\n",
       "      <td>NaN</td>\n",
       "      <td>V</td>\n",
       "      <td>AU01</td>\n",
       "    </tr>\n",
       "    <tr>\n",
       "      <th>2</th>\n",
       "      <td>203111400</td>\n",
       "      <td>OEX4631</td>\n",
       "      <td>NaN</td>\n",
       "      <td>YLVI</td>\n",
       "      <td>AUT</td>\n",
       "      <td>NaN</td>\n",
       "      <td>BE1</td>\n",
       "      <td>PL</td>\n",
       "      <td>MTB</td>\n",
       "      <td>N31105</td>\n",
       "      <td>2,99</td>\n",
       "      <td>6</td>\n",
       "      <td>NaN</td>\n",
       "      <td>V</td>\n",
       "      <td>AU01</td>\n",
       "    </tr>\n",
       "    <tr>\n",
       "      <th>3</th>\n",
       "      <td>203116200</td>\n",
       "      <td>OEX6722</td>\n",
       "      <td>NaN</td>\n",
       "      <td>SEVENS</td>\n",
       "      <td>AUT</td>\n",
       "      <td>1</td>\n",
       "      <td>BE1</td>\n",
       "      <td>PL</td>\n",
       "      <td>YAT</td>\n",
       "      <td>N29009</td>\n",
       "      <td>18,72</td>\n",
       "      <td>12</td>\n",
       "      <td>NaN</td>\n",
       "      <td>V</td>\n",
       "      <td>NaN</td>\n",
       "    </tr>\n",
       "    <tr>\n",
       "      <th>4</th>\n",
       "      <td>203125100</td>\n",
       "      <td>OEX2289</td>\n",
       "      <td>NaN</td>\n",
       "      <td>N-23782</td>\n",
       "      <td>AUT</td>\n",
       "      <td>NaN</td>\n",
       "      <td>NaN</td>\n",
       "      <td>PL</td>\n",
       "      <td>MTB</td>\n",
       "      <td>N23782</td>\n",
       "      <td>1,9</td>\n",
       "      <td>9</td>\n",
       "      <td>NaN</td>\n",
       "      <td>V</td>\n",
       "      <td>NaN</td>\n",
       "    </tr>\n",
       "  </tbody>\n",
       "</table>\n",
       "</div>"
      ],
      "text/plain": [
       "        MMSI Call sign Selective call number Name of station  \\\n",
       "0  203002100   OEX2217                   NaN           ERIKA   \n",
       "1  203058200   OEX2794                   NaN       TUAT GUAT   \n",
       "2  203111400   OEX4631                   NaN            YLVI   \n",
       "3  203116200   OEX6722                   NaN          SEVENS   \n",
       "4  203125100   OEX2289                   NaN         N-23782   \n",
       "\n",
       "  Administration/ Geographical area  Lifeboats  \\\n",
       "0                               AUT        NaN   \n",
       "1                               AUT          1   \n",
       "2                               AUT        NaN   \n",
       "3                               AUT          1   \n",
       "4                               AUT        NaN   \n",
       "\n",
       "  Auxiliary installations (EPIRBs) General classification  \\\n",
       "0                              NaN                     PL   \n",
       "1                              BE1                     PL   \n",
       "2                              BE1                     PL   \n",
       "3                              BE1                     PL   \n",
       "4                              NaN                     PL   \n",
       "\n",
       "  Individual classification Registration number Gross tonnage  \\\n",
       "0                       MTB              W21365           NaN   \n",
       "1                       YAT              N27794         19,68   \n",
       "2                       MTB              N31105          2,99   \n",
       "3                       YAT              N29009         18,72   \n",
       "4                       MTB              N23782           1,9   \n",
       "\n",
       "   Capacity of persons on board Telegraph transmission frequency bands  \\\n",
       "0                             8                                    NaN   \n",
       "1                             8                                    NaN   \n",
       "2                             6                                    NaN   \n",
       "3                            12                                    NaN   \n",
       "4                             9                                    NaN   \n",
       "\n",
       "  Telegraph transmission frequency bands 2  \\\n",
       "0                                        V   \n",
       "1                                        V   \n",
       "2                                        V   \n",
       "3                                        V   \n",
       "4                                        V   \n",
       "\n",
       "  Accounting Authority Identification Code (AAIC)  \n",
       "0                                            AU01  \n",
       "1                                            AU01  \n",
       "2                                            AU01  \n",
       "3                                             NaN  \n",
       "4                                             NaN  "
      ]
     },
     "execution_count": 236,
     "metadata": {},
     "output_type": "execute_result"
    }
   ],
   "source": [
    "df_ITU = pd.read_csv('../data/classification-list-sources/ITU_Dec_2015_full_list.csv')\n",
    "df_ITU.head()"
   ]
  },
  {
   "cell_type": "code",
   "execution_count": 237,
   "metadata": {
    "collapsed": false
   },
   "outputs": [
    {
     "data": {
      "text/plain": [
       "Individual classification\n",
       "AUX           1\n",
       "BLK          16\n",
       "BLS           1\n",
       "CA           35\n",
       "CAB           1\n",
       "CHA           1\n",
       "CHR           1\n",
       "CON           9\n",
       "CTR           1\n",
       "DRG          54\n",
       "EXP           5\n",
       "GRF           1\n",
       "HYD           6\n",
       "LNG           2\n",
       "LPG           1\n",
       "MTB         116\n",
       "OBO           5\n",
       "OIL          32\n",
       "PA            7\n",
       "PH          116\n",
       "PLT           7\n",
       "PMX           1\n",
       "PON           8\n",
       "RAM           2\n",
       "ROU           6\n",
       "SAU           6\n",
       "SMN           1\n",
       "SRV           3\n",
       "TPG          28\n",
       "TPT           1\n",
       "TUG          66\n",
       "VLR           5\n",
       "X X\\nA        1\n",
       "XX\\n5         1\n",
       "XXX       10949\n",
       "YAT         203\n",
       "Name: MMSI, dtype: int64"
      ]
     },
     "execution_count": 237,
     "metadata": {},
     "output_type": "execute_result"
    }
   ],
   "source": [
    "df_ITU.groupby(['Individual classification']).count()['MMSI']"
   ]
  },
  {
   "cell_type": "code",
   "execution_count": 238,
   "metadata": {
    "collapsed": false
   },
   "outputs": [
    {
     "data": {
      "text/html": [
       "<div>\n",
       "<table border=\"1\" class=\"dataframe\">\n",
       "  <thead>\n",
       "    <tr style=\"text-align: right;\">\n",
       "      <th></th>\n",
       "      <th>itu_sublabel</th>\n",
       "    </tr>\n",
       "    <tr>\n",
       "      <th>itu_label</th>\n",
       "      <th></th>\n",
       "    </tr>\n",
       "  </thead>\n",
       "  <tbody>\n",
       "    <tr>\n",
       "      <th>Passenger</th>\n",
       "      <td>215</td>\n",
       "    </tr>\n",
       "    <tr>\n",
       "      <th>Tug/Pilot/Supply</th>\n",
       "      <td>66</td>\n",
       "    </tr>\n",
       "  </tbody>\n",
       "</table>\n",
       "</div>"
      ],
      "text/plain": [
       "                  itu_sublabel\n",
       "itu_label                     \n",
       "Passenger                  215\n",
       "Tug/Pilot/Supply            66"
      ]
     },
     "execution_count": 238,
     "metadata": {},
     "output_type": "execute_result"
    }
   ],
   "source": [
    "df_ITU = df_ITU.rename(columns = {'MMSI':'mmsi','Individual classification':'itu_sublabel'})\n",
    "\n",
    "df_ITU = df_ITU.set_index('mmsi')\n",
    "\n",
    "# that is a lot of categories... you can see the categories here:\n",
    "# https://www.ofcom.org.uk/__data/assets/pdf_file/0024/16359/of168a.pdf\n",
    "# I'm going to use the same distinctions that were used by Alex previously, \n",
    "# with some updates to divide into sailboats\n",
    "\n",
    "itu_sublabels = {\n",
    "    'FBT': 'Passenger',\n",
    " 'PA': 'Passenger',\n",
    " 'TUG': 'Tug',\n",
    " 'LOU': \"Sailing\",\n",
    " 'GOU': \"Passenger\", # these don't exist...\n",
    " 'SLO': \"Passenger\",\n",
    " 'VLR': \"Sailing\",\n",
    " 'YAT': \"Passenger\",\n",
    " 'RAV': \"Tug/Pilot/Supply\"}\n",
    "\n",
    "\n",
    "df_ITU = df_ITU[df_ITU['itu_sublabel'].map(lambda x: x in itu_sublabels)]\n",
    "df_ITU['itu_sublabel']=df_ITU['itu_sublabel'].map(itu_sublabels)\n",
    "df_ITU['itu_label'] = df_ITU['itu_sublabel'].map(detail_to_general)\n",
    "df_ITU = df_ITU[['itu_label','itu_sublabel']]\n",
    "df_ITU.groupby(['itu_label']).count()"
   ]
  },
  {
   "cell_type": "code",
   "execution_count": 239,
   "metadata": {
    "collapsed": false
   },
   "outputs": [
    {
     "data": {
      "text/html": [
       "<div>\n",
       "<table border=\"1\" class=\"dataframe\">\n",
       "  <thead>\n",
       "    <tr style=\"text-align: right;\">\n",
       "      <th></th>\n",
       "      <th>geartype</th>\n",
       "      <th>secondary geartype</th>\n",
       "      <th>length</th>\n",
       "      <th>tonnage</th>\n",
       "      <th>country</th>\n",
       "    </tr>\n",
       "    <tr>\n",
       "      <th>mmsi</th>\n",
       "      <th></th>\n",
       "      <th></th>\n",
       "      <th></th>\n",
       "      <th></th>\n",
       "      <th></th>\n",
       "    </tr>\n",
       "  </thead>\n",
       "  <tbody>\n",
       "    <tr>\n",
       "      <th>100000005</th>\n",
       "      <td>Fishing vessel</td>\n",
       "      <td>Fishing vessel</td>\n",
       "      <td>NaN</td>\n",
       "      <td>NaN</td>\n",
       "      <td>NaN</td>\n",
       "    </tr>\n",
       "    <tr>\n",
       "      <th>100000018</th>\n",
       "      <td>Fishing vessel</td>\n",
       "      <td>Fishing vessel</td>\n",
       "      <td>NaN</td>\n",
       "      <td>NaN</td>\n",
       "      <td>NaN</td>\n",
       "    </tr>\n",
       "    <tr>\n",
       "      <th>100000046</th>\n",
       "      <td>Fishing vessel</td>\n",
       "      <td>Fishing vessel</td>\n",
       "      <td>NaN</td>\n",
       "      <td>NaN</td>\n",
       "      <td>NaN</td>\n",
       "    </tr>\n",
       "    <tr>\n",
       "      <th>100000668</th>\n",
       "      <td>Fishing vessel</td>\n",
       "      <td>Fishing vessel</td>\n",
       "      <td>NaN</td>\n",
       "      <td>NaN</td>\n",
       "      <td>NaN</td>\n",
       "    </tr>\n",
       "    <tr>\n",
       "      <th>100001001</th>\n",
       "      <td>Fishing vessel</td>\n",
       "      <td>Fishing vessel</td>\n",
       "      <td>NaN</td>\n",
       "      <td>NaN</td>\n",
       "      <td>NaN</td>\n",
       "    </tr>\n",
       "  </tbody>\n",
       "</table>\n",
       "</div>"
      ],
      "text/plain": [
       "                 geartype secondary geartype  length  tonnage country\n",
       "mmsi                                                                 \n",
       "100000005  Fishing vessel     Fishing vessel     NaN      NaN     NaN\n",
       "100000018  Fishing vessel     Fishing vessel     NaN      NaN     NaN\n",
       "100000046  Fishing vessel     Fishing vessel     NaN      NaN     NaN\n",
       "100000668  Fishing vessel     Fishing vessel     NaN      NaN     NaN\n",
       "100001001  Fishing vessel     Fishing vessel     NaN      NaN     NaN"
      ]
     },
     "execution_count": 239,
     "metadata": {},
     "output_type": "execute_result"
    }
   ],
   "source": [
    "ft = pd.read_csv('fishing_training.csv')\n",
    "ft['mmsi'] = pd.to_numeric(ft['mmsi'])\n",
    "ft = ft.set_index('mmsi')\n",
    "ft.head()"
   ]
  },
  {
   "cell_type": "code",
   "execution_count": 307,
   "metadata": {
    "collapsed": false
   },
   "outputs": [
    {
     "data": {
      "text/html": [
       "<div>\n",
       "<table border=\"1\" class=\"dataframe\">\n",
       "  <thead>\n",
       "    <tr style=\"text-align: right;\">\n",
       "      <th></th>\n",
       "      <th>cargotanker_label</th>\n",
       "      <th>cargotanker_sublabel</th>\n",
       "      <th>kristina_label</th>\n",
       "      <th>kristina_sublabel</th>\n",
       "      <th>tugs_sublabel</th>\n",
       "      <th>tugs_label</th>\n",
       "      <th>Alex_sublabel</th>\n",
       "      <th>Alex_label</th>\n",
       "      <th>seismic_label</th>\n",
       "      <th>seismic_sublabel</th>\n",
       "      <th>...</th>\n",
       "      <th>river_label</th>\n",
       "      <th>five24_label</th>\n",
       "      <th>five24_sublabel</th>\n",
       "      <th>itu_label</th>\n",
       "      <th>itu_sublabel</th>\n",
       "      <th>geartype</th>\n",
       "      <th>secondary geartype</th>\n",
       "      <th>length</th>\n",
       "      <th>tonnage</th>\n",
       "      <th>country</th>\n",
       "    </tr>\n",
       "    <tr>\n",
       "      <th>mmsi</th>\n",
       "      <th></th>\n",
       "      <th></th>\n",
       "      <th></th>\n",
       "      <th></th>\n",
       "      <th></th>\n",
       "      <th></th>\n",
       "      <th></th>\n",
       "      <th></th>\n",
       "      <th></th>\n",
       "      <th></th>\n",
       "      <th></th>\n",
       "      <th></th>\n",
       "      <th></th>\n",
       "      <th></th>\n",
       "      <th></th>\n",
       "      <th></th>\n",
       "      <th></th>\n",
       "      <th></th>\n",
       "      <th></th>\n",
       "      <th></th>\n",
       "      <th></th>\n",
       "    </tr>\n",
       "  </thead>\n",
       "  <tbody>\n",
       "    <tr>\n",
       "      <th>12</th>\n",
       "      <td>NaN</td>\n",
       "      <td>NaN</td>\n",
       "      <td>NaN</td>\n",
       "      <td>NaN</td>\n",
       "      <td>NaN</td>\n",
       "      <td>NaN</td>\n",
       "      <td>NaN</td>\n",
       "      <td>NaN</td>\n",
       "      <td>NaN</td>\n",
       "      <td>NaN</td>\n",
       "      <td>...</td>\n",
       "      <td>NaN</td>\n",
       "      <td>NaN</td>\n",
       "      <td>NaN</td>\n",
       "      <td>NaN</td>\n",
       "      <td>NaN</td>\n",
       "      <td>Fishing vessel</td>\n",
       "      <td>Fishing vessel</td>\n",
       "      <td>NaN</td>\n",
       "      <td>NaN</td>\n",
       "      <td>NaN</td>\n",
       "    </tr>\n",
       "    <tr>\n",
       "      <th>16</th>\n",
       "      <td>NaN</td>\n",
       "      <td>NaN</td>\n",
       "      <td>NaN</td>\n",
       "      <td>NaN</td>\n",
       "      <td>NaN</td>\n",
       "      <td>NaN</td>\n",
       "      <td>NaN</td>\n",
       "      <td>NaN</td>\n",
       "      <td>NaN</td>\n",
       "      <td>NaN</td>\n",
       "      <td>...</td>\n",
       "      <td>NaN</td>\n",
       "      <td>NaN</td>\n",
       "      <td>NaN</td>\n",
       "      <td>NaN</td>\n",
       "      <td>NaN</td>\n",
       "      <td>Fishing vessel</td>\n",
       "      <td>Fishing vessel</td>\n",
       "      <td>NaN</td>\n",
       "      <td>NaN</td>\n",
       "      <td>NaN</td>\n",
       "    </tr>\n",
       "    <tr>\n",
       "      <th>56</th>\n",
       "      <td>NaN</td>\n",
       "      <td>NaN</td>\n",
       "      <td>NaN</td>\n",
       "      <td>NaN</td>\n",
       "      <td>NaN</td>\n",
       "      <td>NaN</td>\n",
       "      <td>NaN</td>\n",
       "      <td>NaN</td>\n",
       "      <td>NaN</td>\n",
       "      <td>NaN</td>\n",
       "      <td>...</td>\n",
       "      <td>NaN</td>\n",
       "      <td>NaN</td>\n",
       "      <td>NaN</td>\n",
       "      <td>NaN</td>\n",
       "      <td>NaN</td>\n",
       "      <td>Fishing vessel</td>\n",
       "      <td>Fishing vessel</td>\n",
       "      <td>NaN</td>\n",
       "      <td>NaN</td>\n",
       "      <td>NaN</td>\n",
       "    </tr>\n",
       "    <tr>\n",
       "      <th>91</th>\n",
       "      <td>NaN</td>\n",
       "      <td>NaN</td>\n",
       "      <td>NaN</td>\n",
       "      <td>NaN</td>\n",
       "      <td>NaN</td>\n",
       "      <td>NaN</td>\n",
       "      <td>NaN</td>\n",
       "      <td>NaN</td>\n",
       "      <td>NaN</td>\n",
       "      <td>NaN</td>\n",
       "      <td>...</td>\n",
       "      <td>NaN</td>\n",
       "      <td>NaN</td>\n",
       "      <td>NaN</td>\n",
       "      <td>NaN</td>\n",
       "      <td>NaN</td>\n",
       "      <td>Fishing vessel</td>\n",
       "      <td>Fishing vessel</td>\n",
       "      <td>NaN</td>\n",
       "      <td>NaN</td>\n",
       "      <td>NaN</td>\n",
       "    </tr>\n",
       "    <tr>\n",
       "      <th>99</th>\n",
       "      <td>NaN</td>\n",
       "      <td>NaN</td>\n",
       "      <td>NaN</td>\n",
       "      <td>NaN</td>\n",
       "      <td>NaN</td>\n",
       "      <td>NaN</td>\n",
       "      <td>NaN</td>\n",
       "      <td>NaN</td>\n",
       "      <td>NaN</td>\n",
       "      <td>NaN</td>\n",
       "      <td>...</td>\n",
       "      <td>NaN</td>\n",
       "      <td>NaN</td>\n",
       "      <td>NaN</td>\n",
       "      <td>NaN</td>\n",
       "      <td>NaN</td>\n",
       "      <td>Fishing vessel</td>\n",
       "      <td>Fishing vessel</td>\n",
       "      <td>NaN</td>\n",
       "      <td>NaN</td>\n",
       "      <td>NaN</td>\n",
       "    </tr>\n",
       "  </tbody>\n",
       "</table>\n",
       "<p>5 rows × 21 columns</p>\n",
       "</div>"
      ],
      "text/plain": [
       "     cargotanker_label cargotanker_sublabel kristina_label kristina_sublabel  \\\n",
       "mmsi                                                                           \n",
       "12                 NaN                  NaN            NaN               NaN   \n",
       "16                 NaN                  NaN            NaN               NaN   \n",
       "56                 NaN                  NaN            NaN               NaN   \n",
       "91                 NaN                  NaN            NaN               NaN   \n",
       "99                 NaN                  NaN            NaN               NaN   \n",
       "\n",
       "     tugs_sublabel tugs_label Alex_sublabel Alex_label seismic_label  \\\n",
       "mmsi                                                                   \n",
       "12             NaN        NaN           NaN        NaN           NaN   \n",
       "16             NaN        NaN           NaN        NaN           NaN   \n",
       "56             NaN        NaN           NaN        NaN           NaN   \n",
       "91             NaN        NaN           NaN        NaN           NaN   \n",
       "99             NaN        NaN           NaN        NaN           NaN   \n",
       "\n",
       "     seismic_sublabel   ...    river_label five24_label five24_sublabel  \\\n",
       "mmsi                    ...                                               \n",
       "12                NaN   ...            NaN          NaN             NaN   \n",
       "16                NaN   ...            NaN          NaN             NaN   \n",
       "56                NaN   ...            NaN          NaN             NaN   \n",
       "91                NaN   ...            NaN          NaN             NaN   \n",
       "99                NaN   ...            NaN          NaN             NaN   \n",
       "\n",
       "     itu_label itu_sublabel        geartype secondary geartype length  \\\n",
       "mmsi                                                                    \n",
       "12         NaN          NaN  Fishing vessel     Fishing vessel    NaN   \n",
       "16         NaN          NaN  Fishing vessel     Fishing vessel    NaN   \n",
       "56         NaN          NaN  Fishing vessel     Fishing vessel    NaN   \n",
       "91         NaN          NaN  Fishing vessel     Fishing vessel    NaN   \n",
       "99         NaN          NaN  Fishing vessel     Fishing vessel    NaN   \n",
       "\n",
       "      tonnage  country  \n",
       "mmsi                    \n",
       "12        NaN      NaN  \n",
       "16        NaN      NaN  \n",
       "56        NaN      NaN  \n",
       "91        NaN      NaN  \n",
       "99        NaN      NaN  \n",
       "\n",
       "[5 rows x 21 columns]"
      ]
     },
     "execution_count": 307,
     "metadata": {},
     "output_type": "execute_result"
    }
   ],
   "source": [
    "# Now, join all the dataframes on mmsi\n",
    "\n",
    "result = df_cargotanker.join(df_kristina, how='outer')\n",
    "result = result.join(df_tugs, how='outer')\n",
    "result = result.join(df_Alex, how='outer')\n",
    "result = result.join(df_seismic, how='outer')\n",
    "result = result.join(df_river, how='outer')\n",
    "result = result.join(df_five24, how='outer')\n",
    "result = result.join(df_ITU,how='outer')\n",
    "result = result.join(ft,how='outer')\n",
    "result.head()"
   ]
  },
  {
   "cell_type": "code",
   "execution_count": 276,
   "metadata": {
    "collapsed": false
   },
   "outputs": [
    {
     "data": {
      "text/plain": [
       "geartype\n",
       "Fishing vessel    39197\n",
       "Longliners         1582\n",
       "Pole and Line       136\n",
       "Pots and Traps      398\n",
       "Purse seines        709\n",
       "Reefer              694\n",
       "Set gillnets        576\n",
       "Squid               164\n",
       "Trawlers           4948\n",
       "Trollers             56\n",
       "Name: geartype, dtype: int64"
      ]
     },
     "execution_count": 276,
     "metadata": {},
     "output_type": "execute_result"
    }
   ],
   "source": [
    "result.groupby('geartype')['geartype'].count()\n",
    "# result.to_csv('test.csv')"
   ]
  },
  {
   "cell_type": "code",
   "execution_count": 277,
   "metadata": {
    "collapsed": false,
    "scrolled": true
   },
   "outputs": [
    {
     "data": {
      "text/plain": [
       "<matplotlib.text.Text at 0x1144af1d0>"
      ]
     },
     "execution_count": 277,
     "metadata": {},
     "output_type": "execute_result"
    },
    {
     "data": {
      "image/png": "[encoded data removed]",
      "text/plain": [
       "<matplotlib.figure.Figure at 0x110533490>"
      ]
     },
     "metadata": {},
     "output_type": "display_data"
    }
   ],
   "source": [
    "# Check the length and tonnage values\n",
    "result.plot(x='length', y='tonnage',style='o')\n",
    "plt.xlim(0,300)\n",
    "plt.ylabel(\"tons\")"
   ]
  },
  {
   "cell_type": "markdown",
   "metadata": {},
   "source": [
    "### takeaway: get rid of the outliers on length -- where tonnage is less than 1000 and length is greater 100\n",
    "\n",
    "\n",
    "# Now Combine Everything\n",
    "There is likely a more elegant way to do this -- basically I am just making sure that if a vessel has different labels from different sources, we ignore that vessel. "
   ]
  },
  {
   "cell_type": "code",
   "execution_count": 312,
   "metadata": {
    "collapsed": false
   },
   "outputs": [
    {
     "name": "stdout",
     "output_type": "stream",
     "text": [
      "Sailing Longliners\n"
     ]
    }
   ],
   "source": [
    "rows = []\n",
    "\n",
    "vessels_to_remove = []\n",
    "\n",
    "for i in result.index:\n",
    "    if 1:\n",
    "        mmsi = i\n",
    "        kristina = result['kristina_label'].ix[i]\n",
    "        Alex = result['Alex_label'].ix[i]\n",
    "        tugs = result['tugs_label'].ix[i]\n",
    "        seismic = result['seismic_label'].ix[i]\n",
    "        five24_geartype = result['five24_label'].ix[i]\n",
    "        fishing = result['geartype'].ix[i]\n",
    "        river = result['river_label'].ix[i]\n",
    "        ITU = result['itu_label'].ix[i]\n",
    "        cargotanker = result['cargotanker_label'].ix[i]\n",
    "\n",
    "        s =  set([kristina,Alex,tugs,seismic,five24_geartype,fishing,ITU,cargotanker,river])\n",
    "        if np.nan in s:\n",
    "            s.remove(np.nan)\n",
    "\n",
    "        # Get rid of \"Fishing vessel\" if there is more than one\n",
    "        # Ideally we'd do something smarter here\n",
    "        if \"Fishing vessel\" in s and len(s)!=1:\n",
    "            s.remove(\"Fishing vessel\")\n",
    "\n",
    "        # Skip where there is conflicting values\n",
    "        if len(s)!=1:\n",
    "            continue\n",
    "        else:\n",
    "            label = list(s)[0]\n",
    "\n",
    "\n",
    "        kristina = result['kristina_sublabel'].ix[i]\n",
    "        Alex = result['Alex_sublabel'].ix[i]\n",
    "        tugs = result['tugs_sublabel'].ix[i]\n",
    "        seismic = result['seismic_sublabel'].ix[i]\n",
    "        five24_geartype = result['five24_sublabel'].ix[i]\n",
    "        fishing = result['secondary geartype'].ix[i]\n",
    "        river = result['river_sublabel'].ix[i]\n",
    "        ITU = result['itu_sublabel'].ix[i]\n",
    "        cargotanker = result['cargotanker_sublabel'].ix[i]\n",
    "\n",
    "        sublabels = [kristina,Alex,tugs,seismic,five24_geartype,fishing,ITU,cargotanker,river]\n",
    "        s = set(sublabels)\n",
    "        if np.nan in s:\n",
    "            s.remove(np.nan)\n",
    "\n",
    "        # Get rid of all \"Fishing vessel\" unless it is the only entry\n",
    "        if \"Fishing vessel\" in s and len(s)!=1:\n",
    "            s.remove(\"Fishing vessel\")\n",
    "\n",
    "        # ideally we'll do something smarter here\n",
    "        # right now it just skips vessels if they have conflicting\n",
    "        # secondary gearytpes\n",
    "        if len(s)>1:\n",
    "            longs = 0\n",
    "            for sh in s:\n",
    "                if \"ongline\" in sh:\n",
    "                    longs+=1\n",
    "            if longs == len(s):\n",
    "                s.remove(\"Longliners\")\n",
    "            else:\n",
    "                print s # let's see what we are skipping\n",
    "                continue # continue to the next vessel\n",
    "\n",
    "        elif len(s)==1:\n",
    "            sublabel = list(s)[0]\n",
    "        else:\n",
    "            sublabel = label\n",
    "\n",
    "        # this ignores ones where the sublabel don't match with \n",
    "        # the label\n",
    "        if sublabel == \"\" or detail_to_general[sublabel] == label:\n",
    "\n",
    "            if sublabel == label: sublabel = \"\"\n",
    "            is_fishing = general_to_fishing[label]\n",
    "\n",
    "            length = result.ix[i]['length']            \n",
    "            tonnage = result.ix[i]['tonnage']\n",
    "            country = result.ix[i]['country']\n",
    "\n",
    "            if length > 100 and tonnage < 1000:\n",
    "                length = np.nan\n",
    "                tonnage = np.nan\n",
    "\n",
    "            # replace all NaNs with empty strings\n",
    "            if np.isnan(length): length = \"\"\n",
    "            if np.isnan(tonnage): tonnage = \"\"\n",
    "            if length > 200: length = \"\"\n",
    "            if not isinstance(country, basestring): country = \"\"\n",
    "            if label==\"Fishing vessel\": label = \"\"\n",
    "            row = [i,is_fishing,label,sublabel,length,tonnage,country]\n",
    "            rows.append(row)\n",
    "        else:\n",
    "            print sublabel, label\n"
   ]
  },
  {
   "cell_type": "code",
   "execution_count": 313,
   "metadata": {
    "collapsed": true
   },
   "outputs": [],
   "source": [
    "# yes, I shoudl just use pandas csv output, but this was already written\n",
    "header = ['mmsi','is_fishing','label','sublabel','length','tonnage','country']\n",
    "with open(\"net_training_20161016.csv\", 'wb') as csvfile:\n",
    "    writer = csv.writer(csvfile)\n",
    "    writer.writerow(header)\n",
    "    writer.writerows(rows)"
   ]
  },
  {
   "cell_type": "code",
   "execution_count": 314,
   "metadata": {
    "collapsed": true
   },
   "outputs": [],
   "source": [
    "# now test to make sure everything came up okay\n",
    "df = pd.read_csv('net_training_20161016.csv')"
   ]
  },
  {
   "cell_type": "code",
   "execution_count": 315,
   "metadata": {
    "collapsed": false
   },
   "outputs": [
    {
     "data": {
      "text/html": [
       "<div>\n",
       "<table border=\"1\" class=\"dataframe\">\n",
       "  <thead>\n",
       "    <tr style=\"text-align: right;\">\n",
       "      <th></th>\n",
       "      <th>mmsi</th>\n",
       "      <th>is_fishing</th>\n",
       "      <th>label</th>\n",
       "      <th>sublabel</th>\n",
       "      <th>length</th>\n",
       "      <th>tonnage</th>\n",
       "      <th>country</th>\n",
       "    </tr>\n",
       "  </thead>\n",
       "  <tbody>\n",
       "    <tr>\n",
       "      <th>0</th>\n",
       "      <td>12</td>\n",
       "      <td>Fishing</td>\n",
       "      <td>NaN</td>\n",
       "      <td>NaN</td>\n",
       "      <td>NaN</td>\n",
       "      <td>NaN</td>\n",
       "      <td>NaN</td>\n",
       "    </tr>\n",
       "    <tr>\n",
       "      <th>1</th>\n",
       "      <td>16</td>\n",
       "      <td>Fishing</td>\n",
       "      <td>NaN</td>\n",
       "      <td>NaN</td>\n",
       "      <td>NaN</td>\n",
       "      <td>NaN</td>\n",
       "      <td>NaN</td>\n",
       "    </tr>\n",
       "    <tr>\n",
       "      <th>2</th>\n",
       "      <td>56</td>\n",
       "      <td>Fishing</td>\n",
       "      <td>NaN</td>\n",
       "      <td>NaN</td>\n",
       "      <td>NaN</td>\n",
       "      <td>NaN</td>\n",
       "      <td>NaN</td>\n",
       "    </tr>\n",
       "    <tr>\n",
       "      <th>3</th>\n",
       "      <td>91</td>\n",
       "      <td>Fishing</td>\n",
       "      <td>NaN</td>\n",
       "      <td>NaN</td>\n",
       "      <td>NaN</td>\n",
       "      <td>NaN</td>\n",
       "      <td>NaN</td>\n",
       "    </tr>\n",
       "    <tr>\n",
       "      <th>4</th>\n",
       "      <td>99</td>\n",
       "      <td>Fishing</td>\n",
       "      <td>NaN</td>\n",
       "      <td>NaN</td>\n",
       "      <td>NaN</td>\n",
       "      <td>NaN</td>\n",
       "      <td>NaN</td>\n",
       "    </tr>\n",
       "  </tbody>\n",
       "</table>\n",
       "</div>"
      ],
      "text/plain": [
       "   mmsi is_fishing label sublabel  length  tonnage country\n",
       "0    12    Fishing   NaN      NaN     NaN      NaN     NaN\n",
       "1    16    Fishing   NaN      NaN     NaN      NaN     NaN\n",
       "2    56    Fishing   NaN      NaN     NaN      NaN     NaN\n",
       "3    91    Fishing   NaN      NaN     NaN      NaN     NaN\n",
       "4    99    Fishing   NaN      NaN     NaN      NaN     NaN"
      ]
     },
     "execution_count": 315,
     "metadata": {},
     "output_type": "execute_result"
    }
   ],
   "source": [
    "df.head()"
   ]
  },
  {
   "cell_type": "code",
   "execution_count": 316,
   "metadata": {
    "collapsed": false
   },
   "outputs": [
    {
     "data": {
      "text/plain": [
       "sublabel\n",
       "Cargo                 1610\n",
       "Drifting longlines     192\n",
       "Motor Passenger          1\n",
       "Pilot                   90\n",
       "Sailing                253\n",
       "Set longlines          224\n",
       "Supply                   1\n",
       "Tanker                1487\n",
       "Tug                    340\n",
       "Name: mmsi, dtype: int64"
      ]
     },
     "execution_count": 316,
     "metadata": {},
     "output_type": "execute_result"
    }
   ],
   "source": [
    "df.groupby(['sublabel'])['mmsi'].count()"
   ]
  },
  {
   "cell_type": "code",
   "execution_count": 318,
   "metadata": {
    "collapsed": false
   },
   "outputs": [
    {
     "data": {
      "text/plain": [
       "label\n",
       "Cargo/Tanker        3097\n",
       "Longliners          1629\n",
       "Passenger            888\n",
       "Pole and Line        136\n",
       "Pots and Traps       398\n",
       "Purse seines         806\n",
       "Reefer               704\n",
       "Seismic vessel       165\n",
       "Set gillnets         576\n",
       "Squid                164\n",
       "Trawlers            5177\n",
       "Trollers              52\n",
       "Tug/Pilot/Supply     432\n",
       "Name: mmsi, dtype: int64"
      ]
     },
     "execution_count": 318,
     "metadata": {},
     "output_type": "execute_result"
    }
   ],
   "source": [
    "df.groupby(['label'])['mmsi'].count()"
   ]
  },
  {
   "cell_type": "code",
   "execution_count": 319,
   "metadata": {
    "collapsed": false
   },
   "outputs": [
    {
     "data": {
      "text/plain": [
       "is_fishing\n",
       "Fishing        47833\n",
       "Non-fishing     5286\n",
       "Name: mmsi, dtype: int64"
      ]
     },
     "execution_count": 319,
     "metadata": {},
     "output_type": "execute_result"
    }
   ],
   "source": [
    "df.groupby(['is_fishing'])['mmsi'].count()"
   ]
  },
  {
   "cell_type": "code",
   "execution_count": 320,
   "metadata": {
    "collapsed": false
   },
   "outputs": [
    {
     "data": {
      "text/plain": [
       "<matplotlib.text.Text at 0x1141c9550>"
      ]
     },
     "execution_count": 320,
     "metadata": {},
     "output_type": "execute_result"
    },
    {
     "data": {
      "image/png": "[encoded data removed]",
      "text/plain": [
       "<matplotlib.figure.Figure at 0x113186fd0>"
      ]
     },
     "metadata": {},
     "output_type": "display_data"
    }
   ],
   "source": [
    "# check to see if we got rid of bad length and tonnage\n",
    "df.plot(x='length', y='tonnage',style='o')\n",
    "plt.xlim(0,200)\n",
    "plt.ylabel(\"tons\")\n",
    "plt.title(\"Vessel Length vs. Tonnage\")"
   ]
  },
  {
   "cell_type": "code",
   "execution_count": null,
   "metadata": {
    "collapsed": true
   },
   "outputs": [],
   "source": []
  }
 ],
 "metadata": {
  "kernelspec": {
   "display_name": "Python 2",
   "language": "python",
   "name": "python2"
  },
  "language_info": {
   "codemirror_mode": {
    "name": "ipython",
    "version": 2
   },
   "file_extension": ".py",
   "mimetype": "text/x-python",
   "name": "python",
   "nbconvert_exporter": "python",
   "pygments_lexer": "ipython2",
   "version": "2.7.3"
  }
 },
 "nbformat": 4,
 "nbformat_minor": 0
}
